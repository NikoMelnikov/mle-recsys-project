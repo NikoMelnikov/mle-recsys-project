{
 "cells": [
  {
   "cell_type": "markdown",
   "id": "f4095ae4-7294-4b28-853e-88d235002c97",
   "metadata": {},
   "source": [
    "# Инициализация"
   ]
  },
  {
   "cell_type": "markdown",
   "id": "2f2318d2-9df8-4911-915e-15b725c44f8a",
   "metadata": {},
   "source": [
    "Загружаем библиотеки необходимые для выполнения кода ноутбука."
   ]
  },
  {
   "cell_type": "code",
   "execution_count": 1,
   "id": "662d04e7-1b0b-4e4a-9ddf-4526d7fef119",
   "metadata": {},
   "outputs": [],
   "source": [
    "import logging\n",
    "\n",
    "import matplotlib.pyplot as plt\n",
    "import numpy as np\n",
    "import pandas as pd\n",
    "from pandas.api.types import CategoricalDtype\n",
    "\n",
    "import seaborn as sns"
   ]
  },
  {
   "cell_type": "code",
   "execution_count": 102,
   "id": "13059744-de18-4ee3-9c7d-2c042b2118f0",
   "metadata": {},
   "outputs": [],
   "source": [
    "from services.load_s3 import upload_to_yandex_s3"
   ]
  },
  {
   "cell_type": "code",
   "execution_count": 2,
   "id": "26c66142",
   "metadata": {},
   "outputs": [],
   "source": [
    "import warnings\n",
    "warnings.filterwarnings('ignore')"
   ]
  },
  {
   "cell_type": "code",
   "execution_count": 3,
   "id": "bc70a284",
   "metadata": {},
   "outputs": [],
   "source": [
    "plt.rcParams['figure.figsize'] = (10,5)"
   ]
  },
  {
   "cell_type": "code",
   "execution_count": 4,
   "id": "1174f49f",
   "metadata": {},
   "outputs": [],
   "source": [
    "%matplotlib inline\n",
    "%config InlineBackend.figure_format = 'png'\n",
    "%config InlineBackend.figure_format = 'retina'"
   ]
  },
  {
   "cell_type": "markdown",
   "id": "bf80fbc5-b660-4fac-8fbb-a5cae77313b3",
   "metadata": {},
   "source": [
    "# === ЭТАП 1 ==="
   ]
  },
  {
   "cell_type": "markdown",
   "id": "5263a8b3-fe99-4204-8a2e-105182792c11",
   "metadata": {},
   "source": [
    "# Загрузка первичных данных"
   ]
  },
  {
   "cell_type": "markdown",
   "id": "1b54a6a5-1656-4e3c-99d1-49dc39451d33",
   "metadata": {},
   "source": [
    "Загружаем первичные данные из файлов:\n",
    "- tracks.parquet\n",
    "- catalog_names.parquet\n",
    "- interactions.parquet"
   ]
  },
  {
   "cell_type": "code",
   "execution_count": 6,
   "id": "5d4b8961-3f35-4e58-9d6b-3e2dbd2c4224",
   "metadata": {},
   "outputs": [],
   "source": [
    "tracks = pd.read_parquet(\"./datasets/tracks.parquet\")"
   ]
  },
  {
   "cell_type": "code",
   "execution_count": 7,
   "id": "d6a120fc",
   "metadata": {},
   "outputs": [],
   "source": [
    "catalog_names = pd.read_parquet(\"./datasets/catalog_names.parquet\")"
   ]
  },
  {
   "cell_type": "code",
   "execution_count": 8,
   "id": "a632a9bd",
   "metadata": {},
   "outputs": [],
   "source": [
    "interactions = pd.read_parquet(\"./datasets/interactions.parquet\")"
   ]
  },
  {
   "cell_type": "markdown",
   "id": "e8f2a1f7-a05f-4f39-af90-5f4018aa6f9d",
   "metadata": {},
   "source": [
    "# Обзор данных"
   ]
  },
  {
   "cell_type": "markdown",
   "id": "46a85307-896c-4fac-9fcf-f0dffa90889e",
   "metadata": {},
   "source": [
    "Проверяем данные, есть ли с ними явные проблемы."
   ]
  },
  {
   "cell_type": "code",
   "execution_count": 8,
   "id": "9cb5ff2c",
   "metadata": {},
   "outputs": [],
   "source": [
    "# функция для знакомства с данными\n",
    "def df_info(df):\n",
    "    display(\"Фрагмент датасета\")\n",
    "    display(df.sample(5))\n",
    "    display(\"-------------------------\")\n",
    "    display(\"Проверяем на наличие пропущенных значение\")\n",
    "    display(df.isna().sum())\n",
    "    display(\"-------------------------\")\n",
    "    display(\"Информация о датасете\")\n",
    "    display(df.info())\n",
    "    display(\"-------------------------\")\n",
    "    display(\"Размерность\")\n",
    "    display(df.shape)"
   ]
  },
  {
   "cell_type": "markdown",
   "id": "03a65da8-b526-46c1-98dc-371978f5199c",
   "metadata": {},
   "source": [
    "## Данные о треках "
   ]
  },
  {
   "cell_type": "code",
   "execution_count": 11,
   "id": "2784d8e4",
   "metadata": {},
   "outputs": [
    {
     "data": {
      "text/plain": [
       "'Фрагмент датасета'"
      ]
     },
     "metadata": {},
     "output_type": "display_data"
    },
    {
     "data": {
      "text/html": [
       "<div>\n",
       "<style scoped>\n",
       "    .dataframe tbody tr th:only-of-type {\n",
       "        vertical-align: middle;\n",
       "    }\n",
       "\n",
       "    .dataframe tbody tr th {\n",
       "        vertical-align: top;\n",
       "    }\n",
       "\n",
       "    .dataframe thead th {\n",
       "        text-align: right;\n",
       "    }\n",
       "</style>\n",
       "<table border=\"1\" class=\"dataframe\">\n",
       "  <thead>\n",
       "    <tr style=\"text-align: right;\">\n",
       "      <th></th>\n",
       "      <th>track_id</th>\n",
       "      <th>albums</th>\n",
       "      <th>artists</th>\n",
       "      <th>genres</th>\n",
       "    </tr>\n",
       "  </thead>\n",
       "  <tbody>\n",
       "    <tr>\n",
       "      <th>795903</th>\n",
       "      <td>62161836</td>\n",
       "      <td>[9770137, 9770172, 9772480, 9774345, 9776369]</td>\n",
       "      <td>[29063]</td>\n",
       "      <td>[14, 102]</td>\n",
       "    </tr>\n",
       "    <tr>\n",
       "      <th>907042</th>\n",
       "      <td>76669103</td>\n",
       "      <td>[13544471, 16291406]</td>\n",
       "      <td>[7013449]</td>\n",
       "      <td>[11]</td>\n",
       "    </tr>\n",
       "    <tr>\n",
       "      <th>899035</th>\n",
       "      <td>75020911</td>\n",
       "      <td>[13149771]</td>\n",
       "      <td>[593930]</td>\n",
       "      <td>[25]</td>\n",
       "    </tr>\n",
       "    <tr>\n",
       "      <th>544460</th>\n",
       "      <td>37629201</td>\n",
       "      <td>[4620193]</td>\n",
       "      <td>[2922297, 3444221, 5117765]</td>\n",
       "      <td>[3, 75]</td>\n",
       "    </tr>\n",
       "    <tr>\n",
       "      <th>335967</th>\n",
       "      <td>21781682</td>\n",
       "      <td>[2501206, 2528360, 2538175, 2553777, 2659183, ...</td>\n",
       "      <td>[457446, 1433418]</td>\n",
       "      <td>[11]</td>\n",
       "    </tr>\n",
       "  </tbody>\n",
       "</table>\n",
       "</div>"
      ],
      "text/plain": [
       "        track_id                                             albums  \\\n",
       "795903  62161836      [9770137, 9770172, 9772480, 9774345, 9776369]   \n",
       "907042  76669103                               [13544471, 16291406]   \n",
       "899035  75020911                                         [13149771]   \n",
       "544460  37629201                                          [4620193]   \n",
       "335967  21781682  [2501206, 2528360, 2538175, 2553777, 2659183, ...   \n",
       "\n",
       "                            artists     genres  \n",
       "795903                      [29063]  [14, 102]  \n",
       "907042                    [7013449]       [11]  \n",
       "899035                     [593930]       [25]  \n",
       "544460  [2922297, 3444221, 5117765]    [3, 75]  \n",
       "335967            [457446, 1433418]       [11]  "
      ]
     },
     "metadata": {},
     "output_type": "display_data"
    },
    {
     "data": {
      "text/plain": [
       "'-------------------------'"
      ]
     },
     "metadata": {},
     "output_type": "display_data"
    },
    {
     "data": {
      "text/plain": [
       "'Проверяем на наличие пропущенных значение'"
      ]
     },
     "metadata": {},
     "output_type": "display_data"
    },
    {
     "data": {
      "text/plain": [
       "track_id    0\n",
       "albums      0\n",
       "artists     0\n",
       "genres      0\n",
       "dtype: int64"
      ]
     },
     "metadata": {},
     "output_type": "display_data"
    },
    {
     "data": {
      "text/plain": [
       "'-------------------------'"
      ]
     },
     "metadata": {},
     "output_type": "display_data"
    },
    {
     "data": {
      "text/plain": [
       "'Информация о датасете'"
      ]
     },
     "metadata": {},
     "output_type": "display_data"
    },
    {
     "name": "stdout",
     "output_type": "stream",
     "text": [
      "<class 'pandas.core.frame.DataFrame'>\n",
      "RangeIndex: 1000000 entries, 0 to 999999\n",
      "Data columns (total 4 columns):\n",
      " #   Column    Non-Null Count    Dtype \n",
      "---  ------    --------------    ----- \n",
      " 0   track_id  1000000 non-null  int64 \n",
      " 1   albums    1000000 non-null  object\n",
      " 2   artists   1000000 non-null  object\n",
      " 3   genres    1000000 non-null  object\n",
      "dtypes: int64(1), object(3)\n",
      "memory usage: 30.5+ MB\n"
     ]
    },
    {
     "data": {
      "text/plain": [
       "None"
      ]
     },
     "metadata": {},
     "output_type": "display_data"
    },
    {
     "data": {
      "text/plain": [
       "'-------------------------'"
      ]
     },
     "metadata": {},
     "output_type": "display_data"
    },
    {
     "data": {
      "text/plain": [
       "'Размерность'"
      ]
     },
     "metadata": {},
     "output_type": "display_data"
    },
    {
     "data": {
      "text/plain": [
       "(1000000, 4)"
      ]
     },
     "metadata": {},
     "output_type": "display_data"
    }
   ],
   "source": [
    "df_info(tracks)"
   ]
  },
  {
   "cell_type": "markdown",
   "id": "cb45d5ad-5f6b-41e0-8fee-0b98b721dfc8",
   "metadata": {},
   "source": [
    "С виду явных проблем нет, идентификаторы менять не стоит. Но видно что данные в столбцах кроме track_id содержат массивы, очевидно что пустой массив это не пропущенное значение, хотя данных не содержит. Проведу проверку."
   ]
  },
  {
   "cell_type": "code",
   "execution_count": 13,
   "id": "3aa27652",
   "metadata": {},
   "outputs": [],
   "source": [
    "# функция для поиска пустых массивов.\n",
    "def missed_value(df, column):\n",
    "    df_missed_value =df[df[column].apply(lambda x: len(x) == 0)]\n",
    "    return df_missed_value"
   ]
  },
  {
   "cell_type": "code",
   "execution_count": 10,
   "id": "68ad469e",
   "metadata": {},
   "outputs": [
    {
     "data": {
      "text/html": [
       "<div>\n",
       "<style scoped>\n",
       "    .dataframe tbody tr th:only-of-type {\n",
       "        vertical-align: middle;\n",
       "    }\n",
       "\n",
       "    .dataframe tbody tr th {\n",
       "        vertical-align: top;\n",
       "    }\n",
       "\n",
       "    .dataframe thead th {\n",
       "        text-align: right;\n",
       "    }\n",
       "</style>\n",
       "<table border=\"1\" class=\"dataframe\">\n",
       "  <thead>\n",
       "    <tr style=\"text-align: right;\">\n",
       "      <th></th>\n",
       "      <th>track_id</th>\n",
       "      <th>albums</th>\n",
       "      <th>artists</th>\n",
       "      <th>genres</th>\n",
       "    </tr>\n",
       "  </thead>\n",
       "  <tbody>\n",
       "    <tr>\n",
       "      <th>146031</th>\n",
       "      <td>3599314</td>\n",
       "      <td>[389925]</td>\n",
       "      <td>[]</td>\n",
       "      <td>[68, 86]</td>\n",
       "    </tr>\n",
       "    <tr>\n",
       "      <th>146163</th>\n",
       "      <td>3599591</td>\n",
       "      <td>[389944]</td>\n",
       "      <td>[]</td>\n",
       "      <td>[68, 86]</td>\n",
       "    </tr>\n",
       "    <tr>\n",
       "      <th>177544</th>\n",
       "      <td>4790215</td>\n",
       "      <td>[533785]</td>\n",
       "      <td>[]</td>\n",
       "      <td>[68, 86]</td>\n",
       "    </tr>\n",
       "    <tr>\n",
       "      <th>218922</th>\n",
       "      <td>10063296</td>\n",
       "      <td>[1083742]</td>\n",
       "      <td>[]</td>\n",
       "      <td>[11, 20]</td>\n",
       "    </tr>\n",
       "    <tr>\n",
       "      <th>231455</th>\n",
       "      <td>12122918</td>\n",
       "      <td>[1315834]</td>\n",
       "      <td>[]</td>\n",
       "      <td>[68]</td>\n",
       "    </tr>\n",
       "    <tr>\n",
       "      <th>...</th>\n",
       "      <td>...</td>\n",
       "      <td>...</td>\n",
       "      <td>...</td>\n",
       "      <td>...</td>\n",
       "    </tr>\n",
       "    <tr>\n",
       "      <th>999868</th>\n",
       "      <td>101201589</td>\n",
       "      <td>[12649219]</td>\n",
       "      <td>[]</td>\n",
       "      <td>[62, 77]</td>\n",
       "    </tr>\n",
       "    <tr>\n",
       "      <th>999876</th>\n",
       "      <td>101219571</td>\n",
       "      <td>[9444321]</td>\n",
       "      <td>[]</td>\n",
       "      <td>[62, 83, 77]</td>\n",
       "    </tr>\n",
       "    <tr>\n",
       "      <th>999901</th>\n",
       "      <td>101243616</td>\n",
       "      <td>[11700332]</td>\n",
       "      <td>[]</td>\n",
       "      <td>[62, 93]</td>\n",
       "    </tr>\n",
       "    <tr>\n",
       "      <th>999920</th>\n",
       "      <td>101292599</td>\n",
       "      <td>[9331881]</td>\n",
       "      <td>[]</td>\n",
       "      <td>[62, 90, 77, 84]</td>\n",
       "    </tr>\n",
       "    <tr>\n",
       "      <th>999951</th>\n",
       "      <td>101362545</td>\n",
       "      <td>[10330389]</td>\n",
       "      <td>[]</td>\n",
       "      <td>[62, 88, 77, 85]</td>\n",
       "    </tr>\n",
       "  </tbody>\n",
       "</table>\n",
       "<p>15369 rows × 4 columns</p>\n",
       "</div>"
      ],
      "text/plain": [
       "         track_id      albums artists            genres\n",
       "146031    3599314    [389925]      []          [68, 86]\n",
       "146163    3599591    [389944]      []          [68, 86]\n",
       "177544    4790215    [533785]      []          [68, 86]\n",
       "218922   10063296   [1083742]      []          [11, 20]\n",
       "231455   12122918   [1315834]      []              [68]\n",
       "...           ...         ...     ...               ...\n",
       "999868  101201589  [12649219]      []          [62, 77]\n",
       "999876  101219571   [9444321]      []      [62, 83, 77]\n",
       "999901  101243616  [11700332]      []          [62, 93]\n",
       "999920  101292599   [9331881]      []  [62, 90, 77, 84]\n",
       "999951  101362545  [10330389]      []  [62, 88, 77, 85]\n",
       "\n",
       "[15369 rows x 4 columns]"
      ]
     },
     "execution_count": 10,
     "metadata": {},
     "output_type": "execute_result"
    }
   ],
   "source": [
    "missed_value(tracks, 'artists')"
   ]
  },
  {
   "cell_type": "code",
   "execution_count": 11,
   "id": "bf18384c",
   "metadata": {},
   "outputs": [
    {
     "data": {
      "text/html": [
       "<div>\n",
       "<style scoped>\n",
       "    .dataframe tbody tr th:only-of-type {\n",
       "        vertical-align: middle;\n",
       "    }\n",
       "\n",
       "    .dataframe tbody tr th {\n",
       "        vertical-align: top;\n",
       "    }\n",
       "\n",
       "    .dataframe thead th {\n",
       "        text-align: right;\n",
       "    }\n",
       "</style>\n",
       "<table border=\"1\" class=\"dataframe\">\n",
       "  <thead>\n",
       "    <tr style=\"text-align: right;\">\n",
       "      <th></th>\n",
       "      <th>track_id</th>\n",
       "      <th>albums</th>\n",
       "      <th>artists</th>\n",
       "      <th>genres</th>\n",
       "    </tr>\n",
       "  </thead>\n",
       "  <tbody>\n",
       "    <tr>\n",
       "      <th>310821</th>\n",
       "      <td>20200372</td>\n",
       "      <td>[]</td>\n",
       "      <td>[]</td>\n",
       "      <td>[]</td>\n",
       "    </tr>\n",
       "    <tr>\n",
       "      <th>310826</th>\n",
       "      <td>20200380</td>\n",
       "      <td>[]</td>\n",
       "      <td>[]</td>\n",
       "      <td>[]</td>\n",
       "    </tr>\n",
       "    <tr>\n",
       "      <th>312469</th>\n",
       "      <td>20305116</td>\n",
       "      <td>[]</td>\n",
       "      <td>[]</td>\n",
       "      <td>[]</td>\n",
       "    </tr>\n",
       "    <tr>\n",
       "      <th>312474</th>\n",
       "      <td>20305121</td>\n",
       "      <td>[]</td>\n",
       "      <td>[]</td>\n",
       "      <td>[]</td>\n",
       "    </tr>\n",
       "    <tr>\n",
       "      <th>320353</th>\n",
       "      <td>20756854</td>\n",
       "      <td>[]</td>\n",
       "      <td>[]</td>\n",
       "      <td>[]</td>\n",
       "    </tr>\n",
       "    <tr>\n",
       "      <th>326588</th>\n",
       "      <td>21196099</td>\n",
       "      <td>[]</td>\n",
       "      <td>[]</td>\n",
       "      <td>[]</td>\n",
       "    </tr>\n",
       "    <tr>\n",
       "      <th>326592</th>\n",
       "      <td>21196103</td>\n",
       "      <td>[]</td>\n",
       "      <td>[]</td>\n",
       "      <td>[]</td>\n",
       "    </tr>\n",
       "    <tr>\n",
       "      <th>326594</th>\n",
       "      <td>21196105</td>\n",
       "      <td>[]</td>\n",
       "      <td>[]</td>\n",
       "      <td>[]</td>\n",
       "    </tr>\n",
       "    <tr>\n",
       "      <th>326596</th>\n",
       "      <td>21196107</td>\n",
       "      <td>[]</td>\n",
       "      <td>[]</td>\n",
       "      <td>[]</td>\n",
       "    </tr>\n",
       "    <tr>\n",
       "      <th>326598</th>\n",
       "      <td>21196109</td>\n",
       "      <td>[]</td>\n",
       "      <td>[]</td>\n",
       "      <td>[]</td>\n",
       "    </tr>\n",
       "    <tr>\n",
       "      <th>326600</th>\n",
       "      <td>21196111</td>\n",
       "      <td>[]</td>\n",
       "      <td>[]</td>\n",
       "      <td>[]</td>\n",
       "    </tr>\n",
       "    <tr>\n",
       "      <th>326605</th>\n",
       "      <td>21196116</td>\n",
       "      <td>[]</td>\n",
       "      <td>[]</td>\n",
       "      <td>[]</td>\n",
       "    </tr>\n",
       "    <tr>\n",
       "      <th>326606</th>\n",
       "      <td>21196117</td>\n",
       "      <td>[]</td>\n",
       "      <td>[]</td>\n",
       "      <td>[]</td>\n",
       "    </tr>\n",
       "    <tr>\n",
       "      <th>326607</th>\n",
       "      <td>21196118</td>\n",
       "      <td>[]</td>\n",
       "      <td>[]</td>\n",
       "      <td>[]</td>\n",
       "    </tr>\n",
       "    <tr>\n",
       "      <th>415644</th>\n",
       "      <td>28530632</td>\n",
       "      <td>[]</td>\n",
       "      <td>[]</td>\n",
       "      <td>[]</td>\n",
       "    </tr>\n",
       "    <tr>\n",
       "      <th>503277</th>\n",
       "      <td>34828749</td>\n",
       "      <td>[]</td>\n",
       "      <td>[]</td>\n",
       "      <td>[]</td>\n",
       "    </tr>\n",
       "    <tr>\n",
       "      <th>527490</th>\n",
       "      <td>36598340</td>\n",
       "      <td>[]</td>\n",
       "      <td>[]</td>\n",
       "      <td>[]</td>\n",
       "    </tr>\n",
       "    <tr>\n",
       "      <th>700211</th>\n",
       "      <td>51641225</td>\n",
       "      <td>[]</td>\n",
       "      <td>[]</td>\n",
       "      <td>[]</td>\n",
       "    </tr>\n",
       "  </tbody>\n",
       "</table>\n",
       "</div>"
      ],
      "text/plain": [
       "        track_id albums artists genres\n",
       "310821  20200372     []      []     []\n",
       "310826  20200380     []      []     []\n",
       "312469  20305116     []      []     []\n",
       "312474  20305121     []      []     []\n",
       "320353  20756854     []      []     []\n",
       "326588  21196099     []      []     []\n",
       "326592  21196103     []      []     []\n",
       "326594  21196105     []      []     []\n",
       "326596  21196107     []      []     []\n",
       "326598  21196109     []      []     []\n",
       "326600  21196111     []      []     []\n",
       "326605  21196116     []      []     []\n",
       "326606  21196117     []      []     []\n",
       "326607  21196118     []      []     []\n",
       "415644  28530632     []      []     []\n",
       "503277  34828749     []      []     []\n",
       "527490  36598340     []      []     []\n",
       "700211  51641225     []      []     []"
      ]
     },
     "execution_count": 11,
     "metadata": {},
     "output_type": "execute_result"
    }
   ],
   "source": [
    "missed_value(tracks, 'albums')"
   ]
  },
  {
   "cell_type": "code",
   "execution_count": 12,
   "id": "3c3c03b6",
   "metadata": {},
   "outputs": [
    {
     "data": {
      "text/html": [
       "<div>\n",
       "<style scoped>\n",
       "    .dataframe tbody tr th:only-of-type {\n",
       "        vertical-align: middle;\n",
       "    }\n",
       "\n",
       "    .dataframe tbody tr th {\n",
       "        vertical-align: top;\n",
       "    }\n",
       "\n",
       "    .dataframe thead th {\n",
       "        text-align: right;\n",
       "    }\n",
       "</style>\n",
       "<table border=\"1\" class=\"dataframe\">\n",
       "  <thead>\n",
       "    <tr style=\"text-align: right;\">\n",
       "      <th></th>\n",
       "      <th>track_id</th>\n",
       "      <th>albums</th>\n",
       "      <th>artists</th>\n",
       "      <th>genres</th>\n",
       "    </tr>\n",
       "  </thead>\n",
       "  <tbody>\n",
       "    <tr>\n",
       "      <th>490</th>\n",
       "      <td>2520</td>\n",
       "      <td>[249, 163801, 163802, 324616, 17542430, 189498...</td>\n",
       "      <td>[2259]</td>\n",
       "      <td>[]</td>\n",
       "    </tr>\n",
       "    <tr>\n",
       "      <th>3069</th>\n",
       "      <td>16776</td>\n",
       "      <td>[1479, 5319, 6093, 8467, 10641, 90867, 163801,...</td>\n",
       "      <td>[978]</td>\n",
       "      <td>[]</td>\n",
       "    </tr>\n",
       "    <tr>\n",
       "      <th>3077</th>\n",
       "      <td>16801</td>\n",
       "      <td>[1479, 163801, 9287549, 9377183, 9424994, 1201...</td>\n",
       "      <td>[10520]</td>\n",
       "      <td>[]</td>\n",
       "    </tr>\n",
       "    <tr>\n",
       "      <th>4192</th>\n",
       "      <td>23752</td>\n",
       "      <td>[2001, 3722, 4973, 6104, 6558, 23866, 37052, 7...</td>\n",
       "      <td>[13373]</td>\n",
       "      <td>[]</td>\n",
       "    </tr>\n",
       "    <tr>\n",
       "      <th>6645</th>\n",
       "      <td>38012</td>\n",
       "      <td>[3147, 60099, 530836, 1115289, 2490724, 818446...</td>\n",
       "      <td>[16758]</td>\n",
       "      <td>[]</td>\n",
       "    </tr>\n",
       "    <tr>\n",
       "      <th>...</th>\n",
       "      <td>...</td>\n",
       "      <td>...</td>\n",
       "      <td>...</td>\n",
       "      <td>...</td>\n",
       "    </tr>\n",
       "    <tr>\n",
       "      <th>997667</th>\n",
       "      <td>99412992</td>\n",
       "      <td>[20764551]</td>\n",
       "      <td>[10029101]</td>\n",
       "      <td>[]</td>\n",
       "    </tr>\n",
       "    <tr>\n",
       "      <th>999192</th>\n",
       "      <td>100497082</td>\n",
       "      <td>[21098340]</td>\n",
       "      <td>[15936615]</td>\n",
       "      <td>[]</td>\n",
       "    </tr>\n",
       "    <tr>\n",
       "      <th>999703</th>\n",
       "      <td>100923319</td>\n",
       "      <td>[21233460]</td>\n",
       "      <td>[5271861]</td>\n",
       "      <td>[]</td>\n",
       "    </tr>\n",
       "    <tr>\n",
       "      <th>999704</th>\n",
       "      <td>100923322</td>\n",
       "      <td>[21233460]</td>\n",
       "      <td>[5271861]</td>\n",
       "      <td>[]</td>\n",
       "    </tr>\n",
       "    <tr>\n",
       "      <th>999705</th>\n",
       "      <td>100923326</td>\n",
       "      <td>[21233460]</td>\n",
       "      <td>[5271861]</td>\n",
       "      <td>[]</td>\n",
       "    </tr>\n",
       "  </tbody>\n",
       "</table>\n",
       "<p>3687 rows × 4 columns</p>\n",
       "</div>"
      ],
      "text/plain": [
       "         track_id                                             albums  \\\n",
       "490          2520  [249, 163801, 163802, 324616, 17542430, 189498...   \n",
       "3069        16776  [1479, 5319, 6093, 8467, 10641, 90867, 163801,...   \n",
       "3077        16801  [1479, 163801, 9287549, 9377183, 9424994, 1201...   \n",
       "4192        23752  [2001, 3722, 4973, 6104, 6558, 23866, 37052, 7...   \n",
       "6645        38012  [3147, 60099, 530836, 1115289, 2490724, 818446...   \n",
       "...           ...                                                ...   \n",
       "997667   99412992                                         [20764551]   \n",
       "999192  100497082                                         [21098340]   \n",
       "999703  100923319                                         [21233460]   \n",
       "999704  100923322                                         [21233460]   \n",
       "999705  100923326                                         [21233460]   \n",
       "\n",
       "           artists genres  \n",
       "490         [2259]     []  \n",
       "3069         [978]     []  \n",
       "3077       [10520]     []  \n",
       "4192       [13373]     []  \n",
       "6645       [16758]     []  \n",
       "...            ...    ...  \n",
       "997667  [10029101]     []  \n",
       "999192  [15936615]     []  \n",
       "999703   [5271861]     []  \n",
       "999704   [5271861]     []  \n",
       "999705   [5271861]     []  \n",
       "\n",
       "[3687 rows x 4 columns]"
      ]
     },
     "execution_count": 12,
     "metadata": {},
     "output_type": "execute_result"
    }
   ],
   "source": [
    "missed_value(tracks, 'genres')"
   ]
  },
  {
   "cell_type": "markdown",
   "id": "887f13f5-e645-425b-9cc6-effcbdaf3273",
   "metadata": {},
   "source": [
    "В датафрейме есть строки с неизвестными исполнителями, альбомами и жанрами. Для принятия решения что делать с этими строками изучу какой процент от общих они составляют."
   ]
  },
  {
   "cell_type": "code",
   "execution_count": 9,
   "id": "1140bd69-97a3-4c61-8ccf-0020f86d2c50",
   "metadata": {},
   "outputs": [],
   "source": [
    "missing_values = tracks[\n",
    "    (tracks['artists'].str.len() == 0) | (tracks['albums'].str.len() == 0) | (tracks['genres'].str.len() == 0)]"
   ]
  },
  {
   "cell_type": "code",
   "execution_count": 10,
   "id": "f3b77be8-e1af-41e2-8edb-d03b3d7a3c36",
   "metadata": {},
   "outputs": [
    {
     "name": "stdout",
     "output_type": "stream",
     "text": [
      "Процент данных в missing_values от общего количества данных в tracks: 1.9%\n"
     ]
    }
   ],
   "source": [
    "percent_missing_values = len(missing_values) / len(tracks) * 100\n",
    "print(f\"Процент данных в missing_values от общего количества данных в tracks: {percent_missing_values:.1f}%\")"
   ]
  },
  {
   "cell_type": "markdown",
   "id": "4be240e4-96c5-425f-abbd-fed3f68e3000",
   "metadata": {},
   "source": [
    "Менее 3%, считаю что могу их просто удалить."
   ]
  },
  {
   "cell_type": "code",
   "execution_count": 11,
   "id": "d7c76e69-5950-482f-8275-6840ba4ade75",
   "metadata": {},
   "outputs": [],
   "source": [
    "indexes_to_drop = missing_values.index"
   ]
  },
  {
   "cell_type": "code",
   "execution_count": 12,
   "id": "b866bae3-fdcb-4f27-a3b1-1eb15346398c",
   "metadata": {},
   "outputs": [],
   "source": [
    "tracks = tracks.drop(indexes_to_drop).reset_index(drop=True)"
   ]
  },
  {
   "cell_type": "code",
   "execution_count": 143,
   "id": "d8fc85b0-c1e6-4e73-a040-7f6a782bed7c",
   "metadata": {},
   "outputs": [
    {
     "data": {
      "text/html": [
       "<div>\n",
       "<style scoped>\n",
       "    .dataframe tbody tr th:only-of-type {\n",
       "        vertical-align: middle;\n",
       "    }\n",
       "\n",
       "    .dataframe tbody tr th {\n",
       "        vertical-align: top;\n",
       "    }\n",
       "\n",
       "    .dataframe thead th {\n",
       "        text-align: right;\n",
       "    }\n",
       "</style>\n",
       "<table border=\"1\" class=\"dataframe\">\n",
       "  <thead>\n",
       "    <tr style=\"text-align: right;\">\n",
       "      <th></th>\n",
       "      <th>track_id</th>\n",
       "      <th>albums</th>\n",
       "      <th>artists</th>\n",
       "      <th>genres</th>\n",
       "    </tr>\n",
       "  </thead>\n",
       "  <tbody>\n",
       "  </tbody>\n",
       "</table>\n",
       "</div>"
      ],
      "text/plain": [
       "Empty DataFrame\n",
       "Columns: [track_id, albums, artists, genres]\n",
       "Index: []"
      ]
     },
     "execution_count": 143,
     "metadata": {},
     "output_type": "execute_result"
    }
   ],
   "source": [
    "missed_value(tracks, 'albums')"
   ]
  },
  {
   "cell_type": "code",
   "execution_count": 13,
   "id": "8732c20e-a688-4cd1-b572-6612fdb4c501",
   "metadata": {},
   "outputs": [],
   "source": [
    "del missing_values"
   ]
  },
  {
   "cell_type": "code",
   "execution_count": 14,
   "id": "e26d20f8-9f68-42c0-9a7c-f76b81c9da96",
   "metadata": {},
   "outputs": [
    {
     "name": "stdout",
     "output_type": "stream",
     "text": [
      "Все track_id из каталога присутствуют в справочнике.\n"
     ]
    }
   ],
   "source": [
    "# проверка все ли треки из каталога содержаться в справочнике\n",
    "# извлекаю все track_id из catalog_names\n",
    "track_ids = catalog_names[catalog_names['type'] == 'track']['id'].tolist()\n",
    "\n",
    "# проверяю, содержатся ли все track_id в tracks\n",
    "all_exist = all(\n",
    "    track_id in tracks['track_id'].values for track_id in track_ids\n",
    ")\n",
    "\n",
    "if all_exist:\n",
    "    print(\"Не все track_id из каталога присутствуют в справочнике.\")\n",
    "else:\n",
    "    print(\"Все track_id из каталога присутствуют в справочнике.\")"
   ]
  },
  {
   "cell_type": "code",
   "execution_count": 15,
   "id": "d002d3bb-e83b-46bd-bc45-3fc2d69ef17a",
   "metadata": {},
   "outputs": [],
   "source": [
    "del track_ids"
   ]
  },
  {
   "cell_type": "code",
   "execution_count": 16,
   "id": "6ded0eae-fe0f-455b-827a-80ed397cb99c",
   "metadata": {},
   "outputs": [
    {
     "name": "stdout",
     "output_type": "stream",
     "text": [
      "Все album из каталога присутствуют в справочнике.\n"
     ]
    }
   ],
   "source": [
    "# проверка все ли альбомы из каталога содержаться в справочнике\n",
    "alb_exist = (\n",
    "    set(tracks['albums'].explode().drop_duplicates()) \n",
    "    - set(catalog_names.query('type == \"album\"')['id'])\n",
    ")\n",
    "if alb_exist:\n",
    "    print(\"Не все album из каталога присутствуют в справочнике.\")\n",
    "else:\n",
    "    print(\"Все album из каталога присутствуют в справочнике.\")"
   ]
  },
  {
   "cell_type": "code",
   "execution_count": 17,
   "id": "d9ed77fe-1aab-45f4-abe8-f33219b612a9",
   "metadata": {},
   "outputs": [
    {
     "name": "stdout",
     "output_type": "stream",
     "text": [
      "Все artists из каталога присутствуют в справочнике.\n"
     ]
    }
   ],
   "source": [
    "# проверка все ли артисты из каталога содержаться в справочнике\n",
    "art_exist = (\n",
    "    set(tracks['artists'].explode().drop_duplicates()) \n",
    "    - set(catalog_names.query('type == \"artist\"')['id'])\n",
    ")\n",
    "if art_exist:\n",
    "    print(\"Не все artists из каталога присутствуют в справочнике.\")\n",
    "else:\n",
    "    print(\"Все artists из каталога присутствуют в справочнике.\")"
   ]
  },
  {
   "cell_type": "code",
   "execution_count": 18,
   "id": "39c6286b-295f-407f-aa44-802d502a6377",
   "metadata": {},
   "outputs": [
    {
     "name": "stdout",
     "output_type": "stream",
     "text": [
      "Не все genres из каталога присутствуют в справочнике.\n"
     ]
    }
   ],
   "source": [
    "# проверка все ли жанры из каталога содержаться в справочнике\n",
    "gen_exist = (\n",
    "    set(tracks['genres'].explode().drop_duplicates()) \n",
    "    - set(catalog_names.query('type == \"genre\"')['id'])\n",
    ")\n",
    "if gen_exist:\n",
    "    print(\"Не все genres из каталога присутствуют в справочнике.\")\n",
    "else:\n",
    "    print(\"Все genres из каталога присутствуют в справочнике.\")"
   ]
  },
  {
   "cell_type": "markdown",
   "id": "8881069f-8b31-4c22-a8ee-41d3028b6e7e",
   "metadata": {},
   "source": [
    "А вот это уже хуже. Нужно было предположить такой ход на этапе когда удалял пустые значения. Посмотрим что с этим делать."
   ]
  },
  {
   "cell_type": "code",
   "execution_count": 88,
   "id": "e302f730-31f6-46d0-8750-eaf7d2448519",
   "metadata": {},
   "outputs": [
    {
     "data": {
      "text/plain": [
       "30"
      ]
     },
     "execution_count": 88,
     "metadata": {},
     "output_type": "execute_result"
    }
   ],
   "source": [
    "len(gen_exist)"
   ]
  },
  {
   "cell_type": "markdown",
   "id": "e6707d79-a3e5-458b-b0ca-806873e3149c",
   "metadata": {},
   "source": [
    "Получается у 30 идентификаторов жанров неизвестны. Нужно понять сколько треков с необозначенными жанрами."
   ]
  },
  {
   "cell_type": "code",
   "execution_count": 19,
   "id": "75a6817e-5451-4172-a73c-fde3e1b507b2",
   "metadata": {},
   "outputs": [
    {
     "name": "stdout",
     "output_type": "stream",
     "text": [
      "Процент треков с неизвестным жанром: 4.9%\n"
     ]
    }
   ],
   "source": [
    "track_unknown_genres = (\n",
    "    tracks\n",
    "    .explode('genres')\n",
    "    .query('genres in @gen_exist') \n",
    "    ['track_id']\n",
    "    .drop_duplicates()\n",
    ")\n",
    "\n",
    "percent_unknown_genres = len(track_unknown_genres) / len(tracks) * 100\n",
    "print(f\"Процент треков с неизвестным жанром: {percent_unknown_genres:.1f}%\")"
   ]
  },
  {
   "cell_type": "markdown",
   "id": "f9962c9b-327d-464b-b2aa-1daaa4f42189",
   "metadata": {},
   "source": [
    "Удаляю, процент все равно не большой, причина такой неконсистентности не выяснена."
   ]
  },
  {
   "cell_type": "code",
   "execution_count": 20,
   "id": "5661568c-46d1-4a69-a7bc-66586bae0d13",
   "metadata": {},
   "outputs": [],
   "source": [
    "tracks = (\n",
    "    tracks\n",
    "    .query('track_id not in @track_unknown_genres')\n",
    "    .reset_index(drop=True)\n",
    ")"
   ]
  },
  {
   "cell_type": "code",
   "execution_count": 21,
   "id": "664cc099-f1dd-4892-bc4f-5d5be96d2110",
   "metadata": {},
   "outputs": [],
   "source": [
    "del gen_exist\n",
    "del track_unknown_genres"
   ]
  },
  {
   "cell_type": "code",
   "execution_count": 22,
   "id": "f19ecd89-01dd-466f-8602-7bc538e99f7a",
   "metadata": {},
   "outputs": [
    {
     "name": "stdout",
     "output_type": "stream",
     "text": [
      "<class 'pandas.core.frame.DataFrame'>\n",
      "RangeIndex: 932664 entries, 0 to 932663\n",
      "Data columns (total 4 columns):\n",
      " #   Column    Non-Null Count   Dtype \n",
      "---  ------    --------------   ----- \n",
      " 0   track_id  932664 non-null  int64 \n",
      " 1   albums    932664 non-null  object\n",
      " 2   artists   932664 non-null  object\n",
      " 3   genres    932664 non-null  object\n",
      "dtypes: int64(1), object(3)\n",
      "memory usage: 28.5+ MB\n"
     ]
    }
   ],
   "source": [
    "# посмотрим как теперь выглядит каталог треков\n",
    "tracks.info()"
   ]
  },
  {
   "cell_type": "markdown",
   "id": "292464cc-0a69-42bb-bee0-b7eb9fdb56d0",
   "metadata": {},
   "source": [
    "## Имена артистов, названия альбомов, треков и жанров"
   ]
  },
  {
   "cell_type": "code",
   "execution_count": 44,
   "id": "f06a5c62",
   "metadata": {},
   "outputs": [
    {
     "data": {
      "text/plain": [
       "'Фрагмент датасета'"
      ]
     },
     "metadata": {},
     "output_type": "display_data"
    },
    {
     "data": {
      "text/html": [
       "<div>\n",
       "<style scoped>\n",
       "    .dataframe tbody tr th:only-of-type {\n",
       "        vertical-align: middle;\n",
       "    }\n",
       "\n",
       "    .dataframe tbody tr th {\n",
       "        vertical-align: top;\n",
       "    }\n",
       "\n",
       "    .dataframe thead th {\n",
       "        text-align: right;\n",
       "    }\n",
       "</style>\n",
       "<table border=\"1\" class=\"dataframe\">\n",
       "  <thead>\n",
       "    <tr style=\"text-align: right;\">\n",
       "      <th></th>\n",
       "      <th>id</th>\n",
       "      <th>type</th>\n",
       "      <th>name</th>\n",
       "    </tr>\n",
       "  </thead>\n",
       "  <tbody>\n",
       "    <tr>\n",
       "      <th>1320523</th>\n",
       "      <td>35224081</td>\n",
       "      <td>track</td>\n",
       "      <td>Московская осень</td>\n",
       "    </tr>\n",
       "    <tr>\n",
       "      <th>1658876</th>\n",
       "      <td>68102867</td>\n",
       "      <td>track</td>\n",
       "      <td>The King</td>\n",
       "    </tr>\n",
       "    <tr>\n",
       "      <th>1126114</th>\n",
       "      <td>20360394</td>\n",
       "      <td>track</td>\n",
       "      <td>I Am Onslaught</td>\n",
       "    </tr>\n",
       "    <tr>\n",
       "      <th>1030719</th>\n",
       "      <td>10011772</td>\n",
       "      <td>track</td>\n",
       "      <td>А в деревне клёво</td>\n",
       "    </tr>\n",
       "    <tr>\n",
       "      <th>1181679</th>\n",
       "      <td>24788003</td>\n",
       "      <td>track</td>\n",
       "      <td>Army</td>\n",
       "    </tr>\n",
       "  </tbody>\n",
       "</table>\n",
       "</div>"
      ],
      "text/plain": [
       "               id   type               name\n",
       "1320523  35224081  track   Московская осень\n",
       "1658876  68102867  track           The King\n",
       "1126114  20360394  track     I Am Onslaught\n",
       "1030719  10011772  track  А в деревне клёво\n",
       "1181679  24788003  track               Army"
      ]
     },
     "metadata": {},
     "output_type": "display_data"
    },
    {
     "data": {
      "text/plain": [
       "'-------------------------'"
      ]
     },
     "metadata": {},
     "output_type": "display_data"
    },
    {
     "data": {
      "text/plain": [
       "'Проверяем на наличие пропущенных значение'"
      ]
     },
     "metadata": {},
     "output_type": "display_data"
    },
    {
     "data": {
      "text/plain": [
       "id      0\n",
       "type    0\n",
       "name    0\n",
       "dtype: int64"
      ]
     },
     "metadata": {},
     "output_type": "display_data"
    },
    {
     "data": {
      "text/plain": [
       "'-------------------------'"
      ]
     },
     "metadata": {},
     "output_type": "display_data"
    },
    {
     "data": {
      "text/plain": [
       "'Информация о датасете'"
      ]
     },
     "metadata": {},
     "output_type": "display_data"
    },
    {
     "name": "stdout",
     "output_type": "stream",
     "text": [
      "<class 'pandas.core.frame.DataFrame'>\n",
      "RangeIndex: 1812471 entries, 0 to 1812470\n",
      "Data columns (total 3 columns):\n",
      " #   Column  Dtype \n",
      "---  ------  ----- \n",
      " 0   id      int64 \n",
      " 1   type    object\n",
      " 2   name    object\n",
      "dtypes: int64(1), object(2)\n",
      "memory usage: 41.5+ MB\n"
     ]
    },
    {
     "data": {
      "text/plain": [
       "None"
      ]
     },
     "metadata": {},
     "output_type": "display_data"
    },
    {
     "data": {
      "text/plain": [
       "'-------------------------'"
      ]
     },
     "metadata": {},
     "output_type": "display_data"
    },
    {
     "data": {
      "text/plain": [
       "'Размерность'"
      ]
     },
     "metadata": {},
     "output_type": "display_data"
    },
    {
     "data": {
      "text/plain": [
       "(1812471, 3)"
      ]
     },
     "metadata": {},
     "output_type": "display_data"
    }
   ],
   "source": [
    "df_info(catalog_names)"
   ]
  },
  {
   "cell_type": "code",
   "execution_count": 45,
   "id": "5048445d-b321-4391-b65e-41f0cf758af7",
   "metadata": {},
   "outputs": [
    {
     "data": {
      "text/html": [
       "<div>\n",
       "<style scoped>\n",
       "    .dataframe tbody tr th:only-of-type {\n",
       "        vertical-align: middle;\n",
       "    }\n",
       "\n",
       "    .dataframe tbody tr th {\n",
       "        vertical-align: top;\n",
       "    }\n",
       "\n",
       "    .dataframe thead th {\n",
       "        text-align: right;\n",
       "    }\n",
       "</style>\n",
       "<table border=\"1\" class=\"dataframe\">\n",
       "  <thead>\n",
       "    <tr style=\"text-align: right;\">\n",
       "      <th></th>\n",
       "      <th>id</th>\n",
       "      <th>type</th>\n",
       "      <th>name</th>\n",
       "    </tr>\n",
       "  </thead>\n",
       "  <tbody>\n",
       "    <tr>\n",
       "      <th>count</th>\n",
       "      <td>1.812471e+06</td>\n",
       "      <td>1812471</td>\n",
       "      <td>1812471</td>\n",
       "    </tr>\n",
       "    <tr>\n",
       "      <th>unique</th>\n",
       "      <td>NaN</td>\n",
       "      <td>4</td>\n",
       "      <td>945118</td>\n",
       "    </tr>\n",
       "    <tr>\n",
       "      <th>top</th>\n",
       "      <td>NaN</td>\n",
       "      <td>track</td>\n",
       "      <td>Сборник</td>\n",
       "    </tr>\n",
       "    <tr>\n",
       "      <th>freq</th>\n",
       "      <td>NaN</td>\n",
       "      <td>1000000</td>\n",
       "      <td>778</td>\n",
       "    </tr>\n",
       "    <tr>\n",
       "      <th>mean</th>\n",
       "      <td>2.321647e+07</td>\n",
       "      <td>NaN</td>\n",
       "      <td>NaN</td>\n",
       "    </tr>\n",
       "    <tr>\n",
       "      <th>std</th>\n",
       "      <td>2.526044e+07</td>\n",
       "      <td>NaN</td>\n",
       "      <td>NaN</td>\n",
       "    </tr>\n",
       "    <tr>\n",
       "      <th>min</th>\n",
       "      <td>0.000000e+00</td>\n",
       "      <td>NaN</td>\n",
       "      <td>NaN</td>\n",
       "    </tr>\n",
       "    <tr>\n",
       "      <th>25%</th>\n",
       "      <td>3.480524e+06</td>\n",
       "      <td>NaN</td>\n",
       "      <td>NaN</td>\n",
       "    </tr>\n",
       "    <tr>\n",
       "      <th>50%</th>\n",
       "      <td>1.211436e+07</td>\n",
       "      <td>NaN</td>\n",
       "      <td>NaN</td>\n",
       "    </tr>\n",
       "    <tr>\n",
       "      <th>75%</th>\n",
       "      <td>3.773817e+07</td>\n",
       "      <td>NaN</td>\n",
       "      <td>NaN</td>\n",
       "    </tr>\n",
       "    <tr>\n",
       "      <th>max</th>\n",
       "      <td>1.015218e+08</td>\n",
       "      <td>NaN</td>\n",
       "      <td>NaN</td>\n",
       "    </tr>\n",
       "  </tbody>\n",
       "</table>\n",
       "</div>"
      ],
      "text/plain": [
       "                  id     type     name\n",
       "count   1.812471e+06  1812471  1812471\n",
       "unique           NaN        4   945118\n",
       "top              NaN    track  Сборник\n",
       "freq             NaN  1000000      778\n",
       "mean    2.321647e+07      NaN      NaN\n",
       "std     2.526044e+07      NaN      NaN\n",
       "min     0.000000e+00      NaN      NaN\n",
       "25%     3.480524e+06      NaN      NaN\n",
       "50%     1.211436e+07      NaN      NaN\n",
       "75%     3.773817e+07      NaN      NaN\n",
       "max     1.015218e+08      NaN      NaN"
      ]
     },
     "execution_count": 45,
     "metadata": {},
     "output_type": "execute_result"
    }
   ],
   "source": [
    "# детально посмотрю на данные внутри.\n",
    "catalog_names.describe(include='all')"
   ]
  },
  {
   "cell_type": "markdown",
   "id": "f1a245be-04bd-4851-a27a-7e238e2de320",
   "metadata": {},
   "source": [
    "В целом данные выглядят прилично, пропусков нет, типы данных соответсвуют. Если нет дубликатов, полагаю можно оставить как есть."
   ]
  },
  {
   "cell_type": "code",
   "execution_count": 46,
   "id": "bc224896-74a9-4594-9740-ce5dd28498e2",
   "metadata": {},
   "outputs": [
    {
     "name": "stdout",
     "output_type": "stream",
     "text": [
      "['album' 'artist' 'genre' 'track']\n"
     ]
    }
   ],
   "source": [
    "# проверю неявные дубликаты в колонке с типом\n",
    "print(catalog_names['type'].unique())"
   ]
  },
  {
   "cell_type": "code",
   "execution_count": 47,
   "id": "512dedd6-6ad0-4829-b9f4-62efc2ed1939",
   "metadata": {},
   "outputs": [
    {
     "data": {
      "text/plain": [
       "0"
      ]
     },
     "execution_count": 47,
     "metadata": {},
     "output_type": "execute_result"
    }
   ],
   "source": [
    "# дубликаты по связке имя-тип\n",
    "len(catalog_names[(catalog_names.duplicated(['id','type']) == True)])"
   ]
  },
  {
   "cell_type": "code",
   "execution_count": 48,
   "id": "ed0ba1bc-78dd-41ee-9257-4f623935f1f8",
   "metadata": {},
   "outputs": [
    {
     "data": {
      "text/plain": [
       "689769"
      ]
     },
     "execution_count": 48,
     "metadata": {},
     "output_type": "execute_result"
    }
   ],
   "source": [
    "# дубликаты по связке тип и наименование\n",
    "len(catalog_names[(catalog_names.duplicated(['type','name']) == True)])"
   ]
  },
  {
   "cell_type": "code",
   "execution_count": 54,
   "id": "6bad7825-98f0-4e1c-9341-21aaf36bbe0e",
   "metadata": {},
   "outputs": [
    {
     "name": "stdout",
     "output_type": "stream",
     "text": [
      "Процент дубликатов по связке 'type','name':0.38%\n"
     ]
    }
   ],
   "source": [
    "print(f\"Процент дубликатов по связке 'type','name':{len(catalog_names[(catalog_names.duplicated(['type','name']) == True)])/len(catalog_names):.2f}%\")"
   ]
  },
  {
   "cell_type": "code",
   "execution_count": 23,
   "id": "ae833a8d-4df2-41ce-8b2d-279693b6e148",
   "metadata": {},
   "outputs": [
    {
     "name": "stdout",
     "output_type": "stream",
     "text": [
      "         type                name  duplicate_count\n",
      "164911  track                Бунт                5\n",
      "55303   album  TOKYO - CITY POP -                3\n",
      "113036  track        I Gotta Know                6\n",
      "196335  track   Термоядерный СВЭГ                2\n",
      "157080  track         Weg Von Dir                2\n"
     ]
    }
   ],
   "source": [
    "# группировка по 'type' и 'name', а затем отбор групп, где количество записей больше 1\n",
    "duplicate_counts = (catalog_names\n",
    "                    .groupby(['type', 'name'])\n",
    "                    .filter(lambda x: len(x) > 1)\n",
    "                    .groupby(['type', 'name'])\n",
    "                    .size())\n",
    "\n",
    "# преобразование Series в DataFrame для удобства чтения\n",
    "duplicate_counts_df = duplicate_counts.reset_index(name='duplicate_count')\n",
    "\n",
    "# Количество дубликатов по связке 'type' и 'name'\n",
    "print(duplicate_counts_df.sample(5))"
   ]
  },
  {
   "cell_type": "code",
   "execution_count": 24,
   "id": "04604936-25ad-4457-b76d-6abbca19cfaf",
   "metadata": {},
   "outputs": [
    {
     "name": "stdout",
     "output_type": "stream",
     "text": [
      "Количество дубликатов для album: 298518\n",
      "Количество дубликатов для track: 590064\n"
     ]
    }
   ],
   "source": [
    "counts = duplicate_counts_df.groupby('type')['duplicate_count'].sum()\n",
    "\n",
    "# Достаем количество дубликатов для 'album' и 'track'\n",
    "album_duplicates_count = counts.get('album', 0)\n",
    "track_duplicates_count = counts.get('track', 0)\n",
    "\n",
    "# Вывод результата\n",
    "print(f\"Количество дубликатов для album: {album_duplicates_count}\")\n",
    "print(f\"Количество дубликатов для track: {track_duplicates_count}\")"
   ]
  },
  {
   "cell_type": "markdown",
   "id": "0229f63d-6819-4a61-9b07-1e54c1b9a0ba",
   "metadata": {},
   "source": [
    "Дубликатов по связке 'type','name' очень много, 38% от общих данных. Удалять такое количество нельзя, оставлю как есть. "
   ]
  },
  {
   "cell_type": "code",
   "execution_count": 25,
   "id": "3c746169-9e86-433b-b9b1-b7daedc682f3",
   "metadata": {},
   "outputs": [],
   "source": [
    "# уборочка\n",
    "del duplicate_counts\n",
    "del duplicate_counts_df\n",
    "del counts\n",
    "del album_duplicates_count\n",
    "del track_duplicates_count"
   ]
  },
  {
   "cell_type": "markdown",
   "id": "41d476d2-f192-4e72-b49d-a13e2a6d31c7",
   "metadata": {},
   "source": [
    "## Данные о том, какие пользователи прослушали тот или иной трек"
   ]
  },
  {
   "cell_type": "code",
   "execution_count": 22,
   "id": "73c042f8-1042-4ecf-9ce8-bcde1bd68108",
   "metadata": {},
   "outputs": [
    {
     "data": {
      "text/plain": [
       "'Фрагмент датасета'"
      ]
     },
     "metadata": {},
     "output_type": "display_data"
    },
    {
     "data": {
      "text/html": [
       "<div>\n",
       "<style scoped>\n",
       "    .dataframe tbody tr th:only-of-type {\n",
       "        vertical-align: middle;\n",
       "    }\n",
       "\n",
       "    .dataframe tbody tr th {\n",
       "        vertical-align: top;\n",
       "    }\n",
       "\n",
       "    .dataframe thead th {\n",
       "        text-align: right;\n",
       "    }\n",
       "</style>\n",
       "<table border=\"1\" class=\"dataframe\">\n",
       "  <thead>\n",
       "    <tr style=\"text-align: right;\">\n",
       "      <th></th>\n",
       "      <th>user_id</th>\n",
       "      <th>track_id</th>\n",
       "      <th>track_seq</th>\n",
       "      <th>started_at</th>\n",
       "    </tr>\n",
       "  </thead>\n",
       "  <tbody>\n",
       "    <tr>\n",
       "      <th>216</th>\n",
       "      <td>1221651</td>\n",
       "      <td>70471517</td>\n",
       "      <td>217</td>\n",
       "      <td>2022-11-16</td>\n",
       "    </tr>\n",
       "    <tr>\n",
       "      <th>4</th>\n",
       "      <td>837537</td>\n",
       "      <td>439925</td>\n",
       "      <td>5</td>\n",
       "      <td>2022-07-16</td>\n",
       "    </tr>\n",
       "    <tr>\n",
       "      <th>181</th>\n",
       "      <td>798669</td>\n",
       "      <td>51452575</td>\n",
       "      <td>182</td>\n",
       "      <td>2022-10-19</td>\n",
       "    </tr>\n",
       "    <tr>\n",
       "      <th>40</th>\n",
       "      <td>1077074</td>\n",
       "      <td>417949</td>\n",
       "      <td>41</td>\n",
       "      <td>2022-03-31</td>\n",
       "    </tr>\n",
       "    <tr>\n",
       "      <th>145</th>\n",
       "      <td>111758</td>\n",
       "      <td>22425013</td>\n",
       "      <td>146</td>\n",
       "      <td>2022-08-16</td>\n",
       "    </tr>\n",
       "  </tbody>\n",
       "</table>\n",
       "</div>"
      ],
      "text/plain": [
       "     user_id  track_id  track_seq started_at\n",
       "216  1221651  70471517        217 2022-11-16\n",
       "4     837537    439925          5 2022-07-16\n",
       "181   798669  51452575        182 2022-10-19\n",
       "40   1077074    417949         41 2022-03-31\n",
       "145   111758  22425013        146 2022-08-16"
      ]
     },
     "metadata": {},
     "output_type": "display_data"
    },
    {
     "data": {
      "text/plain": [
       "'-------------------------'"
      ]
     },
     "metadata": {},
     "output_type": "display_data"
    },
    {
     "data": {
      "text/plain": [
       "'Проверяем на наличие пропущенных значение'"
      ]
     },
     "metadata": {},
     "output_type": "display_data"
    },
    {
     "data": {
      "text/plain": [
       "user_id       0\n",
       "track_id      0\n",
       "track_seq     0\n",
       "started_at    0\n",
       "dtype: int64"
      ]
     },
     "metadata": {},
     "output_type": "display_data"
    },
    {
     "data": {
      "text/plain": [
       "'-------------------------'"
      ]
     },
     "metadata": {},
     "output_type": "display_data"
    },
    {
     "data": {
      "text/plain": [
       "'Информация о датасете'"
      ]
     },
     "metadata": {},
     "output_type": "display_data"
    },
    {
     "name": "stdout",
     "output_type": "stream",
     "text": [
      "<class 'pandas.core.frame.DataFrame'>\n",
      "Index: 222629898 entries, 0 to 291\n",
      "Data columns (total 4 columns):\n",
      " #   Column      Dtype         \n",
      "---  ------      -----         \n",
      " 0   user_id     int32         \n",
      " 1   track_id    int32         \n",
      " 2   track_seq   int16         \n",
      " 3   started_at  datetime64[ns]\n",
      "dtypes: datetime64[ns](1), int16(1), int32(2)\n",
      "memory usage: 5.4 GB\n"
     ]
    },
    {
     "data": {
      "text/plain": [
       "None"
      ]
     },
     "metadata": {},
     "output_type": "display_data"
    },
    {
     "data": {
      "text/plain": [
       "'-------------------------'"
      ]
     },
     "metadata": {},
     "output_type": "display_data"
    },
    {
     "data": {
      "text/plain": [
       "'Размерность'"
      ]
     },
     "metadata": {},
     "output_type": "display_data"
    },
    {
     "data": {
      "text/plain": [
       "(222629898, 4)"
      ]
     },
     "metadata": {},
     "output_type": "display_data"
    }
   ],
   "source": [
    "df_info(interactions)"
   ]
  },
  {
   "cell_type": "code",
   "execution_count": 22,
   "id": "ea8f08f1-2b27-4661-8364-b9766b6ddaf5",
   "metadata": {},
   "outputs": [
    {
     "data": {
      "text/plain": [
       "0"
      ]
     },
     "execution_count": 22,
     "metadata": {},
     "output_type": "execute_result"
    }
   ],
   "source": [
    "len(interactions[(interactions.duplicated(['user_id','track_id']) == True)])"
   ]
  },
  {
   "cell_type": "code",
   "execution_count": 26,
   "id": "b96204c5-724f-4166-96d3-d07ec8c63ed7",
   "metadata": {},
   "outputs": [
    {
     "data": {
      "text/html": [
       "<div>\n",
       "<style scoped>\n",
       "    .dataframe tbody tr th:only-of-type {\n",
       "        vertical-align: middle;\n",
       "    }\n",
       "\n",
       "    .dataframe tbody tr th {\n",
       "        vertical-align: top;\n",
       "    }\n",
       "\n",
       "    .dataframe thead th {\n",
       "        text-align: right;\n",
       "    }\n",
       "</style>\n",
       "<table border=\"1\" class=\"dataframe\">\n",
       "  <thead>\n",
       "    <tr style=\"text-align: right;\">\n",
       "      <th></th>\n",
       "      <th>user_id</th>\n",
       "      <th>track_id</th>\n",
       "      <th>track_seq</th>\n",
       "      <th>started_at</th>\n",
       "    </tr>\n",
       "  </thead>\n",
       "  <tbody>\n",
       "    <tr>\n",
       "      <th>count</th>\n",
       "      <td>2.226299e+08</td>\n",
       "      <td>2.226299e+08</td>\n",
       "      <td>2.226299e+08</td>\n",
       "      <td>222629898</td>\n",
       "    </tr>\n",
       "    <tr>\n",
       "      <th>mean</th>\n",
       "      <td>6.875767e+05</td>\n",
       "      <td>3.653622e+07</td>\n",
       "      <td>4.621403e+02</td>\n",
       "      <td>2022-08-29 16:39:44.541336320</td>\n",
       "    </tr>\n",
       "    <tr>\n",
       "      <th>min</th>\n",
       "      <td>0.000000e+00</td>\n",
       "      <td>2.600000e+01</td>\n",
       "      <td>1.000000e+00</td>\n",
       "      <td>2022-01-01 00:00:00</td>\n",
       "    </tr>\n",
       "    <tr>\n",
       "      <th>25%</th>\n",
       "      <td>3.433710e+05</td>\n",
       "      <td>1.480849e+07</td>\n",
       "      <td>5.600000e+01</td>\n",
       "      <td>2022-07-02 00:00:00</td>\n",
       "    </tr>\n",
       "    <tr>\n",
       "      <th>50%</th>\n",
       "      <td>6.879730e+05</td>\n",
       "      <td>3.552474e+07</td>\n",
       "      <td>1.810000e+02</td>\n",
       "      <td>2022-09-15 00:00:00</td>\n",
       "    </tr>\n",
       "    <tr>\n",
       "      <th>75%</th>\n",
       "      <td>1.031127e+06</td>\n",
       "      <td>5.651137e+07</td>\n",
       "      <td>5.060000e+02</td>\n",
       "      <td>2022-11-09 00:00:00</td>\n",
       "    </tr>\n",
       "    <tr>\n",
       "      <th>max</th>\n",
       "      <td>1.374582e+06</td>\n",
       "      <td>1.015218e+08</td>\n",
       "      <td>1.663700e+04</td>\n",
       "      <td>2022-12-31 00:00:00</td>\n",
       "    </tr>\n",
       "    <tr>\n",
       "      <th>std</th>\n",
       "      <td>3.969033e+05</td>\n",
       "      <td>2.661782e+07</td>\n",
       "      <td>8.257312e+02</td>\n",
       "      <td>NaN</td>\n",
       "    </tr>\n",
       "  </tbody>\n",
       "</table>\n",
       "</div>"
      ],
      "text/plain": [
       "            user_id      track_id     track_seq                     started_at\n",
       "count  2.226299e+08  2.226299e+08  2.226299e+08                      222629898\n",
       "mean   6.875767e+05  3.653622e+07  4.621403e+02  2022-08-29 16:39:44.541336320\n",
       "min    0.000000e+00  2.600000e+01  1.000000e+00            2022-01-01 00:00:00\n",
       "25%    3.433710e+05  1.480849e+07  5.600000e+01            2022-07-02 00:00:00\n",
       "50%    6.879730e+05  3.552474e+07  1.810000e+02            2022-09-15 00:00:00\n",
       "75%    1.031127e+06  5.651137e+07  5.060000e+02            2022-11-09 00:00:00\n",
       "max    1.374582e+06  1.015218e+08  1.663700e+04            2022-12-31 00:00:00\n",
       "std    3.969033e+05  2.661782e+07  8.257312e+02                            NaN"
      ]
     },
     "execution_count": 26,
     "metadata": {},
     "output_type": "execute_result"
    }
   ],
   "source": [
    "interactions.describe(include='all')"
   ]
  },
  {
   "cell_type": "code",
   "execution_count": 26,
   "id": "7361aa26-1db6-43da-9d44-51dc2362a25b",
   "metadata": {},
   "outputs": [
    {
     "data": {
      "text/plain": [
       "'Неизвестных(не каталожных) треков от общего количества:3.55%'"
      ]
     },
     "metadata": {},
     "output_type": "display_data"
    }
   ],
   "source": [
    "# все ли треки с которыми взаимодействовали, есть в справочнике.\n",
    "\n",
    "missing_tracks = interactions[~interactions['track_id'].isin(tracks['track_id'])]\n",
    "count_tracks = len(interactions['track_id'])\n",
    "display('Неизвестных(не каталожных) треков от общего количества:'f'{len(missing_tracks)/count_tracks:.2%}')"
   ]
  },
  {
   "cell_type": "markdown",
   "id": "045ce1d6-64af-44e8-9410-655224324f6e",
   "metadata": {},
   "source": [
    "Процент треков которых нет в tracks мал, удаляю без сожаления."
   ]
  },
  {
   "cell_type": "code",
   "execution_count": 27,
   "id": "00eeed6c-01e9-4d59-8439-c75380c69185",
   "metadata": {},
   "outputs": [
    {
     "name": "stdout",
     "output_type": "stream",
     "text": [
      "Количество треков после удаления неизвестных: 214720738\n"
     ]
    }
   ],
   "source": [
    "interactions = interactions[~interactions['track_id'].isin(missing_tracks['track_id'])]\n",
    "\n",
    "# Проверяем количество треков после удаления\n",
    "print(f'Количество треков после удаления неизвестных: {len(interactions)}')"
   ]
  },
  {
   "cell_type": "markdown",
   "id": "318b573a-9e2d-4808-95db-60cfb8bbdb73",
   "metadata": {
    "editable": true,
    "slideshow": {
     "slide_type": ""
    },
    "tags": []
   },
   "source": [
    "# Выводы"
   ]
  },
  {
   "cell_type": "markdown",
   "id": "caa96e12-36a8-4401-8f11-98627a49ae9d",
   "metadata": {},
   "source": [
    "Приведём выводы по первому знакомству с данными:\n",
    "- есть ли с данными явные проблемы,\n",
    "- какие корректирующие действия (в целом) были предприняты."
   ]
  },
  {
   "cell_type": "markdown",
   "id": "f48980c0-c48e-41f2-ab0b-471768694473",
   "metadata": {},
   "source": [
    "1. **В датасете tracks в 15369 треков с неизвестным исполнителем, 3687 с неизвестным жанром и 18 с неизвестным альбомом. Всего процент потерянных данных составил 1.9%, поэтому принято решение их удалить. Также обнаружено что у 4.9% треков невозможно идентифицировать название жанра. Также удалены.**\n",
    "2. **В датасете catalog_names задублированных значений по связке тип и наименование всего 689769. Оценочно это порядка 38% данных. Причина появления дубликатов не известна, не похоже на ошибку сбора информации. Полагаю удалять не следует.**\n",
    "3. **В датасете interactions небольшой процент треков отсутствует в каталоге треков. Удалил.**"
   ]
  },
  {
   "cell_type": "markdown",
   "id": "7bc3296b-eba6-4333-a78d-b9304aa87e3d",
   "metadata": {},
   "source": [
    "# === ЭТАП 2 ==="
   ]
  },
  {
   "cell_type": "markdown",
   "id": "68e73960-fd38-4e15-8db0-9a25c35dfd25",
   "metadata": {},
   "source": [
    "# EDA"
   ]
  },
  {
   "cell_type": "markdown",
   "id": "a30e823e-8e0f-4a76-a02e-8d1ba8bf0f8a",
   "metadata": {},
   "source": [
    "### Распределение количества прослушанных треков."
   ]
  },
  {
   "cell_type": "code",
   "execution_count": 191,
   "id": "3cc5c42e-d448-4d0d-8280-dab461d1ac33",
   "metadata": {},
   "outputs": [
    {
     "data": {
      "text/html": [
       "<div>\n",
       "<style scoped>\n",
       "    .dataframe tbody tr th:only-of-type {\n",
       "        vertical-align: middle;\n",
       "    }\n",
       "\n",
       "    .dataframe tbody tr th {\n",
       "        vertical-align: top;\n",
       "    }\n",
       "\n",
       "    .dataframe thead th {\n",
       "        text-align: right;\n",
       "    }\n",
       "</style>\n",
       "<table border=\"1\" class=\"dataframe\">\n",
       "  <thead>\n",
       "    <tr style=\"text-align: right;\">\n",
       "      <th></th>\n",
       "      <th>user_id</th>\n",
       "      <th>track_id</th>\n",
       "      <th>track_seq</th>\n",
       "      <th>started_at</th>\n",
       "    </tr>\n",
       "  </thead>\n",
       "  <tbody>\n",
       "    <tr>\n",
       "      <th>0</th>\n",
       "      <td>0</td>\n",
       "      <td>99262</td>\n",
       "      <td>1</td>\n",
       "      <td>2022-07-17</td>\n",
       "    </tr>\n",
       "    <tr>\n",
       "      <th>1</th>\n",
       "      <td>0</td>\n",
       "      <td>589498</td>\n",
       "      <td>2</td>\n",
       "      <td>2022-07-19</td>\n",
       "    </tr>\n",
       "    <tr>\n",
       "      <th>2</th>\n",
       "      <td>0</td>\n",
       "      <td>590262</td>\n",
       "      <td>3</td>\n",
       "      <td>2022-07-21</td>\n",
       "    </tr>\n",
       "    <tr>\n",
       "      <th>3</th>\n",
       "      <td>0</td>\n",
       "      <td>590303</td>\n",
       "      <td>4</td>\n",
       "      <td>2022-07-22</td>\n",
       "    </tr>\n",
       "    <tr>\n",
       "      <th>4</th>\n",
       "      <td>0</td>\n",
       "      <td>590692</td>\n",
       "      <td>5</td>\n",
       "      <td>2022-07-22</td>\n",
       "    </tr>\n",
       "  </tbody>\n",
       "</table>\n",
       "</div>"
      ],
      "text/plain": [
       "   user_id  track_id  track_seq started_at\n",
       "0        0     99262          1 2022-07-17\n",
       "1        0    589498          2 2022-07-19\n",
       "2        0    590262          3 2022-07-21\n",
       "3        0    590303          4 2022-07-22\n",
       "4        0    590692          5 2022-07-22"
      ]
     },
     "execution_count": 191,
     "metadata": {},
     "output_type": "execute_result"
    }
   ],
   "source": [
    "interactions.head()"
   ]
  },
  {
   "cell_type": "code",
   "execution_count": 192,
   "id": "9d0a1386-9cdb-42f7-9236-d7f0adf0914f",
   "metadata": {},
   "outputs": [
    {
     "name": "stdout",
     "output_type": "stream",
     "text": [
      "Количество уникальных пользователей:1372042\n"
     ]
    }
   ],
   "source": [
    "print('Количество уникальных пользователей:{}'. format(interactions['user_id'].nunique()))"
   ]
  },
  {
   "cell_type": "code",
   "execution_count": 29,
   "id": "b6c84283-696f-4c90-87fb-b1efa4883d56",
   "metadata": {},
   "outputs": [],
   "source": [
    "user_share_per_track = (\n",
    "    interactions.groupby('user_id').agg(user_share=('track_id', 'count'))\n",
    ")"
   ]
  },
  {
   "cell_type": "code",
   "execution_count": 30,
   "id": "de67b95b-ec26-41f0-9bf2-f4ce0c528631",
   "metadata": {},
   "outputs": [
    {
     "data": {
      "text/html": [
       "<div>\n",
       "<style scoped>\n",
       "    .dataframe tbody tr th:only-of-type {\n",
       "        vertical-align: middle;\n",
       "    }\n",
       "\n",
       "    .dataframe tbody tr th {\n",
       "        vertical-align: top;\n",
       "    }\n",
       "\n",
       "    .dataframe thead th {\n",
       "        text-align: right;\n",
       "    }\n",
       "</style>\n",
       "<table border=\"1\" class=\"dataframe\">\n",
       "  <thead>\n",
       "    <tr style=\"text-align: right;\">\n",
       "      <th></th>\n",
       "      <th>user_share</th>\n",
       "    </tr>\n",
       "  </thead>\n",
       "  <tbody>\n",
       "    <tr>\n",
       "      <th>count</th>\n",
       "      <td>1372042</td>\n",
       "    </tr>\n",
       "    <tr>\n",
       "      <th>mean</th>\n",
       "      <td>156</td>\n",
       "    </tr>\n",
       "    <tr>\n",
       "      <th>std</th>\n",
       "      <td>335</td>\n",
       "    </tr>\n",
       "    <tr>\n",
       "      <th>min</th>\n",
       "      <td>1</td>\n",
       "    </tr>\n",
       "    <tr>\n",
       "      <th>25%</th>\n",
       "      <td>22</td>\n",
       "    </tr>\n",
       "    <tr>\n",
       "      <th>50%</th>\n",
       "      <td>54</td>\n",
       "    </tr>\n",
       "    <tr>\n",
       "      <th>75%</th>\n",
       "      <td>149</td>\n",
       "    </tr>\n",
       "    <tr>\n",
       "      <th>max</th>\n",
       "      <td>16609</td>\n",
       "    </tr>\n",
       "  </tbody>\n",
       "</table>\n",
       "</div>"
      ],
      "text/plain": [
       "       user_share\n",
       "count     1372042\n",
       "mean          156\n",
       "std           335\n",
       "min             1\n",
       "25%            22\n",
       "50%            54\n",
       "75%           149\n",
       "max         16609"
      ]
     },
     "execution_count": 30,
     "metadata": {},
     "output_type": "execute_result"
    }
   ],
   "source": [
    "user_share_per_track.describe().astype('int')"
   ]
  },
  {
   "cell_type": "code",
   "execution_count": 31,
   "id": "e8a3da8c-2918-4017-9228-8d543cd330b4",
   "metadata": {},
   "outputs": [
    {
     "data": {
      "image/png": "[encoded data removed]",
      "text/plain": [
       "<Figure size 1000x500 with 1 Axes>"
      ]
     },
     "metadata": {
      "image/png": {
       "height": 450,
       "width": 868
      }
     },
     "output_type": "display_data"
    }
   ],
   "source": [
    "plt.boxplot(user_share_per_track)\n",
    "plt.ylabel('Значения')\n",
    "plt.title('Анализ выбросов')\n",
    "plt.show()"
   ]
  },
  {
   "cell_type": "markdown",
   "id": "58a1422d-efff-4e3e-9aac-5ccec4e47e3d",
   "metadata": {},
   "source": [
    "Юзеры слушают музыку крайне неравномерно. в среднем получается 156 трек на юзера, но очевидно что есть те кто очень мало слушают, а есть кто просто обожает музыку, поэтому медианное значение - 54."
   ]
  },
  {
   "cell_type": "markdown",
   "id": "d765519a-18dd-4d30-9e29-cc2d84cacd79",
   "metadata": {},
   "source": [
    "### Наиболее популярные треки"
   ]
  },
  {
   "cell_type": "code",
   "execution_count": 32,
   "id": "aecaf630-fde0-4860-b84a-42c933a9606e",
   "metadata": {},
   "outputs": [
    {
     "data": {
      "text/html": [
       "<div>\n",
       "<style scoped>\n",
       "    .dataframe tbody tr th:only-of-type {\n",
       "        vertical-align: middle;\n",
       "    }\n",
       "\n",
       "    .dataframe tbody tr th {\n",
       "        vertical-align: top;\n",
       "    }\n",
       "\n",
       "    .dataframe thead th {\n",
       "        text-align: right;\n",
       "    }\n",
       "</style>\n",
       "<table border=\"1\" class=\"dataframe\">\n",
       "  <thead>\n",
       "    <tr style=\"text-align: right;\">\n",
       "      <th></th>\n",
       "      <th>track_id</th>\n",
       "      <th>listen_count</th>\n",
       "    </tr>\n",
       "  </thead>\n",
       "  <tbody>\n",
       "    <tr>\n",
       "      <th>count</th>\n",
       "      <td>932664</td>\n",
       "      <td>932664</td>\n",
       "    </tr>\n",
       "    <tr>\n",
       "      <th>mean</th>\n",
       "      <td>36856155</td>\n",
       "      <td>230</td>\n",
       "    </tr>\n",
       "    <tr>\n",
       "      <th>std</th>\n",
       "      <td>26708650</td>\n",
       "      <td>1404</td>\n",
       "    </tr>\n",
       "    <tr>\n",
       "      <th>min</th>\n",
       "      <td>26</td>\n",
       "      <td>5</td>\n",
       "    </tr>\n",
       "    <tr>\n",
       "      <th>25%</th>\n",
       "      <td>15736193</td>\n",
       "      <td>9</td>\n",
       "    </tr>\n",
       "    <tr>\n",
       "      <th>50%</th>\n",
       "      <td>34494959</td>\n",
       "      <td>19</td>\n",
       "    </tr>\n",
       "    <tr>\n",
       "      <th>75%</th>\n",
       "      <td>56726760</td>\n",
       "      <td>69</td>\n",
       "    </tr>\n",
       "    <tr>\n",
       "      <th>max</th>\n",
       "      <td>101521819</td>\n",
       "      <td>111062</td>\n",
       "    </tr>\n",
       "  </tbody>\n",
       "</table>\n",
       "</div>"
      ],
      "text/plain": [
       "        track_id  listen_count\n",
       "count     932664        932664\n",
       "mean    36856155           230\n",
       "std     26708650          1404\n",
       "min           26             5\n",
       "25%     15736193             9\n",
       "50%     34494959            19\n",
       "75%     56726760            69\n",
       "max    101521819        111062"
      ]
     },
     "execution_count": 32,
     "metadata": {},
     "output_type": "execute_result"
    }
   ],
   "source": [
    "# Распределение количества прослушанных треков, как часто прослушивают тот или иной трек.\n",
    "track_counts = interactions['track_id'].value_counts().reset_index()\n",
    "track_counts.columns = ['track_id', 'listen_count']\n",
    "track_counts.describe().astype('int')"
   ]
  },
  {
   "cell_type": "code",
   "execution_count": 33,
   "id": "d5420c9d-9b36-4cb2-9dc5-8b3d0dd643d4",
   "metadata": {},
   "outputs": [
    {
     "data": {
      "image/png": "[encoded data removed]",
      "text/plain": [
       "<Figure size 1000x500 with 1 Axes>"
      ]
     },
     "metadata": {
      "image/png": {
       "height": 429,
       "width": 857
      }
     },
     "output_type": "display_data"
    }
   ],
   "source": [
    "track_counts.boxplot(column = 'listen_count');"
   ]
  },
  {
   "cell_type": "code",
   "execution_count": 34,
   "id": "e172fe7f-cb0a-461d-8f26-447f53b5594a",
   "metadata": {},
   "outputs": [
    {
     "data": {
      "text/plain": [
       "Text(0, 0.5, 'Количество')"
      ]
     },
     "execution_count": 34,
     "metadata": {},
     "output_type": "execute_result"
    },
    {
     "data": {
      "image/png": "[encoded data removed]",
      "text/plain": [
       "<Figure size 1200x800 with 1 Axes>"
      ]
     },
     "metadata": {
      "image/png": {
       "height": 700,
       "width": 1014
      }
     },
     "output_type": "display_data"
    }
   ],
   "source": [
    "fig, ax = plt.subplots(figsize=(12, 8))\n",
    "ax = track_counts['track_id'].plot(kind='hist', bins=30, range=(5,111062), title='Распределение количества прослушанных треков', grid=True)\n",
    "ax.set_xlabel('Количество прослушиваний')\n",
    "ax.set_ylabel('Количество')"
   ]
  },
  {
   "cell_type": "markdown",
   "id": "bb28f9eb-5a56-4d9a-bf18-c6a809fb8aff",
   "metadata": {},
   "source": [
    "Тут очевидно тоже неравномерно, в среднем один трек прослушан 230 раз, но есть супер популярные треки, поэтому медиана 19."
   ]
  },
  {
   "cell_type": "code",
   "execution_count": 35,
   "id": "2a50172e-be05-455f-b614-8481d1929d36",
   "metadata": {},
   "outputs": [
    {
     "data": {
      "image/png": "[encoded data removed]",
      "text/plain": [
       "<Figure size 1000x600 with 1 Axes>"
      ]
     },
     "metadata": {
      "image/png": {
       "height": 547,
       "width": 979
      }
     },
     "output_type": "display_data"
    }
   ],
   "source": [
    "# объединяю с таблицей catalog_names, чтобы получить названия треков\n",
    "popular_tracks = track_counts.merge(catalog_names, left_on='track_id', right_on='id', how='left')\n",
    "\n",
    "# визуализация\n",
    "plt.figure(figsize=(10, 6))\n",
    "sns.barplot(data=popular_tracks.head(10), x='listen_count', y='name')\n",
    "plt.title('10 наиболее популярных треков')\n",
    "plt.xlabel('Количество прослушиваний')\n",
    "plt.ylabel('Треки')\n",
    "plt.grid()\n",
    "plt.show()"
   ]
  },
  {
   "cell_type": "markdown",
   "id": "b1c32a5a-d3be-4f96-8dd9-f7860951020c",
   "metadata": {},
   "source": [
    "### Наиболее популярные жанры"
   ]
  },
  {
   "cell_type": "code",
   "execution_count": 36,
   "id": "1bc50491-9235-4d3c-a6c2-297f7c05a959",
   "metadata": {},
   "outputs": [],
   "source": [
    "# объединим track_counts и interactions по track_id\n",
    "merged_data = track_counts.merge(tracks, on='track_id', how='left')"
   ]
  },
  {
   "cell_type": "code",
   "execution_count": 37,
   "id": "9e9963cf-4235-472f-ad95-5d52812c0277",
   "metadata": {},
   "outputs": [
    {
     "data": {
      "text/html": [
       "<div>\n",
       "<style scoped>\n",
       "    .dataframe tbody tr th:only-of-type {\n",
       "        vertical-align: middle;\n",
       "    }\n",
       "\n",
       "    .dataframe tbody tr th {\n",
       "        vertical-align: top;\n",
       "    }\n",
       "\n",
       "    .dataframe thead th {\n",
       "        text-align: right;\n",
       "    }\n",
       "</style>\n",
       "<table border=\"1\" class=\"dataframe\">\n",
       "  <thead>\n",
       "    <tr style=\"text-align: right;\">\n",
       "      <th></th>\n",
       "      <th>track_id</th>\n",
       "      <th>listen_count</th>\n",
       "      <th>albums</th>\n",
       "      <th>artists</th>\n",
       "      <th>genres</th>\n",
       "    </tr>\n",
       "  </thead>\n",
       "  <tbody>\n",
       "    <tr>\n",
       "      <th>0</th>\n",
       "      <td>53404</td>\n",
       "      <td>111062</td>\n",
       "      <td>[4367, 89708, 294911, 294912, 294914, 297393, ...</td>\n",
       "      <td>[9262]</td>\n",
       "      <td>[13, 14, 102]</td>\n",
       "    </tr>\n",
       "    <tr>\n",
       "      <th>1</th>\n",
       "      <td>33311009</td>\n",
       "      <td>106921</td>\n",
       "      <td>[4440454, 4456609, 4482682, 4882996, 5072976, ...</td>\n",
       "      <td>[675068]</td>\n",
       "      <td>[14, 102]</td>\n",
       "    </tr>\n",
       "    <tr>\n",
       "      <th>2</th>\n",
       "      <td>178529</td>\n",
       "      <td>101924</td>\n",
       "      <td>[18113, 21924, 21940, 488052, 10009799]</td>\n",
       "      <td>[36800]</td>\n",
       "      <td>[41, 47]</td>\n",
       "    </tr>\n",
       "    <tr>\n",
       "      <th>3</th>\n",
       "      <td>35505245</td>\n",
       "      <td>99490</td>\n",
       "      <td>[4431303, 20559909]</td>\n",
       "      <td>[4611844, 588511]</td>\n",
       "      <td>[3, 75]</td>\n",
       "    </tr>\n",
       "    <tr>\n",
       "      <th>4</th>\n",
       "      <td>65851540</td>\n",
       "      <td>86670</td>\n",
       "      <td>[10692414]</td>\n",
       "      <td>[1554548]</td>\n",
       "      <td>[11, 20]</td>\n",
       "    </tr>\n",
       "  </tbody>\n",
       "</table>\n",
       "</div>"
      ],
      "text/plain": [
       "   track_id  listen_count                                             albums  \\\n",
       "0     53404        111062  [4367, 89708, 294911, 294912, 294914, 297393, ...   \n",
       "1  33311009        106921  [4440454, 4456609, 4482682, 4882996, 5072976, ...   \n",
       "2    178529        101924            [18113, 21924, 21940, 488052, 10009799]   \n",
       "3  35505245         99490                                [4431303, 20559909]   \n",
       "4  65851540         86670                                         [10692414]   \n",
       "\n",
       "             artists         genres  \n",
       "0             [9262]  [13, 14, 102]  \n",
       "1           [675068]      [14, 102]  \n",
       "2            [36800]       [41, 47]  \n",
       "3  [4611844, 588511]        [3, 75]  \n",
       "4          [1554548]       [11, 20]  "
      ]
     },
     "execution_count": 37,
     "metadata": {},
     "output_type": "execute_result"
    }
   ],
   "source": [
    "merged_data.head()"
   ]
  },
  {
   "cell_type": "code",
   "execution_count": 38,
   "id": "977c9797-b3ef-4bbe-993a-3b4cf03b4ea0",
   "metadata": {},
   "outputs": [],
   "source": [
    "# cоздаем DataFrame для подсчета жанров\n",
    "genres_count = merged_data.explode('genres')"
   ]
  },
  {
   "cell_type": "code",
   "execution_count": 39,
   "id": "2c46ac47-5265-47c6-bd3b-a248683c0427",
   "metadata": {},
   "outputs": [],
   "source": [
    "# бережем машину\n",
    "del track_counts\n",
    "del merged_data"
   ]
  },
  {
   "cell_type": "code",
   "execution_count": 40,
   "id": "59073be1-02ae-4347-be97-9f5ee8610123",
   "metadata": {},
   "outputs": [
    {
     "data": {
      "text/html": [
       "<div>\n",
       "<style scoped>\n",
       "    .dataframe tbody tr th:only-of-type {\n",
       "        vertical-align: middle;\n",
       "    }\n",
       "\n",
       "    .dataframe tbody tr th {\n",
       "        vertical-align: top;\n",
       "    }\n",
       "\n",
       "    .dataframe thead th {\n",
       "        text-align: right;\n",
       "    }\n",
       "</style>\n",
       "<table border=\"1\" class=\"dataframe\">\n",
       "  <thead>\n",
       "    <tr style=\"text-align: right;\">\n",
       "      <th></th>\n",
       "      <th>track_id</th>\n",
       "      <th>listen_count</th>\n",
       "      <th>albums</th>\n",
       "      <th>artists</th>\n",
       "      <th>genres</th>\n",
       "    </tr>\n",
       "  </thead>\n",
       "  <tbody>\n",
       "    <tr>\n",
       "      <th>0</th>\n",
       "      <td>53404</td>\n",
       "      <td>111062</td>\n",
       "      <td>[4367, 89708, 294911, 294912, 294914, 297393, ...</td>\n",
       "      <td>[9262]</td>\n",
       "      <td>13</td>\n",
       "    </tr>\n",
       "    <tr>\n",
       "      <th>0</th>\n",
       "      <td>53404</td>\n",
       "      <td>111062</td>\n",
       "      <td>[4367, 89708, 294911, 294912, 294914, 297393, ...</td>\n",
       "      <td>[9262]</td>\n",
       "      <td>14</td>\n",
       "    </tr>\n",
       "    <tr>\n",
       "      <th>0</th>\n",
       "      <td>53404</td>\n",
       "      <td>111062</td>\n",
       "      <td>[4367, 89708, 294911, 294912, 294914, 297393, ...</td>\n",
       "      <td>[9262]</td>\n",
       "      <td>102</td>\n",
       "    </tr>\n",
       "    <tr>\n",
       "      <th>1</th>\n",
       "      <td>33311009</td>\n",
       "      <td>106921</td>\n",
       "      <td>[4440454, 4456609, 4482682, 4882996, 5072976, ...</td>\n",
       "      <td>[675068]</td>\n",
       "      <td>14</td>\n",
       "    </tr>\n",
       "    <tr>\n",
       "      <th>1</th>\n",
       "      <td>33311009</td>\n",
       "      <td>106921</td>\n",
       "      <td>[4440454, 4456609, 4482682, 4882996, 5072976, ...</td>\n",
       "      <td>[675068]</td>\n",
       "      <td>102</td>\n",
       "    </tr>\n",
       "  </tbody>\n",
       "</table>\n",
       "</div>"
      ],
      "text/plain": [
       "   track_id  listen_count                                             albums  \\\n",
       "0     53404        111062  [4367, 89708, 294911, 294912, 294914, 297393, ...   \n",
       "0     53404        111062  [4367, 89708, 294911, 294912, 294914, 297393, ...   \n",
       "0     53404        111062  [4367, 89708, 294911, 294912, 294914, 297393, ...   \n",
       "1  33311009        106921  [4440454, 4456609, 4482682, 4882996, 5072976, ...   \n",
       "1  33311009        106921  [4440454, 4456609, 4482682, 4882996, 5072976, ...   \n",
       "\n",
       "    artists genres  \n",
       "0    [9262]     13  \n",
       "0    [9262]     14  \n",
       "0    [9262]    102  \n",
       "1  [675068]     14  \n",
       "1  [675068]    102  "
      ]
     },
     "execution_count": 40,
     "metadata": {},
     "output_type": "execute_result"
    }
   ],
   "source": [
    "genres_count.head()"
   ]
  },
  {
   "cell_type": "code",
   "execution_count": 41,
   "id": "cb540f1b-248d-4870-8fcb-a4ee2c52170b",
   "metadata": {},
   "outputs": [],
   "source": [
    "# подсчитаем жанры\n",
    "popular_genres = genres_count['genres'].value_counts().reset_index()\n",
    "popular_genres.columns = ['genre_id', 'listen_count']"
   ]
  },
  {
   "cell_type": "code",
   "execution_count": 42,
   "id": "27ee1ffd-619b-4729-8757-73d71726b00c",
   "metadata": {},
   "outputs": [],
   "source": [
    "# создадим датафрейм с наименованиями жанров\n",
    "genre_names = catalog_names.query('type == \"genre\"')"
   ]
  },
  {
   "cell_type": "code",
   "execution_count": 43,
   "id": "d11481a0-93f5-4989-adc0-f54b6a30391e",
   "metadata": {},
   "outputs": [],
   "source": [
    "# получим названия жанров\n",
    "popular_genres = pd.merge(\n",
    "    popular_genres, genre_names, how='left', left_on='genre_id', right_on='id'\n",
    ")"
   ]
  },
  {
   "cell_type": "code",
   "execution_count": 44,
   "id": "8ff16770-f83a-4163-9a5b-e67f9d52db0b",
   "metadata": {},
   "outputs": [],
   "source": [
    "popular_genres.drop(['id'], axis= 1 , inplace= True )"
   ]
  },
  {
   "cell_type": "code",
   "execution_count": 45,
   "id": "a56d0bf1-ded4-43bc-9b82-c6ffd1373e02",
   "metadata": {},
   "outputs": [
    {
     "data": {
      "text/html": [
       "<div>\n",
       "<style scoped>\n",
       "    .dataframe tbody tr th:only-of-type {\n",
       "        vertical-align: middle;\n",
       "    }\n",
       "\n",
       "    .dataframe tbody tr th {\n",
       "        vertical-align: top;\n",
       "    }\n",
       "\n",
       "    .dataframe thead th {\n",
       "        text-align: right;\n",
       "    }\n",
       "</style>\n",
       "<table border=\"1\" class=\"dataframe\">\n",
       "  <thead>\n",
       "    <tr style=\"text-align: right;\">\n",
       "      <th></th>\n",
       "      <th>genre_id</th>\n",
       "      <th>listen_count</th>\n",
       "      <th>type</th>\n",
       "      <th>name</th>\n",
       "    </tr>\n",
       "  </thead>\n",
       "  <tbody>\n",
       "    <tr>\n",
       "      <th>0</th>\n",
       "      <td>11</td>\n",
       "      <td>166109</td>\n",
       "      <td>genre</td>\n",
       "      <td>pop</td>\n",
       "    </tr>\n",
       "    <tr>\n",
       "      <th>1</th>\n",
       "      <td>75</td>\n",
       "      <td>128206</td>\n",
       "      <td>genre</td>\n",
       "      <td>rap</td>\n",
       "    </tr>\n",
       "    <tr>\n",
       "      <th>2</th>\n",
       "      <td>102</td>\n",
       "      <td>118461</td>\n",
       "      <td>genre</td>\n",
       "      <td>allrock</td>\n",
       "    </tr>\n",
       "    <tr>\n",
       "      <th>3</th>\n",
       "      <td>68</td>\n",
       "      <td>106478</td>\n",
       "      <td>genre</td>\n",
       "      <td>electronics</td>\n",
       "    </tr>\n",
       "    <tr>\n",
       "      <th>4</th>\n",
       "      <td>3</td>\n",
       "      <td>65958</td>\n",
       "      <td>genre</td>\n",
       "      <td>rusrap</td>\n",
       "    </tr>\n",
       "  </tbody>\n",
       "</table>\n",
       "</div>"
      ],
      "text/plain": [
       "   genre_id  listen_count   type         name\n",
       "0        11        166109  genre          pop\n",
       "1        75        128206  genre          rap\n",
       "2       102        118461  genre      allrock\n",
       "3        68        106478  genre  electronics\n",
       "4         3         65958  genre       rusrap"
      ]
     },
     "execution_count": 45,
     "metadata": {},
     "output_type": "execute_result"
    }
   ],
   "source": [
    "popular_genres.head()"
   ]
  },
  {
   "cell_type": "code",
   "execution_count": 46,
   "id": "1adf9350-f536-4190-acd6-3d927c9876ca",
   "metadata": {},
   "outputs": [
    {
     "data": {
      "image/png": "[encoded data removed]",
      "text/plain": [
       "<Figure size 1000x600 with 1 Axes>"
      ]
     },
     "metadata": {
      "image/png": {
       "height": 547,
       "width": 899
      }
     },
     "output_type": "display_data"
    }
   ],
   "source": [
    "# визуализация\n",
    "plt.figure(figsize=(10, 6))\n",
    "sns.barplot(data=popular_genres.head(10), x='listen_count', y='name')\n",
    "plt.title('10 наиболее популярных жанров')\n",
    "plt.xlabel('Количество прослушиваний')\n",
    "plt.ylabel('Жанры')\n",
    "plt.grid()\n",
    "plt.show()"
   ]
  },
  {
   "cell_type": "markdown",
   "id": "44480fd1-becf-48d3-a3dd-6c870fc46b7b",
   "metadata": {},
   "source": [
    "Как то неожиданно (нет) самымым популярным оказался жанр \"pop\"."
   ]
  },
  {
   "cell_type": "code",
   "execution_count": 47,
   "id": "66412428-7b4f-417d-b042-35e9f84c4808",
   "metadata": {},
   "outputs": [],
   "source": [
    "del popular_genres"
   ]
  },
  {
   "cell_type": "markdown",
   "id": "15254e66-e80e-473b-ba24-abebea5ccac7",
   "metadata": {},
   "source": [
    "### Треки, которые никто не прослушал"
   ]
  },
  {
   "cell_type": "code",
   "execution_count": 48,
   "id": "50bc50c6-2d83-4c7e-97fa-3e7627978438",
   "metadata": {},
   "outputs": [
    {
     "name": "stdout",
     "output_type": "stream",
     "text": [
      "Треки, которые никто не прослушал:\n",
      "Empty DataFrame\n",
      "Columns: [track_id, albums, artists, genres]\n",
      "Index: []\n"
     ]
    }
   ],
   "source": [
    "# gолучаем треки, которые не были прослушаны\n",
    "unlistened_tracks = tracks[~tracks['track_id'].isin(interactions['track_id'])]\n",
    "\n",
    "print(\"Треки, которые никто не прослушал:\")\n",
    "print(unlistened_tracks)"
   ]
  },
  {
   "cell_type": "markdown",
   "id": "9799d3bc-0063-44fe-8034-ca758172748a",
   "metadata": {},
   "source": [
    "Честно говоря уже при подсчете количества прослушивания треков было понятно не прослушанных треков нет, минимальное количество прослушиваний трека равно 5."
   ]
  },
  {
   "cell_type": "markdown",
   "id": "0d850a07-ef1e-462f-891a-1cf89f2e24ef",
   "metadata": {},
   "source": [
    "# Преобразование данных"
   ]
  },
  {
   "cell_type": "markdown",
   "id": "fabcf8d2-1192-4df5-b20b-fbb84689f57a",
   "metadata": {},
   "source": [
    "### Преобразуем данные в формат, более пригодный для дальнейшего использования в расчётах рекомендаций."
   ]
  },
  {
   "cell_type": "markdown",
   "id": "09ad9330-4de7-4ac1-b2d2-065daa0eb8f0",
   "metadata": {},
   "source": [
    "Проверю какие ресурсы тебует датафрейм tracks и пожалуй преобразую тип идентификаторов в int32 и кортеж."
   ]
  },
  {
   "cell_type": "code",
   "execution_count": 49,
   "id": "610ded22-390c-4cc1-a395-260e8c84ae94",
   "metadata": {},
   "outputs": [
    {
     "data": {
      "text/html": [
       "<div>\n",
       "<style scoped>\n",
       "    .dataframe tbody tr th:only-of-type {\n",
       "        vertical-align: middle;\n",
       "    }\n",
       "\n",
       "    .dataframe tbody tr th {\n",
       "        vertical-align: top;\n",
       "    }\n",
       "\n",
       "    .dataframe thead th {\n",
       "        text-align: right;\n",
       "    }\n",
       "</style>\n",
       "<table border=\"1\" class=\"dataframe\">\n",
       "  <thead>\n",
       "    <tr style=\"text-align: right;\">\n",
       "      <th></th>\n",
       "      <th>track_id</th>\n",
       "      <th>albums</th>\n",
       "      <th>artists</th>\n",
       "      <th>genres</th>\n",
       "    </tr>\n",
       "  </thead>\n",
       "  <tbody>\n",
       "    <tr>\n",
       "      <th>424540</th>\n",
       "      <td>31821452</td>\n",
       "      <td>[3865332]</td>\n",
       "      <td>[167049]</td>\n",
       "      <td>[19, 325]</td>\n",
       "    </tr>\n",
       "    <tr>\n",
       "      <th>678382</th>\n",
       "      <td>53997809</td>\n",
       "      <td>[7751935, 7751948]</td>\n",
       "      <td>[1545255]</td>\n",
       "      <td>[13]</td>\n",
       "    </tr>\n",
       "    <tr>\n",
       "      <th>73874</th>\n",
       "      <td>700051</td>\n",
       "      <td>[37163]</td>\n",
       "      <td>[118708]</td>\n",
       "      <td>[7, 112, 61]</td>\n",
       "    </tr>\n",
       "    <tr>\n",
       "      <th>511342</th>\n",
       "      <td>37721617</td>\n",
       "      <td>[4787697]</td>\n",
       "      <td>[676607]</td>\n",
       "      <td>[11, 20, 61]</td>\n",
       "    </tr>\n",
       "    <tr>\n",
       "      <th>883699</th>\n",
       "      <td>84779784</td>\n",
       "      <td>[16110192, 16809193, 16942244]</td>\n",
       "      <td>[3255421, 4294519]</td>\n",
       "      <td>[13]</td>\n",
       "    </tr>\n",
       "  </tbody>\n",
       "</table>\n",
       "</div>"
      ],
      "text/plain": [
       "        track_id                          albums             artists  \\\n",
       "424540  31821452                       [3865332]            [167049]   \n",
       "678382  53997809              [7751935, 7751948]           [1545255]   \n",
       "73874     700051                         [37163]            [118708]   \n",
       "511342  37721617                       [4787697]            [676607]   \n",
       "883699  84779784  [16110192, 16809193, 16942244]  [3255421, 4294519]   \n",
       "\n",
       "              genres  \n",
       "424540     [19, 325]  \n",
       "678382          [13]  \n",
       "73874   [7, 112, 61]  \n",
       "511342  [11, 20, 61]  \n",
       "883699          [13]  "
      ]
     },
     "execution_count": 49,
     "metadata": {},
     "output_type": "execute_result"
    }
   ],
   "source": [
    "tracks.sample(5)"
   ]
  },
  {
   "cell_type": "code",
   "execution_count": 50,
   "id": "a5e80fda-766d-4520-8134-8a6b87e6d777",
   "metadata": {},
   "outputs": [
    {
     "name": "stdout",
     "output_type": "stream",
     "text": [
      "Память по столбцам:\n",
      "Index             128\n",
      "track_id      7461312\n",
      "albums      111919680\n",
      "artists     111919680\n",
      "genres      111919680\n",
      "dtype: int64\n",
      "\n",
      "Общее использование памяти (в байтах): 343220480\n"
     ]
    }
   ],
   "source": [
    "# проверка сколько ресурсов потребляет датафрем tracks\n",
    "def memory_load(df):\n",
    "    memory_info = df.memory_usage(deep=True)\n",
    "    total_memory = memory_info.sum()\n",
    "    print(\"Память по столбцам:\")\n",
    "    print(memory_info)\n",
    "    print(\"\\nОбщее использование памяти (в байтах):\", total_memory)\n",
    "\n",
    "memory_load(tracks)"
   ]
  },
  {
   "cell_type": "code",
   "execution_count": 51,
   "id": "593233e2-df73-463a-ae18-7083e637218e",
   "metadata": {},
   "outputs": [],
   "source": [
    "# преобразование типа данных в int32 и списков в кортежи для экономии ресурсов.\n",
    "tracks = tracks.reset_index(drop=True)\n",
    "tracks['track_id'] = tracks['track_id'].astype('int32')\n",
    "tracks[['albums', 'artists', 'genres']] = (\n",
    "    tracks[['albums', 'artists', 'genres']]\n",
    "    .map(lambda x: tuple(x.astype('int32')))\n",
    ")"
   ]
  },
  {
   "cell_type": "code",
   "execution_count": 52,
   "id": "21a196bc-2a24-491d-8ee4-5fb8d93d89c4",
   "metadata": {},
   "outputs": [
    {
     "data": {
      "text/html": [
       "<div>\n",
       "<style scoped>\n",
       "    .dataframe tbody tr th:only-of-type {\n",
       "        vertical-align: middle;\n",
       "    }\n",
       "\n",
       "    .dataframe tbody tr th {\n",
       "        vertical-align: top;\n",
       "    }\n",
       "\n",
       "    .dataframe thead th {\n",
       "        text-align: right;\n",
       "    }\n",
       "</style>\n",
       "<table border=\"1\" class=\"dataframe\">\n",
       "  <thead>\n",
       "    <tr style=\"text-align: right;\">\n",
       "      <th></th>\n",
       "      <th>track_id</th>\n",
       "      <th>albums</th>\n",
       "      <th>artists</th>\n",
       "      <th>genres</th>\n",
       "    </tr>\n",
       "  </thead>\n",
       "  <tbody>\n",
       "    <tr>\n",
       "      <th>397596</th>\n",
       "      <td>29550086</td>\n",
       "      <td>(3555204,)</td>\n",
       "      <td>(3043698,)</td>\n",
       "      <td>(47,)</td>\n",
       "    </tr>\n",
       "    <tr>\n",
       "      <th>760374</th>\n",
       "      <td>64135059</td>\n",
       "      <td>(10266495,)</td>\n",
       "      <td>(8955054,)</td>\n",
       "      <td>(11,)</td>\n",
       "    </tr>\n",
       "    <tr>\n",
       "      <th>742119</th>\n",
       "      <td>61992170</td>\n",
       "      <td>(9727667,)</td>\n",
       "      <td>(8656057,)</td>\n",
       "      <td>(11,)</td>\n",
       "    </tr>\n",
       "    <tr>\n",
       "      <th>11615</th>\n",
       "      <td>75773</td>\n",
       "      <td>(6660, 7100, 87888, 5026484, 5044725, 5104718,...</td>\n",
       "      <td>(3402,)</td>\n",
       "      <td>(14, 102)</td>\n",
       "    </tr>\n",
       "    <tr>\n",
       "      <th>595973</th>\n",
       "      <td>44254636</td>\n",
       "      <td>(5929268,)</td>\n",
       "      <td>(4545156,)</td>\n",
       "      <td>(3, 75)</td>\n",
       "    </tr>\n",
       "  </tbody>\n",
       "</table>\n",
       "</div>"
      ],
      "text/plain": [
       "        track_id                                             albums  \\\n",
       "397596  29550086                                         (3555204,)   \n",
       "760374  64135059                                        (10266495,)   \n",
       "742119  61992170                                         (9727667,)   \n",
       "11615      75773  (6660, 7100, 87888, 5026484, 5044725, 5104718,...   \n",
       "595973  44254636                                         (5929268,)   \n",
       "\n",
       "           artists     genres  \n",
       "397596  (3043698,)      (47,)  \n",
       "760374  (8955054,)      (11,)  \n",
       "742119  (8656057,)      (11,)  \n",
       "11615      (3402,)  (14, 102)  \n",
       "595973  (4545156,)    (3, 75)  "
      ]
     },
     "execution_count": 52,
     "metadata": {},
     "output_type": "execute_result"
    }
   ],
   "source": [
    "tracks.sample(5)"
   ]
  },
  {
   "cell_type": "code",
   "execution_count": 53,
   "id": "2481accb-6831-48d7-8ca1-ebeada916a92",
   "metadata": {},
   "outputs": [
    {
     "name": "stdout",
     "output_type": "stream",
     "text": [
      "Память по столбцам:\n",
      "Index            128\n",
      "track_id     3730656\n",
      "albums      68083368\n",
      "artists     54416368\n",
      "genres      56875568\n",
      "dtype: int64\n",
      "\n",
      "Общее использование памяти (в байтах): 183106088\n"
     ]
    }
   ],
   "source": [
    "memory_load(tracks)"
   ]
  },
  {
   "cell_type": "markdown",
   "id": "fa42bb86-a215-48b8-a89f-94050e4b7a24",
   "metadata": {},
   "source": [
    "Переработаю датафрейм с каталогом наименований."
   ]
  },
  {
   "cell_type": "code",
   "execution_count": 54,
   "id": "eedda604-dee2-4523-a26c-25bbb6db6d17",
   "metadata": {},
   "outputs": [
    {
     "name": "stdout",
     "output_type": "stream",
     "text": [
      "Память по столбцам:\n",
      "Index          128\n",
      "id        14499768\n",
      "type     112526783\n",
      "name     162241642\n",
      "dtype: int64\n",
      "\n",
      "Общее использование памяти (в байтах): 289268321\n"
     ]
    }
   ],
   "source": [
    "# проверяем ресурсы которые требует каталог наименований. \n",
    "memory_load(catalog_names)"
   ]
  },
  {
   "cell_type": "markdown",
   "id": "848f5df8-ec6c-458d-8d76-28203cd2d623",
   "metadata": {},
   "source": [
    "Весомо, преобразую строковые данные в категориальные с помощью метода класса CategoricalDtype"
   ]
  },
  {
   "cell_type": "code",
   "execution_count": 55,
   "id": "d3942b74-8def-4709-89b7-e67ac11e3daa",
   "metadata": {},
   "outputs": [],
   "source": [
    "# \"ужимаем\" id до int32\n",
    "catalog_names = catalog_names.reset_index(drop=True)\n",
    "catalog_names['id'] = catalog_names['id'].astype('int32')"
   ]
  },
  {
   "cell_type": "code",
   "execution_count": 56,
   "id": "ff02c7ad-1e73-45c0-b3f3-e5241b520a3d",
   "metadata": {},
   "outputs": [],
   "source": [
    "# одно из основных преимуществ категориальных типов данных - более эффективное использование памяти.\n",
    "catalog_names['type'] = catalog_names['type'].astype('category')\n",
    "catalog_names['name'] = catalog_names['name'].astype('category')"
   ]
  },
  {
   "cell_type": "code",
   "execution_count": 57,
   "id": "4f6febeb-8769-4673-b8df-b524bf1cbb20",
   "metadata": {},
   "outputs": [
    {
     "name": "stdout",
     "output_type": "stream",
     "text": [
      "Память по столбцам:\n",
      "Index          128\n",
      "id         7249884\n",
      "type       1812892\n",
      "name     130221242\n",
      "dtype: int64\n",
      "\n",
      "Общее использование памяти (в байтах): 139284146\n"
     ]
    }
   ],
   "source": [
    "memory_load(catalog_names)"
   ]
  },
  {
   "cell_type": "code",
   "execution_count": 58,
   "id": "604d9921-14b5-40bb-b2e7-ab9240f867aa",
   "metadata": {},
   "outputs": [
    {
     "data": {
      "text/html": [
       "<div>\n",
       "<style scoped>\n",
       "    .dataframe tbody tr th:only-of-type {\n",
       "        vertical-align: middle;\n",
       "    }\n",
       "\n",
       "    .dataframe tbody tr th {\n",
       "        vertical-align: top;\n",
       "    }\n",
       "\n",
       "    .dataframe thead th {\n",
       "        text-align: right;\n",
       "    }\n",
       "</style>\n",
       "<table border=\"1\" class=\"dataframe\">\n",
       "  <thead>\n",
       "    <tr style=\"text-align: right;\">\n",
       "      <th></th>\n",
       "      <th>id</th>\n",
       "      <th>type</th>\n",
       "      <th>name</th>\n",
       "    </tr>\n",
       "  </thead>\n",
       "  <tbody>\n",
       "    <tr>\n",
       "      <th>1734388</th>\n",
       "      <td>79142059</td>\n",
       "      <td>track</td>\n",
       "      <td>Тебе это нравится</td>\n",
       "    </tr>\n",
       "    <tr>\n",
       "      <th>1136287</th>\n",
       "      <td>20965367</td>\n",
       "      <td>track</td>\n",
       "      <td>Hello, Dolly! (From the Musical Production, \"H...</td>\n",
       "    </tr>\n",
       "    <tr>\n",
       "      <th>1028231</th>\n",
       "      <td>9753042</td>\n",
       "      <td>track</td>\n",
       "      <td>Dum Dum</td>\n",
       "    </tr>\n",
       "    <tr>\n",
       "      <th>242970</th>\n",
       "      <td>3789605</td>\n",
       "      <td>album</td>\n",
       "      <td>Country Pop</td>\n",
       "    </tr>\n",
       "    <tr>\n",
       "      <th>217387</th>\n",
       "      <td>3305526</td>\n",
       "      <td>album</td>\n",
       "      <td>Sweet &amp; Sexy (20 Amazing Lounge Anthems), Vol. 4</td>\n",
       "    </tr>\n",
       "  </tbody>\n",
       "</table>\n",
       "</div>"
      ],
      "text/plain": [
       "               id   type                                               name\n",
       "1734388  79142059  track                                  Тебе это нравится\n",
       "1136287  20965367  track  Hello, Dolly! (From the Musical Production, \"H...\n",
       "1028231   9753042  track                                            Dum Dum\n",
       "242970    3789605  album                                        Country Pop\n",
       "217387    3305526  album   Sweet & Sexy (20 Amazing Lounge Anthems), Vol. 4"
      ]
     },
     "execution_count": 58,
     "metadata": {},
     "output_type": "execute_result"
    }
   ],
   "source": [
    "catalog_names.sample(5)"
   ]
  },
  {
   "cell_type": "markdown",
   "id": "0fcdc744-fafe-4378-ad53-f1665afc2153",
   "metadata": {},
   "source": [
    "Уже сейчас возможно добавить из каталога наименований названия треков в датафрейм с треками."
   ]
  },
  {
   "cell_type": "code",
   "execution_count": 59,
   "id": "5ac0151d-dd53-47b1-a315-c5f9eff8386d",
   "metadata": {},
   "outputs": [
    {
     "data": {
      "text/html": [
       "<div>\n",
       "<style scoped>\n",
       "    .dataframe tbody tr th:only-of-type {\n",
       "        vertical-align: middle;\n",
       "    }\n",
       "\n",
       "    .dataframe tbody tr th {\n",
       "        vertical-align: top;\n",
       "    }\n",
       "\n",
       "    .dataframe thead th {\n",
       "        text-align: right;\n",
       "    }\n",
       "</style>\n",
       "<table border=\"1\" class=\"dataframe\">\n",
       "  <thead>\n",
       "    <tr style=\"text-align: right;\">\n",
       "      <th></th>\n",
       "      <th>track_id</th>\n",
       "      <th>albums</th>\n",
       "      <th>artists</th>\n",
       "      <th>genres</th>\n",
       "      <th>name</th>\n",
       "    </tr>\n",
       "  </thead>\n",
       "  <tbody>\n",
       "    <tr>\n",
       "      <th>0</th>\n",
       "      <td>26</td>\n",
       "      <td>(3, 2490753)</td>\n",
       "      <td>(16,)</td>\n",
       "      <td>(11, 21)</td>\n",
       "      <td>Complimentary Me</td>\n",
       "    </tr>\n",
       "    <tr>\n",
       "      <th>1</th>\n",
       "      <td>38</td>\n",
       "      <td>(3, 2490753)</td>\n",
       "      <td>(16,)</td>\n",
       "      <td>(11, 21)</td>\n",
       "      <td>Momma's Boy</td>\n",
       "    </tr>\n",
       "    <tr>\n",
       "      <th>2</th>\n",
       "      <td>135</td>\n",
       "      <td>(12, 214, 2490809)</td>\n",
       "      <td>(84,)</td>\n",
       "      <td>(11,)</td>\n",
       "      <td>Atticus</td>\n",
       "    </tr>\n",
       "  </tbody>\n",
       "</table>\n",
       "</div>"
      ],
      "text/plain": [
       "   track_id              albums artists    genres              name\n",
       "0        26        (3, 2490753)   (16,)  (11, 21)  Complimentary Me\n",
       "1        38        (3, 2490753)   (16,)  (11, 21)       Momma's Boy\n",
       "2       135  (12, 214, 2490809)   (84,)     (11,)           Atticus"
      ]
     },
     "execution_count": 59,
     "metadata": {},
     "output_type": "execute_result"
    }
   ],
   "source": [
    "# добавление наименование трека\n",
    "tracks = tracks.merge(\n",
    "    catalog_names.query('type == \"track\"')[['id', 'name']],\n",
    "    left_on='track_id',\n",
    "    right_on='id',\n",
    "    how='left'\n",
    ").drop(columns=['id'])\n",
    "\n",
    "tracks.head(3)"
   ]
  },
  {
   "cell_type": "markdown",
   "id": "6ca3e29b-80d9-4082-9317-a06bc5e5708e",
   "metadata": {},
   "source": [
    "Если наименования жанров, альбомов и исполнителей  из каталога наименований добавить к датафрейму с треками, получится один полный датафрейм. Соответсвенно задача выглядит как преобразование датафрейма в словари с id и наименованием к чему этот id относится."
   ]
  },
  {
   "cell_type": "code",
   "execution_count": 60,
   "id": "a0ba77fd-d0a3-49f0-b29f-e118da01a2e5",
   "metadata": {},
   "outputs": [],
   "source": [
    "# создание словарей {id:name} aplbum, artist, genre.\n",
    "albums_names = catalog_names[catalog_names['type'] == 'album'].set_index('id')['name'].to_dict()\n",
    "artists_names = catalog_names[catalog_names['type'] == 'artist'].set_index('id')['name'].to_dict()\n",
    "genres_names = catalog_names[catalog_names['type'] == 'genre'].set_index('id')['name'].to_dict()"
   ]
  },
  {
   "cell_type": "code",
   "execution_count": 61,
   "id": "8d28e49f-2acd-40df-8fd8-9c246f0fb898",
   "metadata": {},
   "outputs": [],
   "source": [
    "# лямбда для формирования кортежей с наименованиями на основе кортежей с ids\n",
    "func_albums_names = lambda x: tuple(map(albums_names.__getitem__, x))\n",
    "func_artists_names = lambda x: tuple(map(artists_names.__getitem__, x))\n",
    "func_genres_names = lambda x: tuple(map(genres_names.__getitem__, x))"
   ]
  },
  {
   "cell_type": "code",
   "execution_count": 62,
   "id": "5fc91c43-1b40-4b42-a393-3fd97ba53e23",
   "metadata": {},
   "outputs": [],
   "source": [
    "tracks['names_of_albums_'] = tracks['albums'].map(func_albums_names)\n",
    "tracks['names_of_artists'] = tracks['artists'].map(func_artists_names)\n",
    "tracks['names_of_genres'] = tracks['genres'].map(func_genres_names)"
   ]
  },
  {
   "cell_type": "code",
   "execution_count": 63,
   "id": "c4100d75-2ada-4c4d-98a5-362bb6d9f640",
   "metadata": {},
   "outputs": [
    {
     "data": {
      "text/html": [
       "<div>\n",
       "<style scoped>\n",
       "    .dataframe tbody tr th:only-of-type {\n",
       "        vertical-align: middle;\n",
       "    }\n",
       "\n",
       "    .dataframe tbody tr th {\n",
       "        vertical-align: top;\n",
       "    }\n",
       "\n",
       "    .dataframe thead th {\n",
       "        text-align: right;\n",
       "    }\n",
       "</style>\n",
       "<table border=\"1\" class=\"dataframe\">\n",
       "  <thead>\n",
       "    <tr style=\"text-align: right;\">\n",
       "      <th></th>\n",
       "      <th>track_id</th>\n",
       "      <th>albums</th>\n",
       "      <th>artists</th>\n",
       "      <th>genres</th>\n",
       "      <th>name</th>\n",
       "      <th>names_of_albums_</th>\n",
       "      <th>names_of_artists</th>\n",
       "      <th>names_of_genres</th>\n",
       "    </tr>\n",
       "  </thead>\n",
       "  <tbody>\n",
       "    <tr>\n",
       "      <th>0</th>\n",
       "      <td>26</td>\n",
       "      <td>(3, 2490753)</td>\n",
       "      <td>(16,)</td>\n",
       "      <td>(11, 21)</td>\n",
       "      <td>Complimentary Me</td>\n",
       "      <td>(Taller Children, Taller Children)</td>\n",
       "      <td>(Elizabeth &amp; the Catapult,)</td>\n",
       "      <td>(pop, folk)</td>\n",
       "    </tr>\n",
       "    <tr>\n",
       "      <th>1</th>\n",
       "      <td>38</td>\n",
       "      <td>(3, 2490753)</td>\n",
       "      <td>(16,)</td>\n",
       "      <td>(11, 21)</td>\n",
       "      <td>Momma's Boy</td>\n",
       "      <td>(Taller Children, Taller Children)</td>\n",
       "      <td>(Elizabeth &amp; the Catapult,)</td>\n",
       "      <td>(pop, folk)</td>\n",
       "    </tr>\n",
       "    <tr>\n",
       "      <th>2</th>\n",
       "      <td>135</td>\n",
       "      <td>(12, 214, 2490809)</td>\n",
       "      <td>(84,)</td>\n",
       "      <td>(11,)</td>\n",
       "      <td>Atticus</td>\n",
       "      <td>(Wild Young Hearts, Wild Young Hearts, Wild Yo...</td>\n",
       "      <td>(Noisettes,)</td>\n",
       "      <td>(pop,)</td>\n",
       "    </tr>\n",
       "    <tr>\n",
       "      <th>3</th>\n",
       "      <td>136</td>\n",
       "      <td>(12, 214, 2490809)</td>\n",
       "      <td>(84,)</td>\n",
       "      <td>(11,)</td>\n",
       "      <td>24 Hours</td>\n",
       "      <td>(Wild Young Hearts, Wild Young Hearts, Wild Yo...</td>\n",
       "      <td>(Noisettes,)</td>\n",
       "      <td>(pop,)</td>\n",
       "    </tr>\n",
       "    <tr>\n",
       "      <th>4</th>\n",
       "      <td>138</td>\n",
       "      <td>(12, 214, 322, 72275, 72292, 91199, 213505, 24...</td>\n",
       "      <td>(84,)</td>\n",
       "      <td>(11,)</td>\n",
       "      <td>Don't Upset The Rhythm (Go Baby Go)</td>\n",
       "      <td>(Wild Young Hearts, Wild Young Hearts, Don't U...</td>\n",
       "      <td>(Noisettes,)</td>\n",
       "      <td>(pop,)</td>\n",
       "    </tr>\n",
       "  </tbody>\n",
       "</table>\n",
       "</div>"
      ],
      "text/plain": [
       "   track_id                                             albums artists  \\\n",
       "0        26                                       (3, 2490753)   (16,)   \n",
       "1        38                                       (3, 2490753)   (16,)   \n",
       "2       135                                 (12, 214, 2490809)   (84,)   \n",
       "3       136                                 (12, 214, 2490809)   (84,)   \n",
       "4       138  (12, 214, 322, 72275, 72292, 91199, 213505, 24...   (84,)   \n",
       "\n",
       "     genres                                 name  \\\n",
       "0  (11, 21)                     Complimentary Me   \n",
       "1  (11, 21)                          Momma's Boy   \n",
       "2     (11,)                              Atticus   \n",
       "3     (11,)                             24 Hours   \n",
       "4     (11,)  Don't Upset The Rhythm (Go Baby Go)   \n",
       "\n",
       "                                    names_of_albums_  \\\n",
       "0                 (Taller Children, Taller Children)   \n",
       "1                 (Taller Children, Taller Children)   \n",
       "2  (Wild Young Hearts, Wild Young Hearts, Wild Yo...   \n",
       "3  (Wild Young Hearts, Wild Young Hearts, Wild Yo...   \n",
       "4  (Wild Young Hearts, Wild Young Hearts, Don't U...   \n",
       "\n",
       "              names_of_artists names_of_genres  \n",
       "0  (Elizabeth & the Catapult,)     (pop, folk)  \n",
       "1  (Elizabeth & the Catapult,)     (pop, folk)  \n",
       "2                 (Noisettes,)          (pop,)  \n",
       "3                 (Noisettes,)          (pop,)  \n",
       "4                 (Noisettes,)          (pop,)  "
      ]
     },
     "execution_count": 63,
     "metadata": {},
     "output_type": "execute_result"
    }
   ],
   "source": [
    "tracks.head()"
   ]
  },
  {
   "cell_type": "code",
   "execution_count": null,
   "id": "9754119c-5499-411a-a58a-3ef486389bd3",
   "metadata": {},
   "outputs": [],
   "source": [
    "del albums_names\n",
    "del artists_names\n",
    "del genres_names "
   ]
  },
  {
   "cell_type": "code",
   "execution_count": null,
   "id": "02d0ca97-0004-4510-90f1-7d6a83ea60c2",
   "metadata": {},
   "outputs": [],
   "source": [
    "interactions весьма объемный датафрейм, но типы данных там уже компактны, посмотрим что возможно с ним еще сделать."
   ]
  },
  {
   "cell_type": "code",
   "execution_count": 71,
   "id": "a11e87f3-156e-4dd3-baff-6c155c0986dc",
   "metadata": {},
   "outputs": [
    {
     "data": {
      "text/html": [
       "<div>\n",
       "<style scoped>\n",
       "    .dataframe tbody tr th:only-of-type {\n",
       "        vertical-align: middle;\n",
       "    }\n",
       "\n",
       "    .dataframe tbody tr th {\n",
       "        vertical-align: top;\n",
       "    }\n",
       "\n",
       "    .dataframe thead th {\n",
       "        text-align: right;\n",
       "    }\n",
       "</style>\n",
       "<table border=\"1\" class=\"dataframe\">\n",
       "  <thead>\n",
       "    <tr style=\"text-align: right;\">\n",
       "      <th></th>\n",
       "      <th>user_id</th>\n",
       "      <th>track_id</th>\n",
       "      <th>track_seq</th>\n",
       "      <th>started_at</th>\n",
       "    </tr>\n",
       "  </thead>\n",
       "  <tbody>\n",
       "    <tr>\n",
       "      <th>19</th>\n",
       "      <td>1000882</td>\n",
       "      <td>45499814</td>\n",
       "      <td>20</td>\n",
       "      <td>2022-11-02</td>\n",
       "    </tr>\n",
       "    <tr>\n",
       "      <th>19</th>\n",
       "      <td>1224014</td>\n",
       "      <td>25829288</td>\n",
       "      <td>20</td>\n",
       "      <td>2022-04-11</td>\n",
       "    </tr>\n",
       "    <tr>\n",
       "      <th>1180</th>\n",
       "      <td>616929</td>\n",
       "      <td>42477658</td>\n",
       "      <td>1181</td>\n",
       "      <td>2022-11-13</td>\n",
       "    </tr>\n",
       "    <tr>\n",
       "      <th>221</th>\n",
       "      <td>1003727</td>\n",
       "      <td>35261802</td>\n",
       "      <td>222</td>\n",
       "      <td>2022-07-05</td>\n",
       "    </tr>\n",
       "    <tr>\n",
       "      <th>71</th>\n",
       "      <td>209589</td>\n",
       "      <td>32182642</td>\n",
       "      <td>72</td>\n",
       "      <td>2022-10-31</td>\n",
       "    </tr>\n",
       "  </tbody>\n",
       "</table>\n",
       "</div>"
      ],
      "text/plain": [
       "      user_id  track_id  track_seq started_at\n",
       "19    1000882  45499814         20 2022-11-02\n",
       "19    1224014  25829288         20 2022-04-11\n",
       "1180   616929  42477658       1181 2022-11-13\n",
       "221   1003727  35261802        222 2022-07-05\n",
       "71     209589  32182642         72 2022-10-31"
      ]
     },
     "execution_count": 71,
     "metadata": {},
     "output_type": "execute_result"
    }
   ],
   "source": [
    "interactions.sample(5)"
   ]
  },
  {
   "cell_type": "code",
   "execution_count": 69,
   "id": "feaf868f-a2b8-4644-a6bd-6e33ab6c3090",
   "metadata": {},
   "outputs": [],
   "source": [
    "#interactions.info()"
   ]
  },
  {
   "cell_type": "code",
   "execution_count": 67,
   "id": "1864d853-3e12-422d-b0e6-f30e5dc7b134",
   "metadata": {},
   "outputs": [
    {
     "name": "stdout",
     "output_type": "stream",
     "text": [
      "Память по столбцам:\n",
      "Index         1717765904\n",
      "user_id        858882952\n",
      "track_id       858882952\n",
      "track_seq      429441476\n",
      "started_at    1717765904\n",
      "dtype: int64\n",
      "\n",
      "Общее использование памяти (в байтах): 5582739188\n"
     ]
    }
   ],
   "source": [
    "memory_load(interactions)"
   ]
  },
  {
   "cell_type": "markdown",
   "id": "66586d16-fa97-4ba7-9a7d-639c15e512e4",
   "metadata": {},
   "source": [
    "Проверю с какой частотой фиксируются события. Какова дискретность."
   ]
  },
  {
   "cell_type": "code",
   "execution_count": 85,
   "id": "bb191856-41b5-4843-b487-669686e6a47a",
   "metadata": {},
   "outputs": [
    {
     "data": {
      "text/html": [
       "<div>\n",
       "<style scoped>\n",
       "    .dataframe tbody tr th:only-of-type {\n",
       "        vertical-align: middle;\n",
       "    }\n",
       "\n",
       "    .dataframe tbody tr th {\n",
       "        vertical-align: top;\n",
       "    }\n",
       "\n",
       "    .dataframe thead tr th {\n",
       "        text-align: left;\n",
       "    }\n",
       "\n",
       "    .dataframe thead tr:last-of-type th {\n",
       "        text-align: right;\n",
       "    }\n",
       "</style>\n",
       "<table border=\"1\" class=\"dataframe\">\n",
       "  <thead>\n",
       "    <tr>\n",
       "      <th></th>\n",
       "      <th colspan=\"2\" halign=\"left\">user_id</th>\n",
       "    </tr>\n",
       "    <tr>\n",
       "      <th></th>\n",
       "      <th>count</th>\n",
       "      <th>nunique</th>\n",
       "    </tr>\n",
       "    <tr>\n",
       "      <th>started_at</th>\n",
       "      <th></th>\n",
       "      <th></th>\n",
       "    </tr>\n",
       "  </thead>\n",
       "  <tbody>\n",
       "    <tr>\n",
       "      <th>2022-01-01</th>\n",
       "      <td>33979</td>\n",
       "      <td>5731</td>\n",
       "    </tr>\n",
       "    <tr>\n",
       "      <th>2022-01-02</th>\n",
       "      <td>35211</td>\n",
       "      <td>7049</td>\n",
       "    </tr>\n",
       "    <tr>\n",
       "      <th>2022-01-03</th>\n",
       "      <td>38007</td>\n",
       "      <td>8201</td>\n",
       "    </tr>\n",
       "    <tr>\n",
       "      <th>2022-01-04</th>\n",
       "      <td>41041</td>\n",
       "      <td>9240</td>\n",
       "    </tr>\n",
       "    <tr>\n",
       "      <th>2022-01-05</th>\n",
       "      <td>44169</td>\n",
       "      <td>10680</td>\n",
       "    </tr>\n",
       "  </tbody>\n",
       "</table>\n",
       "</div>"
      ],
      "text/plain": [
       "           user_id        \n",
       "             count nunique\n",
       "started_at                \n",
       "2022-01-01   33979    5731\n",
       "2022-01-02   35211    7049\n",
       "2022-01-03   38007    8201\n",
       "2022-01-04   41041    9240\n",
       "2022-01-05   44169   10680"
      ]
     },
     "execution_count": 85,
     "metadata": {},
     "output_type": "execute_result"
    }
   ],
   "source": [
    "events_per_user = interactions.groupby('started_at').agg(\n",
    "    {'user_id': ['count', 'nunique']}\n",
    ")\n",
    "events_per_user.head()"
   ]
  },
  {
   "cell_type": "markdown",
   "id": "0e7f3cec",
   "metadata": {},
   "source": [
    "Похоже что события фиксируются по дневно. "
   ]
  },
  {
   "cell_type": "code",
   "execution_count": 86,
   "id": "86442ec4-fda5-41aa-8ef2-b7c7f54448d3",
   "metadata": {},
   "outputs": [],
   "source": [
    "del events_per_user"
   ]
  },
  {
   "cell_type": "code",
   "execution_count": 87,
   "id": "3eb5c603-f5d9-4854-a119-d25aca6bed5b",
   "metadata": {},
   "outputs": [
    {
     "data": {
      "text/plain": [
       "Timedelta('1 days 00:00:00')"
      ]
     },
     "execution_count": 87,
     "metadata": {},
     "output_type": "execute_result"
    }
   ],
   "source": [
    "# еще одна проверка\n",
    "interactions['started_at'].drop_duplicates().sort_values().diff().min()"
   ]
  },
  {
   "cell_type": "markdown",
   "id": "775d9e49-92db-414b-8e67-0e35dfbdaa6f",
   "metadata": {},
   "source": [
    "Так и есть, дискретность один день. Повод для категоризации этих значений."
   ]
  },
  {
   "cell_type": "code",
   "execution_count": 88,
   "id": "7f1e8f33-d184-42d3-8670-bd9515e3ab7f",
   "metadata": {},
   "outputs": [],
   "source": [
    "interactions = interactions.reset_index(drop=True)\n",
    "interactions['started_at'] = interactions['started_at'].astype('category')"
   ]
  },
  {
   "cell_type": "code",
   "execution_count": 89,
   "id": "8c156636-820c-48b7-a000-eb7de7f6a94c",
   "metadata": {},
   "outputs": [
    {
     "name": "stdout",
     "output_type": "stream",
     "text": [
      "Память по столбцам:\n",
      "Index               128\n",
      "user_id       858882952\n",
      "track_id      858882952\n",
      "track_seq     429441476\n",
      "started_at    429452692\n",
      "dtype: int64\n",
      "\n",
      "Общее использование памяти (в байтах): 2576660200\n"
     ]
    }
   ],
   "source": [
    "memory_load(interactions)"
   ]
  },
  {
   "cell_type": "markdown",
   "id": "157538b3-f20d-4ff7-954f-71f6beefdc55",
   "metadata": {},
   "source": [
    "Есть экономия!"
   ]
  },
  {
   "cell_type": "markdown",
   "id": "4d1be653-eed8-4fa0-a9c5-3811b080d71d",
   "metadata": {},
   "source": [
    "# Сохранение данных"
   ]
  },
  {
   "cell_type": "markdown",
   "id": "36f1314a-3af3-4faf-a0b1-3045173d1500",
   "metadata": {},
   "source": [
    "Сохраним данные в двух файлах в персональном S3-бакете по пути `recsys/data/`:\n",
    "- `items.parquet` — все данные о музыкальных треках,\n",
    "- `events.parquet` — все данные о взаимодействиях."
   ]
  },
  {
   "cell_type": "code",
   "execution_count": 90,
   "id": "9f77af17-7705-4fae-9aad-db579b39faad",
   "metadata": {},
   "outputs": [],
   "source": [
    "# создаем датафреймы events и items\n",
    "items = tracks.copy()\n",
    "events = interactions.copy()"
   ]
  },
  {
   "cell_type": "code",
   "execution_count": 98,
   "id": "88d555da-9995-472c-a048-4d024bf45a56",
   "metadata": {},
   "outputs": [],
   "source": [
    "del tracks\n",
    "del catalog_names\n",
    "del interactions"
   ]
  },
  {
   "cell_type": "code",
   "execution_count": 95,
   "id": "f155b9f2-bc31-4edb-b84c-0d3a66c60e8d",
   "metadata": {},
   "outputs": [],
   "source": [
    "#items.head()\n",
    "#events.head()"
   ]
  },
  {
   "cell_type": "code",
   "execution_count": 96,
   "id": "74f452c8-0e50-42a4-8131-e4e67ffe2001",
   "metadata": {},
   "outputs": [],
   "source": [
    "# сохранение результатов\n",
    "items.to_parquet('datasets/items.parquet')"
   ]
  },
  {
   "cell_type": "code",
   "execution_count": 97,
   "id": "a49b7d8f-5602-4e8b-8c77-1b688c9bcf8f",
   "metadata": {},
   "outputs": [],
   "source": [
    "events.to_parquet('datasets/events.parquet')"
   ]
  },
  {
   "cell_type": "markdown",
   "id": "72835516-5ef8-4b96-8abd-9da6165ca8e9",
   "metadata": {},
   "source": [
    "Загрузка файлов в бакеты."
   ]
  },
  {
   "cell_type": "code",
   "execution_count": 121,
   "id": "5611d149-a9ae-4645-98f1-d6fc8ca6a0aa",
   "metadata": {},
   "outputs": [
    {
     "name": "stdout",
     "output_type": "stream",
     "text": [
      "Файл успешно загружен в бакет s3-student-mle-20240325-db8a481ea6.\n"
     ]
    }
   ],
   "source": [
    "upload_to_yandex_s3('datasets/items.parquet', 'recsys/data/items.parquet')"
   ]
  },
  {
   "cell_type": "code",
   "execution_count": 122,
   "id": "1f00a497-6d7a-4bcd-8518-f998e1e9353d",
   "metadata": {},
   "outputs": [
    {
     "name": "stdout",
     "output_type": "stream",
     "text": [
      "Файл успешно загружен в бакет s3-student-mle-20240325-db8a481ea6.\n"
     ]
    }
   ],
   "source": [
    "upload_to_yandex_s3('datasets/events.parquet', 'recsys/data/events.parquet')"
   ]
  },
  {
   "cell_type": "markdown",
   "id": "72ecbbed-c560-44d9-9c14-86c7dc76f399",
   "metadata": {},
   "source": [
    "# Очистка памяти"
   ]
  },
  {
   "cell_type": "markdown",
   "id": "d101d6b4-10a0-45dc-b7c6-644c1d03c286",
   "metadata": {},
   "source": [
    "Удаляю переменные и перезапускаю ядро в интерфейсе notebook для работы с дальнейшим этапом который потребует ресурсных вычислений."
   ]
  },
  {
   "cell_type": "code",
   "execution_count": 124,
   "id": "67f9596b-02f6-4c8d-b6e2-1d4fe432b69f",
   "metadata": {},
   "outputs": [],
   "source": [
    "del items\n",
    "del events"
   ]
  },
  {
   "cell_type": "markdown",
   "id": "708503df-ee89-4cf3-8489-093dc478e2a8",
   "metadata": {},
   "source": [
    "# === ЭТАП 3 ==="
   ]
  },
  {
   "cell_type": "markdown",
   "id": "fd77de22-e10f-4b42-85c1-8fb6f805fe68",
   "metadata": {},
   "source": [
    "# Загрузка данных"
   ]
  },
  {
   "cell_type": "code",
   "execution_count": 1,
   "id": "f19fc8a5-bd2c-40d7-864a-ee75aca6d512",
   "metadata": {},
   "outputs": [
    {
     "name": "stderr",
     "output_type": "stream",
     "text": [
      "/home/mle-user/.local/lib/python3.10/site-packages/tqdm/auto.py:21: TqdmWarning: IProgress not found. Please update jupyter and ipywidgets. See https://ipywidgets.readthedocs.io/en/stable/user_install.html\n",
      "  from .autonotebook import tqdm as notebook_tqdm\n"
     ]
    }
   ],
   "source": [
    "# загрузка необходимых библиотек.\n",
    "import logging\n",
    "\n",
    "import matplotlib.pyplot as plt\n",
    "import numpy as np\n",
    "import pandas as pd\n",
    "\n",
    "import tqdm as notebook_tqdm\n",
    "from implicit.als import AlternatingLeastSquares\n",
    "from sklearn.preprocessing import LabelEncoder\n",
    "\n",
    "from services.load_s3 import upload_to_yandex_s3"
   ]
  },
  {
   "cell_type": "code",
   "execution_count": 2,
   "id": "a56e3f50-74fa-4821-a710-4e76472ab452",
   "metadata": {},
   "outputs": [],
   "source": [
    "import pickle"
   ]
  },
  {
   "cell_type": "code",
   "execution_count": 3,
   "id": "5db1e801-5845-4ce3-86f2-c2fa30f68cc5",
   "metadata": {},
   "outputs": [],
   "source": [
    "items = pd.read_parquet('datasets/items.parquet')\n",
    "events = pd.read_parquet('datasets/events.parquet')"
   ]
  },
  {
   "cell_type": "code",
   "execution_count": 4,
   "id": "9ebe5eb6-d8b1-4ccd-8814-d16f5df3a114",
   "metadata": {},
   "outputs": [],
   "source": [
    "#items.head()"
   ]
  },
  {
   "cell_type": "code",
   "execution_count": 5,
   "id": "f2facf00-6ab8-4ae0-958d-8f6a2311041f",
   "metadata": {},
   "outputs": [],
   "source": [
    "# устраняю ошибку по наименованию столбца\n",
    "items = items.rename(columns={'names_of_albums_': 'names_of_albums'})"
   ]
  },
  {
   "cell_type": "code",
   "execution_count": 6,
   "id": "479b7ea6-5c41-4d80-882f-5f0ae3aff331",
   "metadata": {},
   "outputs": [
    {
     "name": "stdout",
     "output_type": "stream",
     "text": [
      "Память по столбцам:\n",
      "Index                     128\n",
      "track_id              3730656\n",
      "albums              111919680\n",
      "artists             111919680\n",
      "genres              111919680\n",
      "name                118964639\n",
      "names_of_albums     111919680\n",
      "names_of_artists    111919680\n",
      "names_of_genres     111919680\n",
      "dtype: int64\n",
      "\n",
      "Общее использование памяти (в мегабайтах): 757.42\n"
     ]
    }
   ],
   "source": [
    "# несколько модернизирую функцию для оценки потребления ресурсов\n",
    "def memory_load(df):\n",
    "    memory_info = df.memory_usage(deep=True)\n",
    "    total_memory = memory_info.sum()\n",
    "    \n",
    "    # Преобразование из байт в мегабайты\n",
    "    total_memory_mb = total_memory / (1024 ** 2)\n",
    "    \n",
    "    print(\"Память по столбцам:\")\n",
    "    print(memory_info)\n",
    "    print(\"\\nОбщее использование памяти (в мегабайтах):\",total_memory_mb.round(2))\n",
    "\n",
    "\n",
    "memory_load(items)"
   ]
  },
  {
   "cell_type": "code",
   "execution_count": 7,
   "id": "f3cd2085-6b81-48de-b1b0-32bda7f4200e",
   "metadata": {},
   "outputs": [
    {
     "name": "stdout",
     "output_type": "stream",
     "text": [
      "<class 'pandas.core.frame.DataFrame'>\n",
      "RangeIndex: 932664 entries, 0 to 932663\n",
      "Data columns (total 8 columns):\n",
      " #   Column            Non-Null Count   Dtype   \n",
      "---  ------            --------------   -----   \n",
      " 0   track_id          932664 non-null  int32   \n",
      " 1   albums            932664 non-null  object  \n",
      " 2   artists           932664 non-null  object  \n",
      " 3   genres            932664 non-null  object  \n",
      " 4   name              932664 non-null  category\n",
      " 5   names_of_albums   932664 non-null  object  \n",
      " 6   names_of_artists  932664 non-null  object  \n",
      " 7   names_of_genres   932664 non-null  object  \n",
      "dtypes: category(1), int32(1), object(6)\n",
      "memory usage: 89.3+ MB\n"
     ]
    }
   ],
   "source": [
    "items.info()"
   ]
  },
  {
   "cell_type": "markdown",
   "id": "3640d3bb-b352-4c49-bb84-f372f81f149f",
   "metadata": {},
   "source": [
    "Опять вижу в данных массивы, почему то не сохранилось \"закортеживание\". Повторяю."
   ]
  },
  {
   "cell_type": "code",
   "execution_count": 8,
   "id": "764a5c36-9728-4e40-817c-467068008984",
   "metadata": {},
   "outputs": [],
   "source": [
    "items[['albums', 'artists', 'genres','names_of_albums', 'names_of_artists', 'names_of_genres']] = (\n",
    "    items[['albums', 'artists', 'genres','names_of_albums', 'names_of_artists', 'names_of_genres']]\n",
    "    .map(lambda x: tuple(x))\n",
    ")"
   ]
  },
  {
   "cell_type": "code",
   "execution_count": 9,
   "id": "91ab0dcc-69df-46cf-b9b0-73ea3d96ece1",
   "metadata": {},
   "outputs": [
    {
     "name": "stdout",
     "output_type": "stream",
     "text": [
      "Память по столбцам:\n",
      "Index                     128\n",
      "track_id              3730656\n",
      "albums               68083368\n",
      "artists              54416368\n",
      "genres               56875568\n",
      "name                118964639\n",
      "names_of_albums      68083368\n",
      "names_of_artists     54416368\n",
      "names_of_genres      56875568\n",
      "dtype: int64\n",
      "\n",
      "Общее использование памяти (в мегабайтах): 459.14\n"
     ]
    }
   ],
   "source": [
    "memory_load(items)"
   ]
  },
  {
   "cell_type": "code",
   "execution_count": 10,
   "id": "ef941e90-fe4f-4c90-ab53-949ac8d64fdd",
   "metadata": {},
   "outputs": [
    {
     "name": "stdout",
     "output_type": "stream",
     "text": [
      "<class 'pandas.core.frame.DataFrame'>\n",
      "RangeIndex: 214720738 entries, 0 to 214720737\n",
      "Data columns (total 4 columns):\n",
      " #   Column      Dtype         \n",
      "---  ------      -----         \n",
      " 0   user_id     int32         \n",
      " 1   track_id    int32         \n",
      " 2   track_seq   int16         \n",
      " 3   started_at  datetime64[ns]\n",
      "dtypes: datetime64[ns](1), int16(1), int32(2)\n",
      "memory usage: 3.6 GB\n"
     ]
    }
   ],
   "source": [
    "events.info()"
   ]
  },
  {
   "cell_type": "code",
   "execution_count": 11,
   "id": "593f9d45-c145-49d3-9c21-54bdfe4db19f",
   "metadata": {},
   "outputs": [
    {
     "name": "stdout",
     "output_type": "stream",
     "text": [
      "Память по столбцам:\n",
      "Index                128\n",
      "user_id        858882952\n",
      "track_id       858882952\n",
      "track_seq      429441476\n",
      "started_at    1717765904\n",
      "dtype: int64\n",
      "\n",
      "Общее использование памяти (в мегабайтах): 3685.93\n"
     ]
    }
   ],
   "source": [
    "memory_load(events)"
   ]
  },
  {
   "cell_type": "code",
   "execution_count": 12,
   "id": "05efc147-b433-45af-af36-9819ecbe9e41",
   "metadata": {},
   "outputs": [],
   "source": [
    "# категоризируем started_at и упорядочим для возможности сравнения с временными метками.\n",
    "events = events.reset_index(drop=True)\n",
    "events['started_at'] = events['started_at'].astype('category').cat.as_ordered()"
   ]
  },
  {
   "cell_type": "code",
   "execution_count": 13,
   "id": "a19200d2-da92-4e5b-99ef-22d37429a5ce",
   "metadata": {},
   "outputs": [
    {
     "name": "stdout",
     "output_type": "stream",
     "text": [
      "Память по столбцам:\n",
      "Index               128\n",
      "user_id       858882952\n",
      "track_id      858882952\n",
      "track_seq     429441476\n",
      "started_at    429452692\n",
      "dtype: int64\n",
      "\n",
      "Общее использование памяти (в мегабайтах): 2457.29\n"
     ]
    }
   ],
   "source": [
    "memory_load(events)"
   ]
  },
  {
   "cell_type": "markdown",
   "id": "a694c023-6477-490b-939d-1cfa6f5f1b72",
   "metadata": {},
   "source": [
    "# Разбиение данных"
   ]
  },
  {
   "cell_type": "markdown",
   "id": "fbd5f6e0-54e7-4428-8678-eabce505d82c",
   "metadata": {},
   "source": [
    "Разбиваем данные на тренировочную, тестовую выборки. В тренировочную отношу все данные до 16 декабря 2022 года (не включительно)."
   ]
  },
  {
   "cell_type": "code",
   "execution_count": 14,
   "id": "00c2dfa5-d8a2-47d1-922e-6eefee2c62d1",
   "metadata": {},
   "outputs": [],
   "source": [
    "# зададим точку разбиения\n",
    "train_test_global_time_split = (events['started_at'] < pd.to_datetime('2022-12-16'))\n",
    "\n",
    "events_train = events[train_test_global_time_split]\n",
    "events_test = events[~train_test_global_time_split]"
   ]
  },
  {
   "cell_type": "code",
   "execution_count": 15,
   "id": "bc1a6bdc-1976-46bb-a2d8-dd7557357566",
   "metadata": {},
   "outputs": [
    {
     "name": "stdout",
     "output_type": "stream",
     "text": [
      "1341269 778789 748016\n"
     ]
    }
   ],
   "source": [
    "# количество пользователей в train и test\n",
    "users_train = events_train[\"user_id\"].drop_duplicates()\n",
    "users_test = events_test[\"user_id\"].drop_duplicates() \n",
    "# количество пользователей, которые есть и в train, и в test\n",
    "common_users = users_train[users_train.isin(users_test)] \n",
    "\n",
    "print(len(users_train), len(users_test), len(common_users)) "
   ]
  },
  {
   "cell_type": "code",
   "execution_count": 16,
   "id": "26fe3e3c-8c5f-4437-bf13-9191adef08bb",
   "metadata": {},
   "outputs": [
    {
     "name": "stdout",
     "output_type": "stream",
     "text": [
      "30773\n"
     ]
    }
   ],
   "source": [
    "# посчитаем количество \"холодных\" пользователей.\n",
    "cold_users =  users_test[~users_test.isin(users_train)]# ваш код здесь #\n",
    "print(len(cold_users)) "
   ]
  },
  {
   "cell_type": "code",
   "execution_count": 17,
   "id": "8db64d7d-bde3-4e2e-90e7-bc0c9326d7cb",
   "metadata": {},
   "outputs": [],
   "source": [
    "del train_test_global_time_split, users_test, users_train, cold_users"
   ]
  },
  {
   "cell_type": "markdown",
   "id": "9131c7e6-8852-4556-b510-51f7253cc299",
   "metadata": {},
   "source": [
    "# Топ популярных"
   ]
  },
  {
   "cell_type": "markdown",
   "id": "dd70d43a-88cc-4719-b291-feaed7136f30",
   "metadata": {},
   "source": [
    "Рассчитаем рекомендации как топ популярных. Для этого посчитаем количество прослушиваний каждого трека, для удобства нормализируем количетво в оценки \"score\". Выделим топ-25 (для облегчения данных) и сохраним в соответсвующем файле."
   ]
  },
  {
   "cell_type": "code",
   "execution_count": 18,
   "id": "ee45e200-b7d6-4f56-9077-aad431689b96",
   "metadata": {},
   "outputs": [
    {
     "data": {
      "text/html": [
       "<div>\n",
       "<style scoped>\n",
       "    .dataframe tbody tr th:only-of-type {\n",
       "        vertical-align: middle;\n",
       "    }\n",
       "\n",
       "    .dataframe tbody tr th {\n",
       "        vertical-align: top;\n",
       "    }\n",
       "\n",
       "    .dataframe thead th {\n",
       "        text-align: right;\n",
       "    }\n",
       "</style>\n",
       "<table border=\"1\" class=\"dataframe\">\n",
       "  <thead>\n",
       "    <tr style=\"text-align: right;\">\n",
       "      <th></th>\n",
       "      <th>user_id</th>\n",
       "      <th>track_id</th>\n",
       "      <th>track_seq</th>\n",
       "      <th>started_at</th>\n",
       "    </tr>\n",
       "  </thead>\n",
       "  <tbody>\n",
       "    <tr>\n",
       "      <th>0</th>\n",
       "      <td>0</td>\n",
       "      <td>99262</td>\n",
       "      <td>1</td>\n",
       "      <td>2022-07-17</td>\n",
       "    </tr>\n",
       "    <tr>\n",
       "      <th>1</th>\n",
       "      <td>0</td>\n",
       "      <td>589498</td>\n",
       "      <td>2</td>\n",
       "      <td>2022-07-19</td>\n",
       "    </tr>\n",
       "    <tr>\n",
       "      <th>2</th>\n",
       "      <td>0</td>\n",
       "      <td>590262</td>\n",
       "      <td>3</td>\n",
       "      <td>2022-07-21</td>\n",
       "    </tr>\n",
       "    <tr>\n",
       "      <th>3</th>\n",
       "      <td>0</td>\n",
       "      <td>590303</td>\n",
       "      <td>4</td>\n",
       "      <td>2022-07-22</td>\n",
       "    </tr>\n",
       "    <tr>\n",
       "      <th>4</th>\n",
       "      <td>0</td>\n",
       "      <td>590692</td>\n",
       "      <td>5</td>\n",
       "      <td>2022-07-22</td>\n",
       "    </tr>\n",
       "  </tbody>\n",
       "</table>\n",
       "</div>"
      ],
      "text/plain": [
       "   user_id  track_id  track_seq started_at\n",
       "0        0     99262          1 2022-07-17\n",
       "1        0    589498          2 2022-07-19\n",
       "2        0    590262          3 2022-07-21\n",
       "3        0    590303          4 2022-07-22\n",
       "4        0    590692          5 2022-07-22"
      ]
     },
     "execution_count": 18,
     "metadata": {},
     "output_type": "execute_result"
    }
   ],
   "source": [
    "events_train.head()"
   ]
  },
  {
   "cell_type": "code",
   "execution_count": 23,
   "id": "7690c86f-7aa9-46ed-bba5-2c837626411e",
   "metadata": {},
   "outputs": [
    {
     "data": {
      "text/html": [
       "<div>\n",
       "<style scoped>\n",
       "    .dataframe tbody tr th:only-of-type {\n",
       "        vertical-align: middle;\n",
       "    }\n",
       "\n",
       "    .dataframe tbody tr th {\n",
       "        vertical-align: top;\n",
       "    }\n",
       "\n",
       "    .dataframe thead th {\n",
       "        text-align: right;\n",
       "    }\n",
       "</style>\n",
       "<table border=\"1\" class=\"dataframe\">\n",
       "  <thead>\n",
       "    <tr style=\"text-align: right;\">\n",
       "      <th></th>\n",
       "      <th>track_id</th>\n",
       "      <th>play_count</th>\n",
       "    </tr>\n",
       "  </thead>\n",
       "  <tbody>\n",
       "    <tr>\n",
       "      <th>0</th>\n",
       "      <td>53404</td>\n",
       "      <td>110026</td>\n",
       "    </tr>\n",
       "    <tr>\n",
       "      <th>1</th>\n",
       "      <td>33311009</td>\n",
       "      <td>101076</td>\n",
       "    </tr>\n",
       "    <tr>\n",
       "      <th>2</th>\n",
       "      <td>178529</td>\n",
       "      <td>100866</td>\n",
       "    </tr>\n",
       "    <tr>\n",
       "      <th>3</th>\n",
       "      <td>35505245</td>\n",
       "      <td>95523</td>\n",
       "    </tr>\n",
       "    <tr>\n",
       "      <th>4</th>\n",
       "      <td>24692821</td>\n",
       "      <td>84153</td>\n",
       "    </tr>\n",
       "  </tbody>\n",
       "</table>\n",
       "</div>"
      ],
      "text/plain": [
       "   track_id  play_count\n",
       "0     53404      110026\n",
       "1  33311009      101076\n",
       "2    178529      100866\n",
       "3  35505245       95523\n",
       "4  24692821       84153"
      ]
     },
     "execution_count": 23,
     "metadata": {},
     "output_type": "execute_result"
    }
   ],
   "source": [
    "# посчитаем количество прослушиваний треков.\n",
    "popular_tracks = events_train.groupby('track_id').size().reset_index(name='play_count')\n",
    "popular_tracks = popular_tracks.sort_values(by='play_count', ascending=False, ignore_index=True)\n",
    "popular_tracks.head()"
   ]
  },
  {
   "cell_type": "code",
   "execution_count": 24,
   "id": "b45ae372-d001-488c-b252-3e06411b5e38",
   "metadata": {},
   "outputs": [],
   "source": [
    "# нормализируем количество прослушивания с помощью min max нормализации.\n",
    "min_play_count = popular_tracks['play_count'].min()\n",
    "max_play_count = popular_tracks['play_count'].max()\n",
    "\n",
    "popular_tracks['score'] = ((popular_tracks['play_count'] - min_play_count) / \n",
    "                            (max_play_count - min_play_count)).round(2)\n",
    "del popular_tracks['play_count']"
   ]
  },
  {
   "cell_type": "code",
   "execution_count": 25,
   "id": "337cd88b-fd72-4f06-a28c-f87db457a01a",
   "metadata": {},
   "outputs": [
    {
     "data": {
      "text/html": [
       "<div>\n",
       "<style scoped>\n",
       "    .dataframe tbody tr th:only-of-type {\n",
       "        vertical-align: middle;\n",
       "    }\n",
       "\n",
       "    .dataframe tbody tr th {\n",
       "        vertical-align: top;\n",
       "    }\n",
       "\n",
       "    .dataframe thead th {\n",
       "        text-align: right;\n",
       "    }\n",
       "</style>\n",
       "<table border=\"1\" class=\"dataframe\">\n",
       "  <thead>\n",
       "    <tr style=\"text-align: right;\">\n",
       "      <th></th>\n",
       "      <th>track_id</th>\n",
       "      <th>score</th>\n",
       "    </tr>\n",
       "  </thead>\n",
       "  <tbody>\n",
       "    <tr>\n",
       "      <th>0</th>\n",
       "      <td>53404</td>\n",
       "      <td>1.00</td>\n",
       "    </tr>\n",
       "    <tr>\n",
       "      <th>1</th>\n",
       "      <td>33311009</td>\n",
       "      <td>0.92</td>\n",
       "    </tr>\n",
       "    <tr>\n",
       "      <th>2</th>\n",
       "      <td>178529</td>\n",
       "      <td>0.92</td>\n",
       "    </tr>\n",
       "    <tr>\n",
       "      <th>3</th>\n",
       "      <td>35505245</td>\n",
       "      <td>0.87</td>\n",
       "    </tr>\n",
       "    <tr>\n",
       "      <th>4</th>\n",
       "      <td>24692821</td>\n",
       "      <td>0.76</td>\n",
       "    </tr>\n",
       "  </tbody>\n",
       "</table>\n",
       "</div>"
      ],
      "text/plain": [
       "   track_id  score\n",
       "0     53404   1.00\n",
       "1  33311009   0.92\n",
       "2    178529   0.92\n",
       "3  35505245   0.87\n",
       "4  24692821   0.76"
      ]
     },
     "execution_count": 25,
     "metadata": {},
     "output_type": "execute_result"
    }
   ],
   "source": [
    "top_popular = popular_tracks.head(50)\n",
    "top_popular.head()"
   ]
  },
  {
   "cell_type": "code",
   "execution_count": 82,
   "id": "6c11f22b-633c-497f-9826-5e92c201b066",
   "metadata": {},
   "outputs": [],
   "source": [
    "# Сохраняем локально\n",
    "top_popular.to_parquet('datasets/top_popular.parquet')"
   ]
  },
  {
   "cell_type": "code",
   "execution_count": 26,
   "id": "3c2875e6-85c2-4494-9182-24af2720c1f4",
   "metadata": {},
   "outputs": [],
   "source": [
    "del popular_tracks, min_play_count, max_play_count"
   ]
  },
  {
   "cell_type": "code",
   "execution_count": 32,
   "id": "ff696200-8f84-462e-8bc6-a170d5295497",
   "metadata": {},
   "outputs": [
    {
     "data": {
      "text/html": [
       "<div>\n",
       "<style scoped>\n",
       "    .dataframe tbody tr th:only-of-type {\n",
       "        vertical-align: middle;\n",
       "    }\n",
       "\n",
       "    .dataframe tbody tr th {\n",
       "        vertical-align: top;\n",
       "    }\n",
       "\n",
       "    .dataframe thead th {\n",
       "        text-align: right;\n",
       "    }\n",
       "</style>\n",
       "<table border=\"1\" class=\"dataframe\">\n",
       "  <thead>\n",
       "    <tr style=\"text-align: right;\">\n",
       "      <th></th>\n",
       "      <th>user_id</th>\n",
       "      <th>track_id</th>\n",
       "      <th>score</th>\n",
       "    </tr>\n",
       "  </thead>\n",
       "  <tbody>\n",
       "    <tr>\n",
       "      <th>0</th>\n",
       "      <td>3</td>\n",
       "      <td>53404</td>\n",
       "      <td>1.00</td>\n",
       "    </tr>\n",
       "    <tr>\n",
       "      <th>1</th>\n",
       "      <td>3</td>\n",
       "      <td>33311009</td>\n",
       "      <td>0.92</td>\n",
       "    </tr>\n",
       "    <tr>\n",
       "      <th>2</th>\n",
       "      <td>3</td>\n",
       "      <td>178529</td>\n",
       "      <td>0.92</td>\n",
       "    </tr>\n",
       "  </tbody>\n",
       "</table>\n",
       "</div>"
      ],
      "text/plain": [
       "   user_id  track_id  score\n",
       "0        3     53404   1.00\n",
       "1        3  33311009   0.92\n",
       "2        3    178529   0.92"
      ]
     },
     "execution_count": 32,
     "metadata": {},
     "output_type": "execute_result"
    }
   ],
   "source": [
    "recom_top = (\n",
    "    events_test[['user_id']]\n",
    "    .drop_duplicates()\n",
    "    .reset_index(drop=True)\n",
    "    .merge(top_popular, how='cross')\n",
    "    .reset_index(drop=True)\n",
    ")\n",
    "recom_top.head(3)"
   ]
  },
  {
   "cell_type": "code",
   "execution_count": 26,
   "id": "0d7f58bc-7181-4f92-b177-16a405a3aa88",
   "metadata": {},
   "outputs": [],
   "source": [
    "recom_top.to_parquet('datasets/recom_top.parquet')"
   ]
  },
  {
   "cell_type": "code",
   "execution_count": 35,
   "id": "2a866d51",
   "metadata": {},
   "outputs": [
    {
     "name": "stdout",
     "output_type": "stream",
     "text": [
      "Файл успешно загружен в бакет s3-student-mle-20240325-db8a481ea6.\n"
     ]
    }
   ],
   "source": [
    "upload_to_yandex_s3('datasets/recom_top.parquet', 'recsys/recommendations/top_popular.parquet')"
   ]
  },
  {
   "cell_type": "code",
   "execution_count": 56,
   "id": "a1f44e15-1b9d-4832-ad3b-49535e6dff67",
   "metadata": {},
   "outputs": [],
   "source": [
    "def precision_recall_metrics(events_test, recs, top_k=None):\n",
    "\n",
    "    \"\"\"\n",
    "    размечает пары <user_id, item_id> для общего множества пользователей признаками\n",
    "    - gt (ground truth)\n",
    "    - pr (prediction)\n",
    "    top_k: расчёт ведётся только для top k-рекомендаций\n",
    "    \"\"\"\n",
    "    # отмечаем события 'ground truth'\n",
    "    events_test[\"gt\"] = True\n",
    "    \n",
    "    common_users = (\n",
    "        set(events_test[\"user_id\"].drop_duplicates())\n",
    "        & set(recs[\"user_id\"].drop_duplicates())\n",
    "    )\n",
    "    \n",
    "    events_for_common_users = events_test[events_test[\"user_id\"].isin(common_users)].copy()\n",
    "    recs_for_common_users = recs[recs[\"user_id\"].isin(common_users)].copy()\n",
    "\n",
    "    recs_for_common_users = recs_for_common_users.sort_values([\"user_id\", \"score\"], ascending=[True, False])\n",
    "\n",
    "    # в теории мы оставляли только те item_id, которые были в events_train, но в данном случаем нет уверенности что  так нужно делать.\n",
    "    \n",
    "    #events_for_common_users = events_for_common_users[events_for_common_users[\"item_id\"].isin(events_train[\"item_id\"].unique())]\n",
    "\n",
    "    # выбираем только top_k рекомендаций для юзера\n",
    "    if top_k is not None:\n",
    "        recs_for_common_users = recs_for_common_users.groupby(\"user_id\").head(top_k)\n",
    "        \n",
    "    # объеденяем тестовую выборку и рекомендации\n",
    "    events_recs_common = events_for_common_users[[\"user_id\", \"track_id\", \"gt\"]].merge(\n",
    "        recs_for_common_users[[\"user_id\", \"track_id\", \"score\"]], \n",
    "        on=[\"user_id\", \"track_id\"], how=\"outer\"\n",
    "    )    \n",
    "    \n",
    "    # помечаем нерелевантные'ground truth'\n",
    "    events_recs_common[\"gt\"] = events_recs_common[\"gt\"].fillna(False)\n",
    "\n",
    "    # если есть score отмечаем событие как 'pr'\n",
    "    events_recs_common[\"pr\"] = ~events_recs_common[\"score\"].isnull()\n",
    "    \n",
    "    events_recs_common[\"tp\"] = events_recs_common[\"gt\"] & events_recs_common[\"pr\"]\n",
    "    events_recs_common[\"fp\"] = ~events_recs_common[\"gt\"] & events_recs_common[\"pr\"]\n",
    "    events_recs_common[\"fn\"] = events_recs_common[\"gt\"] & ~events_recs_common[\"pr\"]\n",
    "\n",
    "    groupper = events_recs_common.groupby(\"user_id\")\n",
    "\n",
    "    # precision = tp / (tp + fp)\n",
    "    precision = groupper[\"tp\"].sum()/(groupper[\"tp\"].sum()+groupper[\"fp\"].sum())\n",
    "    precision = precision.fillna(0).mean()\n",
    "    precision = round(precision, 4)*100\n",
    "    \n",
    "    # recall = tp / (tp + fn)\n",
    "    recall = groupper[\"tp\"].sum() / (groupper[\"tp\"].sum() + groupper[\"fn\"].sum())\n",
    "    recall = recall.fillna(0).mean()\n",
    "    recall = round(recall, 4)*100\n",
    "\n",
    "    return precision, recall"
   ]
  },
  {
   "cell_type": "code",
   "execution_count": 57,
   "id": "1fb4e802-c007-4b72-adbb-5f7eba8f3931",
   "metadata": {},
   "outputs": [],
   "source": [
    "#precision_recall_metrics(events_test, recom_top, 5)"
   ]
  },
  {
   "cell_type": "code",
   "execution_count": 58,
   "id": "2e76b6d7-b513-4a70-90e8-19de34aba882",
   "metadata": {},
   "outputs": [],
   "source": [
    "def coverage_metric(recs, items):\n",
    "    \"\"\"\n",
    "    расчитывает покрытие рекомендациями по объектам\n",
    "    \"\"\"\n",
    "    get_item_coverage = recs['track_id'].nunique() / len(items)\n",
    "    get_item_coverage = round(get_item_coverage, 4)*100\n",
    "    \n",
    "    return get_item_coverage"
   ]
  },
  {
   "cell_type": "code",
   "execution_count": 59,
   "id": "309100f3-0b48-4f85-a5eb-675d9be0ec80",
   "metadata": {},
   "outputs": [],
   "source": [
    "#coverage_metric(recom_top, items)"
   ]
  },
  {
   "cell_type": "code",
   "execution_count": 60,
   "id": "b08a48d9-eef6-475e-88d2-08a31082d626",
   "metadata": {},
   "outputs": [],
   "source": [
    "def novelty_metric(recs, events_train, top_k):\n",
    "    \"\"\"\n",
    "    Расчет вероятности предложения пользователю объекты, которые он ранее не видел.\n",
    "    Novelty@k = ∣recommended@k∣ / ∣unknown@k∣\n",
    "    \"\"\"\n",
    "    # оставляем tok_k рекомендаций.\n",
    "    top_recs = (\n",
    "        recs\n",
    "        .sort_values(by=['user_id', 'score'], ascending=[True, False],\n",
    "                     ignore_index=True)\n",
    "        .groupby('user_id')\n",
    "        .head(top_k)\n",
    "        .reset_index(drop=True)\n",
    "        .copy()\n",
    "    )\n",
    "\n",
    "    # оставляем пользователей и треки которые присутствуют в топе рекомендаций\n",
    "    events_train = (\n",
    "        events_train[\n",
    "            events_train['user_id'].isin(top_recs['user_id'])\n",
    "            & events_train['track_id'].isin(top_recs['track_id'])\n",
    "        ]\n",
    "        [['user_id', 'track_id']]\n",
    "        .reset_index(drop=True)\n",
    "        .copy()\n",
    "    )\n",
    "\n",
    "    # разметим каждую события признаком unknown\n",
    "    events_train['unknown'] = False\n",
    "\n",
    "    # добавим  'unknown' к таблице рекомендаций\n",
    "    top_recs = top_recs.merge(\n",
    "        events_train[['user_id', 'track_id', 'unknown']],\n",
    "        on=['user_id', 'track_id'],\n",
    "        how='left'\n",
    "    )\n",
    "    top_recs['unknown'] = top_recs['unknown'].fillna(True).astype('bool')\n",
    "    novelty = top_recs.groupby('user_id')['unknown'].mean().mean() \n",
    "    novelty = round(novelty, 4)*100\n",
    "\n",
    "    return novelty"
   ]
  },
  {
   "cell_type": "code",
   "execution_count": 61,
   "id": "3b96c458-e1f1-4e4c-962c-e5f103117064",
   "metadata": {},
   "outputs": [],
   "source": [
    "#novelty_metric(recom_top, events_train, 5)"
   ]
  },
  {
   "cell_type": "code",
   "execution_count": 62,
   "id": "b9fb4422-c021-4913-84f2-5ad937827f14",
   "metadata": {},
   "outputs": [],
   "source": [
    "def combined_metrics(\n",
    "  recs,\n",
    "  items, \n",
    "  events_train,\n",
    "  events_test,\n",
    "  top_k):\n",
    "    \"\"\"\n",
    "    Комбинирует метрики покрытия и новизны в один DataFrame.\n",
    "    \n",
    "    :param recks: DataFrame рекомендаций\n",
    "    :param items: DataFrame с объектами\n",
    "    :param events_train: DataFrame с прошлым событиями\n",
    "    :param top_k: количество верхних рекомендаций\n",
    "    :return: DataFrame с метриками\n",
    "    \"\"\"\n",
    "    precision, recall = precision_recall_metrics(events_test, recs, top_k)\n",
    "    coverage = coverage_metric(recs, items)\n",
    "    novelty = novelty_metric(recs, events_train, top_k)\n",
    "    \n",
    "    \n",
    "    metrics_df = pd.DataFrame({\n",
    "        'Metric': ['Precision', 'Recall', 'Coverage', 'Novelty'],\n",
    "        'Value': [precision, recall, coverage, novelty]\n",
    "    })\n",
    "\n",
    "    return metrics_df"
   ]
  },
  {
   "cell_type": "code",
   "execution_count": 33,
   "id": "f4d7dd7e-8f3e-4615-af75-df41a17df221",
   "metadata": {},
   "outputs": [
    {
     "name": "stderr",
     "output_type": "stream",
     "text": [
      "/tmp/ipykernel_1862/2107217775.py:10: SettingWithCopyWarning: \n",
      "A value is trying to be set on a copy of a slice from a DataFrame.\n",
      "Try using .loc[row_indexer,col_indexer] = value instead\n",
      "\n",
      "See the caveats in the documentation: https://pandas.pydata.org/pandas-docs/stable/user_guide/indexing.html#returning-a-view-versus-a-copy\n",
      "  events_test[\"gt\"] = True\n"
     ]
    },
    {
     "data": {
      "text/html": [
       "<div>\n",
       "<style scoped>\n",
       "    .dataframe tbody tr th:only-of-type {\n",
       "        vertical-align: middle;\n",
       "    }\n",
       "\n",
       "    .dataframe tbody tr th {\n",
       "        vertical-align: top;\n",
       "    }\n",
       "\n",
       "    .dataframe thead th {\n",
       "        text-align: right;\n",
       "    }\n",
       "</style>\n",
       "<table border=\"1\" class=\"dataframe\">\n",
       "  <thead>\n",
       "    <tr style=\"text-align: right;\">\n",
       "      <th></th>\n",
       "      <th>Metric</th>\n",
       "      <th>Value</th>\n",
       "    </tr>\n",
       "  </thead>\n",
       "  <tbody>\n",
       "    <tr>\n",
       "      <th>0</th>\n",
       "      <td>Precision</td>\n",
       "      <td>0.36</td>\n",
       "    </tr>\n",
       "    <tr>\n",
       "      <th>1</th>\n",
       "      <td>Recall</td>\n",
       "      <td>0.13</td>\n",
       "    </tr>\n",
       "    <tr>\n",
       "      <th>2</th>\n",
       "      <td>Coverage</td>\n",
       "      <td>0.01</td>\n",
       "    </tr>\n",
       "    <tr>\n",
       "      <th>3</th>\n",
       "      <td>Novelty</td>\n",
       "      <td>92.62</td>\n",
       "    </tr>\n",
       "  </tbody>\n",
       "</table>\n",
       "</div>"
      ],
      "text/plain": [
       "      Metric  Value\n",
       "0  Precision   0.36\n",
       "1     Recall   0.13\n",
       "2   Coverage   0.01\n",
       "3    Novelty  92.62"
      ]
     },
     "execution_count": 33,
     "metadata": {},
     "output_type": "execute_result"
    }
   ],
   "source": [
    "top_pop_metrics = combined_metrics(recom_top, items, events_train, events_test, 5)\n",
    "top_pop_metrics"
   ]
  },
  {
   "cell_type": "code",
   "execution_count": 34,
   "id": "ef1dc952",
   "metadata": {},
   "outputs": [],
   "source": [
    "top_pop_metrics.to_parquet('datasets/top_pop_metrics.parquet')"
   ]
  },
  {
   "cell_type": "code",
   "execution_count": 37,
   "id": "ebe3881d",
   "metadata": {},
   "outputs": [],
   "source": [
    "del recom_top, top_pop_metrics"
   ]
  },
  {
   "cell_type": "markdown",
   "id": "ca7eb120-334d-47d5-910f-4dd2834357c1",
   "metadata": {},
   "source": [
    "Метрики кроме Novelty весьма низкие, но это не сюрприз, вполне логичная история."
   ]
  },
  {
   "cell_type": "markdown",
   "id": "2ad231f2-6158-421a-b7fa-01d8bc3ed572",
   "metadata": {},
   "source": [
    "# Персональные"
   ]
  },
  {
   "cell_type": "markdown",
   "id": "86159460-cd9d-4b63-8248-604ea3c9aebf",
   "metadata": {},
   "source": [
    "Рассчитаем персональные рекомендации."
   ]
  },
  {
   "cell_type": "code",
   "execution_count": 19,
   "id": "d2944822-569c-4f9b-82dc-70a7fa2d542e",
   "metadata": {},
   "outputs": [
    {
     "name": "stderr",
     "output_type": "stream",
     "text": [
      "/tmp/ipykernel_2015/1913820112.py:8: SettingWithCopyWarning: \n",
      "A value is trying to be set on a copy of a slice from a DataFrame.\n",
      "Try using .loc[row_indexer,col_indexer] = value instead\n",
      "\n",
      "See the caveats in the documentation: https://pandas.pydata.org/pandas-docs/stable/user_guide/indexing.html#returning-a-view-versus-a-copy\n",
      "  events_train[\"user_id_enc\"] = user_encoder.transform(events_train[\"user_id\"])\n",
      "/tmp/ipykernel_2015/1913820112.py:9: SettingWithCopyWarning: \n",
      "A value is trying to be set on a copy of a slice from a DataFrame.\n",
      "Try using .loc[row_indexer,col_indexer] = value instead\n",
      "\n",
      "See the caveats in the documentation: https://pandas.pydata.org/pandas-docs/stable/user_guide/indexing.html#returning-a-view-versus-a-copy\n",
      "  events_test[\"user_id_enc\"] = user_encoder.transform(events_test[\"user_id\"])\n",
      "/tmp/ipykernel_2015/1913820112.py:16: SettingWithCopyWarning: \n",
      "A value is trying to be set on a copy of a slice from a DataFrame.\n",
      "Try using .loc[row_indexer,col_indexer] = value instead\n",
      "\n",
      "See the caveats in the documentation: https://pandas.pydata.org/pandas-docs/stable/user_guide/indexing.html#returning-a-view-versus-a-copy\n",
      "  events_train[\"track_id_enc\"] = item_encoder.transform(events_train[\"track_id\"])\n",
      "/tmp/ipykernel_2015/1913820112.py:17: SettingWithCopyWarning: \n",
      "A value is trying to be set on a copy of a slice from a DataFrame.\n",
      "Try using .loc[row_indexer,col_indexer] = value instead\n",
      "\n",
      "See the caveats in the documentation: https://pandas.pydata.org/pandas-docs/stable/user_guide/indexing.html#returning-a-view-versus-a-copy\n",
      "  events_test[\"track_id_enc\"] = item_encoder.transform(events_test[\"track_id\"])\n"
     ]
    }
   ],
   "source": [
    "import scipy\n",
    "import sklearn.preprocessing\n",
    "\n",
    "# перекодируем идентификаторы пользователей: \n",
    "# из имеющихся в последовательность 0, 1, 2, ...\n",
    "user_encoder = sklearn.preprocessing.LabelEncoder()\n",
    "user_encoder.fit(events[\"user_id\"])\n",
    "events_train[\"user_id_enc\"] = user_encoder.transform(events_train[\"user_id\"])\n",
    "events_test[\"user_id_enc\"] = user_encoder.transform(events_test[\"user_id\"])\n",
    "\n",
    "# перекодируем идентификаторы объектов: \n",
    "# из имеющихся в последовательность 0, 1, 2, ...\n",
    "item_encoder = sklearn.preprocessing.LabelEncoder()\n",
    "item_encoder.fit(items[\"track_id\"])\n",
    "items[\"track_id_enc\"] = item_encoder.transform(items[\"track_id\"])\n",
    "events_train[\"track_id_enc\"] = item_encoder.transform(events_train[\"track_id\"])\n",
    "events_test[\"track_id_enc\"] = item_encoder.transform(events_test[\"track_id\"])"
   ]
  },
  {
   "cell_type": "code",
   "execution_count": 39,
   "id": "1e8cdb58-3a8c-45ad-8e5f-7f950314aa56",
   "metadata": {},
   "outputs": [
    {
     "data": {
      "text/plain": [
       "932663"
      ]
     },
     "execution_count": 39,
     "metadata": {},
     "output_type": "execute_result"
    }
   ],
   "source": [
    "# проверим макимальное значение для events_train['track_id_enc']\n",
    "events_train['track_id_enc'].max()"
   ]
  },
  {
   "cell_type": "code",
   "execution_count": 40,
   "id": "4d8da8f6-89b3-45db-a6cc-c6f0bad929e0",
   "metadata": {},
   "outputs": [
    {
     "data": {
      "text/html": [
       "<div>\n",
       "<style scoped>\n",
       "    .dataframe tbody tr th:only-of-type {\n",
       "        vertical-align: middle;\n",
       "    }\n",
       "\n",
       "    .dataframe tbody tr th {\n",
       "        vertical-align: top;\n",
       "    }\n",
       "\n",
       "    .dataframe thead th {\n",
       "        text-align: right;\n",
       "    }\n",
       "</style>\n",
       "<table border=\"1\" class=\"dataframe\">\n",
       "  <thead>\n",
       "    <tr style=\"text-align: right;\">\n",
       "      <th></th>\n",
       "      <th>user_id</th>\n",
       "      <th>track_id</th>\n",
       "      <th>track_seq</th>\n",
       "      <th>started_at</th>\n",
       "      <th>user_id_enc</th>\n",
       "      <th>track_id_enc</th>\n",
       "    </tr>\n",
       "  </thead>\n",
       "  <tbody>\n",
       "    <tr>\n",
       "      <th>81028817</th>\n",
       "      <td>519577</td>\n",
       "      <td>19736482</td>\n",
       "      <td>71</td>\n",
       "      <td>2022-04-13</td>\n",
       "      <td>518640</td>\n",
       "      <td>281654</td>\n",
       "    </tr>\n",
       "    <tr>\n",
       "      <th>188737887</th>\n",
       "      <td>1208620</td>\n",
       "      <td>565378</td>\n",
       "      <td>16</td>\n",
       "      <td>2022-10-25</td>\n",
       "      <td>1206393</td>\n",
       "      <td>53968</td>\n",
       "    </tr>\n",
       "    <tr>\n",
       "      <th>128704344</th>\n",
       "      <td>824256</td>\n",
       "      <td>55568</td>\n",
       "      <td>28</td>\n",
       "      <td>2022-05-24</td>\n",
       "      <td>822713</td>\n",
       "      <td>8451</td>\n",
       "    </tr>\n",
       "    <tr>\n",
       "      <th>80718919</th>\n",
       "      <td>517530</td>\n",
       "      <td>80048341</td>\n",
       "      <td>116</td>\n",
       "      <td>2022-09-22</td>\n",
       "      <td>516595</td>\n",
       "      <td>864915</td>\n",
       "    </tr>\n",
       "    <tr>\n",
       "      <th>119375533</th>\n",
       "      <td>764504</td>\n",
       "      <td>48592379</td>\n",
       "      <td>1137</td>\n",
       "      <td>2022-11-02</td>\n",
       "      <td>763093</td>\n",
       "      <td>630334</td>\n",
       "    </tr>\n",
       "  </tbody>\n",
       "</table>\n",
       "</div>"
      ],
      "text/plain": [
       "           user_id  track_id  track_seq started_at  user_id_enc  track_id_enc\n",
       "81028817    519577  19736482         71 2022-04-13       518640        281654\n",
       "188737887  1208620    565378         16 2022-10-25      1206393         53968\n",
       "128704344   824256     55568         28 2022-05-24       822713          8451\n",
       "80718919    517530  80048341        116 2022-09-22       516595        864915\n",
       "119375533   764504  48592379       1137 2022-11-02       763093        630334"
      ]
     },
     "execution_count": 40,
     "metadata": {},
     "output_type": "execute_result"
    }
   ],
   "source": [
    "# визуальная проверка\n",
    "events_train.sample(5)"
   ]
  },
  {
   "cell_type": "markdown",
   "id": "5f1d8363-eb37-43fc-a654-41712472136a",
   "metadata": {},
   "source": [
    "Для получения разряженной матрицы, четко обозначим что прогнозируем в рекомендациях. В имеющемся наборе данных, можно установить место трека в истории прослушивания, что возможно может помочь сделать некую ограниченную выборку, но скорее не поможет при прогнозировании. В наборе присутствует дата взаимодействия пользователя с треком, поэтому представм что наша матрица будет вида \"лайкнул\" трек или нет. "
   ]
  },
  {
   "cell_type": "code",
   "execution_count": 20,
   "id": "f92b365c-2a2a-4720-a099-cced8fde9cbb",
   "metadata": {},
   "outputs": [],
   "source": [
    "user_item_matrix_train = scipy.sparse.csr_matrix((\n",
    "    np.ones(len(events_train)),\n",
    "    (events_train['user_id_enc'], events_train['track_id_enc'])),\n",
    "    dtype=np.int8)"
   ]
  },
  {
   "cell_type": "code",
   "execution_count": 21,
   "id": "0c163c8c-66ca-49cd-a3c3-b4d06f5ccb75",
   "metadata": {},
   "outputs": [
    {
     "name": "stdout",
     "output_type": "stream",
     "text": [
      "Shape of user-item matrix (CSR): (1372042, 932664)\n"
     ]
    }
   ],
   "source": [
    "print(\"Shape of user-item matrix (CSR):\", user_item_matrix_train.shape)"
   ]
  },
  {
   "cell_type": "code",
   "execution_count": 22,
   "id": "b9a9c742-b317-422a-bdad-0253d38443e3",
   "metadata": {},
   "outputs": [
    {
     "data": {
      "text/plain": [
       "4.684656392782927"
      ]
     },
     "execution_count": 22,
     "metadata": {},
     "output_type": "execute_result"
    }
   ],
   "source": [
    "import sys\n",
    "\n",
    "sum([sys.getsizeof(i) for i in user_item_matrix_train.data])/1024**3 "
   ]
  },
  {
   "cell_type": "code",
   "execution_count": 44,
   "id": "05b14886-8091-48bf-b97b-cec6ce3e25e1",
   "metadata": {},
   "outputs": [
    {
     "name": "stderr",
     "output_type": "stream",
     "text": [
      "/home/mle-user/.local/lib/python3.10/site-packages/implicit/cpu/als.py:95: RuntimeWarning: OpenBLAS is configured to use 4 threads. It is highly recommended to disable its internal threadpool by setting the environment variable 'OPENBLAS_NUM_THREADS=1' or by calling 'threadpoolctl.threadpool_limits(1, \"blas\")'. Having OpenBLAS use a threadpool can lead to severe performance issues here.\n",
      "  check_blas_config()\n",
      "100%|██████████| 50/50 [40:18<00:00, 48.36s/it]\n"
     ]
    }
   ],
   "source": [
    "als_model = AlternatingLeastSquares(factors=50, iterations=50, regularization=0.05, random_state=0)\n",
    "als_model.fit(user_item_matrix_train) "
   ]
  },
  {
   "cell_type": "code",
   "execution_count": 45,
   "id": "8c11044c-9a99-4364-80f2-7ec182b09648",
   "metadata": {},
   "outputs": [
    {
     "data": {
      "text/plain": [
       "<implicit.cpu.als.AlternatingLeastSquares at 0x7f81e93cb880>"
      ]
     },
     "execution_count": 45,
     "metadata": {},
     "output_type": "execute_result"
    }
   ],
   "source": [
    "als_model"
   ]
  },
  {
   "cell_type": "code",
   "execution_count": 100,
   "id": "57659922-84a1-4974-8c84-d2e3740d04ce",
   "metadata": {},
   "outputs": [],
   "source": [
    "with open('models/als_model.pkl', 'wb') as f:\n",
    "       pickle.dump(als_model, f)\n"
   ]
  },
  {
   "cell_type": "code",
   "execution_count": 23,
   "id": "2fa3a2ef-3c97-4a71-8946-1a10b0d59b6c",
   "metadata": {},
   "outputs": [],
   "source": [
    "with open('models/als_model.pkl', 'rb') as f:\n",
    "    als_model = pickle.load(f)"
   ]
  },
  {
   "cell_type": "code",
   "execution_count": 24,
   "id": "b3d37052-0c3e-4abd-b3cd-a1050054e459",
   "metadata": {},
   "outputs": [],
   "source": [
    "def get_recommendations_als(user_item_matrix, model, user_id, user_encoder, item_encoder, include_seen=True, n=5):\n",
    "    \"\"\"\n",
    "    Возвращает отранжированные рекомендации для заданного пользователя\n",
    "    \"\"\"\n",
    "    user_id_enc = user_encoder.transform([user_id])[0]\n",
    "    recommendations = model.recommend(\n",
    "         user_id_enc, \n",
    "         user_item_matrix[user_id_enc], \n",
    "         filter_already_liked_items=not include_seen,\n",
    "         N=n)\n",
    "    recommendations = pd.DataFrame({\"track_id_enc\": recommendations[0], \"score\": recommendations[1]})\n",
    "    recommendations[\"track_id\"] = item_encoder.inverse_transform(recommendations[\"track_id_enc\"])\n",
    "    \n",
    "    return recommendations"
   ]
  },
  {
   "cell_type": "code",
   "execution_count": 25,
   "id": "46e3b009-5874-41cc-b2b4-52da638a4d2d",
   "metadata": {},
   "outputs": [
    {
     "name": "stdout",
     "output_type": "stream",
     "text": [
      "user_id: 174845\n"
     ]
    }
   ],
   "source": [
    "# выберем произвольного пользователя из тренировочной выборки (\"прошлого\")\n",
    "user_id = events_train['user_id'].sample().iat[0]\n",
    "\n",
    "print(f\"user_id: {user_id}\")"
   ]
  },
  {
   "cell_type": "code",
   "execution_count": 26,
   "id": "135866bf-88e0-4a90-8960-b60e2dd85a58",
   "metadata": {},
   "outputs": [
    {
     "data": {
      "text/html": [
       "<div>\n",
       "<style scoped>\n",
       "    .dataframe tbody tr th:only-of-type {\n",
       "        vertical-align: middle;\n",
       "    }\n",
       "\n",
       "    .dataframe tbody tr th {\n",
       "        vertical-align: top;\n",
       "    }\n",
       "\n",
       "    .dataframe thead th {\n",
       "        text-align: right;\n",
       "    }\n",
       "</style>\n",
       "<table border=\"1\" class=\"dataframe\">\n",
       "  <thead>\n",
       "    <tr style=\"text-align: right;\">\n",
       "      <th></th>\n",
       "      <th>track_id_enc</th>\n",
       "      <th>score</th>\n",
       "      <th>track_id</th>\n",
       "    </tr>\n",
       "  </thead>\n",
       "  <tbody>\n",
       "    <tr>\n",
       "      <th>0</th>\n",
       "      <td>112104</td>\n",
       "      <td>1.325974</td>\n",
       "      <td>2192826</td>\n",
       "    </tr>\n",
       "    <tr>\n",
       "      <th>1</th>\n",
       "      <td>53626</td>\n",
       "      <td>1.279978</td>\n",
       "      <td>560468</td>\n",
       "    </tr>\n",
       "    <tr>\n",
       "      <th>2</th>\n",
       "      <td>397911</td>\n",
       "      <td>1.226237</td>\n",
       "      <td>29569939</td>\n",
       "    </tr>\n",
       "    <tr>\n",
       "      <th>3</th>\n",
       "      <td>397551</td>\n",
       "      <td>1.222074</td>\n",
       "      <td>29544272</td>\n",
       "    </tr>\n",
       "    <tr>\n",
       "      <th>4</th>\n",
       "      <td>27994</td>\n",
       "      <td>1.219311</td>\n",
       "      <td>234701</td>\n",
       "    </tr>\n",
       "  </tbody>\n",
       "</table>\n",
       "</div>"
      ],
      "text/plain": [
       "   track_id_enc     score  track_id\n",
       "0        112104  1.325974   2192826\n",
       "1         53626  1.279978    560468\n",
       "2        397911  1.226237  29569939\n",
       "3        397551  1.222074  29544272\n",
       "4         27994  1.219311    234701"
      ]
     },
     "execution_count": 26,
     "metadata": {},
     "output_type": "execute_result"
    }
   ],
   "source": [
    "get_recommendations_als(user_item_matrix_train, als_model, user_id, user_encoder, item_encoder)"
   ]
  },
  {
   "cell_type": "code",
   "execution_count": 27,
   "id": "26e750fb-4905-4804-b6ab-f004327be0b8",
   "metadata": {},
   "outputs": [
    {
     "data": {
      "text/html": [
       "<div>\n",
       "<style scoped>\n",
       "    .dataframe tbody tr th:only-of-type {\n",
       "        vertical-align: middle;\n",
       "    }\n",
       "\n",
       "    .dataframe tbody tr th {\n",
       "        vertical-align: top;\n",
       "    }\n",
       "\n",
       "    .dataframe thead th {\n",
       "        text-align: right;\n",
       "    }\n",
       "</style>\n",
       "<table border=\"1\" class=\"dataframe\">\n",
       "  <thead>\n",
       "    <tr style=\"text-align: right;\">\n",
       "      <th></th>\n",
       "      <th>track_id</th>\n",
       "      <th>albums</th>\n",
       "      <th>artists</th>\n",
       "      <th>genres</th>\n",
       "      <th>name</th>\n",
       "      <th>names_of_albums</th>\n",
       "      <th>names_of_artists</th>\n",
       "      <th>names_of_genres</th>\n",
       "      <th>track_id_enc</th>\n",
       "    </tr>\n",
       "  </thead>\n",
       "  <tbody>\n",
       "    <tr>\n",
       "      <th>0</th>\n",
       "      <td>26</td>\n",
       "      <td>(3, 2490753)</td>\n",
       "      <td>(16,)</td>\n",
       "      <td>(11, 21)</td>\n",
       "      <td>Complimentary Me</td>\n",
       "      <td>(Taller Children, Taller Children)</td>\n",
       "      <td>(Elizabeth &amp; the Catapult,)</td>\n",
       "      <td>(pop, folk)</td>\n",
       "      <td>0</td>\n",
       "    </tr>\n",
       "    <tr>\n",
       "      <th>1</th>\n",
       "      <td>38</td>\n",
       "      <td>(3, 2490753)</td>\n",
       "      <td>(16,)</td>\n",
       "      <td>(11, 21)</td>\n",
       "      <td>Momma's Boy</td>\n",
       "      <td>(Taller Children, Taller Children)</td>\n",
       "      <td>(Elizabeth &amp; the Catapult,)</td>\n",
       "      <td>(pop, folk)</td>\n",
       "      <td>1</td>\n",
       "    </tr>\n",
       "    <tr>\n",
       "      <th>2</th>\n",
       "      <td>135</td>\n",
       "      <td>(12, 214, 2490809)</td>\n",
       "      <td>(84,)</td>\n",
       "      <td>(11,)</td>\n",
       "      <td>Atticus</td>\n",
       "      <td>(Wild Young Hearts, Wild Young Hearts, Wild Yo...</td>\n",
       "      <td>(Noisettes,)</td>\n",
       "      <td>(pop,)</td>\n",
       "      <td>2</td>\n",
       "    </tr>\n",
       "    <tr>\n",
       "      <th>3</th>\n",
       "      <td>136</td>\n",
       "      <td>(12, 214, 2490809)</td>\n",
       "      <td>(84,)</td>\n",
       "      <td>(11,)</td>\n",
       "      <td>24 Hours</td>\n",
       "      <td>(Wild Young Hearts, Wild Young Hearts, Wild Yo...</td>\n",
       "      <td>(Noisettes,)</td>\n",
       "      <td>(pop,)</td>\n",
       "      <td>3</td>\n",
       "    </tr>\n",
       "    <tr>\n",
       "      <th>4</th>\n",
       "      <td>138</td>\n",
       "      <td>(12, 214, 322, 72275, 72292, 91199, 213505, 24...</td>\n",
       "      <td>(84,)</td>\n",
       "      <td>(11,)</td>\n",
       "      <td>Don't Upset The Rhythm (Go Baby Go)</td>\n",
       "      <td>(Wild Young Hearts, Wild Young Hearts, Don't U...</td>\n",
       "      <td>(Noisettes,)</td>\n",
       "      <td>(pop,)</td>\n",
       "      <td>4</td>\n",
       "    </tr>\n",
       "  </tbody>\n",
       "</table>\n",
       "</div>"
      ],
      "text/plain": [
       "   track_id                                             albums artists  \\\n",
       "0        26                                       (3, 2490753)   (16,)   \n",
       "1        38                                       (3, 2490753)   (16,)   \n",
       "2       135                                 (12, 214, 2490809)   (84,)   \n",
       "3       136                                 (12, 214, 2490809)   (84,)   \n",
       "4       138  (12, 214, 322, 72275, 72292, 91199, 213505, 24...   (84,)   \n",
       "\n",
       "     genres                                 name  \\\n",
       "0  (11, 21)                     Complimentary Me   \n",
       "1  (11, 21)                          Momma's Boy   \n",
       "2     (11,)                              Atticus   \n",
       "3     (11,)                             24 Hours   \n",
       "4     (11,)  Don't Upset The Rhythm (Go Baby Go)   \n",
       "\n",
       "                                     names_of_albums  \\\n",
       "0                 (Taller Children, Taller Children)   \n",
       "1                 (Taller Children, Taller Children)   \n",
       "2  (Wild Young Hearts, Wild Young Hearts, Wild Yo...   \n",
       "3  (Wild Young Hearts, Wild Young Hearts, Wild Yo...   \n",
       "4  (Wild Young Hearts, Wild Young Hearts, Don't U...   \n",
       "\n",
       "              names_of_artists names_of_genres  track_id_enc  \n",
       "0  (Elizabeth & the Catapult,)     (pop, folk)             0  \n",
       "1  (Elizabeth & the Catapult,)     (pop, folk)             1  \n",
       "2                 (Noisettes,)          (pop,)             2  \n",
       "3                 (Noisettes,)          (pop,)             3  \n",
       "4                 (Noisettes,)          (pop,)             4  "
      ]
     },
     "execution_count": 27,
     "metadata": {},
     "output_type": "execute_result"
    }
   ],
   "source": [
    "items.head()"
   ]
  },
  {
   "cell_type": "code",
   "execution_count": 28,
   "id": "6363afc2-376d-4aab-9fde-d3630cb251ea",
   "metadata": {},
   "outputs": [
    {
     "name": "stdout",
     "output_type": "stream",
     "text": [
      "История (последние события, recent)\n"
     ]
    },
    {
     "data": {
      "text/html": [
       "<div>\n",
       "<style scoped>\n",
       "    .dataframe tbody tr th:only-of-type {\n",
       "        vertical-align: middle;\n",
       "    }\n",
       "\n",
       "    .dataframe tbody tr th {\n",
       "        vertical-align: top;\n",
       "    }\n",
       "\n",
       "    .dataframe thead th {\n",
       "        text-align: right;\n",
       "    }\n",
       "</style>\n",
       "<table border=\"1\" class=\"dataframe\">\n",
       "  <thead>\n",
       "    <tr style=\"text-align: right;\">\n",
       "      <th></th>\n",
       "      <th>name</th>\n",
       "      <th>names_of_artists</th>\n",
       "      <th>names_of_albums</th>\n",
       "      <th>names_of_genres</th>\n",
       "    </tr>\n",
       "  </thead>\n",
       "  <tbody>\n",
       "    <tr>\n",
       "      <th>2877</th>\n",
       "      <td>Kill Me Slow</td>\n",
       "      <td>(David Guetta, MORTEN)</td>\n",
       "      <td>(New Rave,)</td>\n",
       "      <td>(dance,)</td>\n",
       "    </tr>\n",
       "    <tr>\n",
       "      <th>2878</th>\n",
       "      <td>Хоровод</td>\n",
       "      <td>(СерьГа,)</td>\n",
       "      <td>(Чистота,)</td>\n",
       "      <td>(rusrock, allrock)</td>\n",
       "    </tr>\n",
       "    <tr>\n",
       "      <th>2879</th>\n",
       "      <td>Там, где далеко</td>\n",
       "      <td>(СерьГа,)</td>\n",
       "      <td>(Чистота,)</td>\n",
       "      <td>(rusrock, allrock)</td>\n",
       "    </tr>\n",
       "    <tr>\n",
       "      <th>2880</th>\n",
       "      <td>неболей</td>\n",
       "      <td>(Zivert, Баста)</td>\n",
       "      <td>(неболей,)</td>\n",
       "      <td>(pop, ruspop)</td>\n",
       "    </tr>\n",
       "    <tr>\n",
       "      <th>2881</th>\n",
       "      <td>Nothing Else Matters</td>\n",
       "      <td>(Metallica, San Francisco Symphony)</td>\n",
       "      <td>(Nothing Else Matters,)</td>\n",
       "      <td>(rock, allrock)</td>\n",
       "    </tr>\n",
       "    <tr>\n",
       "      <th>2882</th>\n",
       "      <td>Now That I've Found U</td>\n",
       "      <td>(Low Deep T,)</td>\n",
       "      <td>(Now That I've Found U,)</td>\n",
       "      <td>(electronics, house)</td>\n",
       "    </tr>\n",
       "    <tr>\n",
       "      <th>2883</th>\n",
       "      <td>Big In Japan</td>\n",
       "      <td>(Alex Midi,)</td>\n",
       "      <td>(Personal Computer Music,)</td>\n",
       "      <td>(dance,)</td>\n",
       "    </tr>\n",
       "    <tr>\n",
       "      <th>2884</th>\n",
       "      <td>Te Quiero Baby (I Love You Baby)</td>\n",
       "      <td>(Chesca, Pitbull, Frankie Valli)</td>\n",
       "      <td>(Te Quiero Baby (I Love You Baby), Quiero Ritm...</td>\n",
       "      <td>(pop,)</td>\n",
       "    </tr>\n",
       "    <tr>\n",
       "      <th>2885</th>\n",
       "      <td>Лето без Интернета</td>\n",
       "      <td>(Мумий Тролль,)</td>\n",
       "      <td>(Best 20-20, ПОСЛЕ ЗЛА)</td>\n",
       "      <td>(rusrock, allrock)</td>\n",
       "    </tr>\n",
       "    <tr>\n",
       "      <th>2886</th>\n",
       "      <td>Жимолость</td>\n",
       "      <td>(Мумий Тролль,)</td>\n",
       "      <td>(Best 20-20,)</td>\n",
       "      <td>(rusrock, allrock)</td>\n",
       "    </tr>\n",
       "  </tbody>\n",
       "</table>\n",
       "</div>"
      ],
      "text/plain": [
       "                                  name                     names_of_artists  \\\n",
       "2877                      Kill Me Slow               (David Guetta, MORTEN)   \n",
       "2878                           Хоровод                            (СерьГа,)   \n",
       "2879                   Там, где далеко                            (СерьГа,)   \n",
       "2880                           неболей                      (Zivert, Баста)   \n",
       "2881              Nothing Else Matters  (Metallica, San Francisco Symphony)   \n",
       "2882             Now That I've Found U                        (Low Deep T,)   \n",
       "2883                      Big In Japan                         (Alex Midi,)   \n",
       "2884  Te Quiero Baby (I Love You Baby)     (Chesca, Pitbull, Frankie Valli)   \n",
       "2885                Лето без Интернета                      (Мумий Тролль,)   \n",
       "2886                         Жимолость                      (Мумий Тролль,)   \n",
       "\n",
       "                                        names_of_albums       names_of_genres  \n",
       "2877                                        (New Rave,)              (dance,)  \n",
       "2878                                         (Чистота,)    (rusrock, allrock)  \n",
       "2879                                         (Чистота,)    (rusrock, allrock)  \n",
       "2880                                         (неболей,)         (pop, ruspop)  \n",
       "2881                            (Nothing Else Matters,)       (rock, allrock)  \n",
       "2882                           (Now That I've Found U,)  (electronics, house)  \n",
       "2883                         (Personal Computer Music,)              (dance,)  \n",
       "2884  (Te Quiero Baby (I Love You Baby), Quiero Ritm...                (pop,)  \n",
       "2885                            (Best 20-20, ПОСЛЕ ЗЛА)    (rusrock, allrock)  \n",
       "2886                                      (Best 20-20,)    (rusrock, allrock)  "
      ]
     },
     "metadata": {},
     "output_type": "display_data"
    },
    {
     "name": "stdout",
     "output_type": "stream",
     "text": [
      "Рекомендации\n"
     ]
    },
    {
     "data": {
      "text/html": [
       "<div>\n",
       "<style scoped>\n",
       "    .dataframe tbody tr th:only-of-type {\n",
       "        vertical-align: middle;\n",
       "    }\n",
       "\n",
       "    .dataframe tbody tr th {\n",
       "        vertical-align: top;\n",
       "    }\n",
       "\n",
       "    .dataframe thead th {\n",
       "        text-align: right;\n",
       "    }\n",
       "</style>\n",
       "<table border=\"1\" class=\"dataframe\">\n",
       "  <thead>\n",
       "    <tr style=\"text-align: right;\">\n",
       "      <th></th>\n",
       "      <th>track_id_enc</th>\n",
       "      <th>score</th>\n",
       "      <th>track_id</th>\n",
       "      <th>name</th>\n",
       "      <th>names_of_artists</th>\n",
       "      <th>names_of_albums</th>\n",
       "      <th>names_of_genres</th>\n",
       "    </tr>\n",
       "  </thead>\n",
       "  <tbody>\n",
       "    <tr>\n",
       "      <th>0</th>\n",
       "      <td>112104</td>\n",
       "      <td>1.325974</td>\n",
       "      <td>2192826</td>\n",
       "      <td>Владивосток 2000</td>\n",
       "      <td>(Мумий Тролль,)</td>\n",
       "      <td>(Морская, Best 20-20)</td>\n",
       "      <td>(rusrock, allrock)</td>\n",
       "    </tr>\n",
       "    <tr>\n",
       "      <th>1</th>\n",
       "      <td>53626</td>\n",
       "      <td>1.279978</td>\n",
       "      <td>560468</td>\n",
       "      <td>Варвара</td>\n",
       "      <td>(Би-2,)</td>\n",
       "      <td>(Би-2,)</td>\n",
       "      <td>(rusrock, allrock)</td>\n",
       "    </tr>\n",
       "    <tr>\n",
       "      <th>2</th>\n",
       "      <td>397911</td>\n",
       "      <td>1.226237</td>\n",
       "      <td>29569939</td>\n",
       "      <td>Tuesday</td>\n",
       "      <td>(Burak Yeter, Danelle Sandoval)</td>\n",
       "      <td>(Tuesday, Танцевальный рай 37, Hit List 2016, ...</td>\n",
       "      <td>(dance,)</td>\n",
       "    </tr>\n",
       "    <tr>\n",
       "      <th>3</th>\n",
       "      <td>397551</td>\n",
       "      <td>1.222074</td>\n",
       "      <td>29544272</td>\n",
       "      <td>Human</td>\n",
       "      <td>(Rag'n'Bone Man,)</td>\n",
       "      <td>(Human, Human, Some Chillout Music, Music Made...</td>\n",
       "      <td>(soundtrack, indie)</td>\n",
       "    </tr>\n",
       "    <tr>\n",
       "      <th>4</th>\n",
       "      <td>27994</td>\n",
       "      <td>1.219311</td>\n",
       "      <td>234701</td>\n",
       "      <td>U Can't Touch This</td>\n",
       "      <td>(MC Hammer,)</td>\n",
       "      <td>(Hip To The Hop: 30th Anniversary Of Hip Hop H...</td>\n",
       "      <td>(films, soundtrack, foreignrap, rap)</td>\n",
       "    </tr>\n",
       "  </tbody>\n",
       "</table>\n",
       "</div>"
      ],
      "text/plain": [
       "   track_id_enc     score  track_id                name  \\\n",
       "0        112104  1.325974   2192826    Владивосток 2000   \n",
       "1         53626  1.279978    560468             Варвара   \n",
       "2        397911  1.226237  29569939             Tuesday   \n",
       "3        397551  1.222074  29544272               Human   \n",
       "4         27994  1.219311    234701  U Can't Touch This   \n",
       "\n",
       "                  names_of_artists  \\\n",
       "0                  (Мумий Тролль,)   \n",
       "1                          (Би-2,)   \n",
       "2  (Burak Yeter, Danelle Sandoval)   \n",
       "3                (Rag'n'Bone Man,)   \n",
       "4                     (MC Hammer,)   \n",
       "\n",
       "                                     names_of_albums  \\\n",
       "0                              (Морская, Best 20-20)   \n",
       "1                                            (Би-2,)   \n",
       "2  (Tuesday, Танцевальный рай 37, Hit List 2016, ...   \n",
       "3  (Human, Human, Some Chillout Music, Music Made...   \n",
       "4  (Hip To The Hop: 30th Anniversary Of Hip Hop H...   \n",
       "\n",
       "                        names_of_genres  \n",
       "0                    (rusrock, allrock)  \n",
       "1                    (rusrock, allrock)  \n",
       "2                              (dance,)  \n",
       "3                   (soundtrack, indie)  \n",
       "4  (films, soundtrack, foreignrap, rap)  "
      ]
     },
     "metadata": {},
     "output_type": "display_data"
    }
   ],
   "source": [
    "print(\"История (последние события, recent)\")\n",
    "user_history = (\n",
    "    events_train\n",
    "    .query(\"user_id == @user_id\")\n",
    "    .merge(items.set_index(\"track_id\")[[\"name\", \"names_of_artists\", \"names_of_albums\", \"names_of_genres\"]], on=\"track_id\")\n",
    ")\n",
    "\n",
    "user_history_to_print = user_history[[\"name\", \"names_of_artists\", \"names_of_albums\", \"names_of_genres\"]].tail(10)\n",
    "display(user_history_to_print)\n",
    "\n",
    "print(\"Рекомендации\")\n",
    "user_recommendations = get_recommendations_als(user_item_matrix_train, als_model, user_id, user_encoder, item_encoder)\n",
    "user_recommendations = user_recommendations.merge(items[[\"track_id\", \"name\", \"names_of_artists\", \"names_of_albums\", \"names_of_genres\"]], on=\"track_id\" )\n",
    "display(user_recommendations) "
   ]
  },
  {
   "cell_type": "code",
   "execution_count": 29,
   "id": "d6472d58-fd6e-41de-9d1a-21c1d519acc1",
   "metadata": {},
   "outputs": [],
   "source": [
    "# получаем список всех возможных user_id (перекодированных)\n",
    "user_ids_encoded = range(len(user_encoder.classes_))"
   ]
  },
  {
   "cell_type": "code",
   "execution_count": 30,
   "id": "a58a1a4c-e130-42ac-b69f-0d35f616c87c",
   "metadata": {},
   "outputs": [],
   "source": [
    "# получаем рекомендации для всех пользователей\n",
    "personal_als = als_model.recommend(\n",
    "    user_ids_encoded, \n",
    "    user_item_matrix_train[user_ids_encoded], \n",
    "    filter_already_liked_items=True, N=10)"
   ]
  },
  {
   "cell_type": "code",
   "execution_count": 31,
   "id": "808f491b-d406-46a8-bcfa-206d917faf10",
   "metadata": {},
   "outputs": [],
   "source": [
    "# преобразуем полученные рекомендации в табличный формат\n",
    "track_ids_enc = personal_als[0]\n",
    "als_scores = personal_als[1]\n",
    "\n",
    "personal_als = pd.DataFrame({\n",
    "    \"user_id_enc\": user_ids_encoded,\n",
    "    \"track_id_enc\": track_ids_enc.tolist(), \n",
    "    \"score\": als_scores.tolist()})\n",
    "personal_als = personal_als.explode([\"track_id_enc\", \"score\"], ignore_index=True)"
   ]
  },
  {
   "cell_type": "code",
   "execution_count": 32,
   "id": "8376402d-276f-4e4f-bce4-451342237216",
   "metadata": {},
   "outputs": [],
   "source": [
    "# приводим типы данных\n",
    "personal_als[\"track_id_enc\"] = personal_als[\"track_id_enc\"].astype(\"int\")\n",
    "personal_als[\"score\"] = personal_als[\"score\"].astype(\"float\")\n",
    "\n",
    "# получаем изначальные идентификаторы\n",
    "personal_als[\"user_id\"] = user_encoder.inverse_transform(personal_als[\"user_id_enc\"])\n",
    "personal_als[\"track_id\"] = item_encoder.inverse_transform(personal_als[\"track_id_enc\"])\n",
    "personal_als = personal_als.drop(columns=[\"user_id_enc\", \"track_id_enc\"])"
   ]
  },
  {
   "cell_type": "code",
   "execution_count": 37,
   "id": "51119522-ca80-4459-9634-5bd36c85a1a0",
   "metadata": {},
   "outputs": [
    {
     "name": "stderr",
     "output_type": "stream",
     "text": [
      "/tmp/ipykernel_2015/2107217775.py:10: SettingWithCopyWarning: \n",
      "A value is trying to be set on a copy of a slice from a DataFrame.\n",
      "Try using .loc[row_indexer,col_indexer] = value instead\n",
      "\n",
      "See the caveats in the documentation: https://pandas.pydata.org/pandas-docs/stable/user_guide/indexing.html#returning-a-view-versus-a-copy\n",
      "  events_test[\"gt\"] = True\n"
     ]
    },
    {
     "data": {
      "text/html": [
       "<div>\n",
       "<style scoped>\n",
       "    .dataframe tbody tr th:only-of-type {\n",
       "        vertical-align: middle;\n",
       "    }\n",
       "\n",
       "    .dataframe tbody tr th {\n",
       "        vertical-align: top;\n",
       "    }\n",
       "\n",
       "    .dataframe thead th {\n",
       "        text-align: right;\n",
       "    }\n",
       "</style>\n",
       "<table border=\"1\" class=\"dataframe\">\n",
       "  <thead>\n",
       "    <tr style=\"text-align: right;\">\n",
       "      <th></th>\n",
       "      <th>Metric</th>\n",
       "      <th>Value</th>\n",
       "    </tr>\n",
       "  </thead>\n",
       "  <tbody>\n",
       "    <tr>\n",
       "      <th>0</th>\n",
       "      <td>Precision</td>\n",
       "      <td>1.33</td>\n",
       "    </tr>\n",
       "    <tr>\n",
       "      <th>1</th>\n",
       "      <td>Recall</td>\n",
       "      <td>0.98</td>\n",
       "    </tr>\n",
       "    <tr>\n",
       "      <th>2</th>\n",
       "      <td>Coverage</td>\n",
       "      <td>0.41</td>\n",
       "    </tr>\n",
       "    <tr>\n",
       "      <th>3</th>\n",
       "      <td>Novelty</td>\n",
       "      <td>100.00</td>\n",
       "    </tr>\n",
       "  </tbody>\n",
       "</table>\n",
       "</div>"
      ],
      "text/plain": [
       "      Metric   Value\n",
       "0  Precision    1.33\n",
       "1     Recall    0.98\n",
       "2   Coverage    0.41\n",
       "3    Novelty  100.00"
      ]
     },
     "execution_count": 37,
     "metadata": {},
     "output_type": "execute_result"
    }
   ],
   "source": [
    "personal_als_metrics=combined_metrics(personal_als, items, events_train, events_test, 5)\n",
    "personal_als_metrics"
   ]
  },
  {
   "cell_type": "markdown",
   "id": "490b3d24-0311-4679-b513-665e72d273f0",
   "metadata": {},
   "source": [
    "Метрики подросли, немного беспокоит Coverage, возможно поработать над параметрами рекомендаций и обучения, но машина с трудом справляется с текущими вычислениями."
   ]
  },
  {
   "cell_type": "code",
   "execution_count": 38,
   "id": "b90d0ef2-5f82-451e-ba97-1d1060997352",
   "metadata": {},
   "outputs": [],
   "source": [
    "personal_als_metrics.to_parquet('datasets/personal_als_metrics.parquet')"
   ]
  },
  {
   "cell_type": "code",
   "execution_count": 44,
   "id": "23bac211-84b8-4440-8a62-801cf53be2b3",
   "metadata": {},
   "outputs": [],
   "source": [
    "personal_als = personal_als[[\"user_id\", \"track_id\", \"score\"]]\n",
    "personal_als.to_parquet(\"datasets/personal_als.parquet\") "
   ]
  },
  {
   "cell_type": "code",
   "execution_count": 7,
   "id": "8dc96092-d183-4511-b115-45b6e5d1c7ee",
   "metadata": {},
   "outputs": [
    {
     "name": "stdout",
     "output_type": "stream",
     "text": [
      "Файл успешно загружен в бакет s3-student-mle-20240325-db8a481ea6.\n"
     ]
    }
   ],
   "source": [
    "upload_to_yandex_s3('datasets/personal_als.parquet', 'recsys/recommendations/personal_als.parquet')"
   ]
  },
  {
   "cell_type": "markdown",
   "id": "5f09dc7e-7c91-4355-860a-b9cfb9f33f15",
   "metadata": {},
   "source": [
    "# Похожие"
   ]
  },
  {
   "cell_type": "markdown",
   "id": "1dfcb683-b440-40a8-9975-894156a53872",
   "metadata": {},
   "source": [
    "Рассчитаем похожие, они позже пригодятся для онлайн-рекомендаций."
   ]
  },
  {
   "cell_type": "code",
   "execution_count": 45,
   "id": "d70540cb-d0e9-496e-9a4b-101462cccfe9",
   "metadata": {},
   "outputs": [],
   "source": [
    "# получим энкодированные идентификаторы всех объектов, известных нам из events_train\n",
    "train_item_ids_enc = events_train['track_id_enc'].unique()"
   ]
  },
  {
   "cell_type": "code",
   "execution_count": 46,
   "id": "16def454-5648-4e9f-bd4f-7e1aeb7bbb84",
   "metadata": {},
   "outputs": [],
   "source": [
    "max_similar_items = 10\n",
    "# получаем списки похожих объектов, используя ранее полученную ALS-модель\n",
    "# метод similar_items возвращает и сам объект, как наиболее похожий\n",
    "# этот объект мы позже отфильтруем, но сейчас запросим на 1 больше\n",
    "similar_items = als_model.similar_items(train_item_ids_enc, N=max_similar_items+1)"
   ]
  },
  {
   "cell_type": "code",
   "execution_count": 47,
   "id": "3b708e69-ef7e-4340-bd48-a5cc08f51a06",
   "metadata": {},
   "outputs": [],
   "source": [
    "# преобразуем полученные списки в табличный формат\n",
    "sim_item_item_ids_enc = similar_items[0]\n",
    "sim_item_scores = similar_items[1]\n",
    "\n",
    "similar_items = pd.DataFrame({\n",
    "    \"track_id_enc\": train_item_ids_enc,\n",
    "    \"sim_track_id_enc\": sim_item_item_ids_enc.tolist(), \n",
    "    \"score\": sim_item_scores.tolist()})\n",
    "similar_items = similar_items.explode([\"sim_track_id_enc\", \"score\"], ignore_index=True)"
   ]
  },
  {
   "cell_type": "code",
   "execution_count": 48,
   "id": "a75d07ee-4b12-4ce5-aa85-e45cb7a7a4f0",
   "metadata": {},
   "outputs": [],
   "source": [
    "# приводим типы данных\n",
    "similar_items[\"sim_track_id_enc\"] = similar_items[\"sim_track_id_enc\"].astype(\"int\")\n",
    "similar_items[\"score\"] = similar_items[\"score\"].astype(\"float\")\n",
    "\n",
    "# получаем изначальные идентификаторы\n",
    "similar_items[\"track_id_1\"] = item_encoder.inverse_transform(similar_items[\"track_id_enc\"])\n",
    "similar_items[\"track_id_2\"] = item_encoder.inverse_transform(similar_items[\"sim_track_id_enc\"])\n",
    "similar_items = similar_items.drop(columns=[\"track_id_enc\", \"sim_track_id_enc\"])\n",
    "\n",
    "# убираем пары с одинаковыми объектами\n",
    "similar_items = similar_items.query(\"track_id_1 != track_id_2\")"
   ]
  },
  {
   "cell_type": "code",
   "execution_count": 49,
   "id": "d046b152-76b6-4f87-89c5-5173e2db3dfc",
   "metadata": {},
   "outputs": [
    {
     "data": {
      "text/html": [
       "<div>\n",
       "<style scoped>\n",
       "    .dataframe tbody tr th:only-of-type {\n",
       "        vertical-align: middle;\n",
       "    }\n",
       "\n",
       "    .dataframe tbody tr th {\n",
       "        vertical-align: top;\n",
       "    }\n",
       "\n",
       "    .dataframe thead th {\n",
       "        text-align: right;\n",
       "    }\n",
       "</style>\n",
       "<table border=\"1\" class=\"dataframe\">\n",
       "  <thead>\n",
       "    <tr style=\"text-align: right;\">\n",
       "      <th></th>\n",
       "      <th>score</th>\n",
       "      <th>track_id_1</th>\n",
       "      <th>track_id_2</th>\n",
       "    </tr>\n",
       "  </thead>\n",
       "  <tbody>\n",
       "    <tr>\n",
       "      <th>1</th>\n",
       "      <td>0.937059</td>\n",
       "      <td>99262</td>\n",
       "      <td>99245</td>\n",
       "    </tr>\n",
       "    <tr>\n",
       "      <th>2</th>\n",
       "      <td>0.916971</td>\n",
       "      <td>99262</td>\n",
       "      <td>99254</td>\n",
       "    </tr>\n",
       "    <tr>\n",
       "      <th>3</th>\n",
       "      <td>0.916347</td>\n",
       "      <td>99262</td>\n",
       "      <td>99257</td>\n",
       "    </tr>\n",
       "    <tr>\n",
       "      <th>4</th>\n",
       "      <td>0.908396</td>\n",
       "      <td>99262</td>\n",
       "      <td>99241</td>\n",
       "    </tr>\n",
       "    <tr>\n",
       "      <th>5</th>\n",
       "      <td>0.903743</td>\n",
       "      <td>99262</td>\n",
       "      <td>99247</td>\n",
       "    </tr>\n",
       "  </tbody>\n",
       "</table>\n",
       "</div>"
      ],
      "text/plain": [
       "      score  track_id_1  track_id_2\n",
       "1  0.937059       99262       99245\n",
       "2  0.916971       99262       99254\n",
       "3  0.916347       99262       99257\n",
       "4  0.908396       99262       99241\n",
       "5  0.903743       99262       99247"
      ]
     },
     "execution_count": 49,
     "metadata": {},
     "output_type": "execute_result"
    }
   ],
   "source": [
    "similar_items.head()"
   ]
  },
  {
   "cell_type": "code",
   "execution_count": 50,
   "id": "ce370904-4c49-4152-8706-416074ea9b9a",
   "metadata": {},
   "outputs": [],
   "source": [
    "similar_items.to_parquet(\"datasets/similar.parquet\") "
   ]
  },
  {
   "cell_type": "code",
   "execution_count": 23,
   "id": "cb1d21ff-957c-4074-9a89-90e68afc9165",
   "metadata": {},
   "outputs": [
    {
     "name": "stdout",
     "output_type": "stream",
     "text": [
      "Файл успешно загружен в бакет s3-student-mle-20240325-db8a481ea6.\n"
     ]
    }
   ],
   "source": [
    "upload_to_yandex_s3('datasets/similar.parquet', 'recsys/recommendations/similar.parquet')"
   ]
  },
  {
   "cell_type": "markdown",
   "id": "47bcf88d-b236-46f0-a6f3-38ddd64895fe",
   "metadata": {},
   "source": [
    "# Ранжирование рекомендаций"
   ]
  },
  {
   "cell_type": "markdown",
   "id": "e8cd8223-3418-4493-8c87-1f76286ebda0",
   "metadata": {},
   "source": [
    "Построим ранжирующую модель, чтобы сделать рекомендации более точными. Отранжируем рекомендации."
   ]
  },
  {
   "cell_type": "code",
   "execution_count": 18,
   "id": "79f1dd92-32a9-463d-827e-8bb9ee5bbb54",
   "metadata": {},
   "outputs": [
    {
     "name": "stdout",
     "output_type": "stream",
     "text": [
      "Минимальная дата: 2022-01-01 00:00:00, Максимальная дата: 2022-12-15 00:00:00\n"
     ]
    }
   ],
   "source": [
    "min_date = events_train['started_at'].min()\n",
    "max_date = events_train['started_at'].max()\n",
    "\n",
    "print(f\"Минимальная дата: {min_date}, Максимальная дата: {max_date}\")"
   ]
  },
  {
   "cell_type": "code",
   "execution_count": 19,
   "id": "6dbe4db4-1ac5-44da-a13c-8e7f9768ab73",
   "metadata": {},
   "outputs": [
    {
     "name": "stdout",
     "output_type": "stream",
     "text": [
      "Минимальная дата: 2022-12-16 00:00:00, Максимальная дата: 2022-12-31 00:00:00\n"
     ]
    }
   ],
   "source": [
    "min_date = events_test['started_at'].min()\n",
    "max_date = events_test['started_at'].max()\n",
    "\n",
    "print(f\"Минимальная дата: {min_date}, Максимальная дата: {max_date}\")"
   ]
  },
  {
   "cell_type": "markdown",
   "id": "25cbb7ad-3cbb-473e-962c-d6602b633208",
   "metadata": {},
   "source": [
    "В двухстадийном подходе на одних и тех же данных обучаются и выдают рекомендации как базовые модели, так и ранжирующая. Есть определенные сомнения в том чтобы использовать в качестве обучающей выборки (делить) event_test, использование этой выборки для обучения может привести к переобучению, так как модель будет \"видеть\" результаты, которые она не должна знать на этапе обучения. Соответственно делить предпочту имеющуюся event_train. Это позволит оценить производительность модели в реальных сценариях, а также гарантирует, что модель сможет обрабатывать данные, которые она никогда не видела ранее."
   ]
  },
  {
   "cell_type": "markdown",
   "id": "4490a877-f739-4110-aa8f-13a19d608dd3",
   "metadata": {},
   "source": [
    "Данные в обучающей выборке у нас за год, с 1 января 2022 по 15 декабря 2022, для ранжирующей модели возьму период в 20 дней, с 25 ноября 2022 по 15 декабря 2022."
   ]
  },
  {
   "cell_type": "code",
   "execution_count": 18,
   "id": "b030ff7a-7132-482b-84d3-dec71a5abc5a",
   "metadata": {},
   "outputs": [
    {
     "data": {
      "text/plain": [
       "979014"
      ]
     },
     "execution_count": 18,
     "metadata": {},
     "output_type": "execute_result"
    }
   ],
   "source": [
    "split_date = pd.to_datetime(\"2022-11-25\")\n",
    "\n",
    "split_date_for_labels_idx = events_train[\"started_at\"] >= split_date\n",
    "events_to_rank = (events_train[split_date_for_labels_idx].reset_index(drop=True).copy()) # c 25 ноября 2022 по 15 декабря 2022\n",
    "events_to_cand = (events_train[~split_date_for_labels_idx].reset_index(drop=True).copy()) # с 1 января 2022 до 25 ноября 2022\n",
    "\n",
    "events_to_rank['user_id'].nunique()"
   ]
  },
  {
   "cell_type": "code",
   "execution_count": 26,
   "id": "ea8172f0-d3ba-455d-a4df-fb97167b9091",
   "metadata": {},
   "outputs": [
    {
     "data": {
      "text/plain": [
       "1273058"
      ]
     },
     "execution_count": 26,
     "metadata": {},
     "output_type": "execute_result"
    }
   ],
   "source": [
    "events_to_cand['user_id'].nunique()"
   ]
  },
  {
   "cell_type": "code",
   "execution_count": 27,
   "id": "851b3d00-b09d-4061-b7fa-913c7b82235c",
   "metadata": {},
   "outputs": [
    {
     "name": "stdout",
     "output_type": "stream",
     "text": [
      "Минимальная дата: 2022-11-25 00:00:00, Максимальная дата: 2022-12-15 00:00:00\n"
     ]
    }
   ],
   "source": [
    "min_date = events_to_rank['started_at'].min()\n",
    "max_date = events_to_rank['started_at'].max()\n",
    "\n",
    "print(f\"Минимальная дата: {min_date}, Максимальная дата: {max_date}\")"
   ]
  },
  {
   "cell_type": "code",
   "execution_count": 15,
   "id": "6c292ee1-420f-4b60-a763-7704ee9dc1cb",
   "metadata": {},
   "outputs": [],
   "source": [
    "del split_date_for_labels_idx"
   ]
  },
  {
   "cell_type": "markdown",
   "id": "d70c0d1e-01d8-4cd8-a4ba-e9ca1fdada9f",
   "metadata": {},
   "source": [
    "Теперь для более коректного обучения, повторю расчет топ популярных и персональных рекомендаций на данных с отсечкой до 25 ноября."
   ]
  },
  {
   "cell_type": "code",
   "execution_count": 22,
   "id": "8b91f110-73a3-427c-981c-2f9daba05913",
   "metadata": {},
   "outputs": [
    {
     "data": {
      "text/html": [
       "<div>\n",
       "<style scoped>\n",
       "    .dataframe tbody tr th:only-of-type {\n",
       "        vertical-align: middle;\n",
       "    }\n",
       "\n",
       "    .dataframe tbody tr th {\n",
       "        vertical-align: top;\n",
       "    }\n",
       "\n",
       "    .dataframe thead th {\n",
       "        text-align: right;\n",
       "    }\n",
       "</style>\n",
       "<table border=\"1\" class=\"dataframe\">\n",
       "  <thead>\n",
       "    <tr style=\"text-align: right;\">\n",
       "      <th></th>\n",
       "      <th>track_id</th>\n",
       "      <th>play_count</th>\n",
       "    </tr>\n",
       "  </thead>\n",
       "  <tbody>\n",
       "    <tr>\n",
       "      <th>0</th>\n",
       "      <td>53404</td>\n",
       "      <td>106423</td>\n",
       "    </tr>\n",
       "    <tr>\n",
       "      <th>1</th>\n",
       "      <td>178529</td>\n",
       "      <td>97303</td>\n",
       "    </tr>\n",
       "    <tr>\n",
       "      <th>2</th>\n",
       "      <td>33311009</td>\n",
       "      <td>90143</td>\n",
       "    </tr>\n",
       "    <tr>\n",
       "      <th>3</th>\n",
       "      <td>35505245</td>\n",
       "      <td>87481</td>\n",
       "    </tr>\n",
       "    <tr>\n",
       "      <th>4</th>\n",
       "      <td>795836</td>\n",
       "      <td>79977</td>\n",
       "    </tr>\n",
       "  </tbody>\n",
       "</table>\n",
       "</div>"
      ],
      "text/plain": [
       "   track_id  play_count\n",
       "0     53404      106423\n",
       "1    178529       97303\n",
       "2  33311009       90143\n",
       "3  35505245       87481\n",
       "4    795836       79977"
      ]
     },
     "execution_count": 22,
     "metadata": {},
     "output_type": "execute_result"
    }
   ],
   "source": [
    "# посчитаем количество прослушиваний треков.\n",
    "popular_tracks_to_cand = events_to_cand.groupby('track_id').size().reset_index(name='play_count')\n",
    "popular_tracks_to_cand = popular_tracks_to_cand.sort_values(by='play_count', ascending=False, ignore_index=True)\n",
    "popular_tracks_to_cand.head()"
   ]
  },
  {
   "cell_type": "code",
   "execution_count": 23,
   "id": "d0b70492-6ee5-4953-8680-6c318e0ebdfb",
   "metadata": {},
   "outputs": [],
   "source": [
    "# нормализируем количество прослушивания с помощью min max нормализации.\n",
    "min_play_count = popular_tracks_to_cand['play_count'].min()\n",
    "max_play_count = popular_tracks_to_cand['play_count'].max()\n",
    "\n",
    "popular_tracks_to_cand['score'] = ((popular_tracks_to_cand['play_count'] - min_play_count) / \n",
    "                            (max_play_count - min_play_count)).round(2)\n",
    "del popular_tracks_to_cand['play_count']"
   ]
  },
  {
   "cell_type": "code",
   "execution_count": 24,
   "id": "fb456d23-3fd5-450a-8c44-dc20c87ae017",
   "metadata": {},
   "outputs": [],
   "source": [
    "top_popular_to_cand = popular_tracks_to_cand.head(50)"
   ]
  },
  {
   "cell_type": "code",
   "execution_count": 25,
   "id": "706a342c-f50c-4fec-a6be-56abab3d340a",
   "metadata": {},
   "outputs": [
    {
     "data": {
      "text/html": [
       "<div>\n",
       "<style scoped>\n",
       "    .dataframe tbody tr th:only-of-type {\n",
       "        vertical-align: middle;\n",
       "    }\n",
       "\n",
       "    .dataframe tbody tr th {\n",
       "        vertical-align: top;\n",
       "    }\n",
       "\n",
       "    .dataframe thead th {\n",
       "        text-align: right;\n",
       "    }\n",
       "</style>\n",
       "<table border=\"1\" class=\"dataframe\">\n",
       "  <thead>\n",
       "    <tr style=\"text-align: right;\">\n",
       "      <th></th>\n",
       "      <th>track_id</th>\n",
       "      <th>score</th>\n",
       "    </tr>\n",
       "  </thead>\n",
       "  <tbody>\n",
       "    <tr>\n",
       "      <th>0</th>\n",
       "      <td>53404</td>\n",
       "      <td>1.00</td>\n",
       "    </tr>\n",
       "    <tr>\n",
       "      <th>1</th>\n",
       "      <td>178529</td>\n",
       "      <td>0.91</td>\n",
       "    </tr>\n",
       "    <tr>\n",
       "      <th>2</th>\n",
       "      <td>33311009</td>\n",
       "      <td>0.85</td>\n",
       "    </tr>\n",
       "    <tr>\n",
       "      <th>3</th>\n",
       "      <td>35505245</td>\n",
       "      <td>0.82</td>\n",
       "    </tr>\n",
       "    <tr>\n",
       "      <th>4</th>\n",
       "      <td>795836</td>\n",
       "      <td>0.75</td>\n",
       "    </tr>\n",
       "  </tbody>\n",
       "</table>\n",
       "</div>"
      ],
      "text/plain": [
       "   track_id  score\n",
       "0     53404   1.00\n",
       "1    178529   0.91\n",
       "2  33311009   0.85\n",
       "3  35505245   0.82\n",
       "4    795836   0.75"
      ]
     },
     "execution_count": 25,
     "metadata": {},
     "output_type": "execute_result"
    }
   ],
   "source": [
    "top_popular_to_cand.head()"
   ]
  },
  {
   "cell_type": "markdown",
   "id": "79a1803a-f98e-474c-825e-712a0aeccaba",
   "metadata": {},
   "source": [
    "Датафрейм с рекомендациями топ популярных для выборки до 25 ноября"
   ]
  },
  {
   "cell_type": "code",
   "execution_count": 26,
   "id": "565a3147-2179-4967-85e7-7b1bbcd9c9ee",
   "metadata": {},
   "outputs": [
    {
     "data": {
      "text/html": [
       "<div>\n",
       "<style scoped>\n",
       "    .dataframe tbody tr th:only-of-type {\n",
       "        vertical-align: middle;\n",
       "    }\n",
       "\n",
       "    .dataframe tbody tr th {\n",
       "        vertical-align: top;\n",
       "    }\n",
       "\n",
       "    .dataframe thead th {\n",
       "        text-align: right;\n",
       "    }\n",
       "</style>\n",
       "<table border=\"1\" class=\"dataframe\">\n",
       "  <thead>\n",
       "    <tr style=\"text-align: right;\">\n",
       "      <th></th>\n",
       "      <th>user_id</th>\n",
       "      <th>track_id</th>\n",
       "      <th>score</th>\n",
       "    </tr>\n",
       "  </thead>\n",
       "  <tbody>\n",
       "    <tr>\n",
       "      <th>0</th>\n",
       "      <td>3</td>\n",
       "      <td>53404</td>\n",
       "      <td>1.00</td>\n",
       "    </tr>\n",
       "    <tr>\n",
       "      <th>1</th>\n",
       "      <td>3</td>\n",
       "      <td>178529</td>\n",
       "      <td>0.91</td>\n",
       "    </tr>\n",
       "    <tr>\n",
       "      <th>2</th>\n",
       "      <td>3</td>\n",
       "      <td>33311009</td>\n",
       "      <td>0.85</td>\n",
       "    </tr>\n",
       "    <tr>\n",
       "      <th>3</th>\n",
       "      <td>3</td>\n",
       "      <td>35505245</td>\n",
       "      <td>0.82</td>\n",
       "    </tr>\n",
       "    <tr>\n",
       "      <th>4</th>\n",
       "      <td>3</td>\n",
       "      <td>795836</td>\n",
       "      <td>0.75</td>\n",
       "    </tr>\n",
       "  </tbody>\n",
       "</table>\n",
       "</div>"
      ],
      "text/plain": [
       "   user_id  track_id  score\n",
       "0        3     53404   1.00\n",
       "1        3    178529   0.91\n",
       "2        3  33311009   0.85\n",
       "3        3  35505245   0.82\n",
       "4        3    795836   0.75"
      ]
     },
     "execution_count": 26,
     "metadata": {},
     "output_type": "execute_result"
    }
   ],
   "source": [
    "recom_top_to_rank = (\n",
    "    events_to_rank[['user_id']]\n",
    "    .drop_duplicates()\n",
    "    .reset_index(drop=True)\n",
    "    .merge(top_popular_to_cand, how='cross')\n",
    "    .reset_index(drop=True)\n",
    ")\n",
    "recom_top_to_rank.head()"
   ]
  },
  {
   "cell_type": "code",
   "execution_count": 39,
   "id": "bded28ce-248a-4afb-ac7e-00368ca5db63",
   "metadata": {},
   "outputs": [],
   "source": [
    "recom_top_to_rank.to_parquet(\"datasets/recom_top_to_rank.parquet\") "
   ]
  },
  {
   "cell_type": "markdown",
   "id": "42936045-2887-4bf3-9560-956133d6e2a0",
   "metadata": {},
   "source": [
    "Перерасчет персональных als рекомендаций."
   ]
  },
  {
   "cell_type": "code",
   "execution_count": 29,
   "id": "f7348807-1a4c-43b4-8e06-e9efaaac000e",
   "metadata": {},
   "outputs": [],
   "source": [
    "# проведем перекодировеку идентификаторов\n",
    "\n",
    "events_to_cand[\"user_id_enc\"] = user_encoder.transform(events_to_cand[\"user_id\"])\n",
    "events_to_rank[\"user_id_enc\"] = user_encoder.transform(events_to_rank[\"user_id\"])\n",
    "\n",
    "events_to_cand[\"track_id_enc\"] = item_encoder.transform(events_to_cand[\"track_id\"])\n",
    "events_to_rank[\"track_id_enc\"] = item_encoder.transform(events_to_rank[\"track_id\"])"
   ]
  },
  {
   "cell_type": "code",
   "execution_count": 30,
   "id": "5cbb4089-4fe4-4bc6-8981-dc79b77f45dd",
   "metadata": {},
   "outputs": [],
   "source": [
    "# построим разреженную матрицу\n",
    "user_item_matrix_train_to_rank = scipy.sparse.csr_matrix((\n",
    "    np.ones(len(events_to_cand)),\n",
    "    (events_to_cand['user_id_enc'], events_to_cand['track_id_enc'])),\n",
    "    dtype=np.int8)"
   ]
  },
  {
   "cell_type": "code",
   "execution_count": 31,
   "id": "57850583-bec4-4921-a6d7-5dcab7ae09ca",
   "metadata": {},
   "outputs": [
    {
     "name": "stderr",
     "output_type": "stream",
     "text": [
      "/home/mle-user/.local/lib/python3.10/site-packages/implicit/cpu/als.py:95: RuntimeWarning: OpenBLAS is configured to use 4 threads. It is highly recommended to disable its internal threadpool by setting the environment variable 'OPENBLAS_NUM_THREADS=1' or by calling 'threadpoolctl.threadpool_limits(1, \"blas\")'. Having OpenBLAS use a threadpool can lead to severe performance issues here.\n",
      "  check_blas_config()\n",
      "100%|██████████████████████████████████████████████████████████████████████████████████████| 50/50 [35:43<00:00, 42.86s/it]\n"
     ]
    }
   ],
   "source": [
    "# обучим модель для пользователей до 25.11.2022\n",
    "als_model_to_rank = AlternatingLeastSquares(factors=50, iterations=50, regularization=0.05, random_state=0)\n",
    "als_model_to_rank.fit(user_item_matrix_train_to_rank) "
   ]
  },
  {
   "cell_type": "code",
   "execution_count": 32,
   "id": "7bd253ba-a6e1-458c-8c2d-08cc64f94dfb",
   "metadata": {},
   "outputs": [],
   "source": [
    "# Сохраняю модель для удобства переиспользования\n",
    "with open('models/als_model_to_rank.pkl', 'wb') as f:\n",
    "       pickle.dump(als_model_to_rank, f)"
   ]
  },
  {
   "cell_type": "code",
   "execution_count": 24,
   "id": "8a0eaaa6-435f-494d-8cc3-6a6881160e97",
   "metadata": {},
   "outputs": [],
   "source": [
    "with open('models/als_model_to_rank.pkl', 'rb') as f:\n",
    "    als_model_to_rank = pickle.load(f)"
   ]
  },
  {
   "cell_type": "code",
   "execution_count": 30,
   "id": "4b806b7a-080f-4c9d-94ff-d98ab314b251",
   "metadata": {},
   "outputs": [],
   "source": [
    "# получаем список всех возможных user_id (перекодированных)\n",
    "user_ids_encoded = range(len(user_encoder.classes_))"
   ]
  },
  {
   "cell_type": "code",
   "execution_count": 35,
   "id": "ad415c72-5933-40c5-bde7-34003a28bd1b",
   "metadata": {},
   "outputs": [],
   "source": [
    "# рекомендации для всех пользователей\n",
    "personal_als_rank = als_model_to_rank.recommend(\n",
    "    user_ids_encoded, \n",
    "    user_item_matrix_train_to_rank[user_ids_encoded], \n",
    "    filter_already_liked_items=True, N=10)"
   ]
  },
  {
   "cell_type": "code",
   "execution_count": 38,
   "id": "59a7397b-33cf-4936-a967-e989fdaca0be",
   "metadata": {},
   "outputs": [],
   "source": [
    "# преобразуем полученные рекомендации в табличный формат\n",
    "track_ids_enc_rank = personal_als_rank[0]\n",
    "als_scores_rank = personal_als_rank[1]\n",
    "\n",
    "personal_als_rank = pd.DataFrame({\n",
    "    \"user_id_enc\": user_ids_encoded,\n",
    "    \"track_id_enc\": track_ids_enc_rank.tolist(), \n",
    "    \"score\": als_scores_rank.tolist()})\n",
    "personal_als_rank = personal_als_rank.explode([\"track_id_enc\", \"score\"], ignore_index=True)"
   ]
  },
  {
   "cell_type": "code",
   "execution_count": 39,
   "id": "e756f9c5-8897-48a9-8039-d7c4c112f21e",
   "metadata": {},
   "outputs": [],
   "source": [
    "# приводим типы данных\n",
    "personal_als_rank[\"track_id_enc\"] = personal_als_rank[\"track_id_enc\"].astype(\"int\")\n",
    "personal_als_rank[\"score\"] = personal_als_rank[\"score\"].astype(\"float\")\n",
    "\n",
    "# получаем изначальные идентификаторы\n",
    "personal_als_rank[\"user_id\"] = user_encoder.inverse_transform(personal_als_rank[\"user_id_enc\"])\n",
    "personal_als_rank[\"track_id\"] = item_encoder.inverse_transform(personal_als_rank[\"track_id_enc\"])\n",
    "personal_als_rank = personal_als_rank.drop(columns=[\"user_id_enc\", \"track_id_enc\"])"
   ]
  },
  {
   "cell_type": "code",
   "execution_count": 40,
   "id": "360f2313-d242-443b-944e-99efe9f47eee",
   "metadata": {},
   "outputs": [
    {
     "data": {
      "text/html": [
       "<div>\n",
       "<style scoped>\n",
       "    .dataframe tbody tr th:only-of-type {\n",
       "        vertical-align: middle;\n",
       "    }\n",
       "\n",
       "    .dataframe tbody tr th {\n",
       "        vertical-align: top;\n",
       "    }\n",
       "\n",
       "    .dataframe thead th {\n",
       "        text-align: right;\n",
       "    }\n",
       "</style>\n",
       "<table border=\"1\" class=\"dataframe\">\n",
       "  <thead>\n",
       "    <tr style=\"text-align: right;\">\n",
       "      <th></th>\n",
       "      <th>score</th>\n",
       "      <th>user_id</th>\n",
       "      <th>track_id</th>\n",
       "    </tr>\n",
       "  </thead>\n",
       "  <tbody>\n",
       "    <tr>\n",
       "      <th>0</th>\n",
       "      <td>0.012702</td>\n",
       "      <td>0</td>\n",
       "      <td>29213451</td>\n",
       "    </tr>\n",
       "    <tr>\n",
       "      <th>1</th>\n",
       "      <td>0.012584</td>\n",
       "      <td>0</td>\n",
       "      <td>27077792</td>\n",
       "    </tr>\n",
       "    <tr>\n",
       "      <th>2</th>\n",
       "      <td>0.011821</td>\n",
       "      <td>0</td>\n",
       "      <td>21101463</td>\n",
       "    </tr>\n",
       "    <tr>\n",
       "      <th>3</th>\n",
       "      <td>0.011767</td>\n",
       "      <td>0</td>\n",
       "      <td>18860</td>\n",
       "    </tr>\n",
       "    <tr>\n",
       "      <th>4</th>\n",
       "      <td>0.011367</td>\n",
       "      <td>0</td>\n",
       "      <td>19722850</td>\n",
       "    </tr>\n",
       "  </tbody>\n",
       "</table>\n",
       "</div>"
      ],
      "text/plain": [
       "      score  user_id  track_id\n",
       "0  0.012702        0  29213451\n",
       "1  0.012584        0  27077792\n",
       "2  0.011821        0  21101463\n",
       "3  0.011767        0     18860\n",
       "4  0.011367        0  19722850"
      ]
     },
     "execution_count": 40,
     "metadata": {},
     "output_type": "execute_result"
    }
   ],
   "source": [
    "personal_als_rank.head()"
   ]
  },
  {
   "cell_type": "code",
   "execution_count": 41,
   "id": "55656e76-c2de-4f13-b053-284fab8f8eb4",
   "metadata": {},
   "outputs": [],
   "source": [
    "personal_als_rank = personal_als_rank[[\"user_id\", \"track_id\", \"score\"]]\n",
    "personal_als_rank.to_parquet(\"datasets/personal_als_rank.parquet\") "
   ]
  },
  {
   "cell_type": "markdown",
   "id": "5ae38aab-e57c-4b80-be5b-d66db51a695f",
   "metadata": {},
   "source": [
    "Загружаю рекомендации и рекомендации с отсечкой до 25 ноября"
   ]
  },
  {
   "cell_type": "code",
   "execution_count": 26,
   "id": "ae20bb6a-f2bf-4f3f-a3ce-6f95a46097d0",
   "metadata": {},
   "outputs": [],
   "source": [
    "recom_top_to_rank = pd.read_parquet(\"datasets/recom_top_to_rank.parquet\") \n",
    "personal_als_rank = pd.read_parquet(\"datasets/personal_als_rank.parquet\") "
   ]
  },
  {
   "cell_type": "code",
   "execution_count": 27,
   "id": "d6eadfa0-b0e7-4328-94a9-08987525ce61",
   "metadata": {},
   "outputs": [],
   "source": [
    "recom_top = pd.read_parquet(\"datasets/recom_top.parquet\")\n",
    "personal_als = pd.read_parquet(\"datasets/personal_als.parquet\")"
   ]
  },
  {
   "cell_type": "code",
   "execution_count": 28,
   "id": "1f076064-63a5-436a-8744-c0b6f9152120",
   "metadata": {},
   "outputs": [],
   "source": [
    "# объеденияю рекомендации от двух базовых генераторов для обучения ранжирующей модели\n",
    "candidates = pd.merge(\n",
    "    recom_top_to_rank.rename(columns={\"score\": \"top_score\"}),\n",
    "    personal_als_rank.rename(columns={\"score\": \"als_score\"}),\n",
    "    on=['user_id', 'track_id'],\n",
    "    how=\"outer\"\n",
    ")"
   ]
  },
  {
   "cell_type": "code",
   "execution_count": 29,
   "id": "2634fa44-dd7c-46fc-aa0b-79fa3c9d4c61",
   "metadata": {},
   "outputs": [
    {
     "data": {
      "text/html": [
       "<div>\n",
       "<style scoped>\n",
       "    .dataframe tbody tr th:only-of-type {\n",
       "        vertical-align: middle;\n",
       "    }\n",
       "\n",
       "    .dataframe tbody tr th {\n",
       "        vertical-align: top;\n",
       "    }\n",
       "\n",
       "    .dataframe thead th {\n",
       "        text-align: right;\n",
       "    }\n",
       "</style>\n",
       "<table border=\"1\" class=\"dataframe\">\n",
       "  <thead>\n",
       "    <tr style=\"text-align: right;\">\n",
       "      <th></th>\n",
       "      <th>user_id</th>\n",
       "      <th>track_id</th>\n",
       "      <th>top_score</th>\n",
       "      <th>als_score</th>\n",
       "    </tr>\n",
       "  </thead>\n",
       "  <tbody>\n",
       "    <tr>\n",
       "      <th>0</th>\n",
       "      <td>3</td>\n",
       "      <td>53404</td>\n",
       "      <td>1.00</td>\n",
       "      <td>NaN</td>\n",
       "    </tr>\n",
       "    <tr>\n",
       "      <th>1</th>\n",
       "      <td>3</td>\n",
       "      <td>178529</td>\n",
       "      <td>0.91</td>\n",
       "      <td>NaN</td>\n",
       "    </tr>\n",
       "    <tr>\n",
       "      <th>2</th>\n",
       "      <td>3</td>\n",
       "      <td>33311009</td>\n",
       "      <td>0.85</td>\n",
       "      <td>0.312726</td>\n",
       "    </tr>\n",
       "    <tr>\n",
       "      <th>3</th>\n",
       "      <td>3</td>\n",
       "      <td>35505245</td>\n",
       "      <td>0.82</td>\n",
       "      <td>NaN</td>\n",
       "    </tr>\n",
       "    <tr>\n",
       "      <th>4</th>\n",
       "      <td>3</td>\n",
       "      <td>795836</td>\n",
       "      <td>0.75</td>\n",
       "      <td>NaN</td>\n",
       "    </tr>\n",
       "  </tbody>\n",
       "</table>\n",
       "</div>"
      ],
      "text/plain": [
       "   user_id  track_id  top_score  als_score\n",
       "0        3     53404       1.00        NaN\n",
       "1        3    178529       0.91        NaN\n",
       "2        3  33311009       0.85   0.312726\n",
       "3        3  35505245       0.82        NaN\n",
       "4        3    795836       0.75        NaN"
      ]
     },
     "execution_count": 29,
     "metadata": {},
     "output_type": "execute_result"
    }
   ],
   "source": [
    "candidates.head()"
   ]
  },
  {
   "cell_type": "code",
   "execution_count": 31,
   "id": "86e546c5-f628-44c2-b7c8-1477569c0cef",
   "metadata": {},
   "outputs": [],
   "source": [
    "# аналогичные действия, но для данных, которые будут использоваться для инференса \n",
    "# (то есть для реальных прогнозов), а не для обучения.\n",
    "inference = pd.merge(\n",
    "    recom_top.rename(columns={'score': 'top_score'}),\n",
    "    personal_als.rename(columns={'score': 'als_score'}),\n",
    "    on=['user_id', 'track_id'],\n",
    "    how='outer'\n",
    ")"
   ]
  },
  {
   "cell_type": "code",
   "execution_count": 32,
   "id": "d8b3baae-76da-4fda-99a5-3d06a419c6b6",
   "metadata": {},
   "outputs": [
    {
     "data": {
      "text/html": [
       "<div>\n",
       "<style scoped>\n",
       "    .dataframe tbody tr th:only-of-type {\n",
       "        vertical-align: middle;\n",
       "    }\n",
       "\n",
       "    .dataframe tbody tr th {\n",
       "        vertical-align: top;\n",
       "    }\n",
       "\n",
       "    .dataframe thead th {\n",
       "        text-align: right;\n",
       "    }\n",
       "</style>\n",
       "<table border=\"1\" class=\"dataframe\">\n",
       "  <thead>\n",
       "    <tr style=\"text-align: right;\">\n",
       "      <th></th>\n",
       "      <th>user_id</th>\n",
       "      <th>track_id</th>\n",
       "      <th>top_score</th>\n",
       "      <th>als_score</th>\n",
       "    </tr>\n",
       "  </thead>\n",
       "  <tbody>\n",
       "    <tr>\n",
       "      <th>0</th>\n",
       "      <td>3</td>\n",
       "      <td>53404</td>\n",
       "      <td>1.00</td>\n",
       "      <td>NaN</td>\n",
       "    </tr>\n",
       "    <tr>\n",
       "      <th>1</th>\n",
       "      <td>3</td>\n",
       "      <td>33311009</td>\n",
       "      <td>0.92</td>\n",
       "      <td>0.304438</td>\n",
       "    </tr>\n",
       "    <tr>\n",
       "      <th>2</th>\n",
       "      <td>3</td>\n",
       "      <td>178529</td>\n",
       "      <td>0.92</td>\n",
       "      <td>NaN</td>\n",
       "    </tr>\n",
       "    <tr>\n",
       "      <th>3</th>\n",
       "      <td>3</td>\n",
       "      <td>35505245</td>\n",
       "      <td>0.87</td>\n",
       "      <td>NaN</td>\n",
       "    </tr>\n",
       "    <tr>\n",
       "      <th>4</th>\n",
       "      <td>3</td>\n",
       "      <td>24692821</td>\n",
       "      <td>0.76</td>\n",
       "      <td>NaN</td>\n",
       "    </tr>\n",
       "  </tbody>\n",
       "</table>\n",
       "</div>"
      ],
      "text/plain": [
       "   user_id  track_id  top_score  als_score\n",
       "0        3     53404       1.00        NaN\n",
       "1        3  33311009       0.92   0.304438\n",
       "2        3    178529       0.92        NaN\n",
       "3        3  35505245       0.87        NaN\n",
       "4        3  24692821       0.76        NaN"
      ]
     },
     "execution_count": 32,
     "metadata": {},
     "output_type": "execute_result"
    }
   ],
   "source": [
    "inference.head()"
   ]
  },
  {
   "cell_type": "code",
   "execution_count": 35,
   "id": "0440e369-508a-4728-a67b-2058cbce054d",
   "metadata": {},
   "outputs": [],
   "source": [
    "# оставляем только тех пользователей, что есть в тестовых выборках, для экономии ресурсов\n",
    "\n",
    "candidates = candidates[\n",
    "    candidates['user_id'].isin(events_to_rank['user_id']\n",
    "                                         .drop_duplicates())\n",
    "].reset_index(drop=True)\n",
    "\n",
    "\n",
    "inference = inference[\n",
    "    inference['user_id'].isin(events_test['user_id']\n",
    "                                             .drop_duplicates())\n",
    "].reset_index(drop=True)"
   ]
  },
  {
   "cell_type": "code",
   "execution_count": 36,
   "id": "065703c3-025d-42ab-875b-f178d01b46de",
   "metadata": {},
   "outputs": [],
   "source": [
    "del recom_top_to_rank, personal_als_rank, recom_top, personal_als"
   ]
  },
  {
   "cell_type": "code",
   "execution_count": 37,
   "id": "8508349a-15f7-4f69-af9a-9c138e2ba77f",
   "metadata": {},
   "outputs": [],
   "source": [
    "# добавляем таргет к кандидатам со значением:\n",
    "# — 1 для тех item_id, которые пользователь прослушали трек\n",
    "# — 0, для всех остальных \n",
    "\n",
    "events_to_rank['target'] = 1\n",
    "candidates = candidates.merge(\n",
    "    events_to_rank[['user_id', 'track_id', 'target']], \n",
    "    on=['user_id', 'track_id'], \n",
    "    how='left'\n",
    ")\n",
    "candidates['target'] = (\n",
    "    candidates['target'].fillna(0).astype('int8')\n",
    ")"
   ]
  },
  {
   "cell_type": "code",
   "execution_count": 38,
   "id": "b6b191f8-1c23-4045-bded-69087b86b4b6",
   "metadata": {},
   "outputs": [],
   "source": [
    "# в кандидатах оставляем только тех пользователей, у которых есть хотя бы один положительный таргет\n",
    "candidates = candidates.groupby(\"user_id\").filter(lambda x: x[\"target\"].sum() > 0)"
   ]
  },
  {
   "cell_type": "code",
   "execution_count": 39,
   "id": "34503de6-bd8a-48c4-ae7a-2eb0dd075f12",
   "metadata": {},
   "outputs": [],
   "source": [
    "# для каждого пользователя оставляем только 4 негативных примера\n",
    "negatives_per_user = 4\n",
    "candidates = pd.concat([\n",
    "    candidates.query(\"target == 1\"),\n",
    "    candidates.query(\"target == 0\") \\\n",
    "        .groupby(\"user_id\") \\\n",
    "        .apply(lambda x: x.sample(negatives_per_user, random_state=0))\n",
    "    ],ignore_index=True)\n"
   ]
  },
  {
   "cell_type": "code",
   "execution_count": 40,
   "id": "229e424c-6303-4321-a0c1-d6ede300f739",
   "metadata": {},
   "outputs": [
    {
     "data": {
      "text/plain": [
       "target\n",
       "0    0.680212\n",
       "1    0.319788\n",
       "Name: proportion, dtype: float64"
      ]
     },
     "execution_count": 40,
     "metadata": {},
     "output_type": "execute_result"
    }
   ],
   "source": [
    "candidates['target'].value_counts(normalize=True)"
   ]
  },
  {
   "cell_type": "code",
   "execution_count": 41,
   "id": "40f554e7-23f3-429c-b165-02dd026a48f7",
   "metadata": {},
   "outputs": [],
   "source": [
    "inference.to_parquet(\"datasets/inference.parquet\")\n",
    "candidates.to_parquet(\"datasets/candidates.parquet\")"
   ]
  },
  {
   "cell_type": "markdown",
   "id": "e15f6b5d-56d3-4246-9f42-9906097592d6",
   "metadata": {},
   "source": [
    "# Построение признаков"
   ]
  },
  {
   "cell_type": "code",
   "execution_count": 19,
   "id": "14dc5fc9-1bc0-4db9-baa9-ed840892b71b",
   "metadata": {},
   "outputs": [],
   "source": [
    "inference = pd.read_parquet(\"datasets/inference.parquet\") \n",
    "candidates = pd.read_parquet(\"datasets/candidates.parquet\") "
   ]
  },
  {
   "cell_type": "markdown",
   "id": "ffef057a-3354-4f80-81cf-c3f431557aa8",
   "metadata": {},
   "source": [
    "**Признак популярности трека у пользователей**"
   ]
  },
  {
   "cell_type": "markdown",
   "id": "bd90b02c-fee2-4c23-8023-101958e17e7e",
   "metadata": {},
   "source": [
    "Первое что приходит в голову с построением признаков, это объектовый признак \"Популярность среди всех пользователей\""
   ]
  },
  {
   "cell_type": "code",
   "execution_count": 20,
   "id": "5239b381-cd4c-4e89-9426-a74a11e4b268",
   "metadata": {},
   "outputs": [],
   "source": [
    "import pandas as pd\n",
    "\n",
    "def get_top_popular_tracks(events, top_n):\n",
    "    # Группируем по track_id и считаем количество прослушиваний\n",
    "    popular_tracks = events.groupby('track_id').size().reset_index(name='play_count')\n",
    "\n",
    "    # Сортируем по количеству прослушиваний в порядке убывания\n",
    "    popular_tracks = popular_tracks.sort_values(by='play_count', ascending=False, ignore_index=True).reset_index(drop=True)\n",
    "\n",
    "    # Нормализуем количество прослушиваний с помощью min-max нормализации\n",
    "    min_play_count = popular_tracks['play_count'].min()\n",
    "    max_play_count = popular_tracks['play_count'].max()\n",
    "\n",
    "    popular_tracks['popularity'] = ((popular_tracks['play_count'] - min_play_count) / \n",
    "                                (max_play_count - min_play_count)).round(2)\n",
    "\n",
    "    # Удаляем столбец play_count\n",
    "    del popular_tracks['play_count']\n",
    "\n",
    "    # Извлекаем топ-N популярных треков\n",
    "    top_popular_tracks = popular_tracks.head(top_n)\n",
    "\n",
    "    return top_popular_tracks"
   ]
  },
  {
   "cell_type": "code",
   "execution_count": 21,
   "id": "32f0aa2a-8eba-4a1d-9a71-57e3db350adf",
   "metadata": {},
   "outputs": [],
   "source": [
    "# Добавляем признак популярности к candidates (до 25 ноября)\n",
    "candidates = candidates.merge(\n",
    "    get_top_popular_tracks(events_to_cand, 50),  \n",
    "    on='track_id',\n",
    "    how='left'\n",
    ")"
   ]
  },
  {
   "cell_type": "code",
   "execution_count": 22,
   "id": "1f7f368f-3c0d-4351-a2fa-3de77f3a5e89",
   "metadata": {},
   "outputs": [
    {
     "data": {
      "text/html": [
       "<div>\n",
       "<style scoped>\n",
       "    .dataframe tbody tr th:only-of-type {\n",
       "        vertical-align: middle;\n",
       "    }\n",
       "\n",
       "    .dataframe tbody tr th {\n",
       "        vertical-align: top;\n",
       "    }\n",
       "\n",
       "    .dataframe thead th {\n",
       "        text-align: right;\n",
       "    }\n",
       "</style>\n",
       "<table border=\"1\" class=\"dataframe\">\n",
       "  <thead>\n",
       "    <tr style=\"text-align: right;\">\n",
       "      <th></th>\n",
       "      <th>user_id</th>\n",
       "      <th>track_id</th>\n",
       "      <th>top_score</th>\n",
       "      <th>als_score</th>\n",
       "      <th>target</th>\n",
       "      <th>popularity</th>\n",
       "    </tr>\n",
       "  </thead>\n",
       "  <tbody>\n",
       "    <tr>\n",
       "      <th>0</th>\n",
       "      <td>5</td>\n",
       "      <td>33311009</td>\n",
       "      <td>0.85</td>\n",
       "      <td>NaN</td>\n",
       "      <td>1</td>\n",
       "      <td>0.85</td>\n",
       "    </tr>\n",
       "    <tr>\n",
       "      <th>1</th>\n",
       "      <td>11</td>\n",
       "      <td>50685843</td>\n",
       "      <td>0.52</td>\n",
       "      <td>NaN</td>\n",
       "      <td>1</td>\n",
       "      <td>0.52</td>\n",
       "    </tr>\n",
       "    <tr>\n",
       "      <th>2</th>\n",
       "      <td>15</td>\n",
       "      <td>137670</td>\n",
       "      <td>0.57</td>\n",
       "      <td>NaN</td>\n",
       "      <td>1</td>\n",
       "      <td>0.57</td>\n",
       "    </tr>\n",
       "    <tr>\n",
       "      <th>3</th>\n",
       "      <td>25</td>\n",
       "      <td>65851540</td>\n",
       "      <td>0.56</td>\n",
       "      <td>NaN</td>\n",
       "      <td>1</td>\n",
       "      <td>0.56</td>\n",
       "    </tr>\n",
       "    <tr>\n",
       "      <th>4</th>\n",
       "      <td>26</td>\n",
       "      <td>60292250</td>\n",
       "      <td>0.54</td>\n",
       "      <td>NaN</td>\n",
       "      <td>1</td>\n",
       "      <td>0.54</td>\n",
       "    </tr>\n",
       "  </tbody>\n",
       "</table>\n",
       "</div>"
      ],
      "text/plain": [
       "   user_id  track_id  top_score  als_score  target  popularity\n",
       "0        5  33311009       0.85        NaN       1        0.85\n",
       "1       11  50685843       0.52        NaN       1        0.52\n",
       "2       15    137670       0.57        NaN       1        0.57\n",
       "3       25  65851540       0.56        NaN       1        0.56\n",
       "4       26  60292250       0.54        NaN       1        0.54"
      ]
     },
     "execution_count": 22,
     "metadata": {},
     "output_type": "execute_result"
    }
   ],
   "source": [
    "candidates.head()"
   ]
  },
  {
   "cell_type": "code",
   "execution_count": 23,
   "id": "5cf90414-6d76-420e-9465-a1f626115223",
   "metadata": {},
   "outputs": [],
   "source": [
    "# Добавляем признак популярности к inference (до 15 декабря)\n",
    "inference = inference.merge(\n",
    "    get_top_popular_tracks(events_train, 50),\n",
    "    on='track_id',\n",
    "    how='left'\n",
    ")"
   ]
  },
  {
   "cell_type": "code",
   "execution_count": 24,
   "id": "17d2b531-1106-4fbd-9d8e-0ee4ca44041e",
   "metadata": {},
   "outputs": [
    {
     "data": {
      "text/html": [
       "<div>\n",
       "<style scoped>\n",
       "    .dataframe tbody tr th:only-of-type {\n",
       "        vertical-align: middle;\n",
       "    }\n",
       "\n",
       "    .dataframe tbody tr th {\n",
       "        vertical-align: top;\n",
       "    }\n",
       "\n",
       "    .dataframe thead th {\n",
       "        text-align: right;\n",
       "    }\n",
       "</style>\n",
       "<table border=\"1\" class=\"dataframe\">\n",
       "  <thead>\n",
       "    <tr style=\"text-align: right;\">\n",
       "      <th></th>\n",
       "      <th>user_id</th>\n",
       "      <th>track_id</th>\n",
       "      <th>top_score</th>\n",
       "      <th>als_score</th>\n",
       "      <th>popularity</th>\n",
       "    </tr>\n",
       "  </thead>\n",
       "  <tbody>\n",
       "    <tr>\n",
       "      <th>0</th>\n",
       "      <td>3</td>\n",
       "      <td>53404</td>\n",
       "      <td>1.00</td>\n",
       "      <td>NaN</td>\n",
       "      <td>1.00</td>\n",
       "    </tr>\n",
       "    <tr>\n",
       "      <th>1</th>\n",
       "      <td>3</td>\n",
       "      <td>33311009</td>\n",
       "      <td>0.92</td>\n",
       "      <td>0.304438</td>\n",
       "      <td>0.92</td>\n",
       "    </tr>\n",
       "    <tr>\n",
       "      <th>2</th>\n",
       "      <td>3</td>\n",
       "      <td>178529</td>\n",
       "      <td>0.92</td>\n",
       "      <td>NaN</td>\n",
       "      <td>0.92</td>\n",
       "    </tr>\n",
       "    <tr>\n",
       "      <th>3</th>\n",
       "      <td>3</td>\n",
       "      <td>35505245</td>\n",
       "      <td>0.87</td>\n",
       "      <td>NaN</td>\n",
       "      <td>0.87</td>\n",
       "    </tr>\n",
       "    <tr>\n",
       "      <th>4</th>\n",
       "      <td>3</td>\n",
       "      <td>24692821</td>\n",
       "      <td>0.76</td>\n",
       "      <td>NaN</td>\n",
       "      <td>0.76</td>\n",
       "    </tr>\n",
       "  </tbody>\n",
       "</table>\n",
       "</div>"
      ],
      "text/plain": [
       "   user_id  track_id  top_score  als_score  popularity\n",
       "0        3     53404       1.00        NaN        1.00\n",
       "1        3  33311009       0.92   0.304438        0.92\n",
       "2        3    178529       0.92        NaN        0.92\n",
       "3        3  35505245       0.87        NaN        0.87\n",
       "4        3  24692821       0.76        NaN        0.76"
      ]
     },
     "execution_count": 24,
     "metadata": {},
     "output_type": "execute_result"
    }
   ],
   "source": [
    "inference.head()"
   ]
  },
  {
   "cell_type": "markdown",
   "id": "34cd211f-7df1-4028-ae33-7c10ff53e554",
   "metadata": {},
   "source": [
    "**Построение признака активности пользователя**"
   ]
  },
  {
   "cell_type": "markdown",
   "id": "5c79eac3-cd1e-4385-9fe9-d8763d228f87",
   "metadata": {},
   "source": [
    "Думаю интересно было бы использовать нормализованное количество прослушанных треков пользователем за все время, это точно укажет на активность пользователя."
   ]
  },
  {
   "cell_type": "code",
   "execution_count": 25,
   "id": "45160005-d03f-47fe-aced-e5a48d049115",
   "metadata": {},
   "outputs": [],
   "source": [
    "def get_user_activity(events):\n",
    "    # подсчет уникальных треков для каждого пользователя\n",
    "    unique_tracks_count = events.groupby('user_id')['track_id'].nunique().reset_index()\n",
    "    unique_tracks_count.columns = ['user_id', 'unique_tracks_count']\n",
    "    \n",
    "    min_count = unique_tracks_count['unique_tracks_count'].min()\n",
    "    max_count = unique_tracks_count['unique_tracks_count'].max()\n",
    "\n",
    "    unique_tracks_count['activity'] = (((unique_tracks_count['unique_tracks_count'] - min_count)/(max_count - min_count))*100).round(2)\n",
    "    del unique_tracks_count['unique_tracks_count']\n",
    "\n",
    "    return unique_tracks_count\n",
    "    "
   ]
  },
  {
   "cell_type": "code",
   "execution_count": 26,
   "id": "869c8a66-0278-431a-9476-2b3cee37dba3",
   "metadata": {},
   "outputs": [],
   "source": [
    "candidates = candidates.merge(\n",
    "    get_user_activity(events_to_cand),  \n",
    "    on='user_id',\n",
    "    how='left'\n",
    ")"
   ]
  },
  {
   "cell_type": "code",
   "execution_count": 27,
   "id": "4424788c-e340-4c2b-be91-8b7888172166",
   "metadata": {},
   "outputs": [
    {
     "data": {
      "text/html": [
       "<div>\n",
       "<style scoped>\n",
       "    .dataframe tbody tr th:only-of-type {\n",
       "        vertical-align: middle;\n",
       "    }\n",
       "\n",
       "    .dataframe tbody tr th {\n",
       "        vertical-align: top;\n",
       "    }\n",
       "\n",
       "    .dataframe thead th {\n",
       "        text-align: right;\n",
       "    }\n",
       "</style>\n",
       "<table border=\"1\" class=\"dataframe\">\n",
       "  <thead>\n",
       "    <tr style=\"text-align: right;\">\n",
       "      <th></th>\n",
       "      <th>user_id</th>\n",
       "      <th>track_id</th>\n",
       "      <th>top_score</th>\n",
       "      <th>als_score</th>\n",
       "      <th>target</th>\n",
       "      <th>popularity</th>\n",
       "      <th>activity</th>\n",
       "    </tr>\n",
       "  </thead>\n",
       "  <tbody>\n",
       "    <tr>\n",
       "      <th>0</th>\n",
       "      <td>5</td>\n",
       "      <td>33311009</td>\n",
       "      <td>0.85</td>\n",
       "      <td>NaN</td>\n",
       "      <td>1</td>\n",
       "      <td>0.85</td>\n",
       "      <td>0.43</td>\n",
       "    </tr>\n",
       "    <tr>\n",
       "      <th>1</th>\n",
       "      <td>11</td>\n",
       "      <td>50685843</td>\n",
       "      <td>0.52</td>\n",
       "      <td>NaN</td>\n",
       "      <td>1</td>\n",
       "      <td>0.52</td>\n",
       "      <td>0.21</td>\n",
       "    </tr>\n",
       "    <tr>\n",
       "      <th>2</th>\n",
       "      <td>15</td>\n",
       "      <td>137670</td>\n",
       "      <td>0.57</td>\n",
       "      <td>NaN</td>\n",
       "      <td>1</td>\n",
       "      <td>0.57</td>\n",
       "      <td>NaN</td>\n",
       "    </tr>\n",
       "    <tr>\n",
       "      <th>3</th>\n",
       "      <td>25</td>\n",
       "      <td>65851540</td>\n",
       "      <td>0.56</td>\n",
       "      <td>NaN</td>\n",
       "      <td>1</td>\n",
       "      <td>0.56</td>\n",
       "      <td>4.34</td>\n",
       "    </tr>\n",
       "    <tr>\n",
       "      <th>4</th>\n",
       "      <td>26</td>\n",
       "      <td>60292250</td>\n",
       "      <td>0.54</td>\n",
       "      <td>NaN</td>\n",
       "      <td>1</td>\n",
       "      <td>0.54</td>\n",
       "      <td>0.76</td>\n",
       "    </tr>\n",
       "  </tbody>\n",
       "</table>\n",
       "</div>"
      ],
      "text/plain": [
       "   user_id  track_id  top_score  als_score  target  popularity  activity\n",
       "0        5  33311009       0.85        NaN       1        0.85      0.43\n",
       "1       11  50685843       0.52        NaN       1        0.52      0.21\n",
       "2       15    137670       0.57        NaN       1        0.57       NaN\n",
       "3       25  65851540       0.56        NaN       1        0.56      4.34\n",
       "4       26  60292250       0.54        NaN       1        0.54      0.76"
      ]
     },
     "execution_count": 27,
     "metadata": {},
     "output_type": "execute_result"
    }
   ],
   "source": [
    "candidates.head()"
   ]
  },
  {
   "cell_type": "code",
   "execution_count": 28,
   "id": "2df1bde1-9bc2-4f7d-a4a5-7ceba4e26ed7",
   "metadata": {},
   "outputs": [],
   "source": [
    "inference = inference.merge(\n",
    "    get_user_activity(events_train),\n",
    "    on='user_id',\n",
    "    how='left'\n",
    ")"
   ]
  },
  {
   "cell_type": "code",
   "execution_count": 29,
   "id": "8ea2db0a-19fe-4e14-8342-4638fee8bdb9",
   "metadata": {},
   "outputs": [
    {
     "data": {
      "text/html": [
       "<div>\n",
       "<style scoped>\n",
       "    .dataframe tbody tr th:only-of-type {\n",
       "        vertical-align: middle;\n",
       "    }\n",
       "\n",
       "    .dataframe tbody tr th {\n",
       "        vertical-align: top;\n",
       "    }\n",
       "\n",
       "    .dataframe thead th {\n",
       "        text-align: right;\n",
       "    }\n",
       "</style>\n",
       "<table border=\"1\" class=\"dataframe\">\n",
       "  <thead>\n",
       "    <tr style=\"text-align: right;\">\n",
       "      <th></th>\n",
       "      <th>user_id</th>\n",
       "      <th>track_id</th>\n",
       "      <th>top_score</th>\n",
       "      <th>als_score</th>\n",
       "      <th>popularity</th>\n",
       "      <th>activity</th>\n",
       "    </tr>\n",
       "  </thead>\n",
       "  <tbody>\n",
       "    <tr>\n",
       "      <th>0</th>\n",
       "      <td>3</td>\n",
       "      <td>53404</td>\n",
       "      <td>1.00</td>\n",
       "      <td>NaN</td>\n",
       "      <td>1.00</td>\n",
       "      <td>0.19</td>\n",
       "    </tr>\n",
       "    <tr>\n",
       "      <th>1</th>\n",
       "      <td>3</td>\n",
       "      <td>33311009</td>\n",
       "      <td>0.92</td>\n",
       "      <td>0.304438</td>\n",
       "      <td>0.92</td>\n",
       "      <td>0.19</td>\n",
       "    </tr>\n",
       "    <tr>\n",
       "      <th>2</th>\n",
       "      <td>3</td>\n",
       "      <td>178529</td>\n",
       "      <td>0.92</td>\n",
       "      <td>NaN</td>\n",
       "      <td>0.92</td>\n",
       "      <td>0.19</td>\n",
       "    </tr>\n",
       "    <tr>\n",
       "      <th>3</th>\n",
       "      <td>3</td>\n",
       "      <td>35505245</td>\n",
       "      <td>0.87</td>\n",
       "      <td>NaN</td>\n",
       "      <td>0.87</td>\n",
       "      <td>0.19</td>\n",
       "    </tr>\n",
       "    <tr>\n",
       "      <th>4</th>\n",
       "      <td>3</td>\n",
       "      <td>24692821</td>\n",
       "      <td>0.76</td>\n",
       "      <td>NaN</td>\n",
       "      <td>0.76</td>\n",
       "      <td>0.19</td>\n",
       "    </tr>\n",
       "  </tbody>\n",
       "</table>\n",
       "</div>"
      ],
      "text/plain": [
       "   user_id  track_id  top_score  als_score  popularity  activity\n",
       "0        3     53404       1.00        NaN        1.00      0.19\n",
       "1        3  33311009       0.92   0.304438        0.92      0.19\n",
       "2        3    178529       0.92        NaN        0.92      0.19\n",
       "3        3  35505245       0.87        NaN        0.87      0.19\n",
       "4        3  24692821       0.76        NaN        0.76      0.19"
      ]
     },
     "execution_count": 29,
     "metadata": {},
     "output_type": "execute_result"
    }
   ],
   "source": [
    "inference.head()"
   ]
  },
  {
   "cell_type": "markdown",
   "id": "cfc7ce48-cf2b-4ce6-876b-237ccdb54ca0",
   "metadata": {},
   "source": [
    "**Признак приверженности к конкретному жанру**"
   ]
  },
  {
   "cell_type": "markdown",
   "id": "3f7b382a-48cc-4e1b-823f-700d3acf5416",
   "metadata": {},
   "source": [
    "Есть ряд идей что использовать в качестве парного признака, безусловно можно использовать удельный вес жанров или схожесть, но учитывая вычислительные возможности, а также свой собственный небогатый опыт, есть большой соблан взять что нибудь \"подешевле\". Например признак \"доля треков конкретного жанра среди всех прослушанныx\", это похоже возможно реализовать за \"небольшие деньги\" и к тому же этот признак позволит предоставить следующие insights:\n",
    "* 1 Предпочтения пользователей.\n",
    "* 2 Анализ поведения пользователей.\n",
    "* 3 Сегментация пользователей.\n",
    "В качестве такого опеделенного жанра, есть смысл выбрать самый популярный pop."
   ]
  },
  {
   "cell_type": "code",
   "execution_count": 30,
   "id": "3839b08f-1f29-4ce2-bebe-0f083ca60ff8",
   "metadata": {},
   "outputs": [],
   "source": [
    "# добавляем колонку, указывающую, является ли трек жанра 'pop'\n",
    "items['is_pop'] = items['names_of_genres'].apply(lambda genres: 'pop' in genres)\n",
    "merged = candidates.merge(items[['track_id', 'is_pop']], on='track_id', how='left')\n",
    "\n",
    "# считаем долю треков жанра 'pop' для каждого пользователя\n",
    "pop_share = merged.groupby('user_id')['is_pop'].mean().reset_index()\n",
    "pop_share.columns = ['user_id', 'pop_share']\n",
    "\n",
    "# объединяем рассчитанную долю жанра 'pop' с оригинальным датафреймом candidates\n",
    "candidates = candidates.merge(pop_share, on='user_id', how='left')\n",
    "candidates['pop_share'] = candidates['pop_share'].round(2)"
   ]
  },
  {
   "cell_type": "code",
   "execution_count": 31,
   "id": "5e38d062-4828-4ec4-af5b-b8e0bc38714d",
   "metadata": {},
   "outputs": [
    {
     "data": {
      "text/html": [
       "<div>\n",
       "<style scoped>\n",
       "    .dataframe tbody tr th:only-of-type {\n",
       "        vertical-align: middle;\n",
       "    }\n",
       "\n",
       "    .dataframe tbody tr th {\n",
       "        vertical-align: top;\n",
       "    }\n",
       "\n",
       "    .dataframe thead th {\n",
       "        text-align: right;\n",
       "    }\n",
       "</style>\n",
       "<table border=\"1\" class=\"dataframe\">\n",
       "  <thead>\n",
       "    <tr style=\"text-align: right;\">\n",
       "      <th></th>\n",
       "      <th>user_id</th>\n",
       "      <th>track_id</th>\n",
       "      <th>top_score</th>\n",
       "      <th>als_score</th>\n",
       "      <th>target</th>\n",
       "      <th>popularity</th>\n",
       "      <th>activity</th>\n",
       "      <th>pop_share</th>\n",
       "    </tr>\n",
       "  </thead>\n",
       "  <tbody>\n",
       "    <tr>\n",
       "      <th>396082</th>\n",
       "      <td>1177827</td>\n",
       "      <td>1695498</td>\n",
       "      <td>NaN</td>\n",
       "      <td>0.092159</td>\n",
       "      <td>1</td>\n",
       "      <td>NaN</td>\n",
       "      <td>0.08</td>\n",
       "      <td>0.33</td>\n",
       "    </tr>\n",
       "    <tr>\n",
       "      <th>520181</th>\n",
       "      <td>170401</td>\n",
       "      <td>65851540</td>\n",
       "      <td>0.56</td>\n",
       "      <td>NaN</td>\n",
       "      <td>0</td>\n",
       "      <td>0.56</td>\n",
       "      <td>0.13</td>\n",
       "      <td>0.22</td>\n",
       "    </tr>\n",
       "    <tr>\n",
       "      <th>441325</th>\n",
       "      <td>46396</td>\n",
       "      <td>50685843</td>\n",
       "      <td>0.52</td>\n",
       "      <td>NaN</td>\n",
       "      <td>0</td>\n",
       "      <td>0.52</td>\n",
       "      <td>1.93</td>\n",
       "      <td>0.40</td>\n",
       "    </tr>\n",
       "    <tr>\n",
       "      <th>1043559</th>\n",
       "      <td>991779</td>\n",
       "      <td>1710811</td>\n",
       "      <td>0.51</td>\n",
       "      <td>NaN</td>\n",
       "      <td>0</td>\n",
       "      <td>0.51</td>\n",
       "      <td>0.09</td>\n",
       "      <td>0.20</td>\n",
       "    </tr>\n",
       "    <tr>\n",
       "      <th>4736</th>\n",
       "      <td>21749</td>\n",
       "      <td>45499814</td>\n",
       "      <td>0.64</td>\n",
       "      <td>NaN</td>\n",
       "      <td>1</td>\n",
       "      <td>0.64</td>\n",
       "      <td>0.55</td>\n",
       "      <td>0.33</td>\n",
       "    </tr>\n",
       "  </tbody>\n",
       "</table>\n",
       "</div>"
      ],
      "text/plain": [
       "         user_id  track_id  top_score  als_score  target  popularity  \\\n",
       "396082   1177827   1695498        NaN   0.092159       1         NaN   \n",
       "520181    170401  65851540       0.56        NaN       0        0.56   \n",
       "441325     46396  50685843       0.52        NaN       0        0.52   \n",
       "1043559   991779   1710811       0.51        NaN       0        0.51   \n",
       "4736       21749  45499814       0.64        NaN       1        0.64   \n",
       "\n",
       "         activity  pop_share  \n",
       "396082       0.08       0.33  \n",
       "520181       0.13       0.22  \n",
       "441325       1.93       0.40  \n",
       "1043559      0.09       0.20  \n",
       "4736         0.55       0.33  "
      ]
     },
     "execution_count": 31,
     "metadata": {},
     "output_type": "execute_result"
    }
   ],
   "source": [
    "candidates.sample(5)"
   ]
  },
  {
   "cell_type": "code",
   "execution_count": 32,
   "id": "acdd5466-bc97-450b-b1b7-13e9cd4f3ec4",
   "metadata": {},
   "outputs": [],
   "source": [
    "del merged, pop_share"
   ]
  },
  {
   "cell_type": "markdown",
   "id": "5d6b5014-bb9d-4849-b239-a03b6c4c6eb5",
   "metadata": {},
   "source": [
    "Проделываем тоже самое, но для inference"
   ]
  },
  {
   "cell_type": "code",
   "execution_count": 33,
   "id": "67018816-610e-4399-9914-de0d0abd24c6",
   "metadata": {},
   "outputs": [],
   "source": [
    "merged = inference.merge(items[['track_id', 'is_pop']], on='track_id', how='left')\n",
    "\n",
    "pop_share = merged.groupby('user_id')['is_pop'].mean().reset_index()\n",
    "pop_share.columns = ['user_id', 'pop_share']\n",
    "\n",
    "inference = inference.merge(pop_share, on='user_id', how='left')\n",
    "inference['pop_share'] = inference['pop_share'].round(2)"
   ]
  },
  {
   "cell_type": "code",
   "execution_count": 34,
   "id": "842e2ec5-2fd3-4d8a-989a-28e892701466",
   "metadata": {},
   "outputs": [
    {
     "data": {
      "text/html": [
       "<div>\n",
       "<style scoped>\n",
       "    .dataframe tbody tr th:only-of-type {\n",
       "        vertical-align: middle;\n",
       "    }\n",
       "\n",
       "    .dataframe tbody tr th {\n",
       "        vertical-align: top;\n",
       "    }\n",
       "\n",
       "    .dataframe thead th {\n",
       "        text-align: right;\n",
       "    }\n",
       "</style>\n",
       "<table border=\"1\" class=\"dataframe\">\n",
       "  <thead>\n",
       "    <tr style=\"text-align: right;\">\n",
       "      <th></th>\n",
       "      <th>user_id</th>\n",
       "      <th>track_id</th>\n",
       "      <th>top_score</th>\n",
       "      <th>als_score</th>\n",
       "      <th>popularity</th>\n",
       "      <th>activity</th>\n",
       "      <th>pop_share</th>\n",
       "    </tr>\n",
       "  </thead>\n",
       "  <tbody>\n",
       "    <tr>\n",
       "      <th>31505754</th>\n",
       "      <td>1112958</td>\n",
       "      <td>24692821</td>\n",
       "      <td>0.76</td>\n",
       "      <td>NaN</td>\n",
       "      <td>0.76</td>\n",
       "      <td>0.22</td>\n",
       "      <td>0.23</td>\n",
       "    </tr>\n",
       "    <tr>\n",
       "      <th>34702653</th>\n",
       "      <td>1225553</td>\n",
       "      <td>35505245</td>\n",
       "      <td>0.87</td>\n",
       "      <td>NaN</td>\n",
       "      <td>0.87</td>\n",
       "      <td>1.33</td>\n",
       "      <td>0.20</td>\n",
       "    </tr>\n",
       "    <tr>\n",
       "      <th>16245233</th>\n",
       "      <td>573193</td>\n",
       "      <td>56204557</td>\n",
       "      <td>0.60</td>\n",
       "      <td>NaN</td>\n",
       "      <td>0.60</td>\n",
       "      <td>2.47</td>\n",
       "      <td>0.21</td>\n",
       "    </tr>\n",
       "    <tr>\n",
       "      <th>1358320</th>\n",
       "      <td>47826</td>\n",
       "      <td>18385776</td>\n",
       "      <td>0.63</td>\n",
       "      <td>NaN</td>\n",
       "      <td>0.63</td>\n",
       "      <td>0.09</td>\n",
       "      <td>0.25</td>\n",
       "    </tr>\n",
       "    <tr>\n",
       "      <th>10355302</th>\n",
       "      <td>365292</td>\n",
       "      <td>178529</td>\n",
       "      <td>0.92</td>\n",
       "      <td>NaN</td>\n",
       "      <td>0.92</td>\n",
       "      <td>2.05</td>\n",
       "      <td>0.23</td>\n",
       "    </tr>\n",
       "  </tbody>\n",
       "</table>\n",
       "</div>"
      ],
      "text/plain": [
       "          user_id  track_id  top_score  als_score  popularity  activity  \\\n",
       "31505754  1112958  24692821       0.76        NaN        0.76      0.22   \n",
       "34702653  1225553  35505245       0.87        NaN        0.87      1.33   \n",
       "16245233   573193  56204557       0.60        NaN        0.60      2.47   \n",
       "1358320     47826  18385776       0.63        NaN        0.63      0.09   \n",
       "10355302   365292    178529       0.92        NaN        0.92      2.05   \n",
       "\n",
       "          pop_share  \n",
       "31505754       0.23  \n",
       "34702653       0.20  \n",
       "16245233       0.21  \n",
       "1358320        0.25  \n",
       "10355302       0.23  "
      ]
     },
     "execution_count": 34,
     "metadata": {},
     "output_type": "execute_result"
    }
   ],
   "source": [
    "inference.sample(5)"
   ]
  },
  {
   "cell_type": "code",
   "execution_count": 35,
   "id": "32830d77-6ea0-4fa3-a44b-c3a6eda533bb",
   "metadata": {},
   "outputs": [],
   "source": [
    "del items['is_pop'], merged, pop_share"
   ]
  },
  {
   "cell_type": "markdown",
   "id": "75ae6d6e-9399-46e4-aa96-3987b281db7b",
   "metadata": {},
   "source": [
    "**Признак положения трека в плейлисте**"
   ]
  },
  {
   "cell_type": "markdown",
   "id": "5860dde3-ee6e-4027-891a-d9abb2e3f860",
   "metadata": {},
   "source": [
    "Рассчитаю относительное положение трека в плейлисте. Есть мнение что это может быть отличным признаком."
   ]
  },
  {
   "cell_type": "code",
   "execution_count": 36,
   "id": "2ac6381c-ff49-4eb2-b3af-ed4898d5e9ec",
   "metadata": {},
   "outputs": [],
   "source": [
    "def get_relative_track_position(events):\n",
    "    seq_size_for_user = (\n",
    "        events\n",
    "        .groupby('user_id')\n",
    "        ['track_seq']\n",
    "        .max()\n",
    "        .to_dict()\n",
    "    )\n",
    "\n",
    "    # векторизуем поиск по словарю\n",
    "    get_seq_size = np.vectorize(lambda x: seq_size_for_user[x])\n",
    "\n",
    "    return events['track_seq'] / get_seq_size(events['user_id'])"
   ]
  },
  {
   "cell_type": "code",
   "execution_count": 37,
   "id": "830a5cd4-87d7-4f99-b794-164835891e2e",
   "metadata": {},
   "outputs": [
    {
     "data": {
      "text/html": [
       "<div>\n",
       "<style scoped>\n",
       "    .dataframe tbody tr th:only-of-type {\n",
       "        vertical-align: middle;\n",
       "    }\n",
       "\n",
       "    .dataframe tbody tr th {\n",
       "        vertical-align: top;\n",
       "    }\n",
       "\n",
       "    .dataframe thead th {\n",
       "        text-align: right;\n",
       "    }\n",
       "</style>\n",
       "<table border=\"1\" class=\"dataframe\">\n",
       "  <thead>\n",
       "    <tr style=\"text-align: right;\">\n",
       "      <th></th>\n",
       "      <th>user_id</th>\n",
       "      <th>track_id</th>\n",
       "      <th>top_score</th>\n",
       "      <th>als_score</th>\n",
       "      <th>target</th>\n",
       "      <th>popularity</th>\n",
       "      <th>activity</th>\n",
       "      <th>pop_share</th>\n",
       "      <th>track_position</th>\n",
       "    </tr>\n",
       "  </thead>\n",
       "  <tbody>\n",
       "    <tr>\n",
       "      <th>0</th>\n",
       "      <td>5</td>\n",
       "      <td>33311009</td>\n",
       "      <td>0.85</td>\n",
       "      <td>NaN</td>\n",
       "      <td>1</td>\n",
       "      <td>0.85</td>\n",
       "      <td>0.43</td>\n",
       "      <td>0.4</td>\n",
       "      <td>0.517287</td>\n",
       "    </tr>\n",
       "    <tr>\n",
       "      <th>1</th>\n",
       "      <td>11</td>\n",
       "      <td>50685843</td>\n",
       "      <td>0.52</td>\n",
       "      <td>NaN</td>\n",
       "      <td>1</td>\n",
       "      <td>0.52</td>\n",
       "      <td>0.21</td>\n",
       "      <td>0.2</td>\n",
       "      <td>0.666256</td>\n",
       "    </tr>\n",
       "    <tr>\n",
       "      <th>2</th>\n",
       "      <td>15</td>\n",
       "      <td>137670</td>\n",
       "      <td>0.57</td>\n",
       "      <td>NaN</td>\n",
       "      <td>1</td>\n",
       "      <td>0.57</td>\n",
       "      <td>NaN</td>\n",
       "      <td>0.4</td>\n",
       "      <td>0.088623</td>\n",
       "    </tr>\n",
       "  </tbody>\n",
       "</table>\n",
       "</div>"
      ],
      "text/plain": [
       "   user_id  track_id  top_score  als_score  target  popularity  activity  \\\n",
       "0        5  33311009       0.85        NaN       1        0.85      0.43   \n",
       "1       11  50685843       0.52        NaN       1        0.52      0.21   \n",
       "2       15    137670       0.57        NaN       1        0.57       NaN   \n",
       "\n",
       "   pop_share  track_position  \n",
       "0        0.4        0.517287  \n",
       "1        0.2        0.666256  \n",
       "2        0.4        0.088623  "
      ]
     },
     "execution_count": 37,
     "metadata": {},
     "output_type": "execute_result"
    }
   ],
   "source": [
    "# Расчитываем и добавляем в events_to_cand относительныое положение \n",
    "# трека в плейлисте\n",
    "events_to_cand['track_position']= (\n",
    "    get_relative_track_position(events_to_cand)\n",
    "    .astype('float32')\n",
    ")\n",
    "\n",
    "# Расчитываем среднее положение трека по всем пользователям\n",
    "avg_track_position_for_train = (\n",
    "    events_to_cand\n",
    "    .groupby('track_id')\n",
    "    ['track_position']\n",
    "    .mean()\n",
    "    .reset_index()\n",
    ")\n",
    "\n",
    "# Добавляем признак `track_position` в таблицу candidates\n",
    "candidates = candidates.merge(\n",
    "    avg_track_position_for_train,\n",
    "    on=['track_id'],\n",
    "    how='left'\n",
    ")\n",
    "\n",
    "del avg_track_position_for_train\n",
    "\n",
    "candidates.head(3)"
   ]
  },
  {
   "cell_type": "code",
   "execution_count": 38,
   "id": "5bbdc660-bb2a-4725-88ff-87f4b01aedb3",
   "metadata": {},
   "outputs": [
    {
     "name": "stdout",
     "output_type": "stream",
     "text": [
      "Память по столбцам:\n",
      "Index                  128\n",
      "user_id            5147804\n",
      "track_id           5147804\n",
      "top_score         10295608\n",
      "als_score         10295608\n",
      "target             1286951\n",
      "popularity        10295608\n",
      "activity          10295608\n",
      "pop_share         10295608\n",
      "track_position     5147804\n",
      "dtype: int64\n",
      "\n",
      "Общее использование памяти (в мегабайтах): 65.05\n"
     ]
    }
   ],
   "source": [
    "memory_load(candidates)"
   ]
  },
  {
   "cell_type": "code",
   "execution_count": 39,
   "id": "47087355-6415-4cab-bccf-7613aac53b2e",
   "metadata": {},
   "outputs": [
    {
     "name": "stderr",
     "output_type": "stream",
     "text": [
      "/tmp/ipykernel_1880/3756353600.py:3: SettingWithCopyWarning: \n",
      "A value is trying to be set on a copy of a slice from a DataFrame.\n",
      "Try using .loc[row_indexer,col_indexer] = value instead\n",
      "\n",
      "See the caveats in the documentation: https://pandas.pydata.org/pandas-docs/stable/user_guide/indexing.html#returning-a-view-versus-a-copy\n",
      "  events_train['track_position']= (\n"
     ]
    },
    {
     "data": {
      "text/html": [
       "<div>\n",
       "<style scoped>\n",
       "    .dataframe tbody tr th:only-of-type {\n",
       "        vertical-align: middle;\n",
       "    }\n",
       "\n",
       "    .dataframe tbody tr th {\n",
       "        vertical-align: top;\n",
       "    }\n",
       "\n",
       "    .dataframe thead th {\n",
       "        text-align: right;\n",
       "    }\n",
       "</style>\n",
       "<table border=\"1\" class=\"dataframe\">\n",
       "  <thead>\n",
       "    <tr style=\"text-align: right;\">\n",
       "      <th></th>\n",
       "      <th>user_id</th>\n",
       "      <th>track_id</th>\n",
       "      <th>top_score</th>\n",
       "      <th>als_score</th>\n",
       "      <th>popularity</th>\n",
       "      <th>activity</th>\n",
       "      <th>pop_share</th>\n",
       "      <th>track_position</th>\n",
       "    </tr>\n",
       "  </thead>\n",
       "  <tbody>\n",
       "    <tr>\n",
       "      <th>0</th>\n",
       "      <td>3</td>\n",
       "      <td>53404</td>\n",
       "      <td>1.00</td>\n",
       "      <td>NaN</td>\n",
       "      <td>1.00</td>\n",
       "      <td>0.19</td>\n",
       "      <td>0.25</td>\n",
       "      <td>0.054304</td>\n",
       "    </tr>\n",
       "    <tr>\n",
       "      <th>1</th>\n",
       "      <td>3</td>\n",
       "      <td>33311009</td>\n",
       "      <td>0.92</td>\n",
       "      <td>0.304438</td>\n",
       "      <td>0.92</td>\n",
       "      <td>0.19</td>\n",
       "      <td>0.25</td>\n",
       "      <td>0.498143</td>\n",
       "    </tr>\n",
       "    <tr>\n",
       "      <th>2</th>\n",
       "      <td>3</td>\n",
       "      <td>178529</td>\n",
       "      <td>0.92</td>\n",
       "      <td>NaN</td>\n",
       "      <td>0.92</td>\n",
       "      <td>0.19</td>\n",
       "      <td>0.25</td>\n",
       "      <td>0.106763</td>\n",
       "    </tr>\n",
       "  </tbody>\n",
       "</table>\n",
       "</div>"
      ],
      "text/plain": [
       "   user_id  track_id  top_score  als_score  popularity  activity  pop_share  \\\n",
       "0        3     53404       1.00        NaN        1.00      0.19       0.25   \n",
       "1        3  33311009       0.92   0.304438        0.92      0.19       0.25   \n",
       "2        3    178529       0.92        NaN        0.92      0.19       0.25   \n",
       "\n",
       "   track_position  \n",
       "0        0.054304  \n",
       "1        0.498143  \n",
       "2        0.106763  "
      ]
     },
     "execution_count": 39,
     "metadata": {},
     "output_type": "execute_result"
    }
   ],
   "source": [
    "# Расчитываем и добавляем теперь уже для events_train относительныое положение \n",
    "# трека в плейлисте\n",
    "events_train['track_position']= (\n",
    "    get_relative_track_position(events_train)\n",
    "    .astype('float32')\n",
    ")\n",
    "\n",
    "# Расчитываем среднее положение трека по всем пользователям\n",
    "avg_track_position_for_inference = (\n",
    "    events_train\n",
    "    .groupby('track_id')\n",
    "    ['track_position']\n",
    "    .mean()\n",
    "    .reset_index()\n",
    ")\n",
    "\n",
    "# Добавляем признак `track_position` в таблицу inference\n",
    "inference = inference.merge(\n",
    "    avg_track_position_for_inference,\n",
    "    on=['track_id'],\n",
    "    how='left'\n",
    ")\n",
    "\n",
    "del avg_track_position_for_inference\n",
    "\n",
    "\n",
    "inference.head(3)"
   ]
  },
  {
   "cell_type": "code",
   "execution_count": 40,
   "id": "b3ee77cb-1b37-4a89-bc7e-62ab914a166a",
   "metadata": {},
   "outputs": [
    {
     "name": "stdout",
     "output_type": "stream",
     "text": [
      "Память по столбцам:\n",
      "Index                   128\n",
      "user_id           178859620\n",
      "track_id          178859620\n",
      "top_score         357719240\n",
      "als_score         357719240\n",
      "popularity        357719240\n",
      "activity          357719240\n",
      "pop_share         357719240\n",
      "track_position    178859620\n",
      "dtype: int64\n",
      "\n",
      "Общее использование памяти (в мегабайтах): 2217.46\n"
     ]
    }
   ],
   "source": [
    "memory_load(inference)"
   ]
  },
  {
   "cell_type": "markdown",
   "id": "9a66f50c-331e-4e93-a3f4-86242ffcac9d",
   "metadata": {},
   "source": [
    "**Получение финальных рекомендаций**"
   ]
  },
  {
   "cell_type": "code",
   "execution_count": 42,
   "id": "0e751a7d-7f9d-4ca6-9067-ff055eaea2b3",
   "metadata": {},
   "outputs": [],
   "source": [
    "#candidates.head(1)"
   ]
  },
  {
   "cell_type": "code",
   "execution_count": 43,
   "id": "8a36388d-631c-4fb1-9149-bb6c6ed01619",
   "metadata": {},
   "outputs": [],
   "source": [
    "from catboost import CatBoostClassifier, Pool"
   ]
  },
  {
   "cell_type": "code",
   "execution_count": 46,
   "id": "710a777f-9243-4ac4-b516-c271f5f1a607",
   "metadata": {},
   "outputs": [],
   "source": [
    "# задаём имена колонок признаков и таргета\n",
    "features = ['top_score', 'als_score',\n",
    "    'popularity', 'activity', 'pop_share', 'track_position']\n",
    "target = 'target'"
   ]
  },
  {
   "cell_type": "code",
   "execution_count": 47,
   "id": "c4cf07aa-3b1d-44df-9f13-fb3ac71f36a3",
   "metadata": {},
   "outputs": [
    {
     "name": "stdout",
     "output_type": "stream",
     "text": [
      "0:\tlearn: 0.6274670\ttotal: 174ms\tremaining: 2m 53s\n",
      "100:\tlearn: 0.3165212\ttotal: 11s\tremaining: 1m 38s\n",
      "200:\tlearn: 0.2992494\ttotal: 21.8s\tremaining: 1m 26s\n",
      "300:\tlearn: 0.2903344\ttotal: 32.9s\tremaining: 1m 16s\n",
      "400:\tlearn: 0.2853082\ttotal: 43.8s\tremaining: 1m 5s\n",
      "500:\tlearn: 0.2818795\ttotal: 54.8s\tremaining: 54.6s\n",
      "600:\tlearn: 0.2793691\ttotal: 1m 5s\tremaining: 43.6s\n",
      "700:\tlearn: 0.2773311\ttotal: 1m 16s\tremaining: 32.7s\n",
      "800:\tlearn: 0.2755845\ttotal: 1m 27s\tremaining: 21.8s\n",
      "900:\tlearn: 0.2740396\ttotal: 1m 38s\tremaining: 10.8s\n",
      "999:\tlearn: 0.2729922\ttotal: 1m 49s\tremaining: 0us\n"
     ]
    },
    {
     "data": {
      "text/plain": [
       "<catboost.core.CatBoostClassifier at 0x7f71594097e0>"
      ]
     },
     "execution_count": 47,
     "metadata": {},
     "output_type": "execute_result"
    }
   ],
   "source": [
    "# создаём Pool\n",
    "train_data = Pool(\n",
    "    data=candidates[features], \n",
    "    label=candidates[target])\n",
    "\n",
    "# инициализируем модель CatBoostClassifier\n",
    "cb_model = CatBoostClassifier(\n",
    "    iterations=1000,\n",
    "    learning_rate=0.1,\n",
    "    depth=6,\n",
    "    loss_function='Logloss',\n",
    "    verbose=100,\n",
    "    random_seed=0,\n",
    ")\n",
    "\n",
    "# тренируем модель\n",
    "cb_model.fit(train_data)"
   ]
  },
  {
   "cell_type": "code",
   "execution_count": 48,
   "id": "8625c720-a542-42f6-b6de-6b7aa3da7fd9",
   "metadata": {},
   "outputs": [],
   "source": [
    "# Сохраняю модель для удобства переиспользования\n",
    "with open('models/cb_model.pkl', 'wb') as f:\n",
    "       pickle.dump(cb_model, f)"
   ]
  },
  {
   "cell_type": "code",
   "execution_count": null,
   "id": "6b8c7dec-466d-4c8d-a0df-102e7cffb90d",
   "metadata": {},
   "outputs": [],
   "source": [
    "with open('models/cb_model.pkl', 'rb') as f:\n",
    "    cb_model = pickle.load(f)"
   ]
  },
  {
   "cell_type": "code",
   "execution_count": 49,
   "id": "76bb871b-0a28-4e65-812e-af31b96249c5",
   "metadata": {},
   "outputs": [
    {
     "data": {
      "text/html": [
       "<div>\n",
       "<style scoped>\n",
       "    .dataframe tbody tr th:only-of-type {\n",
       "        vertical-align: middle;\n",
       "    }\n",
       "\n",
       "    .dataframe tbody tr th {\n",
       "        vertical-align: top;\n",
       "    }\n",
       "\n",
       "    .dataframe thead th {\n",
       "        text-align: right;\n",
       "    }\n",
       "</style>\n",
       "<table border=\"1\" class=\"dataframe\">\n",
       "  <thead>\n",
       "    <tr style=\"text-align: right;\">\n",
       "      <th></th>\n",
       "      <th>feature_importance</th>\n",
       "    </tr>\n",
       "  </thead>\n",
       "  <tbody>\n",
       "    <tr>\n",
       "      <th>track_position</th>\n",
       "      <td>29.148227</td>\n",
       "    </tr>\n",
       "    <tr>\n",
       "      <th>top_score</th>\n",
       "      <td>19.789209</td>\n",
       "    </tr>\n",
       "    <tr>\n",
       "      <th>popularity</th>\n",
       "      <td>16.236458</td>\n",
       "    </tr>\n",
       "    <tr>\n",
       "      <th>activity</th>\n",
       "      <td>15.837540</td>\n",
       "    </tr>\n",
       "    <tr>\n",
       "      <th>pop_share</th>\n",
       "      <td>13.732634</td>\n",
       "    </tr>\n",
       "    <tr>\n",
       "      <th>als_score</th>\n",
       "      <td>5.255932</td>\n",
       "    </tr>\n",
       "  </tbody>\n",
       "</table>\n",
       "</div>"
      ],
      "text/plain": [
       "                feature_importance\n",
       "track_position           29.148227\n",
       "top_score                19.789209\n",
       "popularity               16.236458\n",
       "activity                 15.837540\n",
       "pop_share                13.732634\n",
       "als_score                 5.255932"
      ]
     },
     "execution_count": 49,
     "metadata": {},
     "output_type": "execute_result"
    }
   ],
   "source": [
    "# Посмотрим на важность призаков построенной модели\n",
    "pd.DataFrame(\n",
    "    cb_model.get_feature_importance(), \n",
    "    index=features, \n",
    "    columns=['feature_importance']\n",
    ").sort_values(by='feature_importance', ascending=False)"
   ]
  },
  {
   "cell_type": "markdown",
   "id": "780ba7bc-905f-4575-9dfb-5913f66686b0",
   "metadata": {},
   "source": [
    "**Получение финальных рекомендаций**"
   ]
  },
  {
   "cell_type": "code",
   "execution_count": 50,
   "id": "c5d71ee8-41c4-4083-99d0-c1587668d296",
   "metadata": {},
   "outputs": [],
   "source": [
    "inference['rank'] = (\n",
    "    cb_model\n",
    "    .predict_proba(\n",
    "        Pool(data=inference[features])\n",
    "    )\n",
    "    [:, 1]\n",
    "    .astype('float32')\n",
    ")"
   ]
  },
  {
   "cell_type": "code",
   "execution_count": 51,
   "id": "dae7ea29-c192-4ddc-85ae-29c364d008af",
   "metadata": {},
   "outputs": [],
   "source": [
    "final_recommendations = (\n",
    "    inference\n",
    "    [['user_id', 'track_id', 'rank']]\n",
    "    .sort_values(\n",
    "        by=['user_id', 'rank'],\n",
    "        ascending=[True, False],\n",
    "        ignore_index=True\n",
    "    )\n",
    "    .groupby('user_id')\n",
    "    .head(50)\n",
    "    .rename(columns={'rank': 'score'})\n",
    "    .reset_index(drop=True)\n",
    ").round(2)"
   ]
  },
  {
   "cell_type": "code",
   "execution_count": 52,
   "id": "d7452336-6551-42ba-bdc0-9f60ceeca232",
   "metadata": {},
   "outputs": [
    {
     "data": {
      "text/html": [
       "<div>\n",
       "<style scoped>\n",
       "    .dataframe tbody tr th:only-of-type {\n",
       "        vertical-align: middle;\n",
       "    }\n",
       "\n",
       "    .dataframe tbody tr th {\n",
       "        vertical-align: top;\n",
       "    }\n",
       "\n",
       "    .dataframe thead th {\n",
       "        text-align: right;\n",
       "    }\n",
       "</style>\n",
       "<table border=\"1\" class=\"dataframe\">\n",
       "  <thead>\n",
       "    <tr style=\"text-align: right;\">\n",
       "      <th></th>\n",
       "      <th>user_id</th>\n",
       "      <th>track_id</th>\n",
       "      <th>score</th>\n",
       "    </tr>\n",
       "  </thead>\n",
       "  <tbody>\n",
       "    <tr>\n",
       "      <th>0</th>\n",
       "      <td>3</td>\n",
       "      <td>33311009</td>\n",
       "      <td>1.00</td>\n",
       "    </tr>\n",
       "    <tr>\n",
       "      <th>1</th>\n",
       "      <td>3</td>\n",
       "      <td>57921154</td>\n",
       "      <td>1.00</td>\n",
       "    </tr>\n",
       "    <tr>\n",
       "      <th>2</th>\n",
       "      <td>3</td>\n",
       "      <td>54798445</td>\n",
       "      <td>1.00</td>\n",
       "    </tr>\n",
       "    <tr>\n",
       "      <th>3</th>\n",
       "      <td>3</td>\n",
       "      <td>50685843</td>\n",
       "      <td>1.00</td>\n",
       "    </tr>\n",
       "    <tr>\n",
       "      <th>4</th>\n",
       "      <td>3</td>\n",
       "      <td>35505245</td>\n",
       "      <td>0.99</td>\n",
       "    </tr>\n",
       "  </tbody>\n",
       "</table>\n",
       "</div>"
      ],
      "text/plain": [
       "   user_id  track_id  score\n",
       "0        3  33311009   1.00\n",
       "1        3  57921154   1.00\n",
       "2        3  54798445   1.00\n",
       "3        3  50685843   1.00\n",
       "4        3  35505245   0.99"
      ]
     },
     "execution_count": 52,
     "metadata": {},
     "output_type": "execute_result"
    }
   ],
   "source": [
    "final_recommendations.head()"
   ]
  },
  {
   "cell_type": "markdown",
   "id": "b3c84071-45b5-4a15-a683-e0ab034a3128",
   "metadata": {},
   "source": [
    "# Оценка качества"
   ]
  },
  {
   "cell_type": "markdown",
   "id": "1b107fe4-554e-42b1-87d9-c435a52bb77a",
   "metadata": {},
   "source": [
    "Проверим оценку качества трёх типов рекомендаций: \n",
    "\n",
    "- топ популярных,\n",
    "- персональных, полученных при помощи ALS,\n",
    "- итоговых\n",
    "  \n",
    "по четырем метрикам: recall, precision, coverage, novelty."
   ]
  },
  {
   "cell_type": "code",
   "execution_count": 63,
   "id": "94d6f388-aecb-443e-8647-14014e932d4d",
   "metadata": {},
   "outputs": [],
   "source": [
    "final_recommendations_metrics=combined_metrics(final_recommendations, items, events_to_cand, events_to_rank, 5)"
   ]
  },
  {
   "cell_type": "code",
   "execution_count": 64,
   "id": "26df411f-14c1-4848-8797-f37afe449cc6",
   "metadata": {},
   "outputs": [
    {
     "data": {
      "text/html": [
       "<div>\n",
       "<style scoped>\n",
       "    .dataframe tbody tr th:only-of-type {\n",
       "        vertical-align: middle;\n",
       "    }\n",
       "\n",
       "    .dataframe tbody tr th {\n",
       "        vertical-align: top;\n",
       "    }\n",
       "\n",
       "    .dataframe thead th {\n",
       "        text-align: right;\n",
       "    }\n",
       "</style>\n",
       "<table border=\"1\" class=\"dataframe\">\n",
       "  <thead>\n",
       "    <tr style=\"text-align: right;\">\n",
       "      <th></th>\n",
       "      <th>Metric</th>\n",
       "      <th>Value</th>\n",
       "    </tr>\n",
       "  </thead>\n",
       "  <tbody>\n",
       "    <tr>\n",
       "      <th>0</th>\n",
       "      <td>Precision</td>\n",
       "      <td>1.13</td>\n",
       "    </tr>\n",
       "    <tr>\n",
       "      <th>1</th>\n",
       "      <td>Recall</td>\n",
       "      <td>0.29</td>\n",
       "    </tr>\n",
       "    <tr>\n",
       "      <th>2</th>\n",
       "      <td>Coverage</td>\n",
       "      <td>0.39</td>\n",
       "    </tr>\n",
       "    <tr>\n",
       "      <th>3</th>\n",
       "      <td>Novelty</td>\n",
       "      <td>96.51</td>\n",
       "    </tr>\n",
       "  </tbody>\n",
       "</table>\n",
       "</div>"
      ],
      "text/plain": [
       "      Metric  Value\n",
       "0  Precision   1.13\n",
       "1     Recall   0.29\n",
       "2   Coverage   0.39\n",
       "3    Novelty  96.51"
      ]
     },
     "execution_count": 64,
     "metadata": {},
     "output_type": "execute_result"
    }
   ],
   "source": [
    "final_recommendations_metrics"
   ]
  },
  {
   "cell_type": "markdown",
   "id": "83cb2689-3d87-42c6-947a-7cbca04fc07a",
   "metadata": {},
   "source": [
    "Для сравнения сформирую таблицу с метриками предыдущих рекомендаций."
   ]
  },
  {
   "cell_type": "code",
   "execution_count": 65,
   "id": "e72196e7-e76f-4644-8f76-50127a3551a0",
   "metadata": {},
   "outputs": [],
   "source": [
    "top_pop_metrics = pd.read_parquet(\"datasets/top_pop_metrics.parquet\") \n",
    "personal_als_metrics = pd.read_parquet(\"datasets/personal_als_metrics.parquet\") "
   ]
  },
  {
   "cell_type": "code",
   "execution_count": 66,
   "id": "3464d76d-9c90-4bae-9fd8-0ba82bf33467",
   "metadata": {},
   "outputs": [
    {
     "data": {
      "text/html": [
       "<div>\n",
       "<style scoped>\n",
       "    .dataframe tbody tr th:only-of-type {\n",
       "        vertical-align: middle;\n",
       "    }\n",
       "\n",
       "    .dataframe tbody tr th {\n",
       "        vertical-align: top;\n",
       "    }\n",
       "\n",
       "    .dataframe thead th {\n",
       "        text-align: right;\n",
       "    }\n",
       "</style>\n",
       "<table border=\"1\" class=\"dataframe\">\n",
       "  <thead>\n",
       "    <tr style=\"text-align: right;\">\n",
       "      <th>Source</th>\n",
       "      <th>Metric</th>\n",
       "      <th>Final Recommendations</th>\n",
       "      <th>Personal ALS</th>\n",
       "      <th>Top Pop</th>\n",
       "    </tr>\n",
       "  </thead>\n",
       "  <tbody>\n",
       "    <tr>\n",
       "      <th>0</th>\n",
       "      <td>Coverage</td>\n",
       "      <td>0.39</td>\n",
       "      <td>0.41</td>\n",
       "      <td>0.01</td>\n",
       "    </tr>\n",
       "    <tr>\n",
       "      <th>1</th>\n",
       "      <td>Novelty</td>\n",
       "      <td>96.51</td>\n",
       "      <td>100.00</td>\n",
       "      <td>92.62</td>\n",
       "    </tr>\n",
       "    <tr>\n",
       "      <th>2</th>\n",
       "      <td>Precision</td>\n",
       "      <td>1.13</td>\n",
       "      <td>1.33</td>\n",
       "      <td>0.36</td>\n",
       "    </tr>\n",
       "    <tr>\n",
       "      <th>3</th>\n",
       "      <td>Recall</td>\n",
       "      <td>0.29</td>\n",
       "      <td>0.98</td>\n",
       "      <td>0.13</td>\n",
       "    </tr>\n",
       "  </tbody>\n",
       "</table>\n",
       "</div>"
      ],
      "text/plain": [
       "Source     Metric  Final Recommendations  Personal ALS  Top Pop\n",
       "0        Coverage                   0.39          0.41     0.01\n",
       "1         Novelty                  96.51        100.00    92.62\n",
       "2       Precision                   1.13          1.33     0.36\n",
       "3          Recall                   0.29          0.98     0.13"
      ]
     },
     "metadata": {},
     "output_type": "display_data"
    }
   ],
   "source": [
    "# Добавляем столбец для идентификации датафрейма\n",
    "top_pop_metrics['Source'] = 'Top Pop'\n",
    "personal_als_metrics['Source'] = 'Personal ALS'\n",
    "final_recommendations_metrics['Source'] = 'Final Recommendations'\n",
    "\n",
    "# Объединяем датафреймы\n",
    "combined_metrics = pd.concat([top_pop_metrics, personal_als_metrics, final_recommendations_metrics])\n",
    "\n",
    "# Пивотируем таблицу для более удобного отображения\n",
    "pivoted_metrics = combined_metrics.pivot(index='Metric', columns='Source', values='Value')\n",
    "\n",
    "# Сбрасываем индексы для удобства\n",
    "pivoted_metrics = pivoted_metrics.reset_index()\n",
    "\n",
    "display(pivoted_metrics)"
   ]
  },
  {
   "cell_type": "code",
   "execution_count": 67,
   "id": "61951b35-1312-4b31-b465-e2c2f71808bc",
   "metadata": {},
   "outputs": [],
   "source": [
    "#Сохраняю final_recommendations\n",
    "final_recommendations.to_parquet(\"datasets/final_recommendations.parquet\")"
   ]
  },
  {
   "cell_type": "code",
   "execution_count": 68,
   "id": "611cec62-53e1-403d-8ce8-54741578c984",
   "metadata": {},
   "outputs": [
    {
     "name": "stdout",
     "output_type": "stream",
     "text": [
      "Файл успешно загружен в бакет s3-student-mle-20240325-db8a481ea6.\n"
     ]
    }
   ],
   "source": [
    "upload_to_yandex_s3('datasets/final_recommendations.parquet', 'recsys/recommendations/final_recommendations.parquet')"
   ]
  },
  {
   "cell_type": "markdown",
   "id": "f1c8d38c-32b0-46a4-96f0-cd01dac708bc",
   "metadata": {},
   "source": [
    "# === Выводы, метрики ==="
   ]
  },
  {
   "cell_type": "markdown",
   "id": "f7d7d5d8-7d1e-4fdf-a6cd-83e5ce92c684",
   "metadata": {},
   "source": [
    "Основные выводы при работе над расчётом рекомендаций, рассчитанные метрики."
   ]
  },
  {
   "cell_type": "markdown",
   "id": "54448ee5-b4dc-4f69-aef0-12f9d9da0391",
   "metadata": {},
   "source": [
    "Очень просты в формировании и использовании рекомендации которые основаны на топ популярных треках. Но они имеет и самую низкую точность.\n",
    "На порядок выше оказались персональные рекомендации, точность и полнота гораздо выше чем у топ популярных. Но сложность формирования и ресурсы которые затрачиваются на разложение матрицы взаимодействий и расчет рекомендаций отдельно для каждого пользователя сильно утяжеляют такой подход.\n",
    "Двухстадийный подход не порадовал меня качеством. Долго бился над формированием признаков, пробовал формировать матрицу жанров, но к сожалению машина просто крашилась. Остановился на довольно \"недорогих\" признаках, тем не менее качественного роста метрик не получилось, точность осталась на неплохом уровне, но полнота и покрытие оказались гораздо хуже чем у персональных рекомендаций. Возможно я где то на этапе формирования матрицы и обучения модели, свернул не туда. Буду признателен за подсказку."
   ]
  },
  {
   "cell_type": "code",
   "execution_count": null,
   "id": "b898ed1c-1d2c-4832-8812-d520a5491bb7",
   "metadata": {},
   "outputs": [],
   "source": []
  }
 ],
 "metadata": {
  "kernelspec": {
   "display_name": "Python 3 (ipykernel)",
   "language": "python",
   "name": "python3"
  },
  "language_info": {
   "codemirror_mode": {
    "name": "ipython",
    "version": 3
   },
   "file_extension": ".py",
   "mimetype": "text/x-python",
   "name": "python",
   "nbconvert_exporter": "python",
   "pygments_lexer": "ipython3",
   "version": "3.10.12"
  }
 },
 "nbformat": 4,
 "nbformat_minor": 5
}
