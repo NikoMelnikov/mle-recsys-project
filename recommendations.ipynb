{
 "cells": [
  {
   "cell_type": "markdown",
   "id": "f4095ae4-7294-4b28-853e-88d235002c97",
   "metadata": {},
   "source": [
    "# Инициализация"
   ]
  },
  {
   "cell_type": "markdown",
   "id": "2f2318d2-9df8-4911-915e-15b725c44f8a",
   "metadata": {},
   "source": [
    "Загружаем библиотеки необходимые для выполнения кода ноутбука."
   ]
  },
  {
   "cell_type": "code",
   "execution_count": 1,
   "id": "662d04e7-1b0b-4e4a-9ddf-4526d7fef119",
   "metadata": {},
   "outputs": [],
   "source": [
    "import logging\n",
    "\n",
    "import matplotlib.pyplot as plt\n",
    "import numpy as np\n",
    "import pandas as pd\n",
    "\n",
    "import seaborn as sns"
   ]
  },
  {
   "cell_type": "code",
   "execution_count": 2,
   "id": "26c66142",
   "metadata": {},
   "outputs": [],
   "source": [
    "import warnings\n",
    "warnings.filterwarnings('ignore')"
   ]
  },
  {
   "cell_type": "code",
   "execution_count": 3,
   "id": "bc70a284",
   "metadata": {},
   "outputs": [],
   "source": [
    "plt.rcParams['figure.figsize'] = (10,5)"
   ]
  },
  {
   "cell_type": "code",
   "execution_count": 4,
   "id": "1174f49f",
   "metadata": {},
   "outputs": [],
   "source": [
    "%matplotlib inline\n",
    "%config InlineBackend.figure_format = 'png'\n",
    "%config InlineBackend.figure_format = 'retina'"
   ]
  },
  {
   "cell_type": "markdown",
   "id": "bf80fbc5-b660-4fac-8fbb-a5cae77313b3",
   "metadata": {},
   "source": [
    "# === ЭТАП 1 ==="
   ]
  },
  {
   "cell_type": "markdown",
   "id": "5263a8b3-fe99-4204-8a2e-105182792c11",
   "metadata": {},
   "source": [
    "# Загрузка первичных данных"
   ]
  },
  {
   "cell_type": "markdown",
   "id": "1b54a6a5-1656-4e3c-99d1-49dc39451d33",
   "metadata": {},
   "source": [
    "Загружаем первичные данные из файлов:\n",
    "- tracks.parquet\n",
    "- catalog_names.parquet\n",
    "- interactions.parquet"
   ]
  },
  {
   "cell_type": "code",
   "execution_count": 8,
   "id": "5d4b8961-3f35-4e58-9d6b-3e2dbd2c4224",
   "metadata": {},
   "outputs": [],
   "source": [
    "tracks = pd.read_parquet(\"./datasets/tracks.parquet\")"
   ]
  },
  {
   "cell_type": "code",
   "execution_count": 9,
   "id": "d6a120fc",
   "metadata": {},
   "outputs": [],
   "source": [
    "catalog_names = pd.read_parquet(\"./datasets/catalog_names.parquet\")"
   ]
  },
  {
   "cell_type": "code",
   "execution_count": 10,
   "id": "a632a9bd",
   "metadata": {},
   "outputs": [],
   "source": [
    "interactions = pd.read_parquet(\"./datasets/interactions.parquet\")"
   ]
  },
  {
   "cell_type": "markdown",
   "id": "e8f2a1f7-a05f-4f39-af90-5f4018aa6f9d",
   "metadata": {},
   "source": [
    "# Обзор данных"
   ]
  },
  {
   "cell_type": "markdown",
   "id": "46a85307-896c-4fac-9fcf-f0dffa90889e",
   "metadata": {},
   "source": [
    "Проверяем данные, есть ли с ними явные проблемы."
   ]
  },
  {
   "cell_type": "code",
   "execution_count": 6,
   "id": "9cb5ff2c",
   "metadata": {},
   "outputs": [],
   "source": [
    "# функция для знакомства с данными\n",
    "def df_info(df):\n",
    "    display(\"Фрагмент датасета\")\n",
    "    display(df.sample(5))\n",
    "    display(\"-------------------------\")\n",
    "    display(\"Проверяем на наличие пропущенных значение\")\n",
    "    display(df.isna().sum())\n",
    "    display(\"-------------------------\")\n",
    "    display(\"Информация о датасете\")\n",
    "    display(df.info())\n",
    "    display(\"-------------------------\")\n",
    "    display(\"Размерность\")\n",
    "    display(df.shape)"
   ]
  },
  {
   "cell_type": "code",
   "execution_count": 11,
   "id": "2784d8e4",
   "metadata": {},
   "outputs": [
    {
     "data": {
      "text/plain": [
       "'Фрагмент датасета'"
      ]
     },
     "metadata": {},
     "output_type": "display_data"
    },
    {
     "data": {
      "text/html": [
       "<div>\n",
       "<style scoped>\n",
       "    .dataframe tbody tr th:only-of-type {\n",
       "        vertical-align: middle;\n",
       "    }\n",
       "\n",
       "    .dataframe tbody tr th {\n",
       "        vertical-align: top;\n",
       "    }\n",
       "\n",
       "    .dataframe thead th {\n",
       "        text-align: right;\n",
       "    }\n",
       "</style>\n",
       "<table border=\"1\" class=\"dataframe\">\n",
       "  <thead>\n",
       "    <tr style=\"text-align: right;\">\n",
       "      <th></th>\n",
       "      <th>track_id</th>\n",
       "      <th>albums</th>\n",
       "      <th>artists</th>\n",
       "      <th>genres</th>\n",
       "    </tr>\n",
       "  </thead>\n",
       "  <tbody>\n",
       "    <tr>\n",
       "      <th>795903</th>\n",
       "      <td>62161836</td>\n",
       "      <td>[9770137, 9770172, 9772480, 9774345, 9776369]</td>\n",
       "      <td>[29063]</td>\n",
       "      <td>[14, 102]</td>\n",
       "    </tr>\n",
       "    <tr>\n",
       "      <th>907042</th>\n",
       "      <td>76669103</td>\n",
       "      <td>[13544471, 16291406]</td>\n",
       "      <td>[7013449]</td>\n",
       "      <td>[11]</td>\n",
       "    </tr>\n",
       "    <tr>\n",
       "      <th>899035</th>\n",
       "      <td>75020911</td>\n",
       "      <td>[13149771]</td>\n",
       "      <td>[593930]</td>\n",
       "      <td>[25]</td>\n",
       "    </tr>\n",
       "    <tr>\n",
       "      <th>544460</th>\n",
       "      <td>37629201</td>\n",
       "      <td>[4620193]</td>\n",
       "      <td>[2922297, 3444221, 5117765]</td>\n",
       "      <td>[3, 75]</td>\n",
       "    </tr>\n",
       "    <tr>\n",
       "      <th>335967</th>\n",
       "      <td>21781682</td>\n",
       "      <td>[2501206, 2528360, 2538175, 2553777, 2659183, ...</td>\n",
       "      <td>[457446, 1433418]</td>\n",
       "      <td>[11]</td>\n",
       "    </tr>\n",
       "  </tbody>\n",
       "</table>\n",
       "</div>"
      ],
      "text/plain": [
       "        track_id                                             albums  \\\n",
       "795903  62161836      [9770137, 9770172, 9772480, 9774345, 9776369]   \n",
       "907042  76669103                               [13544471, 16291406]   \n",
       "899035  75020911                                         [13149771]   \n",
       "544460  37629201                                          [4620193]   \n",
       "335967  21781682  [2501206, 2528360, 2538175, 2553777, 2659183, ...   \n",
       "\n",
       "                            artists     genres  \n",
       "795903                      [29063]  [14, 102]  \n",
       "907042                    [7013449]       [11]  \n",
       "899035                     [593930]       [25]  \n",
       "544460  [2922297, 3444221, 5117765]    [3, 75]  \n",
       "335967            [457446, 1433418]       [11]  "
      ]
     },
     "metadata": {},
     "output_type": "display_data"
    },
    {
     "data": {
      "text/plain": [
       "'-------------------------'"
      ]
     },
     "metadata": {},
     "output_type": "display_data"
    },
    {
     "data": {
      "text/plain": [
       "'Проверяем на наличие пропущенных значение'"
      ]
     },
     "metadata": {},
     "output_type": "display_data"
    },
    {
     "data": {
      "text/plain": [
       "track_id    0\n",
       "albums      0\n",
       "artists     0\n",
       "genres      0\n",
       "dtype: int64"
      ]
     },
     "metadata": {},
     "output_type": "display_data"
    },
    {
     "data": {
      "text/plain": [
       "'-------------------------'"
      ]
     },
     "metadata": {},
     "output_type": "display_data"
    },
    {
     "data": {
      "text/plain": [
       "'Информация о датасете'"
      ]
     },
     "metadata": {},
     "output_type": "display_data"
    },
    {
     "name": "stdout",
     "output_type": "stream",
     "text": [
      "<class 'pandas.core.frame.DataFrame'>\n",
      "RangeIndex: 1000000 entries, 0 to 999999\n",
      "Data columns (total 4 columns):\n",
      " #   Column    Non-Null Count    Dtype \n",
      "---  ------    --------------    ----- \n",
      " 0   track_id  1000000 non-null  int64 \n",
      " 1   albums    1000000 non-null  object\n",
      " 2   artists   1000000 non-null  object\n",
      " 3   genres    1000000 non-null  object\n",
      "dtypes: int64(1), object(3)\n",
      "memory usage: 30.5+ MB\n"
     ]
    },
    {
     "data": {
      "text/plain": [
       "None"
      ]
     },
     "metadata": {},
     "output_type": "display_data"
    },
    {
     "data": {
      "text/plain": [
       "'-------------------------'"
      ]
     },
     "metadata": {},
     "output_type": "display_data"
    },
    {
     "data": {
      "text/plain": [
       "'Размерность'"
      ]
     },
     "metadata": {},
     "output_type": "display_data"
    },
    {
     "data": {
      "text/plain": [
       "(1000000, 4)"
      ]
     },
     "metadata": {},
     "output_type": "display_data"
    }
   ],
   "source": [
    "df_info(tracks)"
   ]
  },
  {
   "cell_type": "markdown",
   "id": "cb45d5ad-5f6b-41e0-8fee-0b98b721dfc8",
   "metadata": {},
   "source": [
    "С виду явных проблем нет, идентификаторы менять не стоит. Но видно что данные в столбцах кроме track_id содержат массивы, очевидно что пустой массив это не пропущенное значение, хотя данных не содержит. Проведу проверку."
   ]
  },
  {
   "cell_type": "code",
   "execution_count": 12,
   "id": "3aa27652",
   "metadata": {},
   "outputs": [],
   "source": [
    "# функция для поиска пустых массивов.\n",
    "def missed_value(df, column):\n",
    "    df_missed_value =df[df[column].apply(lambda x: len(x) == 0)]\n",
    "    return df_missed_value"
   ]
  },
  {
   "cell_type": "code",
   "execution_count": 13,
   "id": "68ad469e",
   "metadata": {},
   "outputs": [
    {
     "data": {
      "text/html": [
       "<div>\n",
       "<style scoped>\n",
       "    .dataframe tbody tr th:only-of-type {\n",
       "        vertical-align: middle;\n",
       "    }\n",
       "\n",
       "    .dataframe tbody tr th {\n",
       "        vertical-align: top;\n",
       "    }\n",
       "\n",
       "    .dataframe thead th {\n",
       "        text-align: right;\n",
       "    }\n",
       "</style>\n",
       "<table border=\"1\" class=\"dataframe\">\n",
       "  <thead>\n",
       "    <tr style=\"text-align: right;\">\n",
       "      <th></th>\n",
       "      <th>track_id</th>\n",
       "      <th>albums</th>\n",
       "      <th>artists</th>\n",
       "      <th>genres</th>\n",
       "    </tr>\n",
       "  </thead>\n",
       "  <tbody>\n",
       "    <tr>\n",
       "      <th>146031</th>\n",
       "      <td>3599314</td>\n",
       "      <td>[389925]</td>\n",
       "      <td>[]</td>\n",
       "      <td>[68, 86]</td>\n",
       "    </tr>\n",
       "    <tr>\n",
       "      <th>146163</th>\n",
       "      <td>3599591</td>\n",
       "      <td>[389944]</td>\n",
       "      <td>[]</td>\n",
       "      <td>[68, 86]</td>\n",
       "    </tr>\n",
       "    <tr>\n",
       "      <th>177544</th>\n",
       "      <td>4790215</td>\n",
       "      <td>[533785]</td>\n",
       "      <td>[]</td>\n",
       "      <td>[68, 86]</td>\n",
       "    </tr>\n",
       "    <tr>\n",
       "      <th>218922</th>\n",
       "      <td>10063296</td>\n",
       "      <td>[1083742]</td>\n",
       "      <td>[]</td>\n",
       "      <td>[11, 20]</td>\n",
       "    </tr>\n",
       "    <tr>\n",
       "      <th>231455</th>\n",
       "      <td>12122918</td>\n",
       "      <td>[1315834]</td>\n",
       "      <td>[]</td>\n",
       "      <td>[68]</td>\n",
       "    </tr>\n",
       "    <tr>\n",
       "      <th>...</th>\n",
       "      <td>...</td>\n",
       "      <td>...</td>\n",
       "      <td>...</td>\n",
       "      <td>...</td>\n",
       "    </tr>\n",
       "    <tr>\n",
       "      <th>999868</th>\n",
       "      <td>101201589</td>\n",
       "      <td>[12649219]</td>\n",
       "      <td>[]</td>\n",
       "      <td>[62, 77]</td>\n",
       "    </tr>\n",
       "    <tr>\n",
       "      <th>999876</th>\n",
       "      <td>101219571</td>\n",
       "      <td>[9444321]</td>\n",
       "      <td>[]</td>\n",
       "      <td>[62, 83, 77]</td>\n",
       "    </tr>\n",
       "    <tr>\n",
       "      <th>999901</th>\n",
       "      <td>101243616</td>\n",
       "      <td>[11700332]</td>\n",
       "      <td>[]</td>\n",
       "      <td>[62, 93]</td>\n",
       "    </tr>\n",
       "    <tr>\n",
       "      <th>999920</th>\n",
       "      <td>101292599</td>\n",
       "      <td>[9331881]</td>\n",
       "      <td>[]</td>\n",
       "      <td>[62, 90, 77, 84]</td>\n",
       "    </tr>\n",
       "    <tr>\n",
       "      <th>999951</th>\n",
       "      <td>101362545</td>\n",
       "      <td>[10330389]</td>\n",
       "      <td>[]</td>\n",
       "      <td>[62, 88, 77, 85]</td>\n",
       "    </tr>\n",
       "  </tbody>\n",
       "</table>\n",
       "<p>15369 rows × 4 columns</p>\n",
       "</div>"
      ],
      "text/plain": [
       "         track_id      albums artists            genres\n",
       "146031    3599314    [389925]      []          [68, 86]\n",
       "146163    3599591    [389944]      []          [68, 86]\n",
       "177544    4790215    [533785]      []          [68, 86]\n",
       "218922   10063296   [1083742]      []          [11, 20]\n",
       "231455   12122918   [1315834]      []              [68]\n",
       "...           ...         ...     ...               ...\n",
       "999868  101201589  [12649219]      []          [62, 77]\n",
       "999876  101219571   [9444321]      []      [62, 83, 77]\n",
       "999901  101243616  [11700332]      []          [62, 93]\n",
       "999920  101292599   [9331881]      []  [62, 90, 77, 84]\n",
       "999951  101362545  [10330389]      []  [62, 88, 77, 85]\n",
       "\n",
       "[15369 rows x 4 columns]"
      ]
     },
     "execution_count": 13,
     "metadata": {},
     "output_type": "execute_result"
    }
   ],
   "source": [
    "missed_value(tracks, 'artists')"
   ]
  },
  {
   "cell_type": "code",
   "execution_count": 14,
   "id": "bf18384c",
   "metadata": {},
   "outputs": [
    {
     "data": {
      "text/html": [
       "<div>\n",
       "<style scoped>\n",
       "    .dataframe tbody tr th:only-of-type {\n",
       "        vertical-align: middle;\n",
       "    }\n",
       "\n",
       "    .dataframe tbody tr th {\n",
       "        vertical-align: top;\n",
       "    }\n",
       "\n",
       "    .dataframe thead th {\n",
       "        text-align: right;\n",
       "    }\n",
       "</style>\n",
       "<table border=\"1\" class=\"dataframe\">\n",
       "  <thead>\n",
       "    <tr style=\"text-align: right;\">\n",
       "      <th></th>\n",
       "      <th>track_id</th>\n",
       "      <th>albums</th>\n",
       "      <th>artists</th>\n",
       "      <th>genres</th>\n",
       "    </tr>\n",
       "  </thead>\n",
       "  <tbody>\n",
       "    <tr>\n",
       "      <th>310821</th>\n",
       "      <td>20200372</td>\n",
       "      <td>[]</td>\n",
       "      <td>[]</td>\n",
       "      <td>[]</td>\n",
       "    </tr>\n",
       "    <tr>\n",
       "      <th>310826</th>\n",
       "      <td>20200380</td>\n",
       "      <td>[]</td>\n",
       "      <td>[]</td>\n",
       "      <td>[]</td>\n",
       "    </tr>\n",
       "    <tr>\n",
       "      <th>312469</th>\n",
       "      <td>20305116</td>\n",
       "      <td>[]</td>\n",
       "      <td>[]</td>\n",
       "      <td>[]</td>\n",
       "    </tr>\n",
       "    <tr>\n",
       "      <th>312474</th>\n",
       "      <td>20305121</td>\n",
       "      <td>[]</td>\n",
       "      <td>[]</td>\n",
       "      <td>[]</td>\n",
       "    </tr>\n",
       "    <tr>\n",
       "      <th>320353</th>\n",
       "      <td>20756854</td>\n",
       "      <td>[]</td>\n",
       "      <td>[]</td>\n",
       "      <td>[]</td>\n",
       "    </tr>\n",
       "    <tr>\n",
       "      <th>326588</th>\n",
       "      <td>21196099</td>\n",
       "      <td>[]</td>\n",
       "      <td>[]</td>\n",
       "      <td>[]</td>\n",
       "    </tr>\n",
       "    <tr>\n",
       "      <th>326592</th>\n",
       "      <td>21196103</td>\n",
       "      <td>[]</td>\n",
       "      <td>[]</td>\n",
       "      <td>[]</td>\n",
       "    </tr>\n",
       "    <tr>\n",
       "      <th>326594</th>\n",
       "      <td>21196105</td>\n",
       "      <td>[]</td>\n",
       "      <td>[]</td>\n",
       "      <td>[]</td>\n",
       "    </tr>\n",
       "    <tr>\n",
       "      <th>326596</th>\n",
       "      <td>21196107</td>\n",
       "      <td>[]</td>\n",
       "      <td>[]</td>\n",
       "      <td>[]</td>\n",
       "    </tr>\n",
       "    <tr>\n",
       "      <th>326598</th>\n",
       "      <td>21196109</td>\n",
       "      <td>[]</td>\n",
       "      <td>[]</td>\n",
       "      <td>[]</td>\n",
       "    </tr>\n",
       "    <tr>\n",
       "      <th>326600</th>\n",
       "      <td>21196111</td>\n",
       "      <td>[]</td>\n",
       "      <td>[]</td>\n",
       "      <td>[]</td>\n",
       "    </tr>\n",
       "    <tr>\n",
       "      <th>326605</th>\n",
       "      <td>21196116</td>\n",
       "      <td>[]</td>\n",
       "      <td>[]</td>\n",
       "      <td>[]</td>\n",
       "    </tr>\n",
       "    <tr>\n",
       "      <th>326606</th>\n",
       "      <td>21196117</td>\n",
       "      <td>[]</td>\n",
       "      <td>[]</td>\n",
       "      <td>[]</td>\n",
       "    </tr>\n",
       "    <tr>\n",
       "      <th>326607</th>\n",
       "      <td>21196118</td>\n",
       "      <td>[]</td>\n",
       "      <td>[]</td>\n",
       "      <td>[]</td>\n",
       "    </tr>\n",
       "    <tr>\n",
       "      <th>415644</th>\n",
       "      <td>28530632</td>\n",
       "      <td>[]</td>\n",
       "      <td>[]</td>\n",
       "      <td>[]</td>\n",
       "    </tr>\n",
       "    <tr>\n",
       "      <th>503277</th>\n",
       "      <td>34828749</td>\n",
       "      <td>[]</td>\n",
       "      <td>[]</td>\n",
       "      <td>[]</td>\n",
       "    </tr>\n",
       "    <tr>\n",
       "      <th>527490</th>\n",
       "      <td>36598340</td>\n",
       "      <td>[]</td>\n",
       "      <td>[]</td>\n",
       "      <td>[]</td>\n",
       "    </tr>\n",
       "    <tr>\n",
       "      <th>700211</th>\n",
       "      <td>51641225</td>\n",
       "      <td>[]</td>\n",
       "      <td>[]</td>\n",
       "      <td>[]</td>\n",
       "    </tr>\n",
       "  </tbody>\n",
       "</table>\n",
       "</div>"
      ],
      "text/plain": [
       "        track_id albums artists genres\n",
       "310821  20200372     []      []     []\n",
       "310826  20200380     []      []     []\n",
       "312469  20305116     []      []     []\n",
       "312474  20305121     []      []     []\n",
       "320353  20756854     []      []     []\n",
       "326588  21196099     []      []     []\n",
       "326592  21196103     []      []     []\n",
       "326594  21196105     []      []     []\n",
       "326596  21196107     []      []     []\n",
       "326598  21196109     []      []     []\n",
       "326600  21196111     []      []     []\n",
       "326605  21196116     []      []     []\n",
       "326606  21196117     []      []     []\n",
       "326607  21196118     []      []     []\n",
       "415644  28530632     []      []     []\n",
       "503277  34828749     []      []     []\n",
       "527490  36598340     []      []     []\n",
       "700211  51641225     []      []     []"
      ]
     },
     "execution_count": 14,
     "metadata": {},
     "output_type": "execute_result"
    }
   ],
   "source": [
    "missed_value(tracks, 'albums')"
   ]
  },
  {
   "cell_type": "code",
   "execution_count": 15,
   "id": "3c3c03b6",
   "metadata": {},
   "outputs": [
    {
     "data": {
      "text/html": [
       "<div>\n",
       "<style scoped>\n",
       "    .dataframe tbody tr th:only-of-type {\n",
       "        vertical-align: middle;\n",
       "    }\n",
       "\n",
       "    .dataframe tbody tr th {\n",
       "        vertical-align: top;\n",
       "    }\n",
       "\n",
       "    .dataframe thead th {\n",
       "        text-align: right;\n",
       "    }\n",
       "</style>\n",
       "<table border=\"1\" class=\"dataframe\">\n",
       "  <thead>\n",
       "    <tr style=\"text-align: right;\">\n",
       "      <th></th>\n",
       "      <th>track_id</th>\n",
       "      <th>albums</th>\n",
       "      <th>artists</th>\n",
       "      <th>genres</th>\n",
       "    </tr>\n",
       "  </thead>\n",
       "  <tbody>\n",
       "    <tr>\n",
       "      <th>490</th>\n",
       "      <td>2520</td>\n",
       "      <td>[249, 163801, 163802, 324616, 17542430, 189498...</td>\n",
       "      <td>[2259]</td>\n",
       "      <td>[]</td>\n",
       "    </tr>\n",
       "    <tr>\n",
       "      <th>3069</th>\n",
       "      <td>16776</td>\n",
       "      <td>[1479, 5319, 6093, 8467, 10641, 90867, 163801,...</td>\n",
       "      <td>[978]</td>\n",
       "      <td>[]</td>\n",
       "    </tr>\n",
       "    <tr>\n",
       "      <th>3077</th>\n",
       "      <td>16801</td>\n",
       "      <td>[1479, 163801, 9287549, 9377183, 9424994, 1201...</td>\n",
       "      <td>[10520]</td>\n",
       "      <td>[]</td>\n",
       "    </tr>\n",
       "    <tr>\n",
       "      <th>4192</th>\n",
       "      <td>23752</td>\n",
       "      <td>[2001, 3722, 4973, 6104, 6558, 23866, 37052, 7...</td>\n",
       "      <td>[13373]</td>\n",
       "      <td>[]</td>\n",
       "    </tr>\n",
       "    <tr>\n",
       "      <th>6645</th>\n",
       "      <td>38012</td>\n",
       "      <td>[3147, 60099, 530836, 1115289, 2490724, 818446...</td>\n",
       "      <td>[16758]</td>\n",
       "      <td>[]</td>\n",
       "    </tr>\n",
       "    <tr>\n",
       "      <th>...</th>\n",
       "      <td>...</td>\n",
       "      <td>...</td>\n",
       "      <td>...</td>\n",
       "      <td>...</td>\n",
       "    </tr>\n",
       "    <tr>\n",
       "      <th>997667</th>\n",
       "      <td>99412992</td>\n",
       "      <td>[20764551]</td>\n",
       "      <td>[10029101]</td>\n",
       "      <td>[]</td>\n",
       "    </tr>\n",
       "    <tr>\n",
       "      <th>999192</th>\n",
       "      <td>100497082</td>\n",
       "      <td>[21098340]</td>\n",
       "      <td>[15936615]</td>\n",
       "      <td>[]</td>\n",
       "    </tr>\n",
       "    <tr>\n",
       "      <th>999703</th>\n",
       "      <td>100923319</td>\n",
       "      <td>[21233460]</td>\n",
       "      <td>[5271861]</td>\n",
       "      <td>[]</td>\n",
       "    </tr>\n",
       "    <tr>\n",
       "      <th>999704</th>\n",
       "      <td>100923322</td>\n",
       "      <td>[21233460]</td>\n",
       "      <td>[5271861]</td>\n",
       "      <td>[]</td>\n",
       "    </tr>\n",
       "    <tr>\n",
       "      <th>999705</th>\n",
       "      <td>100923326</td>\n",
       "      <td>[21233460]</td>\n",
       "      <td>[5271861]</td>\n",
       "      <td>[]</td>\n",
       "    </tr>\n",
       "  </tbody>\n",
       "</table>\n",
       "<p>3687 rows × 4 columns</p>\n",
       "</div>"
      ],
      "text/plain": [
       "         track_id                                             albums  \\\n",
       "490          2520  [249, 163801, 163802, 324616, 17542430, 189498...   \n",
       "3069        16776  [1479, 5319, 6093, 8467, 10641, 90867, 163801,...   \n",
       "3077        16801  [1479, 163801, 9287549, 9377183, 9424994, 1201...   \n",
       "4192        23752  [2001, 3722, 4973, 6104, 6558, 23866, 37052, 7...   \n",
       "6645        38012  [3147, 60099, 530836, 1115289, 2490724, 818446...   \n",
       "...           ...                                                ...   \n",
       "997667   99412992                                         [20764551]   \n",
       "999192  100497082                                         [21098340]   \n",
       "999703  100923319                                         [21233460]   \n",
       "999704  100923322                                         [21233460]   \n",
       "999705  100923326                                         [21233460]   \n",
       "\n",
       "           artists genres  \n",
       "490         [2259]     []  \n",
       "3069         [978]     []  \n",
       "3077       [10520]     []  \n",
       "4192       [13373]     []  \n",
       "6645       [16758]     []  \n",
       "...            ...    ...  \n",
       "997667  [10029101]     []  \n",
       "999192  [15936615]     []  \n",
       "999703   [5271861]     []  \n",
       "999704   [5271861]     []  \n",
       "999705   [5271861]     []  \n",
       "\n",
       "[3687 rows x 4 columns]"
      ]
     },
     "execution_count": 15,
     "metadata": {},
     "output_type": "execute_result"
    }
   ],
   "source": [
    "missed_value(tracks, 'genres')"
   ]
  },
  {
   "cell_type": "markdown",
   "id": "887f13f5-e645-425b-9cc6-effcbdaf3273",
   "metadata": {},
   "source": [
    "В датафрейме есть строки с неизвестными исполнителями, альбомами и жанрами. Для принятия решения что делать с этими строками изучу какой процент от общих они составляют."
   ]
  },
  {
   "cell_type": "code",
   "execution_count": 17,
   "id": "1140bd69-97a3-4c61-8ccf-0020f86d2c50",
   "metadata": {},
   "outputs": [],
   "source": [
    "missing_values = tracks[\n",
    "    (tracks['artists'].str.len() == 0) | (tracks['albums'].str.len() == 0) | (tracks['genres'].str.len() == 0)]"
   ]
  },
  {
   "cell_type": "code",
   "execution_count": 18,
   "id": "f3b77be8-e1af-41e2-8edb-d03b3d7a3c36",
   "metadata": {},
   "outputs": [
    {
     "name": "stdout",
     "output_type": "stream",
     "text": [
      "Процент данных в missing_values от общего количества данных в tracks: 1.9%\n"
     ]
    }
   ],
   "source": [
    "percent_missing_values = len(missing_values) / len(tracks) * 100\n",
    "print(f\"Процент данных в missing_values от общего количества данных в tracks: {percent_missing_values:.1f}%\")"
   ]
  },
  {
   "cell_type": "markdown",
   "id": "4be240e4-96c5-425f-abbd-fed3f68e3000",
   "metadata": {},
   "source": [
    "Менее 3%, считаю что могу их просто удалить."
   ]
  },
  {
   "cell_type": "code",
   "execution_count": 19,
   "id": "d7c76e69-5950-482f-8275-6840ba4ade75",
   "metadata": {},
   "outputs": [],
   "source": [
    "indexes_to_drop = missing_values.index"
   ]
  },
  {
   "cell_type": "code",
   "execution_count": 20,
   "id": "b866bae3-fdcb-4f27-a3b1-1eb15346398c",
   "metadata": {},
   "outputs": [],
   "source": [
    "tracks = tracks.drop(indexes_to_drop).reset_index(drop=True)"
   ]
  },
  {
   "cell_type": "code",
   "execution_count": 21,
   "id": "d8fc85b0-c1e6-4e73-a040-7f6a782bed7c",
   "metadata": {},
   "outputs": [
    {
     "data": {
      "text/html": [
       "<div>\n",
       "<style scoped>\n",
       "    .dataframe tbody tr th:only-of-type {\n",
       "        vertical-align: middle;\n",
       "    }\n",
       "\n",
       "    .dataframe tbody tr th {\n",
       "        vertical-align: top;\n",
       "    }\n",
       "\n",
       "    .dataframe thead th {\n",
       "        text-align: right;\n",
       "    }\n",
       "</style>\n",
       "<table border=\"1\" class=\"dataframe\">\n",
       "  <thead>\n",
       "    <tr style=\"text-align: right;\">\n",
       "      <th></th>\n",
       "      <th>track_id</th>\n",
       "      <th>albums</th>\n",
       "      <th>artists</th>\n",
       "      <th>genres</th>\n",
       "    </tr>\n",
       "  </thead>\n",
       "  <tbody>\n",
       "  </tbody>\n",
       "</table>\n",
       "</div>"
      ],
      "text/plain": [
       "Empty DataFrame\n",
       "Columns: [track_id, albums, artists, genres]\n",
       "Index: []"
      ]
     },
     "execution_count": 21,
     "metadata": {},
     "output_type": "execute_result"
    }
   ],
   "source": [
    "missed_value(tracks, 'albums')"
   ]
  },
  {
   "cell_type": "code",
   "execution_count": 22,
   "id": "6e3beee1-5c3b-4641-8dc1-a7e8cd4aa243",
   "metadata": {},
   "outputs": [
    {
     "name": "stdout",
     "output_type": "stream",
     "text": [
      "<class 'pandas.core.frame.DataFrame'>\n",
      "RangeIndex: 980977 entries, 0 to 980976\n",
      "Data columns (total 4 columns):\n",
      " #   Column    Non-Null Count   Dtype \n",
      "---  ------    --------------   ----- \n",
      " 0   track_id  980977 non-null  int64 \n",
      " 1   albums    980977 non-null  object\n",
      " 2   artists   980977 non-null  object\n",
      " 3   genres    980977 non-null  object\n",
      "dtypes: int64(1), object(3)\n",
      "memory usage: 29.9+ MB\n"
     ]
    }
   ],
   "source": [
    "tracks.info()"
   ]
  },
  {
   "cell_type": "markdown",
   "id": "996f066c-358e-4821-a699-7fa346600a13",
   "metadata": {},
   "source": [
    "Принимаю решение заменить нормализовать идентификаторы."
   ]
  },
  {
   "cell_type": "code",
   "execution_count": 23,
   "id": "5db454e0-65ce-4853-bdfc-76e740392793",
   "metadata": {},
   "outputs": [],
   "source": [
    "tracks = tracks.explode('albums').explode('artists').explode('genres')"
   ]
  },
  {
   "cell_type": "code",
   "execution_count": 27,
   "id": "77bf29e1-c7fd-4c84-8a5f-2a46addcffa3",
   "metadata": {},
   "outputs": [
    {
     "data": {
      "text/html": [
       "<div>\n",
       "<style scoped>\n",
       "    .dataframe tbody tr th:only-of-type {\n",
       "        vertical-align: middle;\n",
       "    }\n",
       "\n",
       "    .dataframe tbody tr th {\n",
       "        vertical-align: top;\n",
       "    }\n",
       "\n",
       "    .dataframe thead th {\n",
       "        text-align: right;\n",
       "    }\n",
       "</style>\n",
       "<table border=\"1\" class=\"dataframe\">\n",
       "  <thead>\n",
       "    <tr style=\"text-align: right;\">\n",
       "      <th></th>\n",
       "      <th>track_id</th>\n",
       "      <th>albums</th>\n",
       "      <th>artists</th>\n",
       "      <th>genres</th>\n",
       "    </tr>\n",
       "  </thead>\n",
       "  <tbody>\n",
       "    <tr>\n",
       "      <th>12703</th>\n",
       "      <td>75774</td>\n",
       "      <td>4501362</td>\n",
       "      <td>320</td>\n",
       "      <td>68</td>\n",
       "    </tr>\n",
       "    <tr>\n",
       "      <th>573718</th>\n",
       "      <td>39649659</td>\n",
       "      <td>5121344</td>\n",
       "      <td>5709190</td>\n",
       "      <td>75</td>\n",
       "    </tr>\n",
       "    <tr>\n",
       "      <th>309776</th>\n",
       "      <td>20216918</td>\n",
       "      <td>2290572</td>\n",
       "      <td>1443757</td>\n",
       "      <td>25</td>\n",
       "    </tr>\n",
       "    <tr>\n",
       "      <th>923</th>\n",
       "      <td>4185</td>\n",
       "      <td>10066186</td>\n",
       "      <td>1438</td>\n",
       "      <td>11</td>\n",
       "    </tr>\n",
       "    <tr>\n",
       "      <th>633017</th>\n",
       "      <td>44310825</td>\n",
       "      <td>6826277</td>\n",
       "      <td>249690</td>\n",
       "      <td>68</td>\n",
       "    </tr>\n",
       "    <tr>\n",
       "      <th>136281</th>\n",
       "      <td>2714991</td>\n",
       "      <td>14795566</td>\n",
       "      <td>4607579</td>\n",
       "      <td>11</td>\n",
       "    </tr>\n",
       "  </tbody>\n",
       "</table>\n",
       "</div>"
      ],
      "text/plain": [
       "        track_id    albums  artists genres\n",
       "12703      75774   4501362      320     68\n",
       "573718  39649659   5121344  5709190     75\n",
       "309776  20216918   2290572  1443757     25\n",
       "923         4185  10066186     1438     11\n",
       "633017  44310825   6826277   249690     68\n",
       "136281   2714991  14795566  4607579     11"
      ]
     },
     "execution_count": 27,
     "metadata": {},
     "output_type": "execute_result"
    }
   ],
   "source": [
    "tracks.sample(6)"
   ]
  },
  {
   "cell_type": "code",
   "execution_count": 28,
   "id": "b5c947b4-6543-4b74-bf87-eb2d5b5b5771",
   "metadata": {},
   "outputs": [],
   "source": [
    "tracks[['albums', 'artists', 'genres']] = tracks[['albums', 'artists', 'genres']].apply(lambda x: x.astype('int'))"
   ]
  },
  {
   "cell_type": "code",
   "execution_count": 30,
   "id": "8719aa11-510b-4ed7-b076-37418655b54f",
   "metadata": {},
   "outputs": [],
   "source": [
    "#tracks.info()"
   ]
  },
  {
   "cell_type": "code",
   "execution_count": 31,
   "id": "20b47f63-19a1-484f-94e3-99e835d308e2",
   "metadata": {},
   "outputs": [],
   "source": [
    "# уборочка\n",
    "del tracks"
   ]
  },
  {
   "cell_type": "code",
   "execution_count": 11,
   "id": "f06a5c62",
   "metadata": {},
   "outputs": [
    {
     "data": {
      "text/plain": [
       "'Фрагмент датасета'"
      ]
     },
     "metadata": {},
     "output_type": "display_data"
    },
    {
     "data": {
      "text/html": [
       "<div>\n",
       "<style scoped>\n",
       "    .dataframe tbody tr th:only-of-type {\n",
       "        vertical-align: middle;\n",
       "    }\n",
       "\n",
       "    .dataframe tbody tr th {\n",
       "        vertical-align: top;\n",
       "    }\n",
       "\n",
       "    .dataframe thead th {\n",
       "        text-align: right;\n",
       "    }\n",
       "</style>\n",
       "<table border=\"1\" class=\"dataframe\">\n",
       "  <thead>\n",
       "    <tr style=\"text-align: right;\">\n",
       "      <th></th>\n",
       "      <th>id</th>\n",
       "      <th>type</th>\n",
       "      <th>name</th>\n",
       "    </tr>\n",
       "  </thead>\n",
       "  <tbody>\n",
       "    <tr>\n",
       "      <th>1012615</th>\n",
       "      <td>7200773</td>\n",
       "      <td>track</td>\n",
       "      <td>Medieval</td>\n",
       "    </tr>\n",
       "    <tr>\n",
       "      <th>8647</th>\n",
       "      <td>24798</td>\n",
       "      <td>album</td>\n",
       "      <td>Close To Seven</td>\n",
       "    </tr>\n",
       "    <tr>\n",
       "      <th>366025</th>\n",
       "      <td>6304376</td>\n",
       "      <td>album</td>\n",
       "      <td>Silence</td>\n",
       "    </tr>\n",
       "    <tr>\n",
       "      <th>1226613</th>\n",
       "      <td>28422300</td>\n",
       "      <td>track</td>\n",
       "      <td>Радуйся</td>\n",
       "    </tr>\n",
       "    <tr>\n",
       "      <th>832775</th>\n",
       "      <td>116473</td>\n",
       "      <td>track</td>\n",
       "      <td>Джанкойский этап</td>\n",
       "    </tr>\n",
       "  </tbody>\n",
       "</table>\n",
       "</div>"
      ],
      "text/plain": [
       "               id   type              name\n",
       "1012615   7200773  track          Medieval\n",
       "8647        24798  album    Close To Seven\n",
       "366025    6304376  album           Silence\n",
       "1226613  28422300  track           Радуйся\n",
       "832775     116473  track  Джанкойский этап"
      ]
     },
     "metadata": {},
     "output_type": "display_data"
    },
    {
     "data": {
      "text/plain": [
       "'-------------------------'"
      ]
     },
     "metadata": {},
     "output_type": "display_data"
    },
    {
     "data": {
      "text/plain": [
       "'Проверяем на наличие пропущенных значение'"
      ]
     },
     "metadata": {},
     "output_type": "display_data"
    },
    {
     "data": {
      "text/plain": [
       "id      0\n",
       "type    0\n",
       "name    0\n",
       "dtype: int64"
      ]
     },
     "metadata": {},
     "output_type": "display_data"
    },
    {
     "data": {
      "text/plain": [
       "'-------------------------'"
      ]
     },
     "metadata": {},
     "output_type": "display_data"
    },
    {
     "data": {
      "text/plain": [
       "'Информация о датасете'"
      ]
     },
     "metadata": {},
     "output_type": "display_data"
    },
    {
     "name": "stdout",
     "output_type": "stream",
     "text": [
      "<class 'pandas.core.frame.DataFrame'>\n",
      "RangeIndex: 1812471 entries, 0 to 1812470\n",
      "Data columns (total 3 columns):\n",
      " #   Column  Dtype \n",
      "---  ------  ----- \n",
      " 0   id      int64 \n",
      " 1   type    object\n",
      " 2   name    object\n",
      "dtypes: int64(1), object(2)\n",
      "memory usage: 41.5+ MB\n"
     ]
    },
    {
     "data": {
      "text/plain": [
       "None"
      ]
     },
     "metadata": {},
     "output_type": "display_data"
    },
    {
     "data": {
      "text/plain": [
       "'-------------------------'"
      ]
     },
     "metadata": {},
     "output_type": "display_data"
    },
    {
     "data": {
      "text/plain": [
       "'Размерность'"
      ]
     },
     "metadata": {},
     "output_type": "display_data"
    },
    {
     "data": {
      "text/plain": [
       "(1812471, 3)"
      ]
     },
     "metadata": {},
     "output_type": "display_data"
    }
   ],
   "source": [
    "df_info(catalog_names)"
   ]
  },
  {
   "cell_type": "markdown",
   "id": "f1a245be-04bd-4851-a27a-7e238e2de320",
   "metadata": {},
   "source": [
    "В целом данные выглядят прилично, пропусков нет, типы данных соответсвуют. Если нет дубликатов, полагаю можно оставить как есть."
   ]
  },
  {
   "cell_type": "code",
   "execution_count": 16,
   "id": "bc224896-74a9-4594-9740-ce5dd28498e2",
   "metadata": {},
   "outputs": [
    {
     "name": "stdout",
     "output_type": "stream",
     "text": [
      "['album' 'artist' 'genre' 'track']\n"
     ]
    }
   ],
   "source": [
    "# проверю неявные дубликаты в колонуе с типом\n",
    "print(catalog_names['type'].unique())"
   ]
  },
  {
   "cell_type": "code",
   "execution_count": 34,
   "id": "512dedd6-6ad0-4829-b9f4-62efc2ed1939",
   "metadata": {},
   "outputs": [
    {
     "data": {
      "text/plain": [
       "0"
      ]
     },
     "execution_count": 34,
     "metadata": {},
     "output_type": "execute_result"
    }
   ],
   "source": [
    "# дубликаты по связке имя-тип\n",
    "len(catalog_names[(catalog_names.duplicated(['id','type']) == True)])"
   ]
  },
  {
   "cell_type": "code",
   "execution_count": 12,
   "id": "ed0ba1bc-78dd-41ee-9257-4f623935f1f8",
   "metadata": {},
   "outputs": [
    {
     "data": {
      "text/plain": [
       "689769"
      ]
     },
     "execution_count": 12,
     "metadata": {},
     "output_type": "execute_result"
    }
   ],
   "source": [
    "# дубликаты по связке тип и наименование\n",
    "len(catalog_names[(catalog_names.duplicated(['type','name']) == True)])"
   ]
  },
  {
   "cell_type": "code",
   "execution_count": 22,
   "id": "ae833a8d-4df2-41ce-8b2d-279693b6e148",
   "metadata": {},
   "outputs": [
    {
     "name": "stdout",
     "output_type": "stream",
     "text": [
      "         type             name  duplicate_count\n",
      "109211  track    Halcyon Birds                2\n",
      "115131  track  In Between Days                6\n",
      "38913   album    Music Is Life                2\n",
      "89153   track    Be Aggressive                2\n",
      "187179  track    Песня о Волге                2\n"
     ]
    }
   ],
   "source": [
    "# группировка по 'type' и 'name', а затем отбор групп, где количество записей больше 1\n",
    "duplicate_counts = (catalog_names\n",
    "                    .groupby(['type', 'name'])\n",
    "                    .filter(lambda x: len(x) > 1)\n",
    "                    .groupby(['type', 'name'])\n",
    "                    .size())\n",
    "\n",
    "# преобразование Series в DataFrame для удобства чтения\n",
    "duplicate_counts_df = duplicate_counts.reset_index(name='duplicate_count')\n",
    "\n",
    "# Количество дубликатов по связке 'type' и 'name'\n",
    "print(duplicate_counts_df.sample(5))"
   ]
  },
  {
   "cell_type": "code",
   "execution_count": 25,
   "id": "04604936-25ad-4457-b76d-6abbca19cfaf",
   "metadata": {},
   "outputs": [
    {
     "name": "stdout",
     "output_type": "stream",
     "text": [
      "Количество дубликатов для album: 298518\n",
      "Количество дубликатов для track: 590064\n"
     ]
    }
   ],
   "source": [
    "counts = duplicate_counts_df.groupby('type')['duplicate_count'].sum()\n",
    "\n",
    "# Достаем количество дубликатов для 'album' и 'track'\n",
    "album_duplicates_count = counts.get('album', 0)\n",
    "track_duplicates_count = counts.get('track', 0)\n",
    "\n",
    "# Вывод результата\n",
    "print(f\"Количество дубликатов для album: {album_duplicates_count}\")\n",
    "print(f\"Количество дубликатов для track: {track_duplicates_count}\")"
   ]
  },
  {
   "cell_type": "code",
   "execution_count": 26,
   "id": "3c746169-9e86-433b-b9b1-b7daedc682f3",
   "metadata": {},
   "outputs": [],
   "source": [
    "# уборочка\n",
    "del duplicate_counts\n",
    "del duplicate_counts_df\n",
    "del counts\n",
    "del album_duplicates_count\n",
    "del track_duplicates_count"
   ]
  },
  {
   "cell_type": "markdown",
   "id": "c189fb96-ac6f-4ff3-9700-d62eb11e9d62",
   "metadata": {},
   "source": [
    "Тут не все радужно, задублированных значений по связке тип и наименование всего 689769. Оценочно это порядка 38% данных. Причина появления дубликатов не известна, не похоже на ошибку сбора информации. Полагаю удалять не следует."
   ]
  },
  {
   "cell_type": "code",
   "execution_count": null,
   "id": "0b209b8a-95aa-45eb-8bd7-d40cec044d0f",
   "metadata": {},
   "outputs": [],
   "source": []
  },
  {
   "cell_type": "code",
   "execution_count": 35,
   "id": "9b8bec96-419f-4529-ad4d-cf891ef4efda",
   "metadata": {},
   "outputs": [],
   "source": [
    "del catalog_names"
   ]
  },
  {
   "cell_type": "code",
   "execution_count": 22,
   "id": "73c042f8-1042-4ecf-9ce8-bcde1bd68108",
   "metadata": {},
   "outputs": [
    {
     "data": {
      "text/plain": [
       "'Фрагмент датасета'"
      ]
     },
     "metadata": {},
     "output_type": "display_data"
    },
    {
     "data": {
      "text/html": [
       "<div>\n",
       "<style scoped>\n",
       "    .dataframe tbody tr th:only-of-type {\n",
       "        vertical-align: middle;\n",
       "    }\n",
       "\n",
       "    .dataframe tbody tr th {\n",
       "        vertical-align: top;\n",
       "    }\n",
       "\n",
       "    .dataframe thead th {\n",
       "        text-align: right;\n",
       "    }\n",
       "</style>\n",
       "<table border=\"1\" class=\"dataframe\">\n",
       "  <thead>\n",
       "    <tr style=\"text-align: right;\">\n",
       "      <th></th>\n",
       "      <th>user_id</th>\n",
       "      <th>track_id</th>\n",
       "      <th>track_seq</th>\n",
       "      <th>started_at</th>\n",
       "    </tr>\n",
       "  </thead>\n",
       "  <tbody>\n",
       "    <tr>\n",
       "      <th>216</th>\n",
       "      <td>1221651</td>\n",
       "      <td>70471517</td>\n",
       "      <td>217</td>\n",
       "      <td>2022-11-16</td>\n",
       "    </tr>\n",
       "    <tr>\n",
       "      <th>4</th>\n",
       "      <td>837537</td>\n",
       "      <td>439925</td>\n",
       "      <td>5</td>\n",
       "      <td>2022-07-16</td>\n",
       "    </tr>\n",
       "    <tr>\n",
       "      <th>181</th>\n",
       "      <td>798669</td>\n",
       "      <td>51452575</td>\n",
       "      <td>182</td>\n",
       "      <td>2022-10-19</td>\n",
       "    </tr>\n",
       "    <tr>\n",
       "      <th>40</th>\n",
       "      <td>1077074</td>\n",
       "      <td>417949</td>\n",
       "      <td>41</td>\n",
       "      <td>2022-03-31</td>\n",
       "    </tr>\n",
       "    <tr>\n",
       "      <th>145</th>\n",
       "      <td>111758</td>\n",
       "      <td>22425013</td>\n",
       "      <td>146</td>\n",
       "      <td>2022-08-16</td>\n",
       "    </tr>\n",
       "  </tbody>\n",
       "</table>\n",
       "</div>"
      ],
      "text/plain": [
       "     user_id  track_id  track_seq started_at\n",
       "216  1221651  70471517        217 2022-11-16\n",
       "4     837537    439925          5 2022-07-16\n",
       "181   798669  51452575        182 2022-10-19\n",
       "40   1077074    417949         41 2022-03-31\n",
       "145   111758  22425013        146 2022-08-16"
      ]
     },
     "metadata": {},
     "output_type": "display_data"
    },
    {
     "data": {
      "text/plain": [
       "'-------------------------'"
      ]
     },
     "metadata": {},
     "output_type": "display_data"
    },
    {
     "data": {
      "text/plain": [
       "'Проверяем на наличие пропущенных значение'"
      ]
     },
     "metadata": {},
     "output_type": "display_data"
    },
    {
     "data": {
      "text/plain": [
       "user_id       0\n",
       "track_id      0\n",
       "track_seq     0\n",
       "started_at    0\n",
       "dtype: int64"
      ]
     },
     "metadata": {},
     "output_type": "display_data"
    },
    {
     "data": {
      "text/plain": [
       "'-------------------------'"
      ]
     },
     "metadata": {},
     "output_type": "display_data"
    },
    {
     "data": {
      "text/plain": [
       "'Информация о датасете'"
      ]
     },
     "metadata": {},
     "output_type": "display_data"
    },
    {
     "name": "stdout",
     "output_type": "stream",
     "text": [
      "<class 'pandas.core.frame.DataFrame'>\n",
      "Index: 222629898 entries, 0 to 291\n",
      "Data columns (total 4 columns):\n",
      " #   Column      Dtype         \n",
      "---  ------      -----         \n",
      " 0   user_id     int32         \n",
      " 1   track_id    int32         \n",
      " 2   track_seq   int16         \n",
      " 3   started_at  datetime64[ns]\n",
      "dtypes: datetime64[ns](1), int16(1), int32(2)\n",
      "memory usage: 5.4 GB\n"
     ]
    },
    {
     "data": {
      "text/plain": [
       "None"
      ]
     },
     "metadata": {},
     "output_type": "display_data"
    },
    {
     "data": {
      "text/plain": [
       "'-------------------------'"
      ]
     },
     "metadata": {},
     "output_type": "display_data"
    },
    {
     "data": {
      "text/plain": [
       "'Размерность'"
      ]
     },
     "metadata": {},
     "output_type": "display_data"
    },
    {
     "data": {
      "text/plain": [
       "(222629898, 4)"
      ]
     },
     "metadata": {},
     "output_type": "display_data"
    }
   ],
   "source": [
    "df_info(interactions)"
   ]
  },
  {
   "cell_type": "code",
   "execution_count": 39,
   "id": "ea8f08f1-2b27-4661-8364-b9766b6ddaf5",
   "metadata": {},
   "outputs": [
    {
     "data": {
      "text/plain": [
       "0"
      ]
     },
     "execution_count": 39,
     "metadata": {},
     "output_type": "execute_result"
    }
   ],
   "source": [
    "len(interactions[(interactions.duplicated(['user_id','track_id']) == True)])"
   ]
  },
  {
   "cell_type": "markdown",
   "id": "318b573a-9e2d-4808-95db-60cfb8bbdb73",
   "metadata": {
    "editable": true,
    "slideshow": {
     "slide_type": ""
    },
    "tags": []
   },
   "source": [
    "# Выводы"
   ]
  },
  {
   "cell_type": "markdown",
   "id": "caa96e12-36a8-4401-8f11-98627a49ae9d",
   "metadata": {},
   "source": [
    "Приведём выводы по первому знакомству с данными:\n",
    "- есть ли с данными явные проблемы,\n",
    "- какие корректирующие действия (в целом) были предприняты."
   ]
  },
  {
   "cell_type": "code",
   "execution_count": null,
   "id": "2cf84a22",
   "metadata": {},
   "outputs": [],
   "source": []
  },
  {
   "cell_type": "markdown",
   "id": "7bc3296b-eba6-4333-a78d-b9304aa87e3d",
   "metadata": {},
   "source": [
    "# === ЭТАП 2 ==="
   ]
  },
  {
   "cell_type": "markdown",
   "id": "68e73960-fd38-4e15-8db0-9a25c35dfd25",
   "metadata": {},
   "source": [
    "# EDA"
   ]
  },
  {
   "cell_type": "markdown",
   "id": "a30e823e-8e0f-4a76-a02e-8d1ba8bf0f8a",
   "metadata": {},
   "source": [
    "Распределение количества прослушанных треков."
   ]
  },
  {
   "cell_type": "code",
   "execution_count": 7,
   "id": "8bdf326f",
   "metadata": {},
   "outputs": [
    {
     "data": {
      "text/html": [
       "<div>\n",
       "<style scoped>\n",
       "    .dataframe tbody tr th:only-of-type {\n",
       "        vertical-align: middle;\n",
       "    }\n",
       "\n",
       "    .dataframe tbody tr th {\n",
       "        vertical-align: top;\n",
       "    }\n",
       "\n",
       "    .dataframe thead th {\n",
       "        text-align: right;\n",
       "    }\n",
       "</style>\n",
       "<table border=\"1\" class=\"dataframe\">\n",
       "  <thead>\n",
       "    <tr style=\"text-align: right;\">\n",
       "      <th></th>\n",
       "      <th>43</th>\n",
       "      <th>58</th>\n",
       "      <th>96</th>\n",
       "    </tr>\n",
       "  </thead>\n",
       "  <tbody>\n",
       "    <tr>\n",
       "      <th>user_id</th>\n",
       "      <td>236523</td>\n",
       "      <td>267031</td>\n",
       "      <td>1088725</td>\n",
       "    </tr>\n",
       "    <tr>\n",
       "      <th>track_id</th>\n",
       "      <td>24814073</td>\n",
       "      <td>45902098</td>\n",
       "      <td>58085423</td>\n",
       "    </tr>\n",
       "    <tr>\n",
       "      <th>track_seq</th>\n",
       "      <td>44</td>\n",
       "      <td>59</td>\n",
       "      <td>97</td>\n",
       "    </tr>\n",
       "    <tr>\n",
       "      <th>started_at</th>\n",
       "      <td>2022-11-29 00:00:00</td>\n",
       "      <td>2022-03-15 00:00:00</td>\n",
       "      <td>2022-07-13 00:00:00</td>\n",
       "    </tr>\n",
       "  </tbody>\n",
       "</table>\n",
       "</div>"
      ],
      "text/plain": [
       "                             43                   58                   96\n",
       "user_id                  236523               267031              1088725\n",
       "track_id               24814073             45902098             58085423\n",
       "track_seq                    44                   59                   97\n",
       "started_at  2022-11-29 00:00:00  2022-03-15 00:00:00  2022-07-13 00:00:00"
      ]
     },
     "execution_count": 7,
     "metadata": {},
     "output_type": "execute_result"
    }
   ],
   "source": [
    "interactions.sample(3).T"
   ]
  },
  {
   "cell_type": "code",
   "execution_count": 8,
   "id": "5e8d2033-7eb7-4764-8d50-f9cb0802a9c8",
   "metadata": {},
   "outputs": [
    {
     "data": {
      "text/html": [
       "<div>\n",
       "<style scoped>\n",
       "    .dataframe tbody tr th:only-of-type {\n",
       "        vertical-align: middle;\n",
       "    }\n",
       "\n",
       "    .dataframe tbody tr th {\n",
       "        vertical-align: top;\n",
       "    }\n",
       "\n",
       "    .dataframe thead th {\n",
       "        text-align: right;\n",
       "    }\n",
       "</style>\n",
       "<table border=\"1\" class=\"dataframe\">\n",
       "  <thead>\n",
       "    <tr style=\"text-align: right;\">\n",
       "      <th></th>\n",
       "      <th>user_id</th>\n",
       "      <th>track_id</th>\n",
       "      <th>track_seq</th>\n",
       "      <th>started_at</th>\n",
       "    </tr>\n",
       "  </thead>\n",
       "  <tbody>\n",
       "    <tr>\n",
       "      <th>count</th>\n",
       "      <td>2.226299e+08</td>\n",
       "      <td>2.226299e+08</td>\n",
       "      <td>2.226299e+08</td>\n",
       "      <td>222629898</td>\n",
       "    </tr>\n",
       "    <tr>\n",
       "      <th>mean</th>\n",
       "      <td>6.875767e+05</td>\n",
       "      <td>3.653622e+07</td>\n",
       "      <td>4.621403e+02</td>\n",
       "      <td>2022-08-29 16:39:44.541336320</td>\n",
       "    </tr>\n",
       "    <tr>\n",
       "      <th>min</th>\n",
       "      <td>0.000000e+00</td>\n",
       "      <td>2.600000e+01</td>\n",
       "      <td>1.000000e+00</td>\n",
       "      <td>2022-01-01 00:00:00</td>\n",
       "    </tr>\n",
       "    <tr>\n",
       "      <th>25%</th>\n",
       "      <td>3.433710e+05</td>\n",
       "      <td>1.480849e+07</td>\n",
       "      <td>5.600000e+01</td>\n",
       "      <td>2022-07-02 00:00:00</td>\n",
       "    </tr>\n",
       "    <tr>\n",
       "      <th>50%</th>\n",
       "      <td>6.879730e+05</td>\n",
       "      <td>3.552474e+07</td>\n",
       "      <td>1.810000e+02</td>\n",
       "      <td>2022-09-15 00:00:00</td>\n",
       "    </tr>\n",
       "    <tr>\n",
       "      <th>75%</th>\n",
       "      <td>1.031127e+06</td>\n",
       "      <td>5.651137e+07</td>\n",
       "      <td>5.060000e+02</td>\n",
       "      <td>2022-11-09 00:00:00</td>\n",
       "    </tr>\n",
       "    <tr>\n",
       "      <th>max</th>\n",
       "      <td>1.374582e+06</td>\n",
       "      <td>1.015218e+08</td>\n",
       "      <td>1.663700e+04</td>\n",
       "      <td>2022-12-31 00:00:00</td>\n",
       "    </tr>\n",
       "    <tr>\n",
       "      <th>std</th>\n",
       "      <td>3.969033e+05</td>\n",
       "      <td>2.661782e+07</td>\n",
       "      <td>8.257312e+02</td>\n",
       "      <td>NaN</td>\n",
       "    </tr>\n",
       "  </tbody>\n",
       "</table>\n",
       "</div>"
      ],
      "text/plain": [
       "            user_id      track_id     track_seq                     started_at\n",
       "count  2.226299e+08  2.226299e+08  2.226299e+08                      222629898\n",
       "mean   6.875767e+05  3.653622e+07  4.621403e+02  2022-08-29 16:39:44.541336320\n",
       "min    0.000000e+00  2.600000e+01  1.000000e+00            2022-01-01 00:00:00\n",
       "25%    3.433710e+05  1.480849e+07  5.600000e+01            2022-07-02 00:00:00\n",
       "50%    6.879730e+05  3.552474e+07  1.810000e+02            2022-09-15 00:00:00\n",
       "75%    1.031127e+06  5.651137e+07  5.060000e+02            2022-11-09 00:00:00\n",
       "max    1.374582e+06  1.015218e+08  1.663700e+04            2022-12-31 00:00:00\n",
       "std    3.969033e+05  2.661782e+07  8.257312e+02                            NaN"
      ]
     },
     "execution_count": 8,
     "metadata": {},
     "output_type": "execute_result"
    }
   ],
   "source": [
    "interactions.describe(include='all')"
   ]
  },
  {
   "cell_type": "code",
   "execution_count": null,
   "id": "7f1dc754-fd29-4e97-a66d-bd543d5cb431",
   "metadata": {},
   "outputs": [],
   "source": [
    "Доля пользователей приходящихся на один трек"
   ]
  },
  {
   "cell_type": "code",
   "execution_count": 13,
   "id": "4465d344-4cf7-4fca-9b6a-e620449932f8",
   "metadata": {},
   "outputs": [
    {
     "data": {
      "text/plain": [
       "1373221"
      ]
     },
     "execution_count": 13,
     "metadata": {},
     "output_type": "execute_result"
    }
   ],
   "source": [
    "n_users = interactions['user_id'].nunique()\n",
    "n_users"
   ]
  },
  {
   "cell_type": "code",
   "execution_count": 14,
   "id": "b6c84283-696f-4c90-87fb-b1efa4883d56",
   "metadata": {},
   "outputs": [],
   "source": [
    "user_share_per_track = (\n",
    "    (interactions.groupby('track_id').agg(user_share=('user_id', 'nunique')) / n_users * 100)\n",
    "    .reset_index()\n",
    ")"
   ]
  },
  {
   "cell_type": "code",
   "execution_count": 16,
   "id": "de67b95b-ec26-41f0-9bf2-f4ce0c528631",
   "metadata": {},
   "outputs": [
    {
     "data": {
      "text/html": [
       "<div>\n",
       "<style scoped>\n",
       "    .dataframe tbody tr th:only-of-type {\n",
       "        vertical-align: middle;\n",
       "    }\n",
       "\n",
       "    .dataframe tbody tr th {\n",
       "        vertical-align: top;\n",
       "    }\n",
       "\n",
       "    .dataframe thead th {\n",
       "        text-align: right;\n",
       "    }\n",
       "</style>\n",
       "<table border=\"1\" class=\"dataframe\">\n",
       "  <thead>\n",
       "    <tr style=\"text-align: right;\">\n",
       "      <th></th>\n",
       "      <th>track_id</th>\n",
       "      <th>user_share</th>\n",
       "    </tr>\n",
       "  </thead>\n",
       "  <tbody>\n",
       "    <tr>\n",
       "      <th>count</th>\n",
       "      <td>1.000000e+06</td>\n",
       "      <td>1000000.000000</td>\n",
       "    </tr>\n",
       "    <tr>\n",
       "      <th>mean</th>\n",
       "      <td>3.685121e+07</td>\n",
       "      <td>0.016212</td>\n",
       "    </tr>\n",
       "    <tr>\n",
       "      <th>std</th>\n",
       "      <td>2.679771e+07</td>\n",
       "      <td>0.099760</td>\n",
       "    </tr>\n",
       "    <tr>\n",
       "      <th>min</th>\n",
       "      <td>2.600000e+01</td>\n",
       "      <td>0.000364</td>\n",
       "    </tr>\n",
       "    <tr>\n",
       "      <th>25%</th>\n",
       "      <td>1.543088e+07</td>\n",
       "      <td>0.000655</td>\n",
       "    </tr>\n",
       "    <tr>\n",
       "      <th>50%</th>\n",
       "      <td>3.455047e+07</td>\n",
       "      <td>0.001384</td>\n",
       "    </tr>\n",
       "    <tr>\n",
       "      <th>75%</th>\n",
       "      <td>5.692557e+07</td>\n",
       "      <td>0.004879</td>\n",
       "    </tr>\n",
       "    <tr>\n",
       "      <th>max</th>\n",
       "      <td>1.015218e+08</td>\n",
       "      <td>8.087700</td>\n",
       "    </tr>\n",
       "  </tbody>\n",
       "</table>\n",
       "</div>"
      ],
      "text/plain": [
       "           track_id      user_share\n",
       "count  1.000000e+06  1000000.000000\n",
       "mean   3.685121e+07        0.016212\n",
       "std    2.679771e+07        0.099760\n",
       "min    2.600000e+01        0.000364\n",
       "25%    1.543088e+07        0.000655\n",
       "50%    3.455047e+07        0.001384\n",
       "75%    5.692557e+07        0.004879\n",
       "max    1.015218e+08        8.087700"
      ]
     },
     "execution_count": 16,
     "metadata": {},
     "output_type": "execute_result"
    }
   ],
   "source": [
    "user_share_per_track.describe()"
   ]
  },
  {
   "cell_type": "markdown",
   "id": "dd627f95-ca22-43cd-9a5d-d0172d4e3b3a",
   "metadata": {},
   "source": [
    "Распределение прослушанных треков на пользователя"
   ]
  },
  {
   "cell_type": "code",
   "execution_count": 31,
   "id": "787bcf3c-b3c8-4ef0-b6d7-d98332ac6861",
   "metadata": {},
   "outputs": [
    {
     "data": {
      "text/plain": [
       "162.12241001266366"
      ]
     },
     "execution_count": 31,
     "metadata": {},
     "output_type": "execute_result"
    }
   ],
   "source": [
    "len(interactions['track_id'])/n_users"
   ]
  },
  {
   "cell_type": "markdown",
   "id": "58321c86-f779-48db-a222-949447b2d276",
   "metadata": {},
   "source": [
    "Распределение количества прослушанных треков, как часто прослушивают тот или иной трек."
   ]
  },
  {
   "cell_type": "code",
   "execution_count": 33,
   "id": "9cd7a1ad-878c-4d08-846c-08eaa8ebf286",
   "metadata": {},
   "outputs": [],
   "source": [
    "track_counts = interactions['track_id'].value_counts().reset_index()\n",
    "track_counts.columns = ['track_id', 'listen_count']"
   ]
  },
  {
   "cell_type": "code",
   "execution_count": 28,
   "id": "6d6910bb-5b35-4786-91e2-027fea63c9cf",
   "metadata": {},
   "outputs": [
    {
     "data": {
      "text/html": [
       "<div>\n",
       "<style scoped>\n",
       "    .dataframe tbody tr th:only-of-type {\n",
       "        vertical-align: middle;\n",
       "    }\n",
       "\n",
       "    .dataframe tbody tr th {\n",
       "        vertical-align: top;\n",
       "    }\n",
       "\n",
       "    .dataframe thead th {\n",
       "        text-align: right;\n",
       "    }\n",
       "</style>\n",
       "<table border=\"1\" class=\"dataframe\">\n",
       "  <thead>\n",
       "    <tr style=\"text-align: right;\">\n",
       "      <th></th>\n",
       "      <th>track_id</th>\n",
       "      <th>listen_count</th>\n",
       "    </tr>\n",
       "  </thead>\n",
       "  <tbody>\n",
       "    <tr>\n",
       "      <th>count</th>\n",
       "      <td>1.000000e+06</td>\n",
       "      <td>1000000.000000</td>\n",
       "    </tr>\n",
       "    <tr>\n",
       "      <th>mean</th>\n",
       "      <td>3.685121e+07</td>\n",
       "      <td>222.629898</td>\n",
       "    </tr>\n",
       "    <tr>\n",
       "      <th>std</th>\n",
       "      <td>2.679771e+07</td>\n",
       "      <td>1369.930708</td>\n",
       "    </tr>\n",
       "    <tr>\n",
       "      <th>min</th>\n",
       "      <td>2.600000e+01</td>\n",
       "      <td>5.000000</td>\n",
       "    </tr>\n",
       "    <tr>\n",
       "      <th>25%</th>\n",
       "      <td>1.543088e+07</td>\n",
       "      <td>9.000000</td>\n",
       "    </tr>\n",
       "    <tr>\n",
       "      <th>50%</th>\n",
       "      <td>3.455047e+07</td>\n",
       "      <td>19.000000</td>\n",
       "    </tr>\n",
       "    <tr>\n",
       "      <th>75%</th>\n",
       "      <td>5.692557e+07</td>\n",
       "      <td>67.000000</td>\n",
       "    </tr>\n",
       "    <tr>\n",
       "      <th>max</th>\n",
       "      <td>1.015218e+08</td>\n",
       "      <td>111062.000000</td>\n",
       "    </tr>\n",
       "  </tbody>\n",
       "</table>\n",
       "</div>"
      ],
      "text/plain": [
       "           track_id    listen_count\n",
       "count  1.000000e+06  1000000.000000\n",
       "mean   3.685121e+07      222.629898\n",
       "std    2.679771e+07     1369.930708\n",
       "min    2.600000e+01        5.000000\n",
       "25%    1.543088e+07        9.000000\n",
       "50%    3.455047e+07       19.000000\n",
       "75%    5.692557e+07       67.000000\n",
       "max    1.015218e+08   111062.000000"
      ]
     },
     "execution_count": 28,
     "metadata": {},
     "output_type": "execute_result"
    }
   ],
   "source": [
    "track_counts.describe()"
   ]
  },
  {
   "cell_type": "code",
   "execution_count": 29,
   "id": "cf7f8a2d-1dc4-4e07-8812-4261ac318b74",
   "metadata": {},
   "outputs": [
    {
     "data": {
      "image/png": "[encoded data removed]",
      "text/plain": [
       "<Figure size 1000x500 with 1 Axes>"
      ]
     },
     "metadata": {
      "image/png": {
       "height": 429,
       "width": 857
      }
     },
     "output_type": "display_data"
    }
   ],
   "source": [
    "track_counts.boxplot(column = 'listen_count');"
   ]
  },
  {
   "cell_type": "code",
   "execution_count": 38,
   "id": "f5134f1d-adc0-48ef-a605-f9141a4dc939",
   "metadata": {},
   "outputs": [
    {
     "data": {
      "text/plain": [
       "Text(0, 0.5, 'Количество')"
      ]
     },
     "execution_count": 38,
     "metadata": {},
     "output_type": "execute_result"
    },
    {
     "data": {
      "image/png": "[encoded data removed]",
      "text/plain": [
       "<Figure size 1200x800 with 1 Axes>"
      ]
     },
     "metadata": {
      "image/png": {
       "height": 700,
       "width": 1014
      }
     },
     "output_type": "display_data"
    }
   ],
   "source": [
    "fig, ax = plt.subplots(figsize=(12, 8))\n",
    "ax = track_counts['track_id'].plot(kind='hist', bins=30, range=(5,111062), title='Распределение количества прослушанных треков', grid=True)\n",
    "ax.set_xlabel('Количество прослушиваний')\n",
    "ax.set_ylabel('Количество')"
   ]
  },
  {
   "cell_type": "code",
   "execution_count": 25,
   "id": "d737dde6-4d8a-4f5c-b237-cf57b71d5567",
   "metadata": {},
   "outputs": [],
   "source": [
    "track_to_plot_track_counts = track_counts.head(30)"
   ]
  },
  {
   "cell_type": "code",
   "execution_count": null,
   "id": "3b429e23-b3ff-4468-b305-0ce59eb07e10",
   "metadata": {},
   "outputs": [],
   "source": [
    "sorted_tracks = track_counts.sort_values(by='listen_count', ascending=False)"
   ]
  },
  {
   "cell_type": "code",
   "execution_count": 27,
   "id": "f28a150b",
   "metadata": {},
   "outputs": [
    {
     "name": "stdout",
     "output_type": "stream",
     "text": [
      "                  track_seq started_at\n",
      "user_id track_id                      \n",
      "369734  79184551       1115 2022-11-21\n",
      "626108  19622237        290 2022-07-30\n",
      "728843  795836          129 2022-07-04\n",
      "1089924 77296031        167 2022-09-29\n",
      "1279900 33355173         39 2022-06-10\n"
     ]
    }
   ],
   "source": [
    "# оценка взаимодействия пользователей с трекаками\n",
    "print(interactions[[\"user_id\", \"track_id\", \"track_seq\", \"started_at\"]].sample(5).sort_values(\"user_id\").set_index([\"user_id\", \"track_id\"]))"
   ]
  },
  {
   "cell_type": "markdown",
   "id": "d765519a-18dd-4d30-9e29-cc2d84cacd79",
   "metadata": {},
   "source": [
    "Наиболее популярные треки"
   ]
  },
  {
   "cell_type": "code",
   "execution_count": null,
   "id": "aecaf630-fde0-4860-b84a-42c933a9606e",
   "metadata": {},
   "outputs": [],
   "source": []
  },
  {
   "cell_type": "markdown",
   "id": "b1c32a5a-d3be-4f96-8dd9-f7860951020c",
   "metadata": {},
   "source": [
    "Наиболее популярные жанры"
   ]
  },
  {
   "cell_type": "code",
   "execution_count": null,
   "id": "1bc50491-9235-4d3c-a6c2-297f7c05a959",
   "metadata": {},
   "outputs": [],
   "source": []
  },
  {
   "cell_type": "markdown",
   "id": "15254e66-e80e-473b-ba24-abebea5ccac7",
   "metadata": {},
   "source": [
    "Треки, которые никто не прослушал"
   ]
  },
  {
   "cell_type": "code",
   "execution_count": null,
   "id": "50bc50c6-2d83-4c7e-97fa-3e7627978438",
   "metadata": {},
   "outputs": [],
   "source": []
  },
  {
   "cell_type": "markdown",
   "id": "0d850a07-ef1e-462f-891a-1cf89f2e24ef",
   "metadata": {},
   "source": [
    "# Преобразование данных"
   ]
  },
  {
   "cell_type": "markdown",
   "id": "fabcf8d2-1192-4df5-b20b-fbb84689f57a",
   "metadata": {},
   "source": [
    "Преобразуем данные в формат, более пригодный для дальнейшего использования в расчётах рекомендаций."
   ]
  },
  {
   "cell_type": "code",
   "execution_count": null,
   "id": "a425556a-9382-45ca-a04e-f1981a522126",
   "metadata": {},
   "outputs": [],
   "source": []
  },
  {
   "cell_type": "markdown",
   "id": "4d1be653-eed8-4fa0-a9c5-3811b080d71d",
   "metadata": {},
   "source": [
    "# Сохранение данных"
   ]
  },
  {
   "cell_type": "markdown",
   "id": "36f1314a-3af3-4faf-a0b1-3045173d1500",
   "metadata": {},
   "source": [
    "Сохраним данные в двух файлах в персональном S3-бакете по пути `recsys/data/`:\n",
    "- `items.parquet` — все данные о музыкальных треках,\n",
    "- `events.parquet` — все данные о взаимодействиях."
   ]
  },
  {
   "cell_type": "code",
   "execution_count": null,
   "id": "9f77af17-7705-4fae-9aad-db579b39faad",
   "metadata": {},
   "outputs": [],
   "source": []
  },
  {
   "cell_type": "markdown",
   "id": "72ecbbed-c560-44d9-9c14-86c7dc76f399",
   "metadata": {},
   "source": [
    "# Очистка памяти"
   ]
  },
  {
   "cell_type": "markdown",
   "id": "b5358ede-ba6e-4c4f-bd73-5b9344f0ba79",
   "metadata": {},
   "source": [
    "Здесь, может понадобится очистка памяти для высвобождения ресурсов для выполнения кода ниже. \n",
    "\n",
    "Приведите соответствующие код, комментарии, например:\n",
    "- код для удаление более ненужных переменных,\n",
    "- комментарий, что следует перезапустить kernel, выполнить такие-то начальные секции и продолжить с этапа 3."
   ]
  },
  {
   "cell_type": "code",
   "execution_count": null,
   "id": "767fe920-e12e-4ad8-b04e-56e8091fac9f",
   "metadata": {},
   "outputs": [],
   "source": []
  },
  {
   "cell_type": "markdown",
   "id": "708503df-ee89-4cf3-8489-093dc478e2a8",
   "metadata": {},
   "source": [
    "# === ЭТАП 3 ==="
   ]
  },
  {
   "cell_type": "markdown",
   "id": "fd77de22-e10f-4b42-85c1-8fb6f805fe68",
   "metadata": {},
   "source": [
    "# Загрузка данных"
   ]
  },
  {
   "cell_type": "markdown",
   "id": "780a4241-1ecd-4a3e-bbb3-fc2f6ca94f68",
   "metadata": {},
   "source": [
    "Если необходимо, то загружаем items.parquet, events.parquet."
   ]
  },
  {
   "cell_type": "code",
   "execution_count": null,
   "id": "f19fc8a5-bd2c-40d7-864a-ee75aca6d512",
   "metadata": {},
   "outputs": [],
   "source": []
  },
  {
   "cell_type": "code",
   "execution_count": null,
   "id": "5db1e801-5845-4ce3-86f2-c2fa30f68cc5",
   "metadata": {},
   "outputs": [],
   "source": []
  },
  {
   "cell_type": "markdown",
   "id": "a694c023-6477-490b-939d-1cfa6f5f1b72",
   "metadata": {},
   "source": [
    "# Разбиение данных"
   ]
  },
  {
   "cell_type": "markdown",
   "id": "fbd5f6e0-54e7-4428-8678-eabce505d82c",
   "metadata": {},
   "source": [
    "Разбиваем данные на тренировочную, тестовую выборки."
   ]
  },
  {
   "cell_type": "code",
   "execution_count": null,
   "id": "00c2dfa5-d8a2-47d1-922e-6eefee2c62d1",
   "metadata": {},
   "outputs": [],
   "source": []
  },
  {
   "cell_type": "code",
   "execution_count": null,
   "id": "26fe3e3c-8c5f-4437-bf13-9191adef08bb",
   "metadata": {},
   "outputs": [],
   "source": []
  },
  {
   "cell_type": "markdown",
   "id": "9131c7e6-8852-4556-b510-51f7253cc299",
   "metadata": {},
   "source": [
    "# Топ популярных"
   ]
  },
  {
   "cell_type": "markdown",
   "id": "dd70d43a-88cc-4719-b291-feaed7136f30",
   "metadata": {},
   "source": [
    "Рассчитаем рекомендации как топ популярных."
   ]
  },
  {
   "cell_type": "code",
   "execution_count": null,
   "id": "ee45e200-b7d6-4f56-9077-aad431689b96",
   "metadata": {},
   "outputs": [],
   "source": []
  },
  {
   "cell_type": "code",
   "execution_count": null,
   "id": "7690c86f-7aa9-46ed-bba5-2c837626411e",
   "metadata": {},
   "outputs": [],
   "source": []
  },
  {
   "cell_type": "markdown",
   "id": "2ad231f2-6158-421a-b7fa-01d8bc3ed572",
   "metadata": {},
   "source": [
    "# Персональные"
   ]
  },
  {
   "cell_type": "markdown",
   "id": "86159460-cd9d-4b63-8248-604ea3c9aebf",
   "metadata": {},
   "source": [
    "Рассчитаем персональные рекомендации."
   ]
  },
  {
   "cell_type": "code",
   "execution_count": null,
   "id": "d2944822-569c-4f9b-82dc-70a7fa2d542e",
   "metadata": {},
   "outputs": [],
   "source": []
  },
  {
   "cell_type": "code",
   "execution_count": null,
   "id": "1e8cdb58-3a8c-45ad-8e5f-7f950314aa56",
   "metadata": {},
   "outputs": [],
   "source": []
  },
  {
   "cell_type": "markdown",
   "id": "5f09dc7e-7c91-4355-860a-b9cfb9f33f15",
   "metadata": {},
   "source": [
    "# Похожие"
   ]
  },
  {
   "cell_type": "markdown",
   "id": "1dfcb683-b440-40a8-9975-894156a53872",
   "metadata": {},
   "source": [
    "Рассчитаем похожие, они позже пригодятся для онлайн-рекомендаций."
   ]
  },
  {
   "cell_type": "code",
   "execution_count": null,
   "id": "a75d07ee-4b12-4ce5-aa85-e45cb7a7a4f0",
   "metadata": {},
   "outputs": [],
   "source": []
  },
  {
   "cell_type": "code",
   "execution_count": null,
   "id": "ce370904-4c49-4152-8706-416074ea9b9a",
   "metadata": {},
   "outputs": [],
   "source": []
  },
  {
   "cell_type": "markdown",
   "id": "0087a3e7-ca9f-42cd-944c-944222c1baef",
   "metadata": {},
   "source": [
    "# Построение признаков"
   ]
  },
  {
   "cell_type": "markdown",
   "id": "e82a32e1-b90b-4eaf-9439-fc8deab9f34b",
   "metadata": {},
   "source": [
    "Построим три признака, можно больше, для ранжирующей модели."
   ]
  },
  {
   "cell_type": "code",
   "execution_count": null,
   "id": "05b4ae84-406a-44a4-abec-4f80f93e3004",
   "metadata": {},
   "outputs": [],
   "source": []
  },
  {
   "cell_type": "code",
   "execution_count": null,
   "id": "00f84c35-f544-4c3d-ad53-9b1d2b684c75",
   "metadata": {},
   "outputs": [],
   "source": []
  },
  {
   "cell_type": "markdown",
   "id": "47bcf88d-b236-46f0-a6f3-38ddd64895fe",
   "metadata": {},
   "source": [
    "# Ранжирование рекомендаций"
   ]
  },
  {
   "cell_type": "markdown",
   "id": "e8cd8223-3418-4493-8c87-1f76286ebda0",
   "metadata": {},
   "source": [
    "Построим ранжирующую модель, чтобы сделать рекомендации более точными. Отранжируем рекомендации."
   ]
  },
  {
   "cell_type": "code",
   "execution_count": null,
   "id": "79f1dd92-32a9-463d-827e-8bb9ee5bbb54",
   "metadata": {},
   "outputs": [],
   "source": []
  },
  {
   "cell_type": "code",
   "execution_count": null,
   "id": "6dbe4db4-1ac5-44da-a13c-8e7f9768ab73",
   "metadata": {},
   "outputs": [],
   "source": []
  },
  {
   "cell_type": "markdown",
   "id": "b3c84071-45b5-4a15-a683-e0ab034a3128",
   "metadata": {},
   "source": [
    "# Оценка качества"
   ]
  },
  {
   "cell_type": "markdown",
   "id": "1b107fe4-554e-42b1-87d9-c435a52bb77a",
   "metadata": {},
   "source": [
    "Проверим оценку качества трёх типов рекомендаций: \n",
    "\n",
    "- топ популярных,\n",
    "- персональных, полученных при помощи ALS,\n",
    "- итоговых\n",
    "  \n",
    "по четырем метрикам: recall, precision, coverage, novelty."
   ]
  },
  {
   "cell_type": "code",
   "execution_count": null,
   "id": "94d6f388-aecb-443e-8647-14014e932d4d",
   "metadata": {},
   "outputs": [],
   "source": []
  },
  {
   "cell_type": "code",
   "execution_count": null,
   "id": "26df411f-14c1-4848-8797-f37afe449cc6",
   "metadata": {},
   "outputs": [],
   "source": []
  },
  {
   "cell_type": "markdown",
   "id": "f1c8d38c-32b0-46a4-96f0-cd01dac708bc",
   "metadata": {},
   "source": [
    "# === Выводы, метрики ==="
   ]
  },
  {
   "cell_type": "markdown",
   "id": "f7d7d5d8-7d1e-4fdf-a6cd-83e5ce92c684",
   "metadata": {},
   "source": [
    "Основные выводы при работе над расчётом рекомендаций, рассчитанные метрики."
   ]
  },
  {
   "cell_type": "code",
   "execution_count": null,
   "id": "6403097d-db36-46d9-8952-613c9bd51b05",
   "metadata": {},
   "outputs": [],
   "source": []
  },
  {
   "cell_type": "code",
   "execution_count": null,
   "id": "986cfdd5-6f2e-4de6-8666-85804c87d04b",
   "metadata": {},
   "outputs": [],
   "source": []
  }
 ],
 "metadata": {
  "kernelspec": {
   "display_name": "Python 3 (ipykernel)",
   "language": "python",
   "name": "python3"
  },
  "language_info": {
   "codemirror_mode": {
    "name": "ipython",
    "version": 3
   },
   "file_extension": ".py",
   "mimetype": "text/x-python",
   "name": "python",
   "nbconvert_exporter": "python",
   "pygments_lexer": "ipython3",
   "version": "3.10.12"
  }
 },
 "nbformat": 4,
 "nbformat_minor": 5
}
