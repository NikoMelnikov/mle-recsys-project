{
 "cells": [
  {
   "cell_type": "markdown",
   "id": "f4095ae4-7294-4b28-853e-88d235002c97",
   "metadata": {},
   "source": [
    "# Инициализация"
   ]
  },
  {
   "cell_type": "markdown",
   "id": "2f2318d2-9df8-4911-915e-15b725c44f8a",
   "metadata": {},
   "source": [
    "Загружаем библиотеки необходимые для выполнения кода ноутбука."
   ]
  },
  {
   "cell_type": "code",
   "execution_count": 1,
   "id": "662d04e7-1b0b-4e4a-9ddf-4526d7fef119",
   "metadata": {},
   "outputs": [],
   "source": [
    "import logging\n",
    "\n",
    "import matplotlib.pyplot as plt\n",
    "import numpy as np\n",
    "import pandas as pd\n",
    "\n",
    "import seaborn as sns"
   ]
  },
  {
   "cell_type": "code",
   "execution_count": 2,
   "id": "26c66142",
   "metadata": {},
   "outputs": [],
   "source": [
    "import warnings\n",
    "warnings.filterwarnings('ignore')"
   ]
  },
  {
   "cell_type": "code",
   "execution_count": 3,
   "id": "bc70a284",
   "metadata": {},
   "outputs": [],
   "source": [
    "plt.rcParams['figure.figsize'] = (10,5)"
   ]
  },
  {
   "cell_type": "code",
   "execution_count": 4,
   "id": "1174f49f",
   "metadata": {},
   "outputs": [],
   "source": [
    "%matplotlib inline\n",
    "%config InlineBackend.figure_format = 'png'\n",
    "%config InlineBackend.figure_format = 'retina'"
   ]
  },
  {
   "cell_type": "markdown",
   "id": "bf80fbc5-b660-4fac-8fbb-a5cae77313b3",
   "metadata": {},
   "source": [
    "# === ЭТАП 1 ==="
   ]
  },
  {
   "cell_type": "markdown",
   "id": "5263a8b3-fe99-4204-8a2e-105182792c11",
   "metadata": {},
   "source": [
    "# Загрузка первичных данных"
   ]
  },
  {
   "cell_type": "markdown",
   "id": "1b54a6a5-1656-4e3c-99d1-49dc39451d33",
   "metadata": {},
   "source": [
    "Загружаем первичные данные из файлов:\n",
    "- tracks.parquet\n",
    "- catalog_names.parquet\n",
    "- interactions.parquet"
   ]
  },
  {
   "cell_type": "code",
   "execution_count": 5,
   "id": "5d4b8961-3f35-4e58-9d6b-3e2dbd2c4224",
   "metadata": {},
   "outputs": [],
   "source": [
    "tracks = pd.read_parquet(\"./datasets/tracks.parquet\")"
   ]
  },
  {
   "cell_type": "code",
   "execution_count": 46,
   "id": "d6a120fc",
   "metadata": {},
   "outputs": [],
   "source": [
    "catalog_names = pd.read_parquet(\"./datasets/catalog_names.parquet\")"
   ]
  },
  {
   "cell_type": "code",
   "execution_count": 50,
   "id": "a632a9bd",
   "metadata": {},
   "outputs": [],
   "source": [
    "interactions = pd.read_parquet(\"./datasets/interactions.parquet\")"
   ]
  },
  {
   "cell_type": "markdown",
   "id": "e8f2a1f7-a05f-4f39-af90-5f4018aa6f9d",
   "metadata": {},
   "source": [
    "# Обзор данных"
   ]
  },
  {
   "cell_type": "markdown",
   "id": "46a85307-896c-4fac-9fcf-f0dffa90889e",
   "metadata": {},
   "source": [
    "Проверяем данные, есть ли с ними явные проблемы."
   ]
  },
  {
   "cell_type": "code",
   "execution_count": 6,
   "id": "9cb5ff2c",
   "metadata": {},
   "outputs": [],
   "source": [
    "# функция для знакомства с данными\n",
    "def df_info(df):\n",
    "    display(\"Фрагмент датасета\")\n",
    "    display(df.sample(5))\n",
    "    display(\"-------------------------\")\n",
    "    display(\"Проверяем на наличие пропущенных значение\")\n",
    "    display(df.isna().sum())\n",
    "    display(\"-------------------------\")\n",
    "    display(\"Информация о датасете\")\n",
    "    display(df.info())\n",
    "    display(\"-------------------------\")\n",
    "    display(\"Размерность\")\n",
    "    display(df.shape)"
   ]
  },
  {
   "cell_type": "code",
   "execution_count": 7,
   "id": "2784d8e4",
   "metadata": {},
   "outputs": [
    {
     "data": {
      "text/plain": [
       "'Фрагмент датасета'"
      ]
     },
     "metadata": {},
     "output_type": "display_data"
    },
    {
     "data": {
      "text/html": [
       "<div>\n",
       "<style scoped>\n",
       "    .dataframe tbody tr th:only-of-type {\n",
       "        vertical-align: middle;\n",
       "    }\n",
       "\n",
       "    .dataframe tbody tr th {\n",
       "        vertical-align: top;\n",
       "    }\n",
       "\n",
       "    .dataframe thead th {\n",
       "        text-align: right;\n",
       "    }\n",
       "</style>\n",
       "<table border=\"1\" class=\"dataframe\">\n",
       "  <thead>\n",
       "    <tr style=\"text-align: right;\">\n",
       "      <th></th>\n",
       "      <th>track_id</th>\n",
       "      <th>albums</th>\n",
       "      <th>artists</th>\n",
       "      <th>genres</th>\n",
       "    </tr>\n",
       "  </thead>\n",
       "  <tbody>\n",
       "    <tr>\n",
       "      <th>998600</th>\n",
       "      <td>100031842</td>\n",
       "      <td>[20945874]</td>\n",
       "      <td>[9320307]</td>\n",
       "      <td>[44, 75]</td>\n",
       "    </tr>\n",
       "    <tr>\n",
       "      <th>75025</th>\n",
       "      <td>670260</td>\n",
       "      <td>[72748, 75642]</td>\n",
       "      <td>[1546]</td>\n",
       "      <td>[28, 163]</td>\n",
       "    </tr>\n",
       "    <tr>\n",
       "      <th>965432</th>\n",
       "      <td>89305127</td>\n",
       "      <td>[17503506]</td>\n",
       "      <td>[7720909]</td>\n",
       "      <td>[16]</td>\n",
       "    </tr>\n",
       "    <tr>\n",
       "      <th>772164</th>\n",
       "      <td>59485362</td>\n",
       "      <td>[9117459]</td>\n",
       "      <td>[8066072]</td>\n",
       "      <td>[68]</td>\n",
       "    </tr>\n",
       "    <tr>\n",
       "      <th>470484</th>\n",
       "      <td>32690339</td>\n",
       "      <td>[3986617]</td>\n",
       "      <td>[94267]</td>\n",
       "      <td>[11]</td>\n",
       "    </tr>\n",
       "  </tbody>\n",
       "</table>\n",
       "</div>"
      ],
      "text/plain": [
       "         track_id          albums    artists     genres\n",
       "998600  100031842      [20945874]  [9320307]   [44, 75]\n",
       "75025      670260  [72748, 75642]     [1546]  [28, 163]\n",
       "965432   89305127      [17503506]  [7720909]       [16]\n",
       "772164   59485362       [9117459]  [8066072]       [68]\n",
       "470484   32690339       [3986617]    [94267]       [11]"
      ]
     },
     "metadata": {},
     "output_type": "display_data"
    },
    {
     "data": {
      "text/plain": [
       "'-------------------------'"
      ]
     },
     "metadata": {},
     "output_type": "display_data"
    },
    {
     "data": {
      "text/plain": [
       "'Проверяем на наличие пропущенных значение'"
      ]
     },
     "metadata": {},
     "output_type": "display_data"
    },
    {
     "data": {
      "text/plain": [
       "track_id    0\n",
       "albums      0\n",
       "artists     0\n",
       "genres      0\n",
       "dtype: int64"
      ]
     },
     "metadata": {},
     "output_type": "display_data"
    },
    {
     "data": {
      "text/plain": [
       "'-------------------------'"
      ]
     },
     "metadata": {},
     "output_type": "display_data"
    },
    {
     "data": {
      "text/plain": [
       "'Информация о датасете'"
      ]
     },
     "metadata": {},
     "output_type": "display_data"
    },
    {
     "name": "stdout",
     "output_type": "stream",
     "text": [
      "<class 'pandas.core.frame.DataFrame'>\n",
      "RangeIndex: 1000000 entries, 0 to 999999\n",
      "Data columns (total 4 columns):\n",
      " #   Column    Non-Null Count    Dtype \n",
      "---  ------    --------------    ----- \n",
      " 0   track_id  1000000 non-null  int64 \n",
      " 1   albums    1000000 non-null  object\n",
      " 2   artists   1000000 non-null  object\n",
      " 3   genres    1000000 non-null  object\n",
      "dtypes: int64(1), object(3)\n",
      "memory usage: 30.5+ MB\n"
     ]
    },
    {
     "data": {
      "text/plain": [
       "None"
      ]
     },
     "metadata": {},
     "output_type": "display_data"
    },
    {
     "data": {
      "text/plain": [
       "'-------------------------'"
      ]
     },
     "metadata": {},
     "output_type": "display_data"
    },
    {
     "data": {
      "text/plain": [
       "'Размерность'"
      ]
     },
     "metadata": {},
     "output_type": "display_data"
    },
    {
     "data": {
      "text/plain": [
       "(1000000, 4)"
      ]
     },
     "metadata": {},
     "output_type": "display_data"
    }
   ],
   "source": [
    "df_info(tracks)"
   ]
  },
  {
   "cell_type": "markdown",
   "id": "cb45d5ad-5f6b-41e0-8fee-0b98b721dfc8",
   "metadata": {},
   "source": [
    "С виду явных проблем нет, идентификаторы менять не стоит. Но видно что данные в столбцах кроме track_id содержат массивы, очевидно что пустой массив это не пропущенное значение, хотя данных не содержит. Проведу проверку."
   ]
  },
  {
   "cell_type": "code",
   "execution_count": 13,
   "id": "3aa27652",
   "metadata": {},
   "outputs": [],
   "source": [
    "# функция для поиска пустых массивов.\n",
    "def missed_value(df, column):\n",
    "    df_missed_value =df[df[column].apply(lambda x: len(x) == 0)]\n",
    "    return df_missed_value"
   ]
  },
  {
   "cell_type": "code",
   "execution_count": 14,
   "id": "68ad469e",
   "metadata": {},
   "outputs": [
    {
     "data": {
      "text/html": [
       "<div>\n",
       "<style scoped>\n",
       "    .dataframe tbody tr th:only-of-type {\n",
       "        vertical-align: middle;\n",
       "    }\n",
       "\n",
       "    .dataframe tbody tr th {\n",
       "        vertical-align: top;\n",
       "    }\n",
       "\n",
       "    .dataframe thead th {\n",
       "        text-align: right;\n",
       "    }\n",
       "</style>\n",
       "<table border=\"1\" class=\"dataframe\">\n",
       "  <thead>\n",
       "    <tr style=\"text-align: right;\">\n",
       "      <th></th>\n",
       "      <th>track_id</th>\n",
       "      <th>albums</th>\n",
       "      <th>artists</th>\n",
       "      <th>genres</th>\n",
       "    </tr>\n",
       "  </thead>\n",
       "  <tbody>\n",
       "    <tr>\n",
       "      <th>146031</th>\n",
       "      <td>3599314</td>\n",
       "      <td>[389925]</td>\n",
       "      <td>[]</td>\n",
       "      <td>[68, 86]</td>\n",
       "    </tr>\n",
       "    <tr>\n",
       "      <th>146163</th>\n",
       "      <td>3599591</td>\n",
       "      <td>[389944]</td>\n",
       "      <td>[]</td>\n",
       "      <td>[68, 86]</td>\n",
       "    </tr>\n",
       "    <tr>\n",
       "      <th>177544</th>\n",
       "      <td>4790215</td>\n",
       "      <td>[533785]</td>\n",
       "      <td>[]</td>\n",
       "      <td>[68, 86]</td>\n",
       "    </tr>\n",
       "    <tr>\n",
       "      <th>218922</th>\n",
       "      <td>10063296</td>\n",
       "      <td>[1083742]</td>\n",
       "      <td>[]</td>\n",
       "      <td>[11, 20]</td>\n",
       "    </tr>\n",
       "    <tr>\n",
       "      <th>231455</th>\n",
       "      <td>12122918</td>\n",
       "      <td>[1315834]</td>\n",
       "      <td>[]</td>\n",
       "      <td>[68]</td>\n",
       "    </tr>\n",
       "    <tr>\n",
       "      <th>...</th>\n",
       "      <td>...</td>\n",
       "      <td>...</td>\n",
       "      <td>...</td>\n",
       "      <td>...</td>\n",
       "    </tr>\n",
       "    <tr>\n",
       "      <th>999868</th>\n",
       "      <td>101201589</td>\n",
       "      <td>[12649219]</td>\n",
       "      <td>[]</td>\n",
       "      <td>[62, 77]</td>\n",
       "    </tr>\n",
       "    <tr>\n",
       "      <th>999876</th>\n",
       "      <td>101219571</td>\n",
       "      <td>[9444321]</td>\n",
       "      <td>[]</td>\n",
       "      <td>[62, 83, 77]</td>\n",
       "    </tr>\n",
       "    <tr>\n",
       "      <th>999901</th>\n",
       "      <td>101243616</td>\n",
       "      <td>[11700332]</td>\n",
       "      <td>[]</td>\n",
       "      <td>[62, 93]</td>\n",
       "    </tr>\n",
       "    <tr>\n",
       "      <th>999920</th>\n",
       "      <td>101292599</td>\n",
       "      <td>[9331881]</td>\n",
       "      <td>[]</td>\n",
       "      <td>[62, 90, 77, 84]</td>\n",
       "    </tr>\n",
       "    <tr>\n",
       "      <th>999951</th>\n",
       "      <td>101362545</td>\n",
       "      <td>[10330389]</td>\n",
       "      <td>[]</td>\n",
       "      <td>[62, 88, 77, 85]</td>\n",
       "    </tr>\n",
       "  </tbody>\n",
       "</table>\n",
       "<p>15369 rows × 4 columns</p>\n",
       "</div>"
      ],
      "text/plain": [
       "         track_id      albums artists            genres\n",
       "146031    3599314    [389925]      []          [68, 86]\n",
       "146163    3599591    [389944]      []          [68, 86]\n",
       "177544    4790215    [533785]      []          [68, 86]\n",
       "218922   10063296   [1083742]      []          [11, 20]\n",
       "231455   12122918   [1315834]      []              [68]\n",
       "...           ...         ...     ...               ...\n",
       "999868  101201589  [12649219]      []          [62, 77]\n",
       "999876  101219571   [9444321]      []      [62, 83, 77]\n",
       "999901  101243616  [11700332]      []          [62, 93]\n",
       "999920  101292599   [9331881]      []  [62, 90, 77, 84]\n",
       "999951  101362545  [10330389]      []  [62, 88, 77, 85]\n",
       "\n",
       "[15369 rows x 4 columns]"
      ]
     },
     "execution_count": 14,
     "metadata": {},
     "output_type": "execute_result"
    }
   ],
   "source": [
    "missed_value(tracks, 'artists')"
   ]
  },
  {
   "cell_type": "code",
   "execution_count": 15,
   "id": "bf18384c",
   "metadata": {},
   "outputs": [
    {
     "data": {
      "text/html": [
       "<div>\n",
       "<style scoped>\n",
       "    .dataframe tbody tr th:only-of-type {\n",
       "        vertical-align: middle;\n",
       "    }\n",
       "\n",
       "    .dataframe tbody tr th {\n",
       "        vertical-align: top;\n",
       "    }\n",
       "\n",
       "    .dataframe thead th {\n",
       "        text-align: right;\n",
       "    }\n",
       "</style>\n",
       "<table border=\"1\" class=\"dataframe\">\n",
       "  <thead>\n",
       "    <tr style=\"text-align: right;\">\n",
       "      <th></th>\n",
       "      <th>track_id</th>\n",
       "      <th>albums</th>\n",
       "      <th>artists</th>\n",
       "      <th>genres</th>\n",
       "    </tr>\n",
       "  </thead>\n",
       "  <tbody>\n",
       "    <tr>\n",
       "      <th>310821</th>\n",
       "      <td>20200372</td>\n",
       "      <td>[]</td>\n",
       "      <td>[]</td>\n",
       "      <td>[]</td>\n",
       "    </tr>\n",
       "    <tr>\n",
       "      <th>310826</th>\n",
       "      <td>20200380</td>\n",
       "      <td>[]</td>\n",
       "      <td>[]</td>\n",
       "      <td>[]</td>\n",
       "    </tr>\n",
       "    <tr>\n",
       "      <th>312469</th>\n",
       "      <td>20305116</td>\n",
       "      <td>[]</td>\n",
       "      <td>[]</td>\n",
       "      <td>[]</td>\n",
       "    </tr>\n",
       "    <tr>\n",
       "      <th>312474</th>\n",
       "      <td>20305121</td>\n",
       "      <td>[]</td>\n",
       "      <td>[]</td>\n",
       "      <td>[]</td>\n",
       "    </tr>\n",
       "    <tr>\n",
       "      <th>320353</th>\n",
       "      <td>20756854</td>\n",
       "      <td>[]</td>\n",
       "      <td>[]</td>\n",
       "      <td>[]</td>\n",
       "    </tr>\n",
       "    <tr>\n",
       "      <th>326588</th>\n",
       "      <td>21196099</td>\n",
       "      <td>[]</td>\n",
       "      <td>[]</td>\n",
       "      <td>[]</td>\n",
       "    </tr>\n",
       "    <tr>\n",
       "      <th>326592</th>\n",
       "      <td>21196103</td>\n",
       "      <td>[]</td>\n",
       "      <td>[]</td>\n",
       "      <td>[]</td>\n",
       "    </tr>\n",
       "    <tr>\n",
       "      <th>326594</th>\n",
       "      <td>21196105</td>\n",
       "      <td>[]</td>\n",
       "      <td>[]</td>\n",
       "      <td>[]</td>\n",
       "    </tr>\n",
       "    <tr>\n",
       "      <th>326596</th>\n",
       "      <td>21196107</td>\n",
       "      <td>[]</td>\n",
       "      <td>[]</td>\n",
       "      <td>[]</td>\n",
       "    </tr>\n",
       "    <tr>\n",
       "      <th>326598</th>\n",
       "      <td>21196109</td>\n",
       "      <td>[]</td>\n",
       "      <td>[]</td>\n",
       "      <td>[]</td>\n",
       "    </tr>\n",
       "    <tr>\n",
       "      <th>326600</th>\n",
       "      <td>21196111</td>\n",
       "      <td>[]</td>\n",
       "      <td>[]</td>\n",
       "      <td>[]</td>\n",
       "    </tr>\n",
       "    <tr>\n",
       "      <th>326605</th>\n",
       "      <td>21196116</td>\n",
       "      <td>[]</td>\n",
       "      <td>[]</td>\n",
       "      <td>[]</td>\n",
       "    </tr>\n",
       "    <tr>\n",
       "      <th>326606</th>\n",
       "      <td>21196117</td>\n",
       "      <td>[]</td>\n",
       "      <td>[]</td>\n",
       "      <td>[]</td>\n",
       "    </tr>\n",
       "    <tr>\n",
       "      <th>326607</th>\n",
       "      <td>21196118</td>\n",
       "      <td>[]</td>\n",
       "      <td>[]</td>\n",
       "      <td>[]</td>\n",
       "    </tr>\n",
       "    <tr>\n",
       "      <th>415644</th>\n",
       "      <td>28530632</td>\n",
       "      <td>[]</td>\n",
       "      <td>[]</td>\n",
       "      <td>[]</td>\n",
       "    </tr>\n",
       "    <tr>\n",
       "      <th>503277</th>\n",
       "      <td>34828749</td>\n",
       "      <td>[]</td>\n",
       "      <td>[]</td>\n",
       "      <td>[]</td>\n",
       "    </tr>\n",
       "    <tr>\n",
       "      <th>527490</th>\n",
       "      <td>36598340</td>\n",
       "      <td>[]</td>\n",
       "      <td>[]</td>\n",
       "      <td>[]</td>\n",
       "    </tr>\n",
       "    <tr>\n",
       "      <th>700211</th>\n",
       "      <td>51641225</td>\n",
       "      <td>[]</td>\n",
       "      <td>[]</td>\n",
       "      <td>[]</td>\n",
       "    </tr>\n",
       "  </tbody>\n",
       "</table>\n",
       "</div>"
      ],
      "text/plain": [
       "        track_id albums artists genres\n",
       "310821  20200372     []      []     []\n",
       "310826  20200380     []      []     []\n",
       "312469  20305116     []      []     []\n",
       "312474  20305121     []      []     []\n",
       "320353  20756854     []      []     []\n",
       "326588  21196099     []      []     []\n",
       "326592  21196103     []      []     []\n",
       "326594  21196105     []      []     []\n",
       "326596  21196107     []      []     []\n",
       "326598  21196109     []      []     []\n",
       "326600  21196111     []      []     []\n",
       "326605  21196116     []      []     []\n",
       "326606  21196117     []      []     []\n",
       "326607  21196118     []      []     []\n",
       "415644  28530632     []      []     []\n",
       "503277  34828749     []      []     []\n",
       "527490  36598340     []      []     []\n",
       "700211  51641225     []      []     []"
      ]
     },
     "execution_count": 15,
     "metadata": {},
     "output_type": "execute_result"
    }
   ],
   "source": [
    "missed_value(tracks, 'albums')"
   ]
  },
  {
   "cell_type": "code",
   "execution_count": 16,
   "id": "3c3c03b6",
   "metadata": {},
   "outputs": [
    {
     "data": {
      "text/html": [
       "<div>\n",
       "<style scoped>\n",
       "    .dataframe tbody tr th:only-of-type {\n",
       "        vertical-align: middle;\n",
       "    }\n",
       "\n",
       "    .dataframe tbody tr th {\n",
       "        vertical-align: top;\n",
       "    }\n",
       "\n",
       "    .dataframe thead th {\n",
       "        text-align: right;\n",
       "    }\n",
       "</style>\n",
       "<table border=\"1\" class=\"dataframe\">\n",
       "  <thead>\n",
       "    <tr style=\"text-align: right;\">\n",
       "      <th></th>\n",
       "      <th>track_id</th>\n",
       "      <th>albums</th>\n",
       "      <th>artists</th>\n",
       "      <th>genres</th>\n",
       "    </tr>\n",
       "  </thead>\n",
       "  <tbody>\n",
       "    <tr>\n",
       "      <th>490</th>\n",
       "      <td>2520</td>\n",
       "      <td>[249, 163801, 163802, 324616, 17542430, 189498...</td>\n",
       "      <td>[2259]</td>\n",
       "      <td>[]</td>\n",
       "    </tr>\n",
       "    <tr>\n",
       "      <th>3069</th>\n",
       "      <td>16776</td>\n",
       "      <td>[1479, 5319, 6093, 8467, 10641, 90867, 163801,...</td>\n",
       "      <td>[978]</td>\n",
       "      <td>[]</td>\n",
       "    </tr>\n",
       "    <tr>\n",
       "      <th>3077</th>\n",
       "      <td>16801</td>\n",
       "      <td>[1479, 163801, 9287549, 9377183, 9424994, 1201...</td>\n",
       "      <td>[10520]</td>\n",
       "      <td>[]</td>\n",
       "    </tr>\n",
       "    <tr>\n",
       "      <th>4192</th>\n",
       "      <td>23752</td>\n",
       "      <td>[2001, 3722, 4973, 6104, 6558, 23866, 37052, 7...</td>\n",
       "      <td>[13373]</td>\n",
       "      <td>[]</td>\n",
       "    </tr>\n",
       "    <tr>\n",
       "      <th>6645</th>\n",
       "      <td>38012</td>\n",
       "      <td>[3147, 60099, 530836, 1115289, 2490724, 818446...</td>\n",
       "      <td>[16758]</td>\n",
       "      <td>[]</td>\n",
       "    </tr>\n",
       "    <tr>\n",
       "      <th>...</th>\n",
       "      <td>...</td>\n",
       "      <td>...</td>\n",
       "      <td>...</td>\n",
       "      <td>...</td>\n",
       "    </tr>\n",
       "    <tr>\n",
       "      <th>997667</th>\n",
       "      <td>99412992</td>\n",
       "      <td>[20764551]</td>\n",
       "      <td>[10029101]</td>\n",
       "      <td>[]</td>\n",
       "    </tr>\n",
       "    <tr>\n",
       "      <th>999192</th>\n",
       "      <td>100497082</td>\n",
       "      <td>[21098340]</td>\n",
       "      <td>[15936615]</td>\n",
       "      <td>[]</td>\n",
       "    </tr>\n",
       "    <tr>\n",
       "      <th>999703</th>\n",
       "      <td>100923319</td>\n",
       "      <td>[21233460]</td>\n",
       "      <td>[5271861]</td>\n",
       "      <td>[]</td>\n",
       "    </tr>\n",
       "    <tr>\n",
       "      <th>999704</th>\n",
       "      <td>100923322</td>\n",
       "      <td>[21233460]</td>\n",
       "      <td>[5271861]</td>\n",
       "      <td>[]</td>\n",
       "    </tr>\n",
       "    <tr>\n",
       "      <th>999705</th>\n",
       "      <td>100923326</td>\n",
       "      <td>[21233460]</td>\n",
       "      <td>[5271861]</td>\n",
       "      <td>[]</td>\n",
       "    </tr>\n",
       "  </tbody>\n",
       "</table>\n",
       "<p>3687 rows × 4 columns</p>\n",
       "</div>"
      ],
      "text/plain": [
       "         track_id                                             albums  \\\n",
       "490          2520  [249, 163801, 163802, 324616, 17542430, 189498...   \n",
       "3069        16776  [1479, 5319, 6093, 8467, 10641, 90867, 163801,...   \n",
       "3077        16801  [1479, 163801, 9287549, 9377183, 9424994, 1201...   \n",
       "4192        23752  [2001, 3722, 4973, 6104, 6558, 23866, 37052, 7...   \n",
       "6645        38012  [3147, 60099, 530836, 1115289, 2490724, 818446...   \n",
       "...           ...                                                ...   \n",
       "997667   99412992                                         [20764551]   \n",
       "999192  100497082                                         [21098340]   \n",
       "999703  100923319                                         [21233460]   \n",
       "999704  100923322                                         [21233460]   \n",
       "999705  100923326                                         [21233460]   \n",
       "\n",
       "           artists genres  \n",
       "490         [2259]     []  \n",
       "3069         [978]     []  \n",
       "3077       [10520]     []  \n",
       "4192       [13373]     []  \n",
       "6645       [16758]     []  \n",
       "...            ...    ...  \n",
       "997667  [10029101]     []  \n",
       "999192  [15936615]     []  \n",
       "999703   [5271861]     []  \n",
       "999704   [5271861]     []  \n",
       "999705   [5271861]     []  \n",
       "\n",
       "[3687 rows x 4 columns]"
      ]
     },
     "execution_count": 16,
     "metadata": {},
     "output_type": "execute_result"
    }
   ],
   "source": [
    "missed_value(tracks, 'genres')"
   ]
  },
  {
   "cell_type": "markdown",
   "id": "887f13f5-e645-425b-9cc6-effcbdaf3273",
   "metadata": {},
   "source": [
    "В датафрейме есть строки с неизвестными исполнителями, альбомами и жанрами. Для принятия решения что делать с этими строками изучу какой процент от общих они составляют."
   ]
  },
  {
   "cell_type": "code",
   "execution_count": 30,
   "id": "fc6d91f6",
   "metadata": {},
   "outputs": [],
   "source": [
    "#tracks = tracks.explode('albums')\n",
    "#tracks = tracks.explode('artists')\n",
    "#tracks = tracks.explode('genres')"
   ]
  },
  {
   "cell_type": "code",
   "execution_count": 33,
   "id": "1140bd69-97a3-4c61-8ccf-0020f86d2c50",
   "metadata": {},
   "outputs": [],
   "source": [
    "missing_values = tracks[\n",
    "    (tracks['artists'].str.len() == 0) | (tracks['albums'].str.len() == 0) | (tracks['genres'].str.len() == 0)]"
   ]
  },
  {
   "cell_type": "code",
   "execution_count": 39,
   "id": "f3b77be8-e1af-41e2-8edb-d03b3d7a3c36",
   "metadata": {},
   "outputs": [
    {
     "name": "stdout",
     "output_type": "stream",
     "text": [
      "Процент данных в missing_values от общего количества данных в tracks: 1.9%\n"
     ]
    }
   ],
   "source": [
    "percent_missing_values = len(missing_values) / len(tracks) * 100\n",
    "print(f\"Процент данных в missing_values от общего количества данных в tracks: {percent_missing_values:.1f}%\")"
   ]
  },
  {
   "cell_type": "markdown",
   "id": "4be240e4-96c5-425f-abbd-fed3f68e3000",
   "metadata": {},
   "source": [
    "Менее 3%, считаю что могу их просто удалить."
   ]
  },
  {
   "cell_type": "code",
   "execution_count": 40,
   "id": "d7c76e69-5950-482f-8275-6840ba4ade75",
   "metadata": {},
   "outputs": [],
   "source": [
    "indexes_to_drop = missing_values.index"
   ]
  },
  {
   "cell_type": "code",
   "execution_count": 41,
   "id": "b866bae3-fdcb-4f27-a3b1-1eb15346398c",
   "metadata": {},
   "outputs": [],
   "source": [
    "tracks = tracks.drop(indexes_to_drop).reset_index(drop=True)"
   ]
  },
  {
   "cell_type": "code",
   "execution_count": 43,
   "id": "d8fc85b0-c1e6-4e73-a040-7f6a782bed7c",
   "metadata": {},
   "outputs": [
    {
     "data": {
      "text/html": [
       "<div>\n",
       "<style scoped>\n",
       "    .dataframe tbody tr th:only-of-type {\n",
       "        vertical-align: middle;\n",
       "    }\n",
       "\n",
       "    .dataframe tbody tr th {\n",
       "        vertical-align: top;\n",
       "    }\n",
       "\n",
       "    .dataframe thead th {\n",
       "        text-align: right;\n",
       "    }\n",
       "</style>\n",
       "<table border=\"1\" class=\"dataframe\">\n",
       "  <thead>\n",
       "    <tr style=\"text-align: right;\">\n",
       "      <th></th>\n",
       "      <th>track_id</th>\n",
       "      <th>albums</th>\n",
       "      <th>artists</th>\n",
       "      <th>genres</th>\n",
       "    </tr>\n",
       "  </thead>\n",
       "  <tbody>\n",
       "  </tbody>\n",
       "</table>\n",
       "</div>"
      ],
      "text/plain": [
       "Empty DataFrame\n",
       "Columns: [track_id, albums, artists, genres]\n",
       "Index: []"
      ]
     },
     "execution_count": 43,
     "metadata": {},
     "output_type": "execute_result"
    }
   ],
   "source": [
    "missed_value(tracks, 'albums')"
   ]
  },
  {
   "cell_type": "code",
   "execution_count": 42,
   "id": "6e3beee1-5c3b-4641-8dc1-a7e8cd4aa243",
   "metadata": {},
   "outputs": [
    {
     "name": "stdout",
     "output_type": "stream",
     "text": [
      "<class 'pandas.core.frame.DataFrame'>\n",
      "RangeIndex: 980977 entries, 0 to 980976\n",
      "Data columns (total 4 columns):\n",
      " #   Column    Non-Null Count   Dtype \n",
      "---  ------    --------------   ----- \n",
      " 0   track_id  980977 non-null  int64 \n",
      " 1   albums    980977 non-null  object\n",
      " 2   artists   980977 non-null  object\n",
      " 3   genres    980977 non-null  object\n",
      "dtypes: int64(1), object(3)\n",
      "memory usage: 29.9+ MB\n"
     ]
    }
   ],
   "source": [
    "tracks.info()"
   ]
  },
  {
   "cell_type": "code",
   "execution_count": 44,
   "id": "20b47f63-19a1-484f-94e3-99e835d308e2",
   "metadata": {},
   "outputs": [],
   "source": [
    "# уборочка\n",
    "del tracks"
   ]
  },
  {
   "cell_type": "code",
   "execution_count": 47,
   "id": "f06a5c62",
   "metadata": {},
   "outputs": [
    {
     "data": {
      "text/plain": [
       "'Фрагмент датасета'"
      ]
     },
     "metadata": {},
     "output_type": "display_data"
    },
    {
     "data": {
      "text/html": [
       "<div>\n",
       "<style scoped>\n",
       "    .dataframe tbody tr th:only-of-type {\n",
       "        vertical-align: middle;\n",
       "    }\n",
       "\n",
       "    .dataframe tbody tr th {\n",
       "        vertical-align: top;\n",
       "    }\n",
       "\n",
       "    .dataframe thead th {\n",
       "        text-align: right;\n",
       "    }\n",
       "</style>\n",
       "<table border=\"1\" class=\"dataframe\">\n",
       "  <thead>\n",
       "    <tr style=\"text-align: right;\">\n",
       "      <th></th>\n",
       "      <th>id</th>\n",
       "      <th>type</th>\n",
       "      <th>name</th>\n",
       "    </tr>\n",
       "  </thead>\n",
       "  <tbody>\n",
       "    <tr>\n",
       "      <th>1103491</th>\n",
       "      <td>18539272</td>\n",
       "      <td>track</td>\n",
       "      <td>Ваза и пион</td>\n",
       "    </tr>\n",
       "    <tr>\n",
       "      <th>36530</th>\n",
       "      <td>100980</td>\n",
       "      <td>album</td>\n",
       "      <td>Naked &amp; Warm</td>\n",
       "    </tr>\n",
       "    <tr>\n",
       "      <th>1722965</th>\n",
       "      <td>77373052</td>\n",
       "      <td>track</td>\n",
       "      <td>Неоновый потоп</td>\n",
       "    </tr>\n",
       "    <tr>\n",
       "      <th>274180</th>\n",
       "      <td>4401475</td>\n",
       "      <td>album</td>\n",
       "      <td>Sweet Bossa Nova</td>\n",
       "    </tr>\n",
       "    <tr>\n",
       "      <th>761145</th>\n",
       "      <td>5125722</td>\n",
       "      <td>artist</td>\n",
       "      <td>Костя Битеев</td>\n",
       "    </tr>\n",
       "  </tbody>\n",
       "</table>\n",
       "</div>"
      ],
      "text/plain": [
       "               id    type              name\n",
       "1103491  18539272   track       Ваза и пион\n",
       "36530      100980   album      Naked & Warm\n",
       "1722965  77373052   track    Неоновый потоп\n",
       "274180    4401475   album  Sweet Bossa Nova\n",
       "761145    5125722  artist      Костя Битеев"
      ]
     },
     "metadata": {},
     "output_type": "display_data"
    },
    {
     "data": {
      "text/plain": [
       "'-------------------------'"
      ]
     },
     "metadata": {},
     "output_type": "display_data"
    },
    {
     "data": {
      "text/plain": [
       "'Проверяем на наличие пропущенных значение'"
      ]
     },
     "metadata": {},
     "output_type": "display_data"
    },
    {
     "data": {
      "text/plain": [
       "id      0\n",
       "type    0\n",
       "name    0\n",
       "dtype: int64"
      ]
     },
     "metadata": {},
     "output_type": "display_data"
    },
    {
     "data": {
      "text/plain": [
       "'-------------------------'"
      ]
     },
     "metadata": {},
     "output_type": "display_data"
    },
    {
     "data": {
      "text/plain": [
       "'Информация о датасете'"
      ]
     },
     "metadata": {},
     "output_type": "display_data"
    },
    {
     "name": "stdout",
     "output_type": "stream",
     "text": [
      "<class 'pandas.core.frame.DataFrame'>\n",
      "RangeIndex: 1812471 entries, 0 to 1812470\n",
      "Data columns (total 3 columns):\n",
      " #   Column  Dtype \n",
      "---  ------  ----- \n",
      " 0   id      int64 \n",
      " 1   type    object\n",
      " 2   name    object\n",
      "dtypes: int64(1), object(2)\n",
      "memory usage: 41.5+ MB\n"
     ]
    },
    {
     "data": {
      "text/plain": [
       "None"
      ]
     },
     "metadata": {},
     "output_type": "display_data"
    },
    {
     "data": {
      "text/plain": [
       "'-------------------------'"
      ]
     },
     "metadata": {},
     "output_type": "display_data"
    },
    {
     "data": {
      "text/plain": [
       "'Размерность'"
      ]
     },
     "metadata": {},
     "output_type": "display_data"
    },
    {
     "data": {
      "text/plain": [
       "(1812471, 3)"
      ]
     },
     "metadata": {},
     "output_type": "display_data"
    }
   ],
   "source": [
    "df_info(catalog_names)"
   ]
  },
  {
   "cell_type": "code",
   "execution_count": 49,
   "id": "9b8bec96-419f-4529-ad4d-cf891ef4efda",
   "metadata": {},
   "outputs": [],
   "source": [
    "del catalog_names"
   ]
  },
  {
   "cell_type": "code",
   "execution_count": 51,
   "id": "73c042f8-1042-4ecf-9ce8-bcde1bd68108",
   "metadata": {},
   "outputs": [
    {
     "data": {
      "text/plain": [
       "'Фрагмент датасета'"
      ]
     },
     "metadata": {},
     "output_type": "display_data"
    },
    {
     "data": {
      "text/html": [
       "<div>\n",
       "<style scoped>\n",
       "    .dataframe tbody tr th:only-of-type {\n",
       "        vertical-align: middle;\n",
       "    }\n",
       "\n",
       "    .dataframe tbody tr th {\n",
       "        vertical-align: top;\n",
       "    }\n",
       "\n",
       "    .dataframe thead th {\n",
       "        text-align: right;\n",
       "    }\n",
       "</style>\n",
       "<table border=\"1\" class=\"dataframe\">\n",
       "  <thead>\n",
       "    <tr style=\"text-align: right;\">\n",
       "      <th></th>\n",
       "      <th>user_id</th>\n",
       "      <th>track_id</th>\n",
       "      <th>track_seq</th>\n",
       "      <th>started_at</th>\n",
       "    </tr>\n",
       "  </thead>\n",
       "  <tbody>\n",
       "    <tr>\n",
       "      <th>119</th>\n",
       "      <td>953300</td>\n",
       "      <td>669091</td>\n",
       "      <td>120</td>\n",
       "      <td>2022-10-19</td>\n",
       "    </tr>\n",
       "    <tr>\n",
       "      <th>296</th>\n",
       "      <td>1238971</td>\n",
       "      <td>38634578</td>\n",
       "      <td>297</td>\n",
       "      <td>2022-10-06</td>\n",
       "    </tr>\n",
       "    <tr>\n",
       "      <th>230</th>\n",
       "      <td>1180163</td>\n",
       "      <td>2810298</td>\n",
       "      <td>231</td>\n",
       "      <td>2022-08-19</td>\n",
       "    </tr>\n",
       "    <tr>\n",
       "      <th>24</th>\n",
       "      <td>602369</td>\n",
       "      <td>178531</td>\n",
       "      <td>25</td>\n",
       "      <td>2022-11-02</td>\n",
       "    </tr>\n",
       "    <tr>\n",
       "      <th>73</th>\n",
       "      <td>33984</td>\n",
       "      <td>96366199</td>\n",
       "      <td>74</td>\n",
       "      <td>2022-12-29</td>\n",
       "    </tr>\n",
       "  </tbody>\n",
       "</table>\n",
       "</div>"
      ],
      "text/plain": [
       "     user_id  track_id  track_seq started_at\n",
       "119   953300    669091        120 2022-10-19\n",
       "296  1238971  38634578        297 2022-10-06\n",
       "230  1180163   2810298        231 2022-08-19\n",
       "24    602369    178531         25 2022-11-02\n",
       "73     33984  96366199         74 2022-12-29"
      ]
     },
     "metadata": {},
     "output_type": "display_data"
    },
    {
     "data": {
      "text/plain": [
       "'-------------------------'"
      ]
     },
     "metadata": {},
     "output_type": "display_data"
    },
    {
     "data": {
      "text/plain": [
       "'Проверяем на наличие пропущенных значение'"
      ]
     },
     "metadata": {},
     "output_type": "display_data"
    },
    {
     "data": {
      "text/plain": [
       "user_id       0\n",
       "track_id      0\n",
       "track_seq     0\n",
       "started_at    0\n",
       "dtype: int64"
      ]
     },
     "metadata": {},
     "output_type": "display_data"
    },
    {
     "data": {
      "text/plain": [
       "'-------------------------'"
      ]
     },
     "metadata": {},
     "output_type": "display_data"
    },
    {
     "data": {
      "text/plain": [
       "'Информация о датасете'"
      ]
     },
     "metadata": {},
     "output_type": "display_data"
    },
    {
     "name": "stdout",
     "output_type": "stream",
     "text": [
      "<class 'pandas.core.frame.DataFrame'>\n",
      "Index: 222629898 entries, 0 to 291\n",
      "Data columns (total 4 columns):\n",
      " #   Column      Dtype         \n",
      "---  ------      -----         \n",
      " 0   user_id     int32         \n",
      " 1   track_id    int32         \n",
      " 2   track_seq   int16         \n",
      " 3   started_at  datetime64[ns]\n",
      "dtypes: datetime64[ns](1), int16(1), int32(2)\n",
      "memory usage: 5.4 GB\n"
     ]
    },
    {
     "data": {
      "text/plain": [
       "None"
      ]
     },
     "metadata": {},
     "output_type": "display_data"
    },
    {
     "data": {
      "text/plain": [
       "'-------------------------'"
      ]
     },
     "metadata": {},
     "output_type": "display_data"
    },
    {
     "data": {
      "text/plain": [
       "'Размерность'"
      ]
     },
     "metadata": {},
     "output_type": "display_data"
    },
    {
     "data": {
      "text/plain": [
       "(222629898, 4)"
      ]
     },
     "metadata": {},
     "output_type": "display_data"
    }
   ],
   "source": [
    "df_info(interactions)"
   ]
  },
  {
   "cell_type": "markdown",
   "id": "318b573a-9e2d-4808-95db-60cfb8bbdb73",
   "metadata": {
    "editable": true,
    "slideshow": {
     "slide_type": ""
    },
    "tags": []
   },
   "source": [
    "# Выводы"
   ]
  },
  {
   "cell_type": "markdown",
   "id": "caa96e12-36a8-4401-8f11-98627a49ae9d",
   "metadata": {},
   "source": [
    "Приведём выводы по первому знакомству с данными:\n",
    "- есть ли с данными явные проблемы,\n",
    "- какие корректирующие действия (в целом) были предприняты."
   ]
  },
  {
   "cell_type": "code",
   "execution_count": null,
   "id": "2cf84a22",
   "metadata": {},
   "outputs": [],
   "source": []
  },
  {
   "cell_type": "markdown",
   "id": "7bc3296b-eba6-4333-a78d-b9304aa87e3d",
   "metadata": {},
   "source": [
    "# === ЭТАП 2 ==="
   ]
  },
  {
   "cell_type": "markdown",
   "id": "68e73960-fd38-4e15-8db0-9a25c35dfd25",
   "metadata": {},
   "source": [
    "# EDA"
   ]
  },
  {
   "cell_type": "markdown",
   "id": "a30e823e-8e0f-4a76-a02e-8d1ba8bf0f8a",
   "metadata": {},
   "source": [
    "Распределение количества прослушанных треков."
   ]
  },
  {
   "cell_type": "code",
   "execution_count": 26,
   "id": "8bdf326f",
   "metadata": {},
   "outputs": [
    {
     "data": {
      "text/html": [
       "<div>\n",
       "<style scoped>\n",
       "    .dataframe tbody tr th:only-of-type {\n",
       "        vertical-align: middle;\n",
       "    }\n",
       "\n",
       "    .dataframe tbody tr th {\n",
       "        vertical-align: top;\n",
       "    }\n",
       "\n",
       "    .dataframe thead th {\n",
       "        text-align: right;\n",
       "    }\n",
       "</style>\n",
       "<table border=\"1\" class=\"dataframe\">\n",
       "  <thead>\n",
       "    <tr style=\"text-align: right;\">\n",
       "      <th></th>\n",
       "      <th>704</th>\n",
       "      <th>280</th>\n",
       "      <th>1241</th>\n",
       "    </tr>\n",
       "  </thead>\n",
       "  <tbody>\n",
       "    <tr>\n",
       "      <th>user_id</th>\n",
       "      <td>727798</td>\n",
       "      <td>206585</td>\n",
       "      <td>315912</td>\n",
       "    </tr>\n",
       "    <tr>\n",
       "      <th>track_id</th>\n",
       "      <td>56016978</td>\n",
       "      <td>36827140</td>\n",
       "      <td>71733873</td>\n",
       "    </tr>\n",
       "    <tr>\n",
       "      <th>track_seq</th>\n",
       "      <td>705</td>\n",
       "      <td>281</td>\n",
       "      <td>1242</td>\n",
       "    </tr>\n",
       "    <tr>\n",
       "      <th>started_at</th>\n",
       "      <td>2022-10-17 00:00:00</td>\n",
       "      <td>2022-09-01 00:00:00</td>\n",
       "      <td>2022-11-29 00:00:00</td>\n",
       "    </tr>\n",
       "  </tbody>\n",
       "</table>\n",
       "</div>"
      ],
      "text/plain": [
       "                           704                  280                  1241\n",
       "user_id                  727798               206585               315912\n",
       "track_id               56016978             36827140             71733873\n",
       "track_seq                   705                  281                 1242\n",
       "started_at  2022-10-17 00:00:00  2022-09-01 00:00:00  2022-11-29 00:00:00"
      ]
     },
     "execution_count": 26,
     "metadata": {},
     "output_type": "execute_result"
    }
   ],
   "source": [
    "interactions.sample(3).T"
   ]
  },
  {
   "cell_type": "code",
   "execution_count": 30,
   "id": "21c6a981",
   "metadata": {},
   "outputs": [
    {
     "data": {
      "text/plain": [
       "0"
      ]
     },
     "execution_count": 30,
     "metadata": {},
     "output_type": "execute_result"
    }
   ],
   "source": [
    "len(interactions[(interactions.duplicated(['user_id','track_id']) == True)])"
   ]
  },
  {
   "cell_type": "code",
   "execution_count": null,
   "id": "7b03cf2d",
   "metadata": {},
   "outputs": [],
   "source": [
    "track_play_counts = df.groupby('track_id').size().reset_index(name='play_count')\n",
    "print(track_play_counts)"
   ]
  },
  {
   "cell_type": "code",
   "execution_count": 27,
   "id": "f28a150b",
   "metadata": {},
   "outputs": [
    {
     "name": "stdout",
     "output_type": "stream",
     "text": [
      "                  track_seq started_at\n",
      "user_id track_id                      \n",
      "369734  79184551       1115 2022-11-21\n",
      "626108  19622237        290 2022-07-30\n",
      "728843  795836          129 2022-07-04\n",
      "1089924 77296031        167 2022-09-29\n",
      "1279900 33355173         39 2022-06-10\n"
     ]
    }
   ],
   "source": [
    "# оценка взаимодействия пользователей с трекаками\n",
    "print(interactions[[\"user_id\", \"track_id\", \"track_seq\", \"started_at\"]].sample(5).sort_values(\"user_id\").set_index([\"user_id\", \"track_id\"]))"
   ]
  },
  {
   "cell_type": "code",
   "execution_count": 32,
   "id": "059b264e",
   "metadata": {},
   "outputs": [
    {
     "data": {
      "text/html": [
       "<div>\n",
       "<style scoped>\n",
       "    .dataframe tbody tr th:only-of-type {\n",
       "        vertical-align: middle;\n",
       "    }\n",
       "\n",
       "    .dataframe tbody tr th {\n",
       "        vertical-align: top;\n",
       "    }\n",
       "\n",
       "    .dataframe thead th {\n",
       "        text-align: right;\n",
       "    }\n",
       "</style>\n",
       "<table border=\"1\" class=\"dataframe\">\n",
       "  <thead>\n",
       "    <tr style=\"text-align: right;\">\n",
       "      <th></th>\n",
       "      <th>count</th>\n",
       "      <th>mean</th>\n",
       "      <th>min</th>\n",
       "      <th>25%</th>\n",
       "      <th>50%</th>\n",
       "      <th>75%</th>\n",
       "      <th>max</th>\n",
       "      <th>std</th>\n",
       "    </tr>\n",
       "  </thead>\n",
       "  <tbody>\n",
       "    <tr>\n",
       "      <th>user_id</th>\n",
       "      <td>222629898.0</td>\n",
       "      <td>687576.660624</td>\n",
       "      <td>0.0</td>\n",
       "      <td>343371.0</td>\n",
       "      <td>687973.0</td>\n",
       "      <td>1031127.0</td>\n",
       "      <td>1374582.0</td>\n",
       "      <td>396903.293288</td>\n",
       "    </tr>\n",
       "    <tr>\n",
       "      <th>track_id</th>\n",
       "      <td>222629898.0</td>\n",
       "      <td>36536224.961649</td>\n",
       "      <td>26.0</td>\n",
       "      <td>14808489.0</td>\n",
       "      <td>35524737.0</td>\n",
       "      <td>56511373.0</td>\n",
       "      <td>101521819.0</td>\n",
       "      <td>26617816.837147</td>\n",
       "    </tr>\n",
       "    <tr>\n",
       "      <th>track_seq</th>\n",
       "      <td>222629898.0</td>\n",
       "      <td>462.140293</td>\n",
       "      <td>1.0</td>\n",
       "      <td>56.0</td>\n",
       "      <td>181.0</td>\n",
       "      <td>506.0</td>\n",
       "      <td>16637.0</td>\n",
       "      <td>825.731213</td>\n",
       "    </tr>\n",
       "    <tr>\n",
       "      <th>started_at</th>\n",
       "      <td>222629898</td>\n",
       "      <td>2022-08-29 16:39:44.541336320</td>\n",
       "      <td>2022-01-01 00:00:00</td>\n",
       "      <td>2022-07-02 00:00:00</td>\n",
       "      <td>2022-09-15 00:00:00</td>\n",
       "      <td>2022-11-09 00:00:00</td>\n",
       "      <td>2022-12-31 00:00:00</td>\n",
       "      <td>NaN</td>\n",
       "    </tr>\n",
       "  </tbody>\n",
       "</table>\n",
       "</div>"
      ],
      "text/plain": [
       "                  count                           mean                  min  \\\n",
       "user_id     222629898.0                  687576.660624                  0.0   \n",
       "track_id    222629898.0                36536224.961649                 26.0   \n",
       "track_seq   222629898.0                     462.140293                  1.0   \n",
       "started_at    222629898  2022-08-29 16:39:44.541336320  2022-01-01 00:00:00   \n",
       "\n",
       "                            25%                  50%                  75%  \\\n",
       "user_id                343371.0             687973.0            1031127.0   \n",
       "track_id             14808489.0           35524737.0           56511373.0   \n",
       "track_seq                  56.0                181.0                506.0   \n",
       "started_at  2022-07-02 00:00:00  2022-09-15 00:00:00  2022-11-09 00:00:00   \n",
       "\n",
       "                            max              std  \n",
       "user_id               1374582.0    396903.293288  \n",
       "track_id            101521819.0  26617816.837147  \n",
       "track_seq               16637.0       825.731213  \n",
       "started_at  2022-12-31 00:00:00              NaN  "
      ]
     },
     "execution_count": 32,
     "metadata": {},
     "output_type": "execute_result"
    }
   ],
   "source": [
    "interactions.describe(include='all').T"
   ]
  },
  {
   "cell_type": "code",
   "execution_count": 28,
   "id": "9bf5eaba-35f7-4da7-be59-9ab4a34b2423",
   "metadata": {},
   "outputs": [
    {
     "data": {
      "text/plain": [
       "user_id\n",
       "0     26\n",
       "1     36\n",
       "2     14\n",
       "3     33\n",
       "4    256\n",
       "Name: track_id, dtype: int64"
      ]
     },
     "execution_count": 28,
     "metadata": {},
     "output_type": "execute_result"
    }
   ],
   "source": [
    "# Подсчет количества прослушанных треков для каждого user_id\n",
    "track_counts = interactions.groupby('user_id')['track_id'].count()\n",
    "\n",
    "# Построение гистограммы распределения количества прослушанных треков\n",
    "track_counts.head()"
   ]
  },
  {
   "cell_type": "markdown",
   "id": "d765519a-18dd-4d30-9e29-cc2d84cacd79",
   "metadata": {},
   "source": [
    "Наиболее популярные треки"
   ]
  },
  {
   "cell_type": "code",
   "execution_count": null,
   "id": "aecaf630-fde0-4860-b84a-42c933a9606e",
   "metadata": {},
   "outputs": [],
   "source": []
  },
  {
   "cell_type": "markdown",
   "id": "b1c32a5a-d3be-4f96-8dd9-f7860951020c",
   "metadata": {},
   "source": [
    "Наиболее популярные жанры"
   ]
  },
  {
   "cell_type": "code",
   "execution_count": null,
   "id": "1bc50491-9235-4d3c-a6c2-297f7c05a959",
   "metadata": {},
   "outputs": [],
   "source": []
  },
  {
   "cell_type": "markdown",
   "id": "15254e66-e80e-473b-ba24-abebea5ccac7",
   "metadata": {},
   "source": [
    "Треки, которые никто не прослушал"
   ]
  },
  {
   "cell_type": "code",
   "execution_count": null,
   "id": "50bc50c6-2d83-4c7e-97fa-3e7627978438",
   "metadata": {},
   "outputs": [],
   "source": []
  },
  {
   "cell_type": "markdown",
   "id": "0d850a07-ef1e-462f-891a-1cf89f2e24ef",
   "metadata": {},
   "source": [
    "# Преобразование данных"
   ]
  },
  {
   "cell_type": "markdown",
   "id": "fabcf8d2-1192-4df5-b20b-fbb84689f57a",
   "metadata": {},
   "source": [
    "Преобразуем данные в формат, более пригодный для дальнейшего использования в расчётах рекомендаций."
   ]
  },
  {
   "cell_type": "code",
   "execution_count": null,
   "id": "a425556a-9382-45ca-a04e-f1981a522126",
   "metadata": {},
   "outputs": [],
   "source": []
  },
  {
   "cell_type": "markdown",
   "id": "4d1be653-eed8-4fa0-a9c5-3811b080d71d",
   "metadata": {},
   "source": [
    "# Сохранение данных"
   ]
  },
  {
   "cell_type": "markdown",
   "id": "36f1314a-3af3-4faf-a0b1-3045173d1500",
   "metadata": {},
   "source": [
    "Сохраним данные в двух файлах в персональном S3-бакете по пути `recsys/data/`:\n",
    "- `items.parquet` — все данные о музыкальных треках,\n",
    "- `events.parquet` — все данные о взаимодействиях."
   ]
  },
  {
   "cell_type": "code",
   "execution_count": null,
   "id": "9f77af17-7705-4fae-9aad-db579b39faad",
   "metadata": {},
   "outputs": [],
   "source": []
  },
  {
   "cell_type": "markdown",
   "id": "72ecbbed-c560-44d9-9c14-86c7dc76f399",
   "metadata": {},
   "source": [
    "# Очистка памяти"
   ]
  },
  {
   "cell_type": "markdown",
   "id": "b5358ede-ba6e-4c4f-bd73-5b9344f0ba79",
   "metadata": {},
   "source": [
    "Здесь, может понадобится очистка памяти для высвобождения ресурсов для выполнения кода ниже. \n",
    "\n",
    "Приведите соответствующие код, комментарии, например:\n",
    "- код для удаление более ненужных переменных,\n",
    "- комментарий, что следует перезапустить kernel, выполнить такие-то начальные секции и продолжить с этапа 3."
   ]
  },
  {
   "cell_type": "code",
   "execution_count": null,
   "id": "767fe920-e12e-4ad8-b04e-56e8091fac9f",
   "metadata": {},
   "outputs": [],
   "source": []
  },
  {
   "cell_type": "markdown",
   "id": "708503df-ee89-4cf3-8489-093dc478e2a8",
   "metadata": {},
   "source": [
    "# === ЭТАП 3 ==="
   ]
  },
  {
   "cell_type": "markdown",
   "id": "fd77de22-e10f-4b42-85c1-8fb6f805fe68",
   "metadata": {},
   "source": [
    "# Загрузка данных"
   ]
  },
  {
   "cell_type": "markdown",
   "id": "780a4241-1ecd-4a3e-bbb3-fc2f6ca94f68",
   "metadata": {},
   "source": [
    "Если необходимо, то загружаем items.parquet, events.parquet."
   ]
  },
  {
   "cell_type": "code",
   "execution_count": null,
   "id": "f19fc8a5-bd2c-40d7-864a-ee75aca6d512",
   "metadata": {},
   "outputs": [],
   "source": []
  },
  {
   "cell_type": "code",
   "execution_count": null,
   "id": "5db1e801-5845-4ce3-86f2-c2fa30f68cc5",
   "metadata": {},
   "outputs": [],
   "source": []
  },
  {
   "cell_type": "markdown",
   "id": "a694c023-6477-490b-939d-1cfa6f5f1b72",
   "metadata": {},
   "source": [
    "# Разбиение данных"
   ]
  },
  {
   "cell_type": "markdown",
   "id": "fbd5f6e0-54e7-4428-8678-eabce505d82c",
   "metadata": {},
   "source": [
    "Разбиваем данные на тренировочную, тестовую выборки."
   ]
  },
  {
   "cell_type": "code",
   "execution_count": null,
   "id": "00c2dfa5-d8a2-47d1-922e-6eefee2c62d1",
   "metadata": {},
   "outputs": [],
   "source": []
  },
  {
   "cell_type": "code",
   "execution_count": null,
   "id": "26fe3e3c-8c5f-4437-bf13-9191adef08bb",
   "metadata": {},
   "outputs": [],
   "source": []
  },
  {
   "cell_type": "markdown",
   "id": "9131c7e6-8852-4556-b510-51f7253cc299",
   "metadata": {},
   "source": [
    "# Топ популярных"
   ]
  },
  {
   "cell_type": "markdown",
   "id": "dd70d43a-88cc-4719-b291-feaed7136f30",
   "metadata": {},
   "source": [
    "Рассчитаем рекомендации как топ популярных."
   ]
  },
  {
   "cell_type": "code",
   "execution_count": null,
   "id": "ee45e200-b7d6-4f56-9077-aad431689b96",
   "metadata": {},
   "outputs": [],
   "source": []
  },
  {
   "cell_type": "code",
   "execution_count": null,
   "id": "7690c86f-7aa9-46ed-bba5-2c837626411e",
   "metadata": {},
   "outputs": [],
   "source": []
  },
  {
   "cell_type": "markdown",
   "id": "2ad231f2-6158-421a-b7fa-01d8bc3ed572",
   "metadata": {},
   "source": [
    "# Персональные"
   ]
  },
  {
   "cell_type": "markdown",
   "id": "86159460-cd9d-4b63-8248-604ea3c9aebf",
   "metadata": {},
   "source": [
    "Рассчитаем персональные рекомендации."
   ]
  },
  {
   "cell_type": "code",
   "execution_count": null,
   "id": "d2944822-569c-4f9b-82dc-70a7fa2d542e",
   "metadata": {},
   "outputs": [],
   "source": []
  },
  {
   "cell_type": "code",
   "execution_count": null,
   "id": "1e8cdb58-3a8c-45ad-8e5f-7f950314aa56",
   "metadata": {},
   "outputs": [],
   "source": []
  },
  {
   "cell_type": "markdown",
   "id": "5f09dc7e-7c91-4355-860a-b9cfb9f33f15",
   "metadata": {},
   "source": [
    "# Похожие"
   ]
  },
  {
   "cell_type": "markdown",
   "id": "1dfcb683-b440-40a8-9975-894156a53872",
   "metadata": {},
   "source": [
    "Рассчитаем похожие, они позже пригодятся для онлайн-рекомендаций."
   ]
  },
  {
   "cell_type": "code",
   "execution_count": null,
   "id": "a75d07ee-4b12-4ce5-aa85-e45cb7a7a4f0",
   "metadata": {},
   "outputs": [],
   "source": []
  },
  {
   "cell_type": "code",
   "execution_count": null,
   "id": "ce370904-4c49-4152-8706-416074ea9b9a",
   "metadata": {},
   "outputs": [],
   "source": []
  },
  {
   "cell_type": "markdown",
   "id": "0087a3e7-ca9f-42cd-944c-944222c1baef",
   "metadata": {},
   "source": [
    "# Построение признаков"
   ]
  },
  {
   "cell_type": "markdown",
   "id": "e82a32e1-b90b-4eaf-9439-fc8deab9f34b",
   "metadata": {},
   "source": [
    "Построим три признака, можно больше, для ранжирующей модели."
   ]
  },
  {
   "cell_type": "code",
   "execution_count": null,
   "id": "05b4ae84-406a-44a4-abec-4f80f93e3004",
   "metadata": {},
   "outputs": [],
   "source": []
  },
  {
   "cell_type": "code",
   "execution_count": null,
   "id": "00f84c35-f544-4c3d-ad53-9b1d2b684c75",
   "metadata": {},
   "outputs": [],
   "source": []
  },
  {
   "cell_type": "markdown",
   "id": "47bcf88d-b236-46f0-a6f3-38ddd64895fe",
   "metadata": {},
   "source": [
    "# Ранжирование рекомендаций"
   ]
  },
  {
   "cell_type": "markdown",
   "id": "e8cd8223-3418-4493-8c87-1f76286ebda0",
   "metadata": {},
   "source": [
    "Построим ранжирующую модель, чтобы сделать рекомендации более точными. Отранжируем рекомендации."
   ]
  },
  {
   "cell_type": "code",
   "execution_count": null,
   "id": "79f1dd92-32a9-463d-827e-8bb9ee5bbb54",
   "metadata": {},
   "outputs": [],
   "source": []
  },
  {
   "cell_type": "code",
   "execution_count": null,
   "id": "6dbe4db4-1ac5-44da-a13c-8e7f9768ab73",
   "metadata": {},
   "outputs": [],
   "source": []
  },
  {
   "cell_type": "markdown",
   "id": "b3c84071-45b5-4a15-a683-e0ab034a3128",
   "metadata": {},
   "source": [
    "# Оценка качества"
   ]
  },
  {
   "cell_type": "markdown",
   "id": "1b107fe4-554e-42b1-87d9-c435a52bb77a",
   "metadata": {},
   "source": [
    "Проверим оценку качества трёх типов рекомендаций: \n",
    "\n",
    "- топ популярных,\n",
    "- персональных, полученных при помощи ALS,\n",
    "- итоговых\n",
    "  \n",
    "по четырем метрикам: recall, precision, coverage, novelty."
   ]
  },
  {
   "cell_type": "code",
   "execution_count": null,
   "id": "94d6f388-aecb-443e-8647-14014e932d4d",
   "metadata": {},
   "outputs": [],
   "source": []
  },
  {
   "cell_type": "code",
   "execution_count": null,
   "id": "26df411f-14c1-4848-8797-f37afe449cc6",
   "metadata": {},
   "outputs": [],
   "source": []
  },
  {
   "cell_type": "markdown",
   "id": "f1c8d38c-32b0-46a4-96f0-cd01dac708bc",
   "metadata": {},
   "source": [
    "# === Выводы, метрики ==="
   ]
  },
  {
   "cell_type": "markdown",
   "id": "f7d7d5d8-7d1e-4fdf-a6cd-83e5ce92c684",
   "metadata": {},
   "source": [
    "Основные выводы при работе над расчётом рекомендаций, рассчитанные метрики."
   ]
  },
  {
   "cell_type": "code",
   "execution_count": null,
   "id": "6403097d-db36-46d9-8952-613c9bd51b05",
   "metadata": {},
   "outputs": [],
   "source": []
  },
  {
   "cell_type": "code",
   "execution_count": null,
   "id": "986cfdd5-6f2e-4de6-8666-85804c87d04b",
   "metadata": {},
   "outputs": [],
   "source": []
  }
 ],
 "metadata": {
  "kernelspec": {
   "display_name": "Python 3 (ipykernel)",
   "language": "python",
   "name": "python3"
  },
  "language_info": {
   "codemirror_mode": {
    "name": "ipython",
    "version": 3
   },
   "file_extension": ".py",
   "mimetype": "text/x-python",
   "name": "python",
   "nbconvert_exporter": "python",
   "pygments_lexer": "ipython3",
   "version": "3.10.12"
  }
 },
 "nbformat": 4,
 "nbformat_minor": 5
}
